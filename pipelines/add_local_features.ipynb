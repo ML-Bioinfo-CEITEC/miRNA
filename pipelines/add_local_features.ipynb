{
 "cells": [
  {
   "cell_type": "code",
   "execution_count": null,
   "id": "39e24685-678c-43f4-ad4d-5c63572de678",
   "metadata": {},
   "outputs": [],
   "source": [
    "# Modules will be reloaded every time a cell is executed\n",
    "%load_ext autoreload\n",
    "%autoreload 2"
   ]
  },
  {
   "cell_type": "code",
   "execution_count": null,
   "id": "98bdf818-9377-4360-b8db-1fcada81af48",
   "metadata": {},
   "outputs": [],
   "source": [
    "import numpy as np\n",
    "import pandas as pd\n",
    "import matplotlib.pyplot as plt\n",
    "import seaborn as sns\n",
    "from pathlib import Path\n",
    "from sklearn import utils\n",
    "from sklearn.ensemble import HistGradientBoostingRegressor, GradientBoostingRegressor\n",
    "\n",
    "from funmirtar.models.constants import SEEDS_TO_COUNT, SEED_COUNT_COLUMNS, LOCAL_FEATURES\n",
    "from funmirtar.utils.plots import plot_correlation, plot_multiple_cdfs_with_medians\n",
    "from funmirtar.models.local_features import get_binding_site_features\n",
    "from funmirtar.models.global_features import get_only_positive_conservation\n"
   ]
  },
  {
   "cell_type": "code",
   "execution_count": null,
   "id": "1d52aede-52b6-4e97-8cf3-e49442ec65ea",
   "metadata": {},
   "outputs": [],
   "source": [
    "FOLDER_PATH = \"data/preprocessed_for_ml/\"\n",
    "IN_PATH_TRAIN = Path(\n",
    "    FOLDER_PATH + '3utr.sequences.refseq_id.mirna_fc.seed_cls.sequence.signal.conservation.seed_cls.ts_preds.train.pkl'\n",
    ")\n",
    "IN_PATH_TEST = Path(\n",
    "    FOLDER_PATH + '3utr.sequences.refseq_id.mirna_fc.seed_cls.sequence.signal.conservation.seed_cls.ts_preds.test.pkl'\n",
    ")\n",
    "\n",
    "IN_PATH_TRAIN, IN_PATH_TEST"
   ]
  },
  {
   "cell_type": "code",
   "execution_count": null,
   "id": "8a2a46f6-f9dc-4ab7-8b4b-f989482e06b6",
   "metadata": {},
   "outputs": [],
   "source": [
    "OUTPUT_SUFIX = '.local_features'\n",
    "OUTPUT_PATH = f'{FOLDER_PATH}3utr.sequences.refseq_id.mirna_fc.seed_cls.sequence.signal.conservation.seed_cls.ts_preds{OUTPUT_SUFIX}'\n",
    "OUTPUT_PATH"
   ]
  },
  {
   "cell_type": "code",
   "execution_count": null,
   "id": "745d6983-f1cc-45af-8fed-be3880cc93f5",
   "metadata": {},
   "outputs": [],
   "source": [
    "data_train = pd.read_pickle(IN_PATH_TRAIN)\n",
    "data_test = pd.read_pickle(IN_PATH_TEST)"
   ]
  },
  {
   "cell_type": "code",
   "execution_count": null,
   "id": "b893566d-1deb-4f78-bb20-6c94fa00ce8b",
   "metadata": {},
   "outputs": [],
   "source": [
    "data_test['conservation_phylo'] = data_test.conservation_phylo.map(lambda cons: get_only_positive_conservation(cons))"
   ]
  },
  {
   "cell_type": "code",
   "execution_count": null,
   "id": "c92cae93-3ee0-424c-9963-d492750abad6",
   "metadata": {},
   "outputs": [],
   "source": [
    "data_train['conservation_phylo'] = data_train.conservation_phylo.map(lambda cons: get_only_positive_conservation(cons))"
   ]
  },
  {
   "cell_type": "code",
   "execution_count": null,
   "id": "270500e1-64e8-423e-ac68-e9b26305a0dc",
   "metadata": {},
   "outputs": [],
   "source": [
    "features_test = get_binding_site_features(data_test)"
   ]
  },
  {
   "cell_type": "code",
   "execution_count": null,
   "id": "72b3c90d-4ee5-49ed-b92d-03f32710d6a7",
   "metadata": {},
   "outputs": [],
   "source": [
    "data_test = pd.concat([data_test, pd.DataFrame(features_test)], axis=1)"
   ]
  },
  {
   "cell_type": "code",
   "execution_count": null,
   "id": "6fc6f639-3cc3-4605-bab7-42c79b5bb08c",
   "metadata": {},
   "outputs": [],
   "source": [
    "features_train = get_binding_site_features(data_train)"
   ]
  },
  {
   "cell_type": "code",
   "execution_count": null,
   "id": "8abd81fc-3a14-4c6e-b73e-0a24ed18d9a1",
   "metadata": {},
   "outputs": [],
   "source": [
    "data_train = pd.concat([data_train, pd.DataFrame(features_train)], axis=1)"
   ]
  },
  {
   "cell_type": "code",
   "execution_count": null,
   "id": "117257a1-428d-41fa-84d1-94be389415da",
   "metadata": {},
   "outputs": [],
   "source": [
    "data_train.to_pickle(OUTPUT_PATH + '.train.pkl')\n",
    "data_test.to_pickle(OUTPUT_PATH + '.test.pkl')"
   ]
  }
 ],
 "metadata": {
  "kernelspec": {
   "display_name": "Python [conda env:deepExpTorch2]",
   "language": "python",
   "name": "conda-env-deepExpTorch2-py"
  },
  "language_info": {
   "codemirror_mode": {
    "name": "ipython",
    "version": 3
   },
   "file_extension": ".py",
   "mimetype": "text/x-python",
   "name": "python",
   "nbconvert_exporter": "python",
   "pygments_lexer": "ipython3",
   "version": "3.8.17"
  }
 },
 "nbformat": 4,
 "nbformat_minor": 5
}
