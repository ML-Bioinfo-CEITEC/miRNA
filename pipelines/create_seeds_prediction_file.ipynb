{
 "cells": [
  {
   "cell_type": "code",
   "execution_count": null,
   "id": "39e24685-678c-43f4-ad4d-5c63572de678",
   "metadata": {},
   "outputs": [],
   "source": [
    "# Modules will be reloaded every time a cell is executed\n",
    "%load_ext autoreload\n",
    "%autoreload 2"
   ]
  },
  {
   "cell_type": "code",
   "execution_count": null,
   "id": "98bdf818-9377-4360-b8db-1fcada81af48",
   "metadata": {},
   "outputs": [],
   "source": [
    "import numpy as np\n",
    "import pandas as pd\n",
    "import matplotlib.pyplot as plt\n",
    "import seaborn as sns\n",
    "from pathlib import Path\n",
    "from sklearn import utils\n",
    "from sklearn.metrics import classification_report, accuracy_score\n",
    "\n",
    "from funmirtar.models.seeds import SEED_TYPE_TO_EXTRACTION_FUNCTION\n",
    "from funmirtar.models.constants import SEEDS_TO_COUNT, SEED_COUNT_COLUMNS, GLOBAL_FEATURES, LOCAL_FEATURES, CLASSIFICATION_COLUMNS\n",
    "from funmirtar.utils.plots import plot_prc_with_seeds, plot_feature_importance\n",
    "from funmirtar.utils.file import make_dir_with_parents, extend_path_by_suffix_before_filetype\n"
   ]
  },
  {
   "cell_type": "code",
   "execution_count": null,
   "id": "30a4a6c8-bdeb-4ce9-9212-b7299a144fa1",
   "metadata": {},
   "outputs": [],
   "source": [
    "IN_FOLDER_PATH = \"../data/preprocessed_for_ml/\"\n",
    "\n",
    "FILE_PATH = '3utr.sequences.refseq_id.mirna_fc.seed_cls.sequence.signal.conservation.seed_cls.ts_preds.local_features'\n",
    "\n",
    "IN_FEATURES_PATH_TRAIN = Path(\n",
    "    IN_FOLDER_PATH + FILE_PATH + '.train.pkl'\n",
    ")\n",
    "IN_FEATURES_PATH_TEST = Path(\n",
    "    IN_FOLDER_PATH + FILE_PATH + '.test.pkl'\n",
    ")\n",
    "\n",
    "IN_FEATURES_PATH_TRAIN, IN_FEATURES_PATH_TEST"
   ]
  },
  {
   "cell_type": "code",
   "execution_count": null,
   "id": "618ef260-f469-48db-aff7-5cfd9b025fb1",
   "metadata": {},
   "outputs": [],
   "source": [
    "RUN_NAME='seed_counts'"
   ]
  },
  {
   "cell_type": "code",
   "execution_count": null,
   "id": "cc2e99a5-a17f-4ff8-ae8e-1c6ce352e4cc",
   "metadata": {},
   "outputs": [],
   "source": [
    "FILE_PATH='seed_counts'"
   ]
  },
  {
   "cell_type": "code",
   "execution_count": null,
   "id": "e43297c5-2231-4756-ab10-a2490398e9b7",
   "metadata": {},
   "outputs": [],
   "source": [
    "OUT_FOLDER_PATH = f\"../data/predictions/{RUN_NAME}/\"\n",
    "\n",
    "PREDICTION_TYPE = '.class_preds'\n",
    "\n",
    "OUT_PATH_TRAIN = Path(\n",
    "    OUT_FOLDER_PATH + FILE_PATH + PREDICTION_TYPE + '.train.pkl'\n",
    ")\n",
    "OUT_PATH_TEST = Path(\n",
    "    OUT_FOLDER_PATH + FILE_PATH + PREDICTION_TYPE + '.test.pkl'\n",
    ")\n",
    "OUT_PATH_TRAIN, OUT_PATH_TEST"
   ]
  },
  {
   "cell_type": "code",
   "execution_count": null,
   "id": "55939105-c9c0-4ed0-a9cc-3cdf4676854f",
   "metadata": {},
   "outputs": [],
   "source": [
    "OUT_COLUMNS=[]\n",
    "OUT_COLUMNS.extend(CLASSIFICATION_COLUMNS)\n",
    "OUT_COLUMNS.extend(SEED_COUNT_COLUMNS)\n",
    "OUT_COLUMNS"
   ]
  },
  {
   "cell_type": "code",
   "execution_count": null,
   "id": "1a787bf7-39af-4c8b-96e8-e22af6fe4712",
   "metadata": {},
   "outputs": [],
   "source": [
    "data_train = pd.read_pickle(IN_FEATURES_PATH_TRAIN)\n",
    "data_test = pd.read_pickle(IN_FEATURES_PATH_TEST)"
   ]
  },
  {
   "cell_type": "code",
   "execution_count": null,
   "id": "302aa3ca-ce4d-4eeb-9f88-3a4b6094f980",
   "metadata": {},
   "outputs": [],
   "source": [
    "make_dir_with_parents(OUT_FOLDER_PATH)"
   ]
  },
  {
   "cell_type": "code",
   "execution_count": null,
   "id": "caf87f13-416b-4acd-85c4-ec8c2d5c66ff",
   "metadata": {},
   "outputs": [],
   "source": [
    "data_train[OUT_COLUMNS].to_pickle(OUT_PATH_TRAIN)\n",
    "data_test[OUT_COLUMNS].to_pickle(OUT_PATH_TEST)"
   ]
  }
 ],
 "metadata": {
  "kernelspec": {
   "display_name": "Python [conda env:deepExpTorch2]",
   "language": "python",
   "name": "conda-env-deepExpTorch2-py"
  },
  "language_info": {
   "codemirror_mode": {
    "name": "ipython",
    "version": 3
   },
   "file_extension": ".py",
   "mimetype": "text/x-python",
   "name": "python",
   "nbconvert_exporter": "python",
   "pygments_lexer": "ipython3",
   "version": "3.8.17"
  }
 },
 "nbformat": 4,
 "nbformat_minor": 5
}
