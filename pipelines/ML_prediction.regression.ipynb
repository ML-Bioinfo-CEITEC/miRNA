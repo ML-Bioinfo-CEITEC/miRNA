{
 "cells": [
  {
   "cell_type": "code",
   "execution_count": null,
   "id": "39e24685-678c-43f4-ad4d-5c63572de678",
   "metadata": {},
   "outputs": [],
   "source": [
    "# Modules will be reloaded every time a cell is executed\n",
    "%load_ext autoreload\n",
    "%autoreload 2"
   ]
  },
  {
   "cell_type": "code",
   "execution_count": null,
   "id": "98bdf818-9377-4360-b8db-1fcada81af48",
   "metadata": {},
   "outputs": [],
   "source": [
    "import numpy as np\n",
    "import pandas as pd\n",
    "import matplotlib.pyplot as plt\n",
    "import seaborn as sns\n",
    "from pathlib import Path\n",
    "from sklearn import utils\n",
    "from sklearn.linear_model import LinearRegression\n",
    "from sklearn.tree import DecisionTreeRegressor\n",
    "from sklearn.ensemble import HistGradientBoostingRegressor, GradientBoostingRegressor\n",
    "\n",
    "from funmirtar.models.constants import SEEDS_TO_COUNT, SEED_COUNT_COLUMNS, GLOBAL_FEATURES, LOCAL_FEATURES, REGRESSION_COLUMNS\n",
    "from funmirtar.utils.plots import plot_correlation, plot_multiple_cdfs_with_medians, plot_two_correlations\n",
    "from funmirtar.utils.file import make_dir_with_parents"
   ]
  },
  {
   "cell_type": "code",
   "execution_count": null,
   "id": "69724297-c221-4825-9639-7eb3dc99bae2",
   "metadata": {},
   "outputs": [],
   "source": [
    "utils.check_random_state(3)\n",
    "np.random.seed(1)"
   ]
  },
  {
   "cell_type": "code",
   "execution_count": null,
   "id": "d3113990-843e-48f3-9e7b-bc291b0c75b2",
   "metadata": {},
   "outputs": [],
   "source": [
    "RUN_NAME = 'seeds.signal.local_features'\n",
    "# RUN_NAME = 'seeds.signal'\n",
    "# RUN_NAME = 'seeds'"
   ]
  },
  {
   "cell_type": "code",
   "execution_count": null,
   "id": "18862b88-0aa0-4b00-84d8-9ba6b3355b93",
   "metadata": {},
   "outputs": [],
   "source": [
    "MODEL_LIST = [\n",
    "    f'logistic_regression.{RUN_NAME}',\n",
    "    f'gradient_boosting_classifier.{RUN_NAME}',\n",
    "    f'xgb.{RUN_NAME}',\n",
    "    f'random_forest.{RUN_NAME}',    \n",
    "]\n",
    "\n",
    "OUT_COLUMNS = []\n",
    "OUT_COLUMNS.extend(REGRESSION_COLUMNS)\n",
    "OUT_COLUMNS.extend(MODEL_LIST)"
   ]
  },
  {
   "cell_type": "code",
   "execution_count": null,
   "id": "8a279065-6cca-41db-ade2-fe803f8c9537",
   "metadata": {},
   "outputs": [],
   "source": [
    "COLUMNS_FOR_PRED = []\n",
    "COLUMNS_FOR_PRED.extend(GLOBAL_FEATURES)\n",
    "COLUMNS_FOR_PRED.extend(LOCAL_FEATURES)\n",
    "COLUMNS_FOR_PRED.extend(SEEDS_TO_COUNT)\n",
    "COLUMNS_FOR_PRED.extend(SEED_COUNT_COLUMNS)\n",
    "# COLUMNS_FOR_PRED.remove('kmer6_bulge_or_mismatch_count')"
   ]
  },
  {
   "cell_type": "code",
   "execution_count": null,
   "id": "1d52aede-52b6-4e97-8cf3-e49442ec65ea",
   "metadata": {},
   "outputs": [],
   "source": [
    "IN_FOLDER_PATH = \"../data/preprocessed_for_ml/\"\n",
    "\n",
    "# FILE_PATH = '3utr.sequences.refseq_id.mirna_fc.seed_cls.sequence.signal.conservation.seed_cls.ts_preds'\n",
    "FILE_PATH = '3utr.sequences.refseq_id.mirna_fc.seed_cls.sequence.signal.conservation.seed_cls.ts_preds.local_features'\n",
    "\n",
    "IN_FEATURES_PATH_TRAIN = Path(\n",
    "    IN_FOLDER_PATH + FILE_PATH + '.train.pkl'\n",
    ")\n",
    "IN_FEATURES_PATH_TEST = Path(\n",
    "    IN_FOLDER_PATH + FILE_PATH + '.test.pkl'\n",
    ")\n",
    "\n",
    "IN_FEATURES_PATH_TRAIN, IN_FEATURES_PATH_TEST"
   ]
  },
  {
   "cell_type": "code",
   "execution_count": null,
   "id": "def73bc2-2f48-48ec-9132-f1b9eb5bee0f",
   "metadata": {},
   "outputs": [],
   "source": [
    "OUT_FOLDER_PATH = f\"../data/predictions/{RUN_NAME}/\"\n",
    "\n",
    "PREDICTION_TYPE = '.regression_preds'\n",
    "\n",
    "OUT_PATH_TRAIN = Path(\n",
    "    OUT_FOLDER_PATH + FILE_PATH + PREDICTION_TYPE + '.train.pkl'\n",
    ")\n",
    "OUT_PATH_TEST = Path(\n",
    "    OUT_FOLDER_PATH + FILE_PATH + PREDICTION_TYPE + '.test.pkl'\n",
    ")\n",
    "OUT_PATH_TRAIN, OUT_PATH_TEST"
   ]
  },
  {
   "cell_type": "code",
   "execution_count": null,
   "id": "a3d11a1a-5fda-46f3-8b8f-b2768c7d1dcb",
   "metadata": {},
   "outputs": [],
   "source": [
    "make_dir_with_parents(OUT_FOLDER_PATH)"
   ]
  },
  {
   "cell_type": "code",
   "execution_count": null,
   "id": "745d6983-f1cc-45af-8fed-be3880cc93f5",
   "metadata": {},
   "outputs": [],
   "source": [
    "data_train = pd.read_pickle(IN_FEATURES_PATH_TRAIN)\n",
    "data_test = pd.read_pickle(IN_FEATURES_PATH_TEST)"
   ]
  },
  {
   "cell_type": "code",
   "execution_count": null,
   "id": "1eeeb29a-4ab1-4846-b6ff-e4fb8987611c",
   "metadata": {},
   "outputs": [],
   "source": [
    "# HOTFIX until we regenerate new data file with corrected naming\n",
    "data_train.rename(columns={'kmer6_mismatch_count':'kmer6_bulge_or_mismatch_count'}, inplace=True)\n",
    "data_test.rename(columns={'kmer6_mismatch_count':'kmer6_bulge_or_mismatch_count'}, inplace=True)"
   ]
  },
  {
   "cell_type": "code",
   "execution_count": null,
   "id": "20c9fa6a-14c2-461c-8311-8b4ceff9bc57",
   "metadata": {},
   "outputs": [],
   "source": [
    "x_train = data_train[COLUMNS_FOR_PRED].fillna(0,inplace=False)\n",
    "x_test = data_test[COLUMNS_FOR_PRED].fillna(0,inplace=False)"
   ]
  },
  {
   "cell_type": "code",
   "execution_count": null,
   "id": "492e8eaf-cbc4-4800-9c56-822d31dddc2a",
   "metadata": {},
   "outputs": [],
   "source": [
    "def positive_values_to_zero(values):\n",
    "    return [x if x<0 else 0 for x in values]"
   ]
  },
  {
   "cell_type": "code",
   "execution_count": null,
   "id": "f41af4ad-dee8-4e7a-a51d-7f23f0f0bed5",
   "metadata": {},
   "outputs": [],
   "source": [
    "# y_train = data_train.fold_change\n",
    "# y_test = data_test.fold_change\n",
    "\n",
    "y_train = positive_values_to_zero(data_train.fold_change)\n",
    "y_test = positive_values_to_zero(data_test.fold_change)"
   ]
  },
  {
   "cell_type": "code",
   "execution_count": null,
   "id": "acdc967d-c930-4d37-8461-74906bb0f7f2",
   "metadata": {},
   "outputs": [],
   "source": [
    "# HOTFIX Targetscan predictions with filled NaNs have to be added to a separate prediction file \n",
    "# file specifically for target scan\n",
    "y_targetscan_weighted_test = data_test['label']\n",
    "y_pred_targetscan_weighted_test = data_test['weighted context++ score percentile'].fillna(0,inplace=False)\n",
    "\n",
    "y_targetscan_weighted_train = data_train['label']\n",
    "y_pred_targetscan_weighted_train = data_train['weighted context++ score percentile'].fillna(0,inplace=False)"
   ]
  },
  {
   "cell_type": "markdown",
   "id": "37b45ae9-15b9-4114-9990-1da273de1329",
   "metadata": {},
   "source": [
    "### Train models"
   ]
  },
  {
   "cell_type": "code",
   "execution_count": null,
   "id": "b5d7210a-1a7a-4fef-a31f-af83b3f2d46e",
   "metadata": {},
   "outputs": [],
   "source": [
    "model_lr = LinearRegression()\n",
    "model_lr.fit(x_train, y_train)\n",
    "\n",
    "y_pred_lr_test = model_lr.predict(x_test)\n",
    "y_pred_lr_train = model_lr.predict(x_train)\n",
    "\n",
    "data_test[f'linear_regression.{RUN_NAME}']=y_pred_lr_test\n",
    "data_train[f'linear_regression.{RUN_NAME}']=y_pred_lr_train"
   ]
  },
  {
   "cell_type": "code",
   "execution_count": null,
   "id": "015db92b-1b96-4ab2-9929-36658ed3abe9",
   "metadata": {},
   "outputs": [],
   "source": [
    "model_grad = GradientBoostingRegressor()\n",
    "model_grad.fit(x_train, y_train)\n",
    "\n",
    "y_pred_grad_test = model_grad.predict(x_test)\n",
    "y_pred_grad_train = model_grad.predict(x_train)\n",
    "\n",
    "data_test[f'gradient_boosting_regressor.{RUN_NAME}']=y_pred_grad_test\n",
    "data_train[f'gradient_boosting_regressor.{RUN_NAME}']=y_pred_grad_train"
   ]
  },
  {
   "cell_type": "code",
   "execution_count": null,
   "id": "d67a99fb-7556-4ba1-a09e-899a0f8e3cb5",
   "metadata": {},
   "outputs": [],
   "source": [
    "model_tree = DecisionTreeRegressor()\n",
    "model_tree.fit(x_train, y_train)\n",
    "\n",
    "y_pred_tree_test = model_tree.predict(x_test)\n",
    "y_pred_tree_train = model_tree.predict(x_train)\n",
    "\n",
    "data_test[f'decision_tree_regressor.{RUN_NAME}']=y_pred_tree_test\n",
    "data_train[f'decision_tree_regressor.{RUN_NAME}']=y_pred_tree_train"
   ]
  },
  {
   "cell_type": "code",
   "execution_count": null,
   "id": "9fdabf87-d212-4cea-bd8a-ad40c3d5ae12",
   "metadata": {},
   "outputs": [],
   "source": [
    "### HOTFIX Train models with different feature set - only for now to quickly get plots \n",
    "COLUMNS_FOR_PRED_SEEDS = []\n",
    "COLUMNS_FOR_PRED_SEEDS.extend(SEEDS_TO_COUNT)\n",
    "COLUMNS_FOR_PRED_SEEDS.extend(SEED_COUNT_COLUMNS)"
   ]
  },
  {
   "cell_type": "code",
   "execution_count": null,
   "id": "a4502451-316c-4b76-aedb-cb85b16a32b9",
   "metadata": {},
   "outputs": [],
   "source": [
    "x_train_SEEDS = data_train[COLUMNS_FOR_PRED_SEEDS].fillna(0,inplace=False)\n",
    "x_test_SEEDS = data_test[COLUMNS_FOR_PRED_SEEDS].fillna(0,inplace=False)\n",
    "\n",
    "model_grad = GradientBoostingRegressor()\n",
    "model_grad.fit(x_train_SEEDS, y_train)\n",
    "\n",
    "y_pred_grad_test_SEEDS = model_grad.predict(x_test_SEEDS)\n",
    "y_pred_grad_train_SEEDS = model_grad.predict(x_train_SEEDS)\n",
    "\n",
    "data_test[f'gradient_boosting_regressor.seeds']=y_pred_grad_test_SEEDS\n",
    "data_train[f'gradient_boosting_regressor.seeds']=y_pred_grad_train_SEEDS"
   ]
  },
  {
   "cell_type": "code",
   "execution_count": null,
   "id": "0991121b-8fa7-4d5d-b990-235ec76f892e",
   "metadata": {},
   "outputs": [],
   "source": [
    "### HOTFIX Train models with different feature set - only for now to quickly get plots \n",
    "COLUMNS_FOR_PRED_SEEDS_SIGNAL = []\n",
    "COLUMNS_FOR_PRED_SEEDS_SIGNAL.extend(GLOBAL_FEATURES)\n",
    "COLUMNS_FOR_PRED_SEEDS_SIGNAL.extend(SEEDS_TO_COUNT)\n",
    "COLUMNS_FOR_PRED_SEEDS_SIGNAL.extend(SEED_COUNT_COLUMNS)"
   ]
  },
  {
   "cell_type": "code",
   "execution_count": null,
   "id": "b62ae1ae-d9ff-4257-8601-4467f4ed2edd",
   "metadata": {},
   "outputs": [],
   "source": [
    "x_train_SEEDS_SIGNAL = data_train[COLUMNS_FOR_PRED_SEEDS_SIGNAL].fillna(0,inplace=False)\n",
    "x_test_SEEDS_SIGNAL = data_test[COLUMNS_FOR_PRED_SEEDS_SIGNAL].fillna(0,inplace=False)\n",
    "\n",
    "model_grad = GradientBoostingRegressor()\n",
    "model_grad.fit(x_train_SEEDS_SIGNAL, y_train)\n",
    "\n",
    "y_pred_grad_test_SEEDS_SIGNAL = model_grad.predict(x_test_SEEDS_SIGNAL)\n",
    "y_pred_grad_train_SEEDS_SIGNAL = model_grad.predict(x_train_SEEDS_SIGNAL)\n",
    "\n",
    "data_test[f'gradient_boosting_regressor.seeds.signal']=y_pred_grad_test_SEEDS_SIGNAL\n",
    "data_train[f'gradient_boosting_regressor.seeds.signal']=y_pred_grad_train_SEEDS_SIGNAL"
   ]
  },
  {
   "cell_type": "code",
   "execution_count": null,
   "id": "bf727e85-0b12-41b9-ae7a-6fa248d61bb1",
   "metadata": {},
   "outputs": [],
   "source": [
    "plot_two_correlations(\n",
    "    positive_values_to_zero(y_test), \n",
    "    positive_values_to_zero(y_pred_grad_test_SEEDS), #y_pred_tree_test y_pred_grad_test y_pred_lr_test data_test['weighted context++ score']\n",
    "    'Seeds', \n",
    "    positive_values_to_zero(y_test), \n",
    "    positive_values_to_zero(y_pred_grad_test_SEEDS_SIGNAL),\n",
    "    'Seeds + signal',\n",
    "    path='plots/model_comparison.regression/seeds.seeds_signal'\n",
    ")"
   ]
  },
  {
   "cell_type": "code",
   "execution_count": null,
   "id": "6f2feb2d-b85d-4fbe-998f-7e8c3126c2e0",
   "metadata": {},
   "outputs": [],
   "source": [
    "plot_two_correlations(\n",
    "    positive_values_to_zero(y_test), \n",
    "    positive_values_to_zero(y_pred_grad_test), #y_pred_tree_test y_pred_grad_test y_pred_lr_test data_test['weighted context++ score']\n",
    "    'Seeds + signal + local features', \n",
    "    positive_values_to_zero(y_test), \n",
    "    data_test['weighted context++ score'],\n",
    "    'TargetScan',\n",
    "    path='plots/model_comparison.regression/seeds_signal_local_features.targetscan'\n",
    ")"
   ]
  },
  {
   "cell_type": "code",
   "execution_count": null,
   "id": "7f815a8f-4ea5-425f-8300-3ab0fba8bbe1",
   "metadata": {},
   "outputs": [],
   "source": [
    "# plot_correlation(\n",
    "#     data_test['fold_change'],\n",
    "#     data_test[f'linear_regression.{RUN_NAME}'],\n",
    "#     title_sufix='Ours - Test set'\n",
    "# )"
   ]
  },
  {
   "cell_type": "code",
   "execution_count": null,
   "id": "8c590468-2b70-41ca-b29e-8daed899dd00",
   "metadata": {},
   "outputs": [],
   "source": [
    "# plot_correlation(\n",
    "#     positive_values_to_zero(y_test), \n",
    "#     positive_values_to_zero(y_pred_grad_test),\n",
    "#     'Ours - Test set\\npositive preds and LFCs turned to 0'\n",
    "# )"
   ]
  },
  {
   "cell_type": "code",
   "execution_count": null,
   "id": "7b9a382a-c503-4e35-8e8e-a7da8cf75a3b",
   "metadata": {},
   "outputs": [],
   "source": [
    "# plot_correlation(\n",
    "#     positive_values_to_zero(y_train), \n",
    "#     positive_values_to_zero(y_pred_grad_train),\n",
    "#     'Ours - Train set\\npositive preds and LFCs turned to 0'\n",
    "# )"
   ]
  },
  {
   "cell_type": "code",
   "execution_count": null,
   "id": "c03d24cf-e120-4cf1-ac71-87e59fa5b7af",
   "metadata": {},
   "outputs": [],
   "source": [
    "# plot_correlation(\n",
    "#     y_test,\n",
    "#     data_test['weighted context++ score'],\n",
    "#     'TS context score ++ - Test set'\n",
    "# )"
   ]
  },
  {
   "cell_type": "code",
   "execution_count": null,
   "id": "0c12b0f3-add2-420c-bf9c-fad25edcc9dc",
   "metadata": {},
   "outputs": [],
   "source": [
    "# plot_correlation(\n",
    "#     positive_values_to_zero(y_test), \n",
    "#     data_test['weighted context++ score'],\n",
    "#     'TS context score ++ - Test set\\npositive preds and LFCs turned to 0'\n",
    "# )"
   ]
  },
  {
   "cell_type": "code",
   "execution_count": null,
   "id": "466ddfc1-087e-4007-b79d-9f7a1b93a1e9",
   "metadata": {},
   "outputs": [],
   "source": [
    "# plot_correlation(\n",
    "#     positive_values_to_zero(y_train), \n",
    "#     data_train['weighted context++ score'],\n",
    "#     'TS context score ++ - Train set\\npositive preds and LFCs turned to 0'\n",
    "# )"
   ]
  },
  {
   "cell_type": "code",
   "execution_count": null,
   "id": "c2b80df4-ebce-4574-be23-9d0de2df021e",
   "metadata": {},
   "outputs": [],
   "source": [
    "data_test['grad.seeds'] = y_pred_grad_test_SEEDS\n",
    "data_test['grad.seeds.signal'] = y_pred_grad_test_SEEDS_SIGNAL\n",
    "data_test['grad.seeds.signal.local_features'] = y_pred_grad_test\n",
    "data_test['all miR fold changes'] = data_test.fold_change\n",
    "\n",
    "# pred_columns = ['fold_change', 'weighted context++ score', 'grad.seeds.signal.local_features']\n",
    "pred_columns = ['fold_change', 'weighted context++ score', 'grad.seeds.signal.local_features', 'grad.seeds.signal', 'grad.seeds']\n",
    "pred_columns = ['fold_change', 'weighted context++ score', 'grad.seeds.signal.local_features', 'grad.seeds.signal', 'grad.seeds']\n",
    "plot_multiple_cdfs_with_medians(data_test, pred_columns, ['all miR fold changes'], 'Test set', 16)"
   ]
  },
  {
   "cell_type": "code",
   "execution_count": null,
   "id": "f8b40e76-25f8-4e49-b4cf-5c51ec072db7",
   "metadata": {},
   "outputs": [],
   "source": [
    "data_train['Ours'] = y_pred_grad_train\n",
    "data_train['all miR fold changes'] = y_train\n",
    "\n",
    "pred_columns = ['fold_change', 'weighted context++ score', 'Ours']\n",
    "plot_multiple_cdfs_with_medians(data_train, pred_columns, ['all miR fold changes'], 'Test set', 16)"
   ]
  },
  {
   "cell_type": "code",
   "execution_count": null,
   "id": "ca6a9d21-db9a-4a0d-94d6-724bccf52e1e",
   "metadata": {},
   "outputs": [],
   "source": [
    "df_train_test = pd.concat([data_train, data_test], ignore_index=True)\n",
    "\n",
    "pred_columns = ['fold_change', 'weighted context++ score', 'Ours']\n",
    "\n",
    "plot_multiple_cdfs_with_medians(\n",
    "    df_train_test, pred_columns, ['all miR fold changes'], 'Train and test set', 16\n",
    ")"
   ]
  },
  {
   "cell_type": "code",
   "execution_count": null,
   "id": "e09e586d-240e-46f7-99ee-1ef5c45aef96",
   "metadata": {},
   "outputs": [],
   "source": []
  }
 ],
 "metadata": {
  "kernelspec": {
   "display_name": "Python [conda env:deepExpTorch2]",
   "language": "python",
   "name": "conda-env-deepExpTorch2-py"
  },
  "language_info": {
   "codemirror_mode": {
    "name": "ipython",
    "version": 3
   },
   "file_extension": ".py",
   "mimetype": "text/x-python",
   "name": "python",
   "nbconvert_exporter": "python",
   "pygments_lexer": "ipython3",
   "version": "3.8.17"
  }
 },
 "nbformat": 4,
 "nbformat_minor": 5
}
