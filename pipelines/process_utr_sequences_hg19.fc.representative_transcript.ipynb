{
 "cells": [
  {
   "cell_type": "code",
   "execution_count": 1,
   "id": "87577a52-70cc-4c0d-91dd-8150a8867141",
   "metadata": {},
   "outputs": [],
   "source": [
    "# Modules will be reloaded every time a cell is executed\n",
    "%load_ext autoreload\n",
    "%autoreload 2"
   ]
  },
  {
   "cell_type": "code",
   "execution_count": 29,
   "id": "ea528fce-9afd-4384-a529-26dded3729a8",
   "metadata": {},
   "outputs": [],
   "source": [
    "import pandas as pd\n",
    "import numpy as np\n",
    "from Bio.Seq import Seq\n",
    "\n",
    "from utils.data_processing import parse_biomart_fasta"
   ]
  },
  {
   "cell_type": "code",
   "execution_count": 3,
   "id": "a0d12253-84c7-4d13-a4f4-bf897eb69fa2",
   "metadata": {},
   "outputs": [],
   "source": [
    "IN_UTR_SEQ_TXT_PATH = 'data/GRCh37.p13 hg19/utr_sequences_hg19.txt'\n",
    "MIRNA_FCS = 'data/fold_change/mirna_fcs.csv'\n",
    "TS_GENE_INFO = 'data/target_scan_8/Gene_info.txt'\n",
    "ID_MAP = 'data/GRCh37.p13 hg19/UCSC/id_map'\n",
    "\n",
    "OUT_UTR_DF_MIRNA_FC_PATH = 'data/processed/GRCh37.p13 hg19/3utr.sequences.refseq_id.mirna_fc.pkl'"
   ]
  },
  {
   "cell_type": "code",
   "execution_count": 4,
   "id": "9712c3ef-57c1-420d-ab4c-b7eb22ba2036",
   "metadata": {},
   "outputs": [],
   "source": [
    "SEQUENCE_UNAVAILABLE = Seq(\"Sequenceunavailable\")"
   ]
  },
  {
   "cell_type": "code",
   "execution_count": 5,
   "id": "8760ef0b-8c35-4d4d-9a8f-57a91250c23d",
   "metadata": {},
   "outputs": [],
   "source": [
    "utrs = parse_biomart_fasta(IN_UTR_SEQ_TXT_PATH)"
   ]
  },
  {
   "cell_type": "code",
   "execution_count": 6,
   "id": "2da55080-596a-42d0-a730-b011ce84feef",
   "metadata": {},
   "outputs": [],
   "source": [
    "utrs_df = pd.DataFrame(utrs)\n",
    "utrs_with_seq = utrs_df[utrs_df.sequence != SEQUENCE_UNAVAILABLE]"
   ]
  },
  {
   "cell_type": "code",
   "execution_count": 7,
   "id": "bf2ef1a0-3299-4219-8436-de33ee93121c",
   "metadata": {},
   "outputs": [
    {
     "data": {
      "text/plain": [
       "8372"
      ]
     },
     "execution_count": 7,
     "metadata": {},
     "output_type": "execute_result"
    }
   ],
   "source": [
    "mirna_fc = pd.read_csv(MIRNA_FCS)\n",
    "mirna_fc['RefSeq ID'].nunique()"
   ]
  },
  {
   "cell_type": "code",
   "execution_count": 8,
   "id": "2492ce0a-1375-4cb1-8203-86dfce639082",
   "metadata": {},
   "outputs": [],
   "source": [
    "ucsc_id_map = pd.read_csv(ID_MAP, comment='#', header=None, names=[\n",
    "    \"knownGene.name\",\n",
    "    \"knownGene.chrom\",\n",
    "    \"kgAlias.kgID\",\n",
    "    \"kgAlias.alias\",\n",
    "    \"kgXref.kgID\",\n",
    "    \"kgXref.mRNA\",\n",
    "    \"kgXref.geneSymbol\",\n",
    "    \"kgXref.refseq\",\n",
    "    \"knownToEnsembl.name\",\n",
    "    \"knownToEnsembl.value\",\n",
    "    \"knownToRefSeq.name\",\n",
    "    \"knownToRefSeq.value\"\n",
    "], delimiter='\\t')"
   ]
  },
  {
   "cell_type": "code",
   "execution_count": 9,
   "id": "23933d8f-5c97-41c8-9859-99d643c21e1e",
   "metadata": {},
   "outputs": [],
   "source": [
    "ucsc_id_map['RefSeq ID'] = ucsc_id_map['knownToRefSeq.value'].fillna(\n",
    "    ucsc_id_map['kgXref.refseq']\n",
    ")"
   ]
  },
  {
   "cell_type": "code",
   "execution_count": 10,
   "id": "11facc8b-f028-41e5-9636-c4069662b261",
   "metadata": {},
   "outputs": [],
   "source": [
    "ucsc_id_map = ucsc_id_map[\n",
    "    [\n",
    "        'knownGene.chrom',\n",
    "        'knownToEnsembl.value',\n",
    "        'RefSeq ID',\n",
    "        'kgXref.geneSymbol',\n",
    "    ]\n",
    "]"
   ]
  },
  {
   "cell_type": "code",
   "execution_count": 11,
   "id": "7c9f1ce7-752d-4985-b98f-372814bf6a6c",
   "metadata": {},
   "outputs": [],
   "source": [
    "mirnas = ['hsa-miR-16-5p', 'hsa-miR-106b-5p',\n",
    "       'hsa-miR-200a-3p', 'hsa-miR-200b-3p', 'hsa-miR-215-5p', 'hsa-let-7c-5p',\n",
    "       'hsa-miR-103a-3p']"
   ]
  },
  {
   "cell_type": "code",
   "execution_count": 12,
   "id": "1afafea3-37d2-4531-81b1-5ca733a9283f",
   "metadata": {},
   "outputs": [],
   "source": [
    "ts_gene_info = pd.read_csv(TS_GENE_INFO, sep='\\t')"
   ]
  },
  {
   "cell_type": "code",
   "execution_count": 13,
   "id": "ee3b8c30-6cb9-49fe-a2c8-e8dce9d77107",
   "metadata": {},
   "outputs": [],
   "source": [
    "ts_gene_info = ts_gene_info[['Transcript ID', 'Representative transcript?']]"
   ]
  },
  {
   "cell_type": "code",
   "execution_count": 14,
   "id": "80b17aba-f4b3-48bc-af35-c7d555080e83",
   "metadata": {},
   "outputs": [
    {
     "name": "stdout",
     "output_type": "stream",
     "text": [
      "8372 8372 (13078, 12)\n"
     ]
    }
   ],
   "source": [
    "mirna_fc_ucsc_id = pd.merge(\n",
    "    mirna_fc,\n",
    "    ucsc_id_map,\n",
    "    left_on='RefSeq ID',\n",
    "    right_on='RefSeq ID',\n",
    "    how='left',\n",
    ")\n",
    "mirna_fc_ucsc_id = mirna_fc_ucsc_id.drop_duplicates()\n",
    "\n",
    "print(mirna_fc['RefSeq ID'].nunique(), mirna_fc_ucsc_id['RefSeq ID'].nunique(), mirna_fc_ucsc_id.shape)"
   ]
  },
  {
   "cell_type": "markdown",
   "id": "773ae286-8f66-4820-8ad5-58074de75505",
   "metadata": {},
   "source": [
    "### Join UTR sequences mirna_fc_ucsc_id FC with RefSeq and Ensemble IDs"
   ]
  },
  {
   "cell_type": "code",
   "execution_count": 15,
   "id": "63cc3e90-28e9-4885-a865-7cfaec5eb2f4",
   "metadata": {},
   "outputs": [
    {
     "name": "stdout",
     "output_type": "stream",
     "text": [
      "8372\n"
     ]
    }
   ],
   "source": [
    "mirna_fc_ucsc_id_seq = pd.merge(\n",
    "    mirna_fc_ucsc_id,\n",
    "    utrs_with_seq,\n",
    "    left_on='knownToEnsembl.value',\n",
    "    right_on='ensembl_transcript_id',\n",
    "    how='left',\n",
    ")\n",
    "mirna_fc_ucsc_id_seq = mirna_fc_ucsc_id_seq.drop(columns=['ensembl_transcript_id'])\n",
    "print(mirna_fc_ucsc_id_seq['RefSeq ID'].nunique())"
   ]
  },
  {
   "cell_type": "code",
   "execution_count": 16,
   "id": "c63094e0-2ecc-4339-b0b2-b4e9dc40c8f9",
   "metadata": {},
   "outputs": [
    {
     "name": "stdout",
     "output_type": "stream",
     "text": [
      "8372\n"
     ]
    }
   ],
   "source": [
    "mirna_fc_ucsc_id_seq_repre = pd.merge(\n",
    "    mirna_fc_ucsc_id_seq,\n",
    "    ts_gene_info,\n",
    "    left_on = 'ensembl_transcript_id_version',\n",
    "    right_on = 'Transcript ID',\n",
    "    how = 'left',\n",
    ")\n",
    "print(mirna_fc_ucsc_id_seq_repre['RefSeq ID'].nunique())"
   ]
  },
  {
   "cell_type": "code",
   "execution_count": 17,
   "id": "58436da1-d844-4ed8-ae5a-c50236feb958",
   "metadata": {},
   "outputs": [
    {
     "name": "stdout",
     "output_type": "stream",
     "text": [
      "8372\n"
     ]
    }
   ],
   "source": [
    "utrs_with_seq_repre = pd.merge(\n",
    "    utrs_with_seq,\n",
    "    ts_gene_info,\n",
    "    left_on = 'ensembl_transcript_id_version',\n",
    "    right_on = 'Transcript ID',\n",
    "    how = 'left',\n",
    ")\n",
    "print(mirna_fc_ucsc_id_seq_repre['RefSeq ID'].nunique())"
   ]
  },
  {
   "cell_type": "markdown",
   "id": "b06a6631-6db3-4f34-997f-f991e60ece49",
   "metadata": {},
   "source": [
    "### Keep representative/longest_UTR per RefSeq ID"
   ]
  },
  {
   "cell_type": "code",
   "execution_count": 18,
   "id": "b3ab0733-7e12-4dcd-b0a3-489083e4aec3",
   "metadata": {},
   "outputs": [],
   "source": [
    "mirna_fc_ucsc_id_seq_repre[\"sequence_origin\"] = None"
   ]
  },
  {
   "cell_type": "code",
   "execution_count": 19,
   "id": "4204fda0-f152-4b4b-9d85-6cc36defd25c",
   "metadata": {},
   "outputs": [
    {
     "name": "stderr",
     "output_type": "stream",
     "text": [
      "/tmp/ipykernel_1460/591865410.py:80: SettingWithCopyWarning: \n",
      "A value is trying to be set on a copy of a slice from a DataFrame\n",
      "\n",
      "See the caveats in the documentation: https://pandas.pydata.org/pandas-docs/stable/user_guide/indexing.html#returning-a-view-versus-a-copy\n",
      "  selected_sequence_row[\"sequence_origin\"] = 'RefSeq ID'\n"
     ]
    },
    {
     "name": "stdout",
     "output_type": "stream",
     "text": [
      "8325 (8325, 29)\n"
     ]
    }
   ],
   "source": [
    "def get_seq_len(a):\n",
    "    if a is None or a == '' or pd.isna(a):\n",
    "        return 0\n",
    "    else:\n",
    "        return len(a)\n",
    "    \n",
    "def has_sequence(index, df):\n",
    "    return pd.notnull(index) and get_seq_len(df.iloc[index].sequence) > 0\n",
    "\n",
    "utrs_longest_seq = []\n",
    "refseq_id_not_resolved = []\n",
    "\n",
    "groupby_refseq = mirna_fc_ucsc_id_seq_repre.groupby(\"RefSeq ID\")\n",
    "groupby_gene = utrs_with_seq_repre.groupby('external_gene_name')\n",
    "groupby_ensembl_id = utrs_with_seq_repre.groupby('ensembl_transcript_id_version')\n",
    "\n",
    "for group_name, group in groupby_refseq:\n",
    "    repre_index_per_gene = None\n",
    "    longest_utr_index_per_gene = None\n",
    "    repre_index_per_ensembl_id = None\n",
    "    longest_utr_index_per_ensembl_id = None\n",
    "    \n",
    "    repre_transcript_index = group['Representative transcript?'].idxmax()\n",
    "    longest_utr_index = group.sequence.map(lambda a: get_seq_len(a)).idxmax()\n",
    "    longest_transcript_index = pd.to_numeric(group['transcript_length']).idxmax()\n",
    "\n",
    "    genes_of_refseq_id = list(set(group['Gene symbol']))\n",
    "    ensembl_ids_of_refseq_id = list(set(group['ensembl_transcript_id_version']))\n",
    "                                    \n",
    "    for gene in genes_of_refseq_id:\n",
    "        if pd.notnull(gene) and gene in groupby_gene.groups.keys():\n",
    "            group_of_gene_symbol = groupby_gene.get_group(gene)\n",
    "            repre_index_per_gene = group_of_gene_symbol['Representative transcript?'].idxmax()\n",
    "            longest_utr_index_per_gene = group_of_gene_symbol.sequence.map(lambda a: get_seq_len(a)).idxmax()\n",
    "    \n",
    "    for ensembl_id in ensembl_ids_of_refseq_id:\n",
    "        if pd.notnull(ensembl_id) and ensembl_id in groupby_ensembl_id.groups.keys():\n",
    "            group_of_ensembl_id = groupby_ensembl_id.get_group(ensembl_id)\n",
    "            repre_index_per_ensembl_id = group_of_ensembl_id['Representative transcript?'].idxmax()\n",
    "            longest_utr_index_per_ensembl_id = group_of_ensembl_id.sequence.map(lambda a: get_seq_len(a)).idxmax()\n",
    "    \n",
    "    indexes = {\n",
    "        'repre_transcript': {\n",
    "            'index':repre_transcript_index,\n",
    "            'is_original_sequence':True,\n",
    "            'dataframe': mirna_fc_ucsc_id_seq_repre,\n",
    "        },\n",
    "        'longest_utr': {\n",
    "            'index':longest_utr_index,\n",
    "            'is_original_sequence':True,\n",
    "            'dataframe': mirna_fc_ucsc_id_seq_repre,\n",
    "        },\n",
    "        'repre_per_ensembl_id': {\n",
    "            'index':repre_index_per_ensembl_id,\n",
    "            'is_original_sequence':False,\n",
    "            'dataframe':utrs_with_seq_repre\n",
    "        },\n",
    "        'longest_utr_per_ensembl_id': {\n",
    "            'index':longest_utr_index_per_ensembl_id,\n",
    "            'is_original_sequence':False,\n",
    "            'dataframe':utrs_with_seq_repre\n",
    "        },\n",
    "        'repre_per_gene': {\n",
    "            'index':repre_index_per_gene,\n",
    "            'is_original_sequence':False,\n",
    "            'dataframe':utrs_with_seq_repre\n",
    "        },\n",
    "        'longest_utr_per_gene': {\n",
    "            'index':longest_utr_index_per_gene,\n",
    "            'is_original_sequence':False,\n",
    "            'dataframe':utrs_with_seq_repre\n",
    "        },\n",
    "    }\n",
    "    for name, index in indexes.items():\n",
    "        if has_sequence(index['index'], index['dataframe']):\n",
    "            selected_sequence_row = index['dataframe'].iloc[index['index']]\n",
    "            if index['is_original_sequence']:\n",
    "                selected_sequence_row[\"sequence_origin\"] = 'RefSeq ID'\n",
    "                utrs_longest_seq.append(selected_sequence_row)  \n",
    "            elif pd.isnull(longest_transcript_index):\n",
    "                if group.shape[0] == 1:\n",
    "                    original_row = group.iloc[0].copy()\n",
    "                    original_row['sequence'] = selected_sequence_row['sequence']\n",
    "                    if 'gene' in name:\n",
    "                        original_row[\"sequence_origin\"] = 'Gene symbol'\n",
    "                    else:\n",
    "                        original_row[\"sequence_origin\"] = 'ensembl_transcript_id_version'\n",
    "                    utrs_longest_seq.append(original_row)\n",
    "            else:\n",
    "                original_row = mirna_fc_ucsc_id_seq_repre.iloc[longest_transcript_index]\n",
    "                original_row['sequence'] = selected_sequence_row['sequence']\n",
    "                utrs_longest_seq.append(original_row)\n",
    "            break\n",
    "    else:\n",
    "        refseq_id_not_resolved.append(group_name)\n",
    "        \n",
    "utrs_selected_seq_df = pd.DataFrame(utrs_longest_seq)\n",
    "\n",
    "print(utrs_selected_seq_df['RefSeq ID'].nunique(), utrs_selected_seq_df.shape)"
   ]
  },
  {
   "cell_type": "code",
   "execution_count": 20,
   "id": "da720090-d02d-4346-aadc-336e79d7d8a7",
   "metadata": {},
   "outputs": [
    {
     "name": "stdout",
     "output_type": "stream",
     "text": [
      "32 32\n"
     ]
    }
   ],
   "source": [
    "print(\n",
    "    len(refseq_id_not_resolved),\n",
    "    len(set(refseq_id_not_resolved))\n",
    ")"
   ]
  },
  {
   "cell_type": "code",
   "execution_count": 21,
   "id": "07de266c-cefe-4b6b-ad7f-ad5645019542",
   "metadata": {},
   "outputs": [
    {
     "data": {
      "text/plain": [
       "<matplotlib.axes._subplots.AxesSubplot at 0x7f146c588220>"
      ]
     },
     "execution_count": 21,
     "metadata": {},
     "output_type": "execute_result"
    },
    {
     "data": {
      "image/png": "[encoded data removed]",
      "text/plain": [
       "<Figure size 200x300 with 1 Axes>"
      ]
     },
     "metadata": {},
     "output_type": "display_data"
    }
   ],
   "source": [
    "utrs_selected_seq_df.sequence_origin.hist(figsize=(2,3))"
   ]
  },
  {
   "cell_type": "code",
   "execution_count": 22,
   "id": "96db0226-33ef-4cec-9ce5-aa140fdc29c9",
   "metadata": {},
   "outputs": [
    {
     "data": {
      "text/plain": [
       "(RefSeq ID\n",
       " NM_000017    2\n",
       " NM_000019    3\n",
       " NM_000021    3\n",
       " NM_000023    2\n",
       " NM_000027    1\n",
       "             ..\n",
       " NM_213646    1\n",
       " NM_213647    1\n",
       " NM_213649    1\n",
       " NM_213651    1\n",
       " NM_213662    1\n",
       " Length: 8372, dtype: int64,\n",
       " RefSeq ID\n",
       " NM_000017    1\n",
       " NM_000019    1\n",
       " NM_000021    1\n",
       " NM_000023    1\n",
       " NM_000027    1\n",
       "             ..\n",
       " NM_213646    1\n",
       " NM_213647    1\n",
       " NM_213649    1\n",
       " NM_213651    1\n",
       " NM_213662    1\n",
       " Name: RefSeq ID, Length: 8372, dtype: int64)"
      ]
     },
     "execution_count": 22,
     "metadata": {},
     "output_type": "execute_result"
    }
   ],
   "source": [
    "groupby_refseq.size(), groupby_refseq['RefSeq ID'].nunique()"
   ]
  },
  {
   "cell_type": "code",
   "execution_count": 23,
   "id": "2936e943-da86-41a6-bc6d-453066f1dca8",
   "metadata": {},
   "outputs": [],
   "source": [
    "missing_sequences = utrs_selected_seq_df[utrs_selected_seq_df.sequence.isna()]['RefSeq ID'].values"
   ]
  },
  {
   "cell_type": "code",
   "execution_count": 24,
   "id": "e3786695-0220-4a11-a3fb-cfb0840dc189",
   "metadata": {},
   "outputs": [],
   "source": [
    "utrs_selected_seq_df[utrs_selected_seq_df['RefSeq ID'].isin(missing_sequences)].to_csv('missing_sequences.csv')"
   ]
  },
  {
   "cell_type": "code",
   "execution_count": 25,
   "id": "73cc1823-edb3-4b48-8dec-83a1a9bc8863",
   "metadata": {},
   "outputs": [
    {
     "data": {
      "text/plain": [
       "0"
      ]
     },
     "execution_count": 25,
     "metadata": {},
     "output_type": "execute_result"
    }
   ],
   "source": [
    "utrs_selected_seq_df.sequence.isna().sum()"
   ]
  },
  {
   "cell_type": "markdown",
   "id": "0c946159-e5aa-4325-abb2-0ea5878001cd",
   "metadata": {},
   "source": [
    "### Do sequences repeat?"
   ]
  },
  {
   "cell_type": "code",
   "execution_count": 26,
   "id": "1c7eaeea-e625-4746-95bc-cbe161e37688",
   "metadata": {},
   "outputs": [
    {
     "name": "stdout",
     "output_type": "stream",
     "text": [
      "(8325, 29)\n"
     ]
    },
    {
     "data": {
      "text/plain": [
       "1    8305\n",
       "2      10\n",
       "Name: count, dtype: int64"
      ]
     },
     "execution_count": 26,
     "metadata": {},
     "output_type": "execute_result"
    },
    {
     "data": {
      "image/png": "[encoded data removed]",
      "text/plain": [
       "<Figure size 300x200 with 1 Axes>"
      ]
     },
     "metadata": {},
     "output_type": "display_data"
    }
   ],
   "source": [
    "groupby_sequence = utrs_selected_seq_df.groupby('sequence')\n",
    "print(utrs_selected_seq_df.shape)\n",
    "\n",
    "groupby_sequence.size().plot(kind = \"hist\", figsize=(3,2))\n",
    "groupby_sequence.size().value_counts()"
   ]
  },
  {
   "cell_type": "code",
   "execution_count": 27,
   "id": "87b11e4d-fe52-45b8-b54a-3827f518fca7",
   "metadata": {},
   "outputs": [],
   "source": [
    "utrs_selected_seq_df.to_pickle(OUT_UTR_DF_MIRNA_FC_PATH)"
   ]
  }
 ],
 "metadata": {
  "kernelspec": {
   "display_name": "Python [conda env:deepExpTorchGPU]",
   "language": "python",
   "name": "conda-env-deepExpTorchGPU-py"
  },
  "language_info": {
   "codemirror_mode": {
    "name": "ipython",
    "version": 3
   },
   "file_extension": ".py",
   "mimetype": "text/x-python",
   "name": "python",
   "nbconvert_exporter": "python",
   "pygments_lexer": "ipython3",
   "version": "3.8.17"
  }
 },
 "nbformat": 4,
 "nbformat_minor": 5
}
