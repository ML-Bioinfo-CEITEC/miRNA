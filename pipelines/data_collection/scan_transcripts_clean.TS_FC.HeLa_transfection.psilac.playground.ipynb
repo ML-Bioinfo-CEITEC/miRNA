{
 "cells": [
  {
   "cell_type": "code",
   "execution_count": 1,
   "id": "e7f126ac-0cc6-4065-87f9-d9015a5c184e",
   "metadata": {},
   "outputs": [],
   "source": [
    "# Run these lines only the first time you run this notebook\n",
    "\n",
    "# !pip install tensorflow_addons gdown shap -q\n",
    "# !pip install git+https://github.com/katarinagresova/DeepExperiment\n",
    "\n",
    "# !wget https://github.com/ML-Bioinfo-CEITEC/miRBind/raw/main/Models/miRBind.h5\n",
    "# !wget https://raw.githubusercontent.com/ML-Bioinfo-CEITEC/miRBind/graphs/Datasets/evaluation_set_1_1_CLASH2013_paper.tsv"
   ]
  },
  {
   "cell_type": "code",
   "execution_count": 2,
   "id": "17203378-102d-4467-b689-cce34c3d2e39",
   "metadata": {},
   "outputs": [],
   "source": [
    "# Modules will be reloaded every time a cell is executed\n",
    "%load_ext autoreload\n",
    "%autoreload 2"
   ]
  },
  {
   "cell_type": "code",
   "execution_count": 3,
   "id": "905ba2aa-213b-4f88-bde7-f419d1db8b99",
   "metadata": {},
   "outputs": [
    {
     "name": "stderr",
     "output_type": "stream",
     "text": [
      "/home/jovyan/my-conda-envs/deepExperimentTF2.7/lib/python3.8/site-packages/tqdm/auto.py:21: TqdmWarning: IProgress not found. Please update jupyter and ipywidgets. See https://ipywidgets.readthedocs.io/en/stable/user_install.html\n",
      "  from .autonotebook import tqdm as notebook_tqdm\n"
     ]
    }
   ],
   "source": [
    "import tensorflow\n",
    "\n",
    "import json\n",
    "import random\n",
    "import cv2 \n",
    "import pandas as pd\n",
    "import numpy as np\n",
    "import tensorflow as tf\n",
    "from tensorflow import keras\n",
    "from tensorflow.keras import layers\n",
    "from tensorflow.keras.utils import register_keras_serializable\n",
    "# import tensorflow_addons as tfa\n",
    "from IPython.display import Image, display\n",
    "import matplotlib.pyplot as plt\n",
    "import matplotlib.cm as cm\n",
    "from textwrap import wrap\n",
    "import shap\n",
    "from shap.plots.colors import red_transparent_blue\n",
    "from Bio import SeqIO\n",
    "\n",
    "from deepexperiment.alignment import Attrament\n",
    "from deepexperiment.visualization import plot_alignment, plot_miRNA_importance, plotbar_miRNA_importance\n",
    "from deepexperiment.utils import one_hot_encoding, one_hot_encoding_batch\n",
    "from deepexperiment.interpret import DeepShap\n",
    "\n",
    "from funmirtar.models.constants import HELA_TRANSFACTION_DATA, PSILAC_DATA, TARGETSCAN_COLUMN_TO_SEQUENCE"
   ]
  },
  {
   "cell_type": "markdown",
   "id": "8ae5a8e4-b680-4f0b-a03b-55db55bf9537",
   "metadata": {},
   "source": [
    "Params"
   ]
  },
  {
   "cell_type": "code",
   "execution_count": 4,
   "id": "92abe7d1-dea3-4d10-bcfb-9da9265bdb3a",
   "metadata": {},
   "outputs": [],
   "source": [
    "DATASET_NAME = 'refseq_id.mirna_fc'\n",
    "# DATASET_NAME = 'gene_name.psilac'\n",
    "# DATASET_NAME = 'refseq_id.HeLa_transfection'\n",
    "\n",
    "# ID_COLUMN = \"refseq_mrna\"\n",
    "ID_COLUMN = 'RefSeq ID'\n",
    "\n",
    "SAVE_EXPL_SCORES = True"
   ]
  },
  {
   "cell_type": "code",
   "execution_count": 5,
   "id": "2e76f7dd-47df-4934-98df-8f0ce4cfb51b",
   "metadata": {},
   "outputs": [],
   "source": [
    "mirna_name = 'hsa-miR-16-5p'"
   ]
  },
  {
   "cell_type": "code",
   "execution_count": null,
   "id": "b73c5d19-7fd6-46c4-98ce-9f2b11789cb6",
   "metadata": {},
   "outputs": [],
   "source": [
    "# TS_mirnas = list(TARGETSCAN_COLUMN_TO_SEQUENCE.items())\n",
    "# mirna_index = 0\n",
    "# mirna_name = TS_mirnas[mirna_index][0]\n",
    "# my_miRNA = TS_mirnas[mirna_index][1]\n",
    "\n",
    "# mirna_sequences = [my_miRNA]\n",
    "# mirna_sequences, mirna_name"
   ]
  },
  {
   "cell_type": "code",
   "execution_count": 6,
   "id": "93ee2084-6b16-4eaa-8049-443b1be774a4",
   "metadata": {},
   "outputs": [
    {
     "name": "stdout",
     "output_type": "stream",
     "text": [
      "['TAGCAGCACGTAAATATTGGCG'] hsa-miR-16-5p\n"
     ]
    }
   ],
   "source": [
    "my_miRNA = TARGETSCAN_COLUMN_TO_SEQUENCE[mirna_name]\n",
    "\n",
    "mirna_sequences = [my_miRNA]\n",
    "print(f\"scanning for {mirna_sequences}, {mirna_name}\")"
   ]
  },
  {
   "cell_type": "code",
   "execution_count": null,
   "id": "7e62e65e-93d6-4291-9d64-c3c1d171ad1f",
   "metadata": {},
   "outputs": [],
   "source": [
    "# SEQUENCE_SOURCE_PATH = \"data/3utr/3utr.sequences.pkl\"\n",
    "# SEQUENCE_SOURCE_PATH = 'data/3utr/3utr.sequences.refseq_id.mirna_fc.pkl'\n",
    "# SEQUENCE_SOURCE_PATH = f'data/3utr/3utr.sequences.{DATASET_NAME}.pkl'\n",
    "# SEQUENCE_SOURCE_PATH = f'data/processed/GRCh37.p13 hg19/3utr.sequences.{DATASET_NAME}.pkl'\n",
    "\n",
    "SEQUENCE_SOURCE_PATH = f'../../data/processed/GRCh37.p13 hg19/UCSC/3utr.sequences.{DATASET_NAME}.pkl'\n",
    "\n",
    "\n",
    "sequence_source_df = pd.read_pickle(SEQUENCE_SOURCE_PATH)"
   ]
  },
  {
   "cell_type": "code",
   "execution_count": null,
   "id": "435c1382-2bd8-42de-9402-349aea4ae8ed",
   "metadata": {},
   "outputs": [],
   "source": [
    "# SAVE_EXPLAINABILITY_SCORES_PATH = \"explainability_scores_{}.json\".format(mirna_name)\n",
    "# SAVE_EXPLAINABILITY_SCORES_PATH = \"data/3utr.explainability_scores_{}.json\".format(mirna_name)\n",
    "# SAVE_EXPLAINABILITY_SCORES_PATH = f\"data/3utr.sequences.refseq_id.mirna_fc.explainability_scores_{mirna_name}.json\"\n",
    "# SAVE_EXPLAINABILITY_SCORES_PATH = f\"data/3utr.sequences.refseq_id.mirna_fc.explainability_scores_{mirna_name}.refseq_id.json\"\n",
    "# SAVE_EXPLAINABILITY_SCORES_PATH = f\"debug/3utr.sequences.refseq_id.mirna_fc.explainability_scores_{mirna_name}.refseq_id.json\"\n",
    "# SAVE_EXPLAINABILITY_SCORES_PATH = f\"data/3utr.sequences.{DATASET_NAME}.explainability_scores_{mirna_name}.json\"\n",
    "\n",
    "# SAVE_EXPLAINABILITY_SCORES_PATH = f\"data/scanned/GRCh37.p13 hg19/UCSC/3utr.sequences.{DATASET_NAME}.explainability_scores_{mirna_name}.json\"\n",
    "\n",
    "SAVE_EXPLAINABILITY_SCORES_PATH = f\"../../data/scanned/GRCh37.p13 hg19/UCSC/3utr.sequences.{DATASET_NAME}.explainability_scores_{mirna_name}.json\"\n",
    "\n",
    "SAVE_SCANNING_ERRORS_PATH = f\"../../data/scanned/GRCh37.p13 hg19/UCSC/3utr.sequences.{DATASET_NAME}.explainability_scores_{mirna_name}.scanning_errors.txt\""
   ]
  },
  {
   "cell_type": "code",
   "execution_count": null,
   "id": "82d22121-dcfc-405a-8e79-a0d08df49c35",
   "metadata": {},
   "outputs": [],
   "source": [
    "PREDICTION_THRESHOLD = 0\n",
    "random.seed(42)"
   ]
  },
  {
   "cell_type": "markdown",
   "id": "ca182670-8b8c-45e5-a3e0-c60ed9a3a84d",
   "metadata": {},
   "source": [
    "### Load and preprocess the transcript data"
   ]
  },
  {
   "cell_type": "code",
   "execution_count": null,
   "id": "a7cca5d0-2b74-471d-bd3f-95193a643eab",
   "metadata": {},
   "outputs": [],
   "source": [
    "sequence_source_df.shape[0], sequence_source_df[ID_COLUMN].nunique(), sequence_source_df[[ID_COLUMN]].dropna().shape[0]"
   ]
  },
  {
   "cell_type": "code",
   "execution_count": null,
   "id": "69eb825e-2c2f-4e58-9fc2-b38ee4fd7b4d",
   "metadata": {},
   "outputs": [],
   "source": [
    "gene_symbol_to_seq = sequence_source_df[[ID_COLUMN, \"sequence\"]].set_index(ID_COLUMN).to_dict()['sequence']"
   ]
  },
  {
   "cell_type": "markdown",
   "id": "8cb40897-fb22-45e3-88ef-dbfdc580792b",
   "metadata": {},
   "source": [
    "### Get our deep learning model and miRNA data"
   ]
  },
  {
   "cell_type": "code",
   "execution_count": null,
   "id": "50cd7737-d157-49cd-9c96-0584c9c53c03",
   "metadata": {},
   "outputs": [],
   "source": [
    "\"\"\"# Loading model and the data\"\"\"\n",
    "\n",
    "model = keras.models.load_model(\"models/miRBind.h5\")   # Old model from miRBind trained on Ago1 data\n",
    "# miRNA/miRNA/models/model_miRNA.h5\n",
    "# model = keras.models.load_model(\"models/model_miRNA.h5\")   # from Vasek's paper https://github.com/ML-Bioinfo-CEITEC/HybriDetector/blob/main/ML/Models/model_miRNA.h5\n",
    "# model.summary()"
   ]
  },
  {
   "cell_type": "code",
   "execution_count": null,
   "id": "b1e39a96-6197-4a6f-878c-930decc76808",
   "metadata": {},
   "outputs": [],
   "source": [
    "samples = pd.read_csv('evaluation_set_1_1_CLASH2013_paper.tsv', sep='\\t')\n",
    "samples.head()"
   ]
  },
  {
   "cell_type": "markdown",
   "id": "1d3e9117-3230-453e-8436-22c39d4f7a77",
   "metadata": {},
   "source": [
    "\n",
    "### Use and evaluate the model"
   ]
  },
  {
   "cell_type": "code",
   "execution_count": null,
   "id": "2853a401-a3af-476a-9bc1-6c78bb11fb0b",
   "metadata": {},
   "outputs": [],
   "source": [
    "# n = 50 is number of samples used as a background image to compare the input with during the shap method\n",
    "rand_samples = samples.sample(n=50, replace=False, random_state=42).reset_index(drop=True)\n",
    "background, _ = one_hot_encoding_batch(rand_samples)\n",
    "deepShap = DeepShap(model, background)"
   ]
  },
  {
   "cell_type": "markdown",
   "id": "74ad6bcc-b16e-4299-9da1-e6fbf0187cea",
   "metadata": {},
   "source": [
    "#### #DEBUG Set `threshold_len` to filter out longer genes"
   ]
  },
  {
   "cell_type": "code",
   "execution_count": null,
   "id": "9a206d56-ce79-42b5-8a5e-b15b3f671e6f",
   "metadata": {},
   "outputs": [],
   "source": [
    "threshold_len = -1 # -1\n",
    "threshold_len_high = -1 # -1\n",
    "\n",
    "# if threshold_len > 0:\n",
    "#     count = 0\n",
    "#     for key,value in gene_symbol_to_seq.items():\n",
    "#         if(len(value) < threshold_len):\n",
    "#             count += 1\n",
    "#     count\n",
    "\n",
    "if threshold_len > 0:\n",
    "    count = 0\n",
    "    for row in sequence_source_df[[\"ensembl_gene_id\", \"sequence\"]].itertuples():\n",
    "        if(len(row.sequence) < threshold_len):\n",
    "            count += 1\n",
    "    print(count)"
   ]
  },
  {
   "cell_type": "code",
   "execution_count": null,
   "id": "07813f3a-c7c4-41f1-9134-cebc31b5e465",
   "metadata": {},
   "outputs": [],
   "source": [
    "# if threshold_len > 0:\n",
    "#     count_too_long = 0\n",
    "#     count_kept = 0\n",
    "#     for key,value in gene_symbol_to_seq.items():\n",
    "#         if(len(value) > threshold_len):\n",
    "#             gene_symbol_to_seq[key] = []\n",
    "#             count_too_long += 1\n",
    "#         else:\n",
    "#             count_kept += 1\n",
    "#     print('count_too_long, len > ', threshold_len, \" : \", count_too_long)\n",
    "#     print('count_kept ', count_kept)\n",
    "\n",
    "\n",
    "if threshold_len > 0:\n",
    "    gene_symbol_to_seq = {}\n",
    "    count_too_long = 0\n",
    "    count_kept = 0\n",
    "    for row in sequence_source_df[[\"ensembl_gene_id\", \"sequence\"]].itertuples():\n",
    "        # if(len(row.sequence) < threshold_len or len(row.sequence) > threshold_len_high):\n",
    "            # count_too_long += 1\n",
    "        # else:\n",
    "        #     gene_symbol_to_seq[row.ensembl_gene_id] = row.sequence\n",
    "        #     count_kept += 1\n",
    "        if(len(row.sequence) < threshold_len): \n",
    "            gene_symbol_to_seq[row.ensembl_gene_id] = row.sequence\n",
    "            count_kept += 1\n",
    "    print('count_too_long, len > ', threshold_len, \" : \", count_too_long)\n",
    "    print('count_kept ', count_kept)"
   ]
  },
  {
   "cell_type": "markdown",
   "id": "30f272ab-a3df-4dfc-8a4f-2815abf3ef17",
   "metadata": {},
   "source": [
    "### Scan the transcript"
   ]
  },
  {
   "cell_type": "code",
   "execution_count": null,
   "id": "0f42843e-e951-41e6-960e-03e4dba513df",
   "metadata": {},
   "outputs": [],
   "source": [
    "def score_sequence_attribution_minimal_FIXED(gene, input_miRNA, model, draw_plot=False, step=10, length=50, prediction_threshold=0.5):\n",
    "    # QUICK FIX - miRBind takes only 20 long miRNA\n",
    "    miRNA = input_miRNA[0:20]\n",
    "\n",
    "    miRNAs = []\n",
    "    genes = []\n",
    "    counts = np.zeros(len(gene))\n",
    "\n",
    "    for i in range(0, len(gene) - length + 1, step):\n",
    "        start = max(i, 0)\n",
    "        end = min(i+length, len(gene))\n",
    "        miRNAs.append(miRNA)\n",
    "        genes.append(gene[start:end])\n",
    "        counts[start:end] += 1\n",
    "\n",
    "    labels = np.zeros(len(genes))\n",
    "\n",
    "    df = pd.DataFrame(\n",
    "        {'miRNA': miRNAs,\n",
    "         'gene': genes,\n",
    "         'label': labels\n",
    "        })\n",
    "    data, _ = one_hot_encoding_batch(df, tensor_dim=(50, 20, 1))\n",
    "    preds = model(data)\n",
    "\n",
    "    attribution = np.zeros((len(gene), len(miRNA)))\n",
    "    shap_indices = []\n",
    "    pred_indices = []\n",
    "    preds_indices = []\n",
    "    shap_data = []\n",
    "\n",
    "    counter = 0\n",
    "    for i in range(0, len(gene) - length + 1, step):\n",
    "        if preds[counter][1] > prediction_threshold:\n",
    "            # shap_indices == indices of positively predicted sliding windows (indexes preds array)\n",
    "            shap_indices.append(counter)\n",
    "            pred_indices.append(i)\n",
    "            shap_data.append(data[counter])\n",
    "        counter+=1\n",
    "    \n",
    "    # TODO quick fix: if at this point the 'shap_data' is empty array [], it means no prediction was > 0.5, therefore (for now) let's predict 0 binding affinity  \n",
    "    if len(shap_data) == 0:\n",
    "        return []\n",
    "    shap_data = np.stack(shap_data)\n",
    "    \n",
    "    neg_shap, pos_shap = deepShap(shap_data)\n",
    "    \n",
    "    for i in range(0, len(shap_indices)):\n",
    "\n",
    "        normalized_shap = pos_shap[i,:,:,0] * preds[shap_indices[i]][1]\n",
    "\n",
    "        newrows = np.zeros((pred_indices[i], normalized_shap.shape[1]))\n",
    "        normalized_shap = np.vstack([newrows, normalized_shap])\n",
    "        newrows = np.zeros((len(gene) - pred_indices[i] - length, normalized_shap.shape[1]))\n",
    "        normalized_shap = np.vstack([normalized_shap, newrows])\n",
    "\n",
    "        attribution += normalized_shap\n",
    "\n",
    "    attribution = attribution.T.max(axis=0)\n",
    " \n",
    "    counts[counts == 0] = 1 # because when stepping transcript, its len might not be dividable by step and leave a few 0s at the end of counts\n",
    "    # np.where(counts == 0, 1, counts)\n",
    "    normalized_scores = attribution / np.array(counts)\n",
    "\n",
    "    if draw_plot:\n",
    "        #     TODO change printing into a single plot?\n",
    "        plt.figure(num = random.randint(0, 1000)) # num is a unique identifier for the figure\n",
    "        plt.plot(normalized_scores)\n",
    "        plt.title('normalized_scores => attribution / np.array(counts)')\n",
    "        plt.show()\n",
    "    # plt.plot(normalized_scores);\n",
    "\n",
    "    return normalized_scores"
   ]
  },
  {
   "cell_type": "code",
   "execution_count": null,
   "id": "03584b22-b197-499a-bec1-5f88bd81831f",
   "metadata": {
    "tags": []
   },
   "outputs": [],
   "source": [
    "import time\n",
    "\n",
    "# two objects to collect results for now, will see which one is more handy\n",
    "score_table = []\n",
    "miRNA_to_gene_score = {}\n",
    "explain_errors = []\n",
    "\n",
    "start = time.time()\n",
    "\n",
    "i = 0\n",
    "for miRNA in mirna_sequences[:1]:\n",
    "    if miRNA not in miRNA_to_gene_score:\n",
    "        miRNA_to_gene_score[miRNA] = []\n",
    "    for gene_symbol, gene_sequence in gene_symbol_to_seq.items():\n",
    "        if not isinstance(gene_sequence, float) and len(gene_sequence) > 0:\n",
    "            try:\n",
    "                score = score_sequence_attribution_minimal_FIXED(\n",
    "                    str(gene_sequence), \n",
    "                    miRNA, \n",
    "                    model, \n",
    "                    draw_plot=False, \n",
    "                    step=10, \n",
    "                    length=50, \n",
    "                    prediction_threshold=PREDICTION_THRESHOLD\n",
    "                )\n",
    "                score_table.append([miRNA, gene_symbol, score])\n",
    "                miRNA_to_gene_score[miRNA].append([gene_symbol, score])\n",
    "            except (AssertionError, ValueError) as e:\n",
    "                # print(miRNA, gene_symbol, e)\n",
    "                print(e)\n",
    "                explain_errors.append([mirna_name, miRNA, gene_symbol, str(e)])\n",
    "                \n",
    "        else:\n",
    "            explain_errors.append(gene_symbol)\n",
    "\n",
    "        i+=1\n",
    "        if i % 500 == 0:\n",
    "            print(gene_symbol, \" |\",i , \"| \" , end =\" \")\n",
    "        # if i > 1000:\n",
    "            # break\n",
    "    # break\n",
    "        \n",
    "            \n",
    "end = time.time()"
   ]
  },
  {
   "cell_type": "code",
   "execution_count": null,
   "id": "995fb5fc-7836-4619-91f7-963291708b7f",
   "metadata": {},
   "outputs": [],
   "source": [
    "print(f'{round(end - start, 2)} seconds, {round((end - start) / 3600, 2)} hours')"
   ]
  },
  {
   "cell_type": "code",
   "execution_count": null,
   "id": "a500539c-44b5-4a1f-8342-a57f723e7b0b",
   "metadata": {},
   "outputs": [],
   "source": [
    "len(gene_symbol_to_seq.items())"
   ]
  },
  {
   "cell_type": "code",
   "execution_count": null,
   "id": "ff5cbdfb-7fab-4d39-a22c-c39b7c2146a3",
   "metadata": {},
   "outputs": [],
   "source": [
    "explain_errors"
   ]
  },
  {
   "cell_type": "code",
   "execution_count": null,
   "id": "3c82899a-2b4d-4e10-b037-22bbc1ec9d17",
   "metadata": {},
   "outputs": [],
   "source": [
    "empties = 0\n",
    "for gene_n_score in miRNA_to_gene_score[my_miRNA]:\n",
    "    if len(gene_n_score[1]) == 0:\n",
    "        empties += 1\n",
    "print(empties, ' / ', len(miRNA_to_gene_score[my_miRNA]))"
   ]
  },
  {
   "cell_type": "markdown",
   "id": "2b18c76d-d1e7-47b9-86e4-3f42eccffaad",
   "metadata": {},
   "source": [
    "#### Save the explainability scoring to a file"
   ]
  },
  {
   "cell_type": "code",
   "execution_count": null,
   "id": "662f7e06-40d0-48c6-8748-6dcdb9fae446",
   "metadata": {},
   "outputs": [],
   "source": [
    "print(type(miRNA_to_gene_score), type(miRNA_to_gene_score[my_miRNA]))"
   ]
  },
  {
   "cell_type": "code",
   "execution_count": null,
   "id": "194c6015-e985-4d5d-964b-0a26ac00e581",
   "metadata": {},
   "outputs": [],
   "source": [
    "SAVE_EXPLAINABILITY_SCORES_PATH"
   ]
  },
  {
   "cell_type": "code",
   "execution_count": null,
   "id": "f62afd21-8bd5-46c3-9de7-396477fee387",
   "metadata": {},
   "outputs": [],
   "source": [
    "if SAVE_EXPL_SCORES:\n",
    "    with open(SAVE_EXPLAINABILITY_SCORES_PATH, 'w') as file:\n",
    "        data_to_save = {}\n",
    "        for key in miRNA_to_gene_score.keys():\n",
    "            data_to_save[key] = [[sub_key, list(sub_val)] for sub_key, sub_val in miRNA_to_gene_score[key]]\n",
    "\n",
    "        json.dump(data_to_save, file, indent=4)"
   ]
  },
  {
   "cell_type": "code",
   "execution_count": null,
   "id": "b717f5e4-bcc6-4308-b49f-a8c602d007d2",
   "metadata": {},
   "outputs": [],
   "source": [
    "data_to_save.keys()"
   ]
  },
  {
   "cell_type": "code",
   "execution_count": null,
   "id": "a68032df-befe-4393-9f75-512baaf6a4cc",
   "metadata": {},
   "outputs": [],
   "source": [
    "if SAVE_EXPL_SCORES:\n",
    "    with open(SAVE_SCANNING_ERRORS_PATH, 'w') as filehandle:\n",
    "        json.dump(explain_errors, filehandle)"
   ]
  },
  {
   "cell_type": "code",
   "execution_count": null,
   "id": "e2fec8d0-3079-40c5-921f-962b28834e50",
   "metadata": {},
   "outputs": [],
   "source": [
    "SAVE_SCANNING_ERRORS_PATH"
   ]
  },
  {
   "cell_type": "code",
   "execution_count": null,
   "id": "e725b653-1fc3-47ec-bb71-5470327f0add",
   "metadata": {},
   "outputs": [],
   "source": []
  }
 ],
 "metadata": {
  "kernelspec": {
   "display_name": "Python [conda env:deepExperimentTF2.7]",
   "language": "python",
   "name": "conda-env-deepExperimentTF2.7-py"
  },
  "language_info": {
   "codemirror_mode": {
    "name": "ipython",
    "version": 3
   },
   "file_extension": ".py",
   "mimetype": "text/x-python",
   "name": "python",
   "nbconvert_exporter": "python",
   "pygments_lexer": "ipython3",
   "version": "3.8.16"
  }
 },
 "nbformat": 4,
 "nbformat_minor": 5
}
