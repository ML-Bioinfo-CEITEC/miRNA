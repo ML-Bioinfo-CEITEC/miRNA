{
 "cells": [
  {
   "cell_type": "code",
   "execution_count": 1,
   "id": "cba8e302-e8b2-42eb-886e-738d21d37b08",
   "metadata": {},
   "outputs": [],
   "source": [
    "#load the %autoreload extension using the %load_ext magic command\n",
    "#Then, we set the %autoreload magic command to 2, which means that modules will be reloaded every time a cell is executed\n",
    "%load_ext autoreload\n",
    "%autoreload 2"
   ]
  },
  {
   "cell_type": "markdown",
   "id": "40a23b23-94e1-4e82-b796-df017ff458c4",
   "metadata": {},
   "source": [
    "### Method agnostic data preprocessing"
   ]
  },
  {
   "cell_type": "code",
   "execution_count": 22,
   "id": "ba918741-21ec-459b-b7a1-a0016debd043",
   "metadata": {},
   "outputs": [],
   "source": [
    "# OUTPUT_FOLDER = '3utr/processed/'\n",
    "# OUTPUT_FOLDER = 'preprocessed_for_ml/'\n",
    "OUTPUT_FOLDER = '../../data/preprocessed_for_ml/GRCh37.p13 hg19/UCSC/'\n",
    "\n",
    "# MIRNA_NAME = 'hsa-miR-106b-5p'\n",
    "# MIRNA_NAME = 'hsa-let'-7c-5p'\n",
    "# MIRNA_NAME = 'hsa-miR-16-5p'\n",
    "# MIRNA_NAME = 'hsa-miR-215-5p'\n",
    "# MIRNA_NAME = 'hsa-miR-103a-3p'\n",
    "# MIRNA_NAME = 'hsa-miR-200a-3p'\n",
    "MIRNA_NAME = 'hsa-miR-200b-3p'\n",
    "\n",
    "DATASET_NAME = 'mirna_fcs'\n",
    "FOLD_CHANGE_FILE_PATH = '../../data/fold_change/mirna_fcs.csv'\n",
    "MIRNA_FC_EXPERIMENT_DATA_URL = \"https://raw.githubusercontent.com/ML-Bioinfo-CEITEC/miRNA/main/modules/evaluation/mirna_fcs.csv\"\n",
    "# EXPLAINABILITY_SCORES_DATASET = \"data/explainability_scores_{}\".format(MIRNA_NAME)\n",
    "# EXPLAINABILITY_SCORES_DATASET = \"data/3utr.explainability_scores_{}\".format(MIRNA_NAME)\n",
    "# EXPLAINABILITY_SCORES_DATASET = f\"data/3utr.sequences.refseq_id.mirna_fc.explainability_scores_{MIRNA_NAME}.refseq_id\"\n",
    "\n",
    "# EXPLAINABILITY_SCORES_DATASET = f\"data/scanned/3utr.sequences.refseq_id.mirna_fc.explainability_scores_{MIRNA_NAME}\"\n",
    "EXPLAINABILITY_SCORES_DATASET = f\"../../data/scanned/GRCh37.p13 hg19/UCSC/3utr.sequences.refseq_id.mirna_fc.explainability_scores_{MIRNA_NAME}\"\n",
    "\n",
    "# EXPLAINABILITY_SCORES_DATASET  = f\"debug/3utr.sequences.refseq_id.mirna_fc.explainability_scores_{MIRNA_NAME}.refseq_id\"\n",
    "\n",
    "# UTR_DF_MIRNA_FC_CHR_CONSERVATION_PATH = 'data/conservation/3utr.sequences.refseq_id.mirna_fc.chr.conservation'\n",
    "UTR_DF_MIRNA_FC_CHR_CONSERVATION_PATH = '../../data/conservation/hg19/UCSC/3utr.sequences.refseq_id.mirna_fc.chr.conservation'\n",
    "\n",
    "UTR_DF_MIRNA_FC_CHR_CONSERVATION_FLIPED_TO_POSITIVE_STRAND_PATH = '../../data/conservation/3utr.sequences.refseq_id.mirna_fc.chr.conservation.flipped_to_positive_strand'\n",
    "\n",
    "# EXPLAINABILITY_COLUMN_NAMES = ['mirna','gene_symbol','signal']\n",
    "EXPLAINABILITY_COLUMN_NAMES = ['mirna','RefSeq ID','signal']\n",
    "# MERGE_ON = 'gene_symbol'\n",
    "MERGE_ON = 'RefSeq ID'\n",
    "\n",
    "RANDOM_STATE = 42"
   ]
  },
  {
   "cell_type": "code",
   "execution_count": 3,
   "id": "8e1b2b5a-8c1b-45dd-8830-8df1663fa505",
   "metadata": {},
   "outputs": [],
   "source": [
    "from funmirtar.models.constants import TARGETSCAN_COLUMN_TO_SEQUENCE\n",
    "\n"
   ]
  },
  {
   "cell_type": "code",
   "execution_count": 6,
   "id": "f78d68aa-bd47-447a-951d-ea597271dcd3",
   "metadata": {},
   "outputs": [
    {
     "data": {
      "text/plain": [
       "'TAATACTGCCTGGTAATGATGA'"
      ]
     },
     "execution_count": 6,
     "metadata": {},
     "output_type": "execute_result"
    }
   ],
   "source": [
    "from funmirtar.models.constants import TARGETSCAN_COLUMN_TO_SEQUENCE\n",
    "\n",
    "MIRNA_SEQ = TARGETSCAN_COLUMN_TO_SEQUENCE[MIRNA_NAME]\n",
    "\n",
    "MIRNA_SEQ"
   ]
  },
  {
   "cell_type": "code",
   "execution_count": 20,
   "id": "c7178312-b82b-4dfe-8c0e-3b36275a96c6",
   "metadata": {},
   "outputs": [
    {
     "data": {
      "text/plain": [
       "'../../data/fold_change/mirna_fcs.csv'"
      ]
     },
     "execution_count": 20,
     "metadata": {},
     "output_type": "execute_result"
    }
   ],
   "source": [
    "from funmirtar.utils.data_collection import download_data_from_github_if_not_existing\n",
    "\n",
    "download_data_from_github_if_not_existing(\n",
    "    url = MIRNA_FC_EXPERIMENT_DATA_URL,\n",
    "    output_file_path = FOLD_CHANGE_FILE_PATH,\n",
    ")"
   ]
  },
  {
   "cell_type": "code",
   "execution_count": 26,
   "id": "119857b5-4925-4bda-8d16-9797511f30f5",
   "metadata": {},
   "outputs": [
    {
     "data": {
      "text/plain": [
       "('../../data/preprocessed_for_ml/GRCh37.p13 hg19/UCSC/mirna_fcs.hsa-miR-200b-3p.train.csv',\n",
       " '../../data/preprocessed_for_ml/GRCh37.p13 hg19/UCSC/mirna_fcs.hsa-miR-200b-3p.test.csv')"
      ]
     },
     "execution_count": 26,
     "metadata": {},
     "output_type": "execute_result"
    }
   ],
   "source": [
    "from funmirtar.utils.data_collection import split_train_and_test_set\n",
    "\n",
    "\n",
    "split_train_and_test_set(\n",
    "    input_dataset_file_path = FOLD_CHANGE_FILE_PATH,\n",
    "    column_to_split = MIRNA_NAME,\n",
    "    columns_to_keep = ['gene_symbol', MIRNA_NAME],\n",
    "    test_fraction = 0.25, \n",
    "    random_state = RANDOM_STATE,\n",
    "    splits_distributions_similarity_pvalue_threshold = 0.05,\n",
    "    output_file_path_train = f'{OUTPUT_FOLDER}{DATASET_NAME}.{MIRNA_NAME}.train.csv',\n",
    "    output_file_path_test = f'{OUTPUT_FOLDER}{DATASET_NAME}.{MIRNA_NAME}.test.csv',\n",
    ")"
   ]
  },
  {
   "cell_type": "code",
   "execution_count": 27,
   "id": "06230b0f-238e-4357-9f61-61f1657382b4",
   "metadata": {},
   "outputs": [
    {
     "data": {
      "text/plain": [
       "'../../data/preprocessed_for_ml/GRCh37.p13 hg19/UCSC/mirna_fcs.hsa-miR-200b-3p.test.positive_fc_to_zero.csv'"
      ]
     },
     "execution_count": 27,
     "metadata": {},
     "output_type": "execute_result"
    }
   ],
   "source": [
    "from funmirtar.utils.data_collection import possitive_fold_change_to_zero\n",
    "\n",
    "\n",
    "possitive_fold_change_to_zero(\n",
    "    input_dataset_file_path = f'{OUTPUT_FOLDER}{DATASET_NAME}.{MIRNA_NAME}.train.csv',\n",
    "    column_name = MIRNA_NAME,\n",
    "    output_path_suffix = '.positive_fc_to_zero',\n",
    ")\n",
    "possitive_fold_change_to_zero(\n",
    "    input_dataset_file_path = f'{OUTPUT_FOLDER}{DATASET_NAME}.{MIRNA_NAME}.test.csv',\n",
    "    column_name = MIRNA_NAME,\n",
    "    output_path_suffix = '.positive_fc_to_zero',\n",
    ")"
   ]
  },
  {
   "cell_type": "markdown",
   "id": "b87ff5d5-8662-4fcb-9d65-7ae9310b7498",
   "metadata": {},
   "source": [
    "### Data preprocessing specific for signal data (in the clean code, will be under a specific module)"
   ]
  },
  {
   "cell_type": "code",
   "execution_count": 29,
   "id": "14cd124a-5ef9-49bc-a3a4-fb5e77d753e2",
   "metadata": {},
   "outputs": [],
   "source": [
    "# import pandas as pd\n",
    "\n",
    "# from google_drive_download import download_file_from_google_drive\n",
    "\n",
    "# TODO check if response OK\n",
    "# TODO DOWNLOAD only if not exist\n",
    "# download_file_from_google_drive(  \n",
    "#     file_id = '1ayyD1w6SHzLS8638eoBzUX3OMq4cxSUx',\n",
    "#     destination = '{}.json'.format(EXPLAINABILITY_SCORES_DATASET),\n",
    "# )"
   ]
  },
  {
   "cell_type": "code",
   "execution_count": 33,
   "id": "f77c567a-6c88-43b3-b239-ccfe7fba58dd",
   "metadata": {},
   "outputs": [
    {
     "data": {
      "text/plain": [
       "'../../data/scanned/GRCh37.p13 hg19/UCSC/3utr.sequences.refseq_id.mirna_fc.explainability_scores_hsa-miR-200b-3p.pkl'"
      ]
     },
     "execution_count": 33,
     "metadata": {},
     "output_type": "execute_result"
    }
   ],
   "source": [
    "from funmirtar.utils.data_collection import convert_signals_json_to_pickle\n",
    "\n",
    "convert_signals_json_to_pickle(\n",
    "    signals_json_file_path = f\"{EXPLAINABILITY_SCORES_DATASET}.json\",\n",
    "    output_file_path = f\"{EXPLAINABILITY_SCORES_DATASET}.pkl\",\n",
    "    mirna_name = MIRNA_NAME,\n",
    "    mirna_seq = MIRNA_SEQ,\n",
    "    column_names = EXPLAINABILITY_COLUMN_NAMES\n",
    ")"
   ]
  },
  {
   "cell_type": "code",
   "execution_count": 35,
   "id": "5a0f2cb4-c643-4656-a81f-9d5fe27a51e0",
   "metadata": {},
   "outputs": [
    {
     "data": {
      "text/plain": [
       "'../../data/preprocessed_for_ml/GRCh37.p13 hg19/UCSC/mirna_fcs.hsa-miR-200b-3p.test.positive_fc_to_zero.signals.csv'"
      ]
     },
     "execution_count": 35,
     "metadata": {},
     "output_type": "execute_result"
    }
   ],
   "source": [
    "from funmirtar.utils.data_collection import merge_fold_change_dataset_with_signals\n",
    "\n",
    "merge_fold_change_dataset_with_signals(\n",
    "    signals_df_path = '{}.pkl'.format(EXPLAINABILITY_SCORES_DATASET),\n",
    "    fold_change_df_path = f'{OUTPUT_FOLDER}{DATASET_NAME}.{MIRNA_NAME}.train.positive_fc_to_zero.csv',\n",
    "    merge_on = MERGE_ON,\n",
    "    mirna_name = MIRNA_NAME,\n",
    "    # output_path_suffix = '.signals',\n",
    "    output_file_path = f'{OUTPUT_FOLDER}{DATASET_NAME}.{MIRNA_NAME}.train.positive_fc_to_zero.signals.csv',\n",
    ")\n",
    "merge_fold_change_dataset_with_signals(\n",
    "    signals_df_path = '{}.pkl'.format(EXPLAINABILITY_SCORES_DATASET),\n",
    "    fold_change_df_path = f'{OUTPUT_FOLDER}{DATASET_NAME}.{MIRNA_NAME}.test.positive_fc_to_zero.csv',\n",
    "    merge_on = MERGE_ON,\n",
    "    mirna_name = MIRNA_NAME,\n",
    "    # output_path_suffix = '.signals',\n",
    "    output_file_path = f'{OUTPUT_FOLDER}{DATASET_NAME}.{MIRNA_NAME}.test.positive_fc_to_zero.signals.csv',\n",
    ")"
   ]
  },
  {
   "cell_type": "code",
   "execution_count": 38,
   "id": "973a0b1a-81b2-4394-b002-b295af5370d3",
   "metadata": {},
   "outputs": [
    {
     "data": {
      "text/plain": [
       "'../../data/preprocessed_for_ml/GRCh37.p13 hg19/UCSC/mirna_fcs.hsa-miR-200b-3p.test.positive_fc_to_zero.signals.conservation.csv'"
      ]
     },
     "execution_count": 38,
     "metadata": {},
     "output_type": "execute_result"
    }
   ],
   "source": [
    "from funmirtar.utils.data_collection import merge_conservation\n",
    "\n",
    "merge_conservation(\n",
    "    conservation_df_path = f'{UTR_DF_MIRNA_FC_CHR_CONSERVATION_PATH}.pkl',\n",
    "    fold_change_df_path = f'{OUTPUT_FOLDER}{DATASET_NAME}.{MIRNA_NAME}.train.positive_fc_to_zero.signals.csv',\n",
    "    merge_on = MERGE_ON,\n",
    "    mirna_name = MIRNA_NAME,\n",
    "    output_path_suffix = '.conservation',\n",
    "    # output_file_path = 'data/{}{}.{}.train.positive_fc_to_zero.signals.pkl'.format(\n",
    "    #     OUTPUT_FOLDER, DATASET_NAME, MIRNA_NAME),\n",
    ")\n",
    "merge_conservation(\n",
    "    conservation_df_path = f'{UTR_DF_MIRNA_FC_CHR_CONSERVATION_PATH}.pkl',\n",
    "    fold_change_df_path = f'{OUTPUT_FOLDER}{DATASET_NAME}.{MIRNA_NAME}.test.positive_fc_to_zero.signals.csv',\n",
    "    merge_on = MERGE_ON,\n",
    "    mirna_name = MIRNA_NAME,\n",
    "    output_path_suffix = '.conservation',\n",
    "#     output_file_path = 'data/{}{}.{}.test.positive_fc_to_zero.signals.pkl'.format(\n",
    "#         OUTPUT_FOLDER, DATASET_NAME, MIRNA_NAME),\n",
    ")"
   ]
  },
  {
   "cell_type": "code",
   "execution_count": 47,
   "id": "880e2981-9986-4a03-ae10-4427a01e462a",
   "metadata": {},
   "outputs": [
    {
     "data": {
      "text/plain": [
       "('../../data/preprocessed_for_ml/GRCh37.p13 hg19/UCSC/mirna_fcs.hsa-miR-200b-3p.train.positive_fc_to_zero.signals.conservation.normalize.csv',\n",
       " '../../data/preprocessed_for_ml/GRCh37.p13 hg19/UCSC/mirna_fcs.hsa-miR-200b-3p.test.positive_fc_to_zero.signals.conservation.normalize.csv')"
      ]
     },
     "execution_count": 47,
     "metadata": {},
     "output_type": "execute_result"
    }
   ],
   "source": [
    "from funmirtar.utils.data_collection import normalize_column_based_on_train_set_NO_LOG, normalize_conservation_based_on_train_set_NO_LOG\n",
    "\n",
    "normalize_column_based_on_train_set_NO_LOG(\n",
    "    input_file_path_train = f'{OUTPUT_FOLDER}{DATASET_NAME}.{MIRNA_NAME}.train.positive_fc_to_zero.signals.conservation.csv',\n",
    "    input_file_path_test = f'{OUTPUT_FOLDER}{DATASET_NAME}.{MIRNA_NAME}.test.positive_fc_to_zero.signals.conservation.csv',\n",
    "    column = 'signal',\n",
    "    output_path_suffix = \".normalize\",\n",
    ")"
   ]
  },
  {
   "cell_type": "code",
   "execution_count": 48,
   "id": "3e99513e-332c-428a-a3a0-6359aadafd11",
   "metadata": {},
   "outputs": [
    {
     "data": {
      "text/plain": [
       "'../../data/preprocessed_for_ml/GRCh37.p13 hg19/UCSC/mirna_fcs.hsa-miR-200b-3p.test.positive_fc_to_zero.signals.conservation.normalize.pad_empty_signal.csv'"
      ]
     },
     "execution_count": 48,
     "metadata": {},
     "output_type": "execute_result"
    }
   ],
   "source": [
    "from funmirtar.utils.data_collection import pad_empty_signal_based_on_conservation_length\n",
    "\n",
    "pad_empty_signal_based_on_conservation_length(\n",
    "    input_file_path = f'{OUTPUT_FOLDER}{DATASET_NAME}.{MIRNA_NAME}.train.positive_fc_to_zero.signals.conservation.normalize.csv',\n",
    "    to_pad_column_name = \"signal\",\n",
    "    pad_based_on_column_name = \"conservation_phylo\",\n",
    "    output_path_suffix = '.pad_empty_signal',\n",
    ")\n",
    "\n",
    "pad_empty_signal_based_on_conservation_length(\n",
    "    input_file_path = f'{OUTPUT_FOLDER}{DATASET_NAME}.{MIRNA_NAME}.test.positive_fc_to_zero.signals.conservation.normalize.csv',\n",
    "    to_pad_column_name = \"signal\",\n",
    "    pad_based_on_column_name = \"conservation_phylo\",\n",
    "    output_path_suffix = '.pad_empty_signal',\n",
    ")"
   ]
  },
  {
   "cell_type": "code",
   "execution_count": 50,
   "id": "954e891b-fd54-4b86-a43e-a76b05b724a0",
   "metadata": {},
   "outputs": [],
   "source": [
    "import matplotlib.pyplot as plt\n",
    "import pandas as pd\n",
    "\n",
    "input_file_path_test = f'{OUTPUT_FOLDER}{DATASET_NAME}.{MIRNA_NAME}.test.positive_fc_to_zero.signals.conservation.normalize.pad_empty_signal.csv'\n",
    "input_file_path_train = f'{OUTPUT_FOLDER}{DATASET_NAME}.{MIRNA_NAME}.train.positive_fc_to_zero.signals.conservation.normalize.pad_empty_signal.csv'\n",
    "\n",
    "# data/3utr/processed/mirna_fcs.hsa-let-7c-5p.test.positive_fc_to_zero.signals.conservation.normalize.pad_empty_signal.pkl\n",
    "\n",
    "df_train = pd.read_pickle(input_file_path_train)\n",
    "df_test = pd.read_pickle(input_file_path_test)"
   ]
  },
  {
   "cell_type": "code",
   "execution_count": 51,
   "id": "b5658513-d3c6-4a31-97fe-1bbdc69f3503",
   "metadata": {},
   "outputs": [
    {
     "data": {
      "text/plain": [
       "(0, 0)"
      ]
     },
     "execution_count": 51,
     "metadata": {},
     "output_type": "execute_result"
    }
   ],
   "source": [
    "df_train['RefSeq ID'].isnull().sum().sum(), df_test['RefSeq ID'].isnull().sum().sum()"
   ]
  },
  {
   "cell_type": "code",
   "execution_count": 52,
   "id": "9aab9b6e-5d9c-4a0f-8764-3a0783eb357b",
   "metadata": {},
   "outputs": [
    {
     "data": {
      "text/plain": [
       "((6122,), (2041,))"
      ]
     },
     "execution_count": 52,
     "metadata": {},
     "output_type": "execute_result"
    }
   ],
   "source": [
    "df_train['RefSeq ID'].shape, df_test['RefSeq ID'].shape"
   ]
  },
  {
   "cell_type": "code",
   "execution_count": 55,
   "id": "e636d841-eaac-4cd0-af08-399787676b2e",
   "metadata": {},
   "outputs": [
    {
     "data": {
      "image/png": "[encoded data removed]",
      "text/plain": [
       "<Figure size 640x480 with 1 Axes>"
      ]
     },
     "metadata": {},
     "output_type": "display_data"
    }
   ],
   "source": [
    "for i in range(df_train.shape[0]):\n",
    "    plt.plot(df_train.head(i+1).signal.values[i])\n",
    "for i in range(df_test.shape[0]):\n",
    "    plt.plot(df_test.head(i+1).signal.values[i])\n",
    "plt.title('Signal at position')\n",
    "plt.savefig(OUTPUT_FOLDER + MIRNA_NAME + '.png', format=\"png\", figsize=(12,6), dpi=100)"
   ]
  },
  {
   "cell_type": "code",
   "execution_count": 56,
   "id": "0f4466de-c3c1-4a0b-9797-da0b1a42d3cc",
   "metadata": {},
   "outputs": [
    {
     "data": {
      "image/png": "[encoded data removed]",
      "text/plain": [
       "<Figure size 500x300 with 1 Axes>"
      ]
     },
     "metadata": {},
     "output_type": "display_data"
    }
   ],
   "source": [
    "from math import log \n",
    "\n",
    "flattened_array = [log(item) if item > 0 else 0 for sublist in df_train.signal.values for item in sublist]\n",
    "# flattened_array = [item for sublist in df_train.signal.values for item in sublist]\n",
    "\n",
    "plt.figure(figsize=(5, 3))\n",
    "plt.hist(flattened_array, bins=50, color='blue', edgecolor='black')\n",
    "plt.title('Distribution of Signal Strengths')\n",
    "plt.grid(True)\n",
    "plt.show()"
   ]
  },
  {
   "cell_type": "code",
   "execution_count": 57,
   "id": "53a5646e-7307-4688-a7e8-65c9caeda650",
   "metadata": {},
   "outputs": [],
   "source": [
    "from sklearn.preprocessing import QuantileTransformer\n",
    "\n",
    "transformer = QuantileTransformer(output_distribution='normal').fit(df_train.signal.explode().values.reshape(-1, 1))"
   ]
  },
  {
   "cell_type": "code",
   "execution_count": 58,
   "id": "1d5cafdd-2f63-4c29-984d-40ad2e68bc2b",
   "metadata": {},
   "outputs": [
    {
     "data": {
      "image/png": "[encoded data removed]",
      "text/plain": [
       "<Figure size 640x480 with 1 Axes>"
      ]
     },
     "metadata": {},
     "output_type": "display_data"
    }
   ],
   "source": [
    "import numpy as np\n",
    "\n",
    "# for i in range(df_train.shape[0]):\n",
    "for i in range(3):\n",
    "    signal = df_train.head(i+1).signal.values[i]\n",
    "    if len(signal) > 0:\n",
    "        plt.plot(transformer.transform(np.reshape(signal, (-1, 1))))\n",
    "# for i in range(df_test.shape[0]):\n",
    "#     signal = df_test.head(i+1).signal.values[i]\n",
    "#     if len(signal) > 0:\n",
    "#         plt.plot(transformer.transform(np.reshape(signal, (-1, 1))))\n"
   ]
  },
  {
   "cell_type": "code",
   "execution_count": 59,
   "id": "5dd6c6e3-65bf-4408-8b7d-8194cce07cfa",
   "metadata": {},
   "outputs": [],
   "source": [
    "all_signals = [transformer.transform(np.reshape(signal, (-1, 1))) if len(signal) > 0 else [] for signal in df_train.signal.values]"
   ]
  },
  {
   "cell_type": "code",
   "execution_count": 60,
   "id": "af5a72af-0fc4-4c82-ad0d-dc4cc333974d",
   "metadata": {},
   "outputs": [],
   "source": [
    "flattened_array = [item[0] for sublist in all_signals for item in sublist]"
   ]
  },
  {
   "cell_type": "code",
   "execution_count": 61,
   "id": "4566c615-b256-4e1b-ab0e-16c45658d83a",
   "metadata": {},
   "outputs": [
    {
     "data": {
      "image/png": "[encoded data removed]",
      "text/plain": [
       "<Figure size 1000x600 with 1 Axes>"
      ]
     },
     "metadata": {},
     "output_type": "display_data"
    }
   ],
   "source": [
    "# Creating a histogram to visualize the distribution of signal strengths\n",
    "plt.figure(figsize=(10, 6))\n",
    "plt.hist(flattened_array, bins=50, color='blue', edgecolor='black')\n",
    "plt.title('Distribution of Signal Strengths')\n",
    "# plt.xlabel('Signal Strength')\n",
    "# plt.ylabel('Frequency')\n",
    "plt.grid(True)\n",
    "plt.show()"
   ]
  },
  {
   "cell_type": "code",
   "execution_count": 62,
   "id": "79bac353-e316-41ca-9b78-f8cdeddaca45",
   "metadata": {},
   "outputs": [],
   "source": [
    "# for i in range(df_train.shape[0]):\n",
    "#     plt.plot(df_train.head(i+1).conservation_phylo.values[i])\n",
    "# # for i in range(df_test.shape[0]):\n",
    "# #     plt.plot(df_test.head(i+1).signal.values[i])\n",
    "# plt.title('Conservation at position')\n",
    "# # plt.savefig('data/' + OUTPUT_FOLDER + MIRNA_NAME + '.png', format=\"png\", figsize=(12,6), dpi=100)"
   ]
  },
  {
   "cell_type": "code",
   "execution_count": null,
   "id": "95f0c2fc-5a95-40b8-aab0-59f0dc509bca",
   "metadata": {},
   "outputs": [],
   "source": []
  },
  {
   "cell_type": "code",
   "execution_count": null,
   "id": "012c3195-ec3b-4428-bf53-dd9fcb8eefd8",
   "metadata": {},
   "outputs": [],
   "source": []
  }
 ],
 "metadata": {
  "kernelspec": {
   "display_name": "Python [conda env:deepExpTorch2]",
   "language": "python",
   "name": "conda-env-deepExpTorch2-py"
  },
  "language_info": {
   "codemirror_mode": {
    "name": "ipython",
    "version": 3
   },
   "file_extension": ".py",
   "mimetype": "text/x-python",
   "name": "python",
   "nbconvert_exporter": "python",
   "pygments_lexer": "ipython3",
   "version": "3.8.17"
  }
 },
 "nbformat": 4,
 "nbformat_minor": 5
}
