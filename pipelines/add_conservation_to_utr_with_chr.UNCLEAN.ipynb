{
 "cells": [
  {
   "cell_type": "code",
   "execution_count": 1,
   "id": "4e102825-8c65-4813-98c0-64982068b600",
   "metadata": {},
   "outputs": [],
   "source": [
    "CONSERVATION_PATH = 'data/conservation/hg19.100way.phyloP100way.bw'\n",
    "# CONSERVATION_PATH = 'data/conservation/hg38.phyloP100way.bw'\n",
    "UTR_DF_MIRNA_FC_CHR_PATH = 'data/3utr/3utr.sequences.refseq_id.mirna_fc.chr.pkl'\n",
    "UTR_DF_MIRNA_FC_CHR_CONSERVATION_PATH = 'data/conservation/3utr.sequences.refseq_id.mirna_fc.chr.conservation.pkl'\n"
   ]
  },
  {
   "cell_type": "code",
   "execution_count": 2,
   "id": "a1d89d5b-c9e8-40bc-a50a-ac14c000bea2",
   "metadata": {},
   "outputs": [],
   "source": [
    "import pandas as pd\n",
    "\n",
    "df = pd.read_pickle(UTR_DF_MIRNA_FC_CHR_PATH)"
   ]
  },
  {
   "cell_type": "code",
   "execution_count": 3,
   "id": "7acd99ac-0a3f-4524-a3e9-bdf67073eb4c",
   "metadata": {},
   "outputs": [],
   "source": [
    "import pyBigWig\n",
    "\n",
    "def get_conservation(bw_file, chrom, ensembl_start, ensembl_end):\n",
    "    # Adjust Ensembl coordinates to UCSC format (0-based, half-open at the end)\n",
    "    ucsc_start = ensembl_start - 1\n",
    "    ucsc_end = ensembl_end  # The end coordinate remains the same\n",
    "\n",
    "    conservation_scores = bw_file.values('chr' + chrom, ucsc_start, ucsc_end)\n",
    "\n",
    "    return conservation_scores"
   ]
  },
  {
   "cell_type": "code",
   "execution_count": 5,
   "id": "4344d550-c04e-44e5-a0f9-c205597e2319",
   "metadata": {},
   "outputs": [],
   "source": [
    "import numpy as np\n",
    "\n",
    "bw_file = pyBigWig.open(CONSERVATION_PATH)\n",
    "\n",
    "\n",
    "df_conservation = []\n",
    "errors = []\n",
    "error_loci = []\n",
    "\n",
    "for row in df.iterrows():\n",
    "    chrom = row[1].chromosome\n",
    "    ensembl_start = row[1].utr3_start  # Ensembl coordinates (1-based, inclusive)\n",
    "    ensembl_end = row[1].utr3_end  # Ensembl coordinates (1-based, inclusive)\n",
    "    strand = row[1].strand\n",
    "    \n",
    "    ensembl_start = [int(x) for x in ensembl_start.split(';')]\n",
    "    ensembl_end = [int(x) for x in ensembl_end.split(';')]\n",
    "    \n",
    "    if len(ensembl_start) > 1:\n",
    "        ensembl_start.sort()\n",
    "        ensembl_end.sort()\n",
    "    \n",
    "    row_conservation = []\n",
    "    for start, end in zip(ensembl_start, ensembl_end):\n",
    "        try:\n",
    "            exon_conservation = get_conservation(bw_file, chrom, start, end)\n",
    "            row_conservation.extend(exon_conservation)\n",
    "        except RuntimeError as er:\n",
    "            errors.append(er)\n",
    "            error_loci.append((start, end, chrom))\n",
    "\n",
    "    df_conservation.append(row_conservation)\n",
    "\n",
    "\n",
    "bw_file.close()\n",
    "df['conservation_phylo'] = df_conservation"
   ]
  },
  {
   "cell_type": "code",
   "execution_count": 8,
   "id": "b8609c73-5427-44c8-a304-b8a450f07084",
   "metadata": {},
   "outputs": [],
   "source": [
    "# bw_file = pyBigWig.open(CONSERVATION_PATH)\n",
    "# # tmp_chr='HSCHR11_1_CTG7'\n",
    "# tmp_chr='chr17'\n",
    "# # print(bw_file.values(tmp_chr, 80169, 81275))\n",
    "# print(bw_file.values(tmp_chr, 82442593, 82442645))\n",
    "# bw_file.close()"
   ]
  },
  {
   "cell_type": "code",
   "execution_count": null,
   "id": "52fcb098-b915-4eb0-9456-504ac292ef63",
   "metadata": {},
   "outputs": [],
   "source": [
    "df.to_pickle(UTR_DF_MIRNA_FC_CHR_CONSERVATION_PATH)"
   ]
  },
  {
   "cell_type": "code",
   "execution_count": null,
   "id": "24f90d5d-4119-4886-9c27-292b339fa0de",
   "metadata": {},
   "outputs": [],
   "source": [
    "df_has_NA = df.conservation_phylo.map(lambda x: pd.isna(sum(x)))\n",
    "df_has_NA, df_has_NA.sum()"
   ]
  },
  {
   "cell_type": "code",
   "execution_count": null,
   "id": "a8ca4a4b-7029-44ab-807d-2964faaa7be6",
   "metadata": {},
   "outputs": [],
   "source": [
    "df[df.apply(lambda row: len(row.sequence) != len(row.conservation_phylo), axis=1)]"
   ]
  }
 ],
 "metadata": {
  "kernelspec": {
   "display_name": "Python [conda env:deepExpTorch2]",
   "language": "python",
   "name": "conda-env-deepExpTorch2-py"
  },
  "language_info": {
   "codemirror_mode": {
    "name": "ipython",
    "version": 3
   },
   "file_extension": ".py",
   "mimetype": "text/x-python",
   "name": "python",
   "nbconvert_exporter": "python",
   "pygments_lexer": "ipython3",
   "version": "3.8.17"
  }
 },
 "nbformat": 4,
 "nbformat_minor": 5
}
