{
 "cells": [
  {
   "cell_type": "code",
   "execution_count": 1,
   "id": "39e24685-678c-43f4-ad4d-5c63572de678",
   "metadata": {},
   "outputs": [],
   "source": [
    "# Modules will be reloaded every time a cell is executed\n",
    "%load_ext autoreload\n",
    "%autoreload 2"
   ]
  },
  {
   "cell_type": "code",
   "execution_count": 2,
   "id": "98bdf818-9377-4360-b8db-1fcada81af48",
   "metadata": {},
   "outputs": [],
   "source": [
    "import numpy as np\n",
    "import pandas as pd\n",
    "import matplotlib.pyplot as plt\n",
    "import seaborn as sns\n",
    "import xgboost as xgb\n",
    "from pathlib import Path\n",
    "from sklearn import utils\n",
    "from sklearn.linear_model import LogisticRegression\n",
    "from sklearn.ensemble import HistGradientBoostingClassifier, GradientBoostingClassifier, RandomForestClassifier \n",
    "from sklearn.metrics import classification_report, accuracy_score\n",
    "# from sklearn.model_selection import RandomizedSearchCV\n",
    "# from sklearn.metrics import accuracy_score\n",
    "\n",
    "from funmirtar.models.seeds import SEED_TYPE_TO_EXTRACTION_FUNCTION\n",
    "from funmirtar.models.constants import SEEDS_TO_COUNT, SEED_COUNT_COLUMNS, GLOBAL_FEATURES, LOCAL_FEATURES, CLASSIFICATION_COLUMNS\n",
    "from funmirtar.utils.plots import plot_prc_with_seeds, plot_feature_importance\n",
    "from funmirtar.utils.file import make_dir_with_parents, extend_path_by_suffix_before_filetype\n"
   ]
  },
  {
   "cell_type": "code",
   "execution_count": 3,
   "id": "69724297-c221-4825-9639-7eb3dc99bae2",
   "metadata": {},
   "outputs": [],
   "source": [
    "utils.check_random_state(3)\n",
    "np.random.seed(1)"
   ]
  },
  {
   "cell_type": "code",
   "execution_count": 4,
   "id": "54349061-c0da-42a8-b746-dd2eb1d494ec",
   "metadata": {},
   "outputs": [],
   "source": [
    "# RUN_NAME = 'seeds.signal.local_features.model_optimisation'\n",
    "RUN_NAME = 'seeds.signal.local_features'\n",
    "# RUN_NAME = 'seeds.signal'\n",
    "# RUN_NAME = 'seeds'"
   ]
  },
  {
   "cell_type": "code",
   "execution_count": 5,
   "id": "ce71fb74-4326-4048-a475-e938c4ec265a",
   "metadata": {},
   "outputs": [],
   "source": [
    "MODEL_LIST = [\n",
    "    f'logistic_regression.{RUN_NAME}',\n",
    "    f'gradient_boosting_classifier.{RUN_NAME}',\n",
    "    f'xgb.{RUN_NAME}',\n",
    "    f'random_forest.{RUN_NAME}',    \n",
    "]\n",
    "\n",
    "# MODEL_LIST = [\n",
    "#     f'random_forest.default.{RUN_NAME}',    \n",
    "#     f'random_forest.optimised.{RUN_NAME}',    \n",
    "# ]\n",
    "\n",
    "OUT_COLUMNS = []\n",
    "OUT_COLUMNS.extend(CLASSIFICATION_COLUMNS)\n",
    "OUT_COLUMNS.extend(MODEL_LIST)"
   ]
  },
  {
   "cell_type": "code",
   "execution_count": 6,
   "id": "e10625ed-fabd-49c9-bcde-73d383139814",
   "metadata": {},
   "outputs": [],
   "source": [
    "COLUMNS_FOR_PRED = []\n",
    "COLUMNS_FOR_PRED.extend(GLOBAL_FEATURES)\n",
    "COLUMNS_FOR_PRED.extend(LOCAL_FEATURES)\n",
    "COLUMNS_FOR_PRED.extend(SEEDS_TO_COUNT)\n",
    "COLUMNS_FOR_PRED.extend(SEED_COUNT_COLUMNS)"
   ]
  },
  {
   "cell_type": "code",
   "execution_count": 7,
   "id": "0a8d78d6-2da5-4432-b352-a213a35fc813",
   "metadata": {},
   "outputs": [
    {
     "data": {
      "text/plain": [
       "(PosixPath('../data/preprocessed_for_ml/3utr.sequences.refseq_id.mirna_fc.seed_cls.sequence.signal.conservation.seed_cls.ts_preds.local_features.train.pkl'),\n",
       " PosixPath('../data/preprocessed_for_ml/3utr.sequences.refseq_id.mirna_fc.seed_cls.sequence.signal.conservation.seed_cls.ts_preds.local_features.test.pkl'))"
      ]
     },
     "execution_count": 7,
     "metadata": {},
     "output_type": "execute_result"
    }
   ],
   "source": [
    "IN_FOLDER_PATH = \"../data/preprocessed_for_ml/\"\n",
    "\n",
    "# FILE_PATH = '3utr.sequences.refseq_id.mirna_fc.seed_cls.sequence.signal.conservation.seed_cls.ts_preds'\n",
    "FILE_PATH = '3utr.sequences.refseq_id.mirna_fc.seed_cls.sequence.signal.conservation.seed_cls.ts_preds.local_features'\n",
    "\n",
    "IN_FEATURES_PATH_TRAIN = Path(\n",
    "    IN_FOLDER_PATH + FILE_PATH + '.train.pkl'\n",
    ")\n",
    "IN_FEATURES_PATH_TEST = Path(\n",
    "    IN_FOLDER_PATH + FILE_PATH + '.test.pkl'\n",
    ")\n",
    "\n",
    "IN_FEATURES_PATH_TRAIN, IN_FEATURES_PATH_TEST"
   ]
  },
  {
   "cell_type": "code",
   "execution_count": 8,
   "id": "b338f83e-f6d1-4dbc-9f11-dad90f7a276b",
   "metadata": {},
   "outputs": [
    {
     "data": {
      "text/plain": [
       "(PosixPath('../data/predictions/seeds.signal.local_features/3utr.sequences.refseq_id.mirna_fc.seed_cls.sequence.signal.conservation.seed_cls.ts_preds.local_features.class_preds.train.pkl'),\n",
       " PosixPath('../data/predictions/seeds.signal.local_features/3utr.sequences.refseq_id.mirna_fc.seed_cls.sequence.signal.conservation.seed_cls.ts_preds.local_features.class_preds.test.pkl'))"
      ]
     },
     "execution_count": 8,
     "metadata": {},
     "output_type": "execute_result"
    }
   ],
   "source": [
    "OUT_FOLDER_PATH = f\"../data/predictions/{RUN_NAME}/\"\n",
    "\n",
    "PREDICTION_TYPE = '.class_preds'\n",
    "\n",
    "OUT_PATH_TRAIN = Path(\n",
    "    OUT_FOLDER_PATH + FILE_PATH + PREDICTION_TYPE + '.train.pkl'\n",
    ")\n",
    "OUT_PATH_TEST = Path(\n",
    "    OUT_FOLDER_PATH + FILE_PATH + PREDICTION_TYPE + '.test.pkl'\n",
    ")\n",
    "OUT_PATH_TRAIN, OUT_PATH_TEST"
   ]
  },
  {
   "cell_type": "code",
   "execution_count": 9,
   "id": "26753cc2-3fcc-4e72-9938-dad6e43804af",
   "metadata": {},
   "outputs": [
    {
     "data": {
      "text/plain": [
       "PosixPath('../data/predictions/seeds.signal.local_features')"
      ]
     },
     "execution_count": 9,
     "metadata": {},
     "output_type": "execute_result"
    }
   ],
   "source": [
    "make_dir_with_parents(OUT_FOLDER_PATH)"
   ]
  },
  {
   "cell_type": "code",
   "execution_count": 10,
   "id": "745d6983-f1cc-45af-8fed-be3880cc93f5",
   "metadata": {},
   "outputs": [],
   "source": [
    "data_train = pd.read_pickle(IN_FEATURES_PATH_TRAIN)\n",
    "data_test = pd.read_pickle(IN_FEATURES_PATH_TEST)"
   ]
  },
  {
   "cell_type": "code",
   "execution_count": null,
   "id": "d40af549-dd05-4005-bf32-cbdc766673bc",
   "metadata": {},
   "outputs": [],
   "source": [
    "# HOTFIX until we regenerate new data file with corrected naming\n",
    "data_train.rename(columns={'kmer6_mismatch_count':'kmer6_bulge_or_mismatch_count'}, inplace=True)\n",
    "data_test.rename(columns={'kmer6_mismatch_count':'kmer6_bulge_or_mismatch_count'}, inplace=True)"
   ]
  },
  {
   "cell_type": "code",
   "execution_count": null,
   "id": "9011b825-4f4c-4b1c-a2b6-2ce07a1c73af",
   "metadata": {},
   "outputs": [],
   "source": [
    "x_train = data_train[COLUMNS_FOR_PRED].fillna(0,inplace=False)\n",
    "x_test = data_test[COLUMNS_FOR_PRED].fillna(0,inplace=False)"
   ]
  },
  {
   "cell_type": "code",
   "execution_count": null,
   "id": "b1cdddcd-d5de-4c32-9b55-1bd6813cfff8",
   "metadata": {},
   "outputs": [],
   "source": [
    "y_train = data_train.label\n",
    "y_test = data_test.label"
   ]
  },
  {
   "cell_type": "markdown",
   "id": "66a48191-798e-4f0f-b887-bfc050a2b0c1",
   "metadata": {},
   "source": [
    "### Train models"
   ]
  },
  {
   "cell_type": "markdown",
   "id": "c95472ac-aeeb-4f2e-9e61-e0552493b402",
   "metadata": {},
   "source": [
    "#### Logistic regression"
   ]
  },
  {
   "cell_type": "code",
   "execution_count": null,
   "id": "9bb9c8d3-afd2-42f7-8af5-1a63a6b4d811",
   "metadata": {},
   "outputs": [],
   "source": [
    "model_lr = LogisticRegression(max_iter=10000)\n",
    "model_lr.fit(x_train, y_train)\n",
    "\n",
    "y_pred_lr_train = model_lr.predict_proba(x_train)\n",
    "y_pred_lr_test = model_lr.predict_proba(x_test)\n",
    "\n",
    "data_train[f'logistic_regression.{RUN_NAME}']=y_pred_lr_train[:,1]\n",
    "data_test[f'logistic_regression.{RUN_NAME}']=y_pred_lr_test[:,1]"
   ]
  },
  {
   "cell_type": "markdown",
   "id": "31c1f5f9-547c-4ba3-8edc-110d3f1c8d79",
   "metadata": {},
   "source": [
    "#### (Histogram) Gradient Boosting Classifier"
   ]
  },
  {
   "cell_type": "code",
   "execution_count": null,
   "id": "f058fc5c-354b-468e-a76e-53b6cd01bdd8",
   "metadata": {},
   "outputs": [],
   "source": [
    "model_grad = GradientBoostingClassifier()\n",
    "model_grad.fit(x_train, y_train)\n",
    "\n",
    "y_pred_grad_train = model_grad.predict_proba(x_train)\n",
    "y_pred_grad_test = model_grad.predict_proba(x_test)\n",
    "\n",
    "data_train[f'gradient_boosting_classifier.{RUN_NAME}'] = y_pred_grad_train[:,1]\n",
    "data_test[f'gradient_boosting_classifier.{RUN_NAME}'] = y_pred_grad_test[:,1]"
   ]
  },
  {
   "cell_type": "code",
   "execution_count": null,
   "id": "25cf3f65-5a42-4eb4-8611-32e95a836080",
   "metadata": {},
   "outputs": [],
   "source": [
    "xgb_classifier = xgb.XGBClassifier(use_label_encoder=False, eval_metric='logloss', random_state=42)\n",
    "xgb_classifier.fit(x_train, y_train)\n",
    "\n",
    "# Make predictions with XGBOOST\n",
    "xgb_y_pred_class = xgb_classifier.predict(x_test)\n",
    "xgb_y_pred_test = xgb_classifier.predict_proba(x_test)\n",
    "\n",
    "xgb_y_pred_train = xgb_classifier.predict_proba(x_train)\n",
    "\n",
    "# Evaluate the XGBOOST classifier\n",
    "xgb_accuracy = accuracy_score(y_test, xgb_y_pred_class)\n",
    "xgb_report = classification_report(y_test, xgb_y_pred_class)\n",
    "\n",
    "print(f'Accuracy (XGBoost): {xgb_accuracy}')\n",
    "print('Classification Report (XGBoost):')\n",
    "print(xgb_report)\n",
    "\n",
    "data_test[f'xgb.{RUN_NAME}'] = xgb_y_pred_test[:,1]\n",
    "data_train[f'xgb.{RUN_NAME}'] = xgb_y_pred_train[:,1]"
   ]
  },
  {
   "cell_type": "code",
   "execution_count": null,
   "id": "020ce23b-c6d7-4c70-94e8-d4b0ba1530e1",
   "metadata": {},
   "outputs": [],
   "source": [
    "RUN_NAME# best 250, 20, 20, 10, sqrt\n",
    "# 250, 20, 100, 40, sqrt\n",
    "# 100, None, 200, 40, 0.5, \n",
    "rf_classifier = RandomForestClassifier(\n",
    "    n_estimators=250, # 100, 150, 200, 250\n",
    "    max_depth=20, # None, 10, 20\n",
    "    min_samples_split=100,  # 2, 5, 10, 20, 100, 150\n",
    "    min_samples_leaf=40, # 1, 2, 4, 6, 10, 40, 60\n",
    "    max_features='sqrt', # 'auto', 'sqrt', 'log2', float \n",
    "    random_state=42,\n",
    ")\n",
    "rf_classifier.fit(x_train, y_train)\n",
    "\n",
    "# Make predictions\n",
    "rf_y_pred_class = rf_classifier.predict(x_test)\n",
    "rf_y_pred = rf_classifier.predict_proba(x_test)\n",
    "\n",
    "rf_y_pred_train = rf_classifier.predict_proba(x_train)\n",
    "\n",
    "# Evaluate the classifier\n",
    "rf_accuracy = accuracy_score(y_test, rf_y_pred_class)\n",
    "rf_report = classification_report(y_test, rf_y_pred_class)\n",
    "\n",
    "print(f'Accuracy (Random Forest): {rf_accuracy}')\n",
    "print('Classification Report (Random Forest):')\n",
    "print(rf_report)\n",
    "\n",
    "data_test[f'random_forest.{RUN_NAME}'] = rf_y_pred[:,1]\n",
    "data_train[f'random_forest.{RUN_NAME}'] = rf_y_pred_train[:,1]"
   ]
  },
  {
   "cell_type": "code",
   "execution_count": null,
   "id": "6c5bd45e-af30-452e-b67d-1e7bf19a8826",
   "metadata": {},
   "outputs": [],
   "source": [
    "# # Define the parameter grid for hyperparameter tuning\n",
    "# # Best Parameters: {'n_estimators': 100, 'min_samples_split': 200, 'min_samples_leaf': 40, 'max_features': 0.5, 'max_depth': None}\n",
    "# param_dist = {\n",
    "#     'n_estimators': [100, 175, 250],\n",
    "#     'max_depth': [None, 10, 20],\n",
    "#     'min_samples_split': [100, 200],\n",
    "#     'min_samples_leaf': [40, 80],\n",
    "#     'max_features': ['sqrt', 'log2', 0.5, None]\n",
    "# }\n",
    "\n",
    "# # Initialize a RandomForestClassifier\n",
    "# rf_classifier = RandomForestClassifier(random_state=42)\n",
    "\n",
    "# # Use RandomizedSearchCV to find the best hyperparameters\n",
    "# # random_search = HalvingRandomSearchCV(...)\n",
    "# random_search = RandomizedSearchCV(estimator=rf_classifier, param_distributions=param_dist,\n",
    "#                                    n_iter=25, cv=3, n_jobs=-1, random_state=42, verbose=2)\n",
    "# random_search.fit(x_seeds_signal_train, y_train)\n",
    "\n",
    "# # Get the best model\n",
    "# best_rf_classifier = random_search.best_estimator_\n",
    "\n",
    "# # Fit the best model\n",
    "# best_rf_classifier.fit(x_seeds_signal_train, y_train)\n",
    "\n",
    "# # Make predictions\n",
    "# rf_y_pred_class = best_rf_classifier.predict(x_seeds_signal_test)\n",
    "# rf_y_pred = best_rf_classifier.predict_proba(x_seeds_signal_test)\n",
    "\n",
    "# rf_y_pred_train = best_rf_classifier.predict_proba(x_seeds_signal_train)\n",
    "\n",
    "# # Evaluate the classifier\n",
    "# rf_accuracy = accuracy_score(y_test, rf_y_pred_class)\n",
    "# rf_report = classification_report(y_test, rf_y_pred_class)\n",
    "\n",
    "# print(f'Best Parameters: {random_search.best_params_}')\n",
    "# print(f'Accuracy (Random Forest): {rf_accuracy}')\n",
    "# print('Classification Report (Random Forest):')\n",
    "# print(rf_report)\n",
    "\n",
    "# data_test[f'random_forest{RUN_NAME}'] = rf_y_pred[:, 1]\n",
    "# data_train[f'random_forest{RUN_NAME}'] = rf_y_pred_train[:, 1]\n"
   ]
  },
  {
   "cell_type": "code",
   "execution_count": null,
   "id": "2b2146e5-273d-404f-8bdf-93fe900ef70c",
   "metadata": {},
   "outputs": [],
   "source": [
    "feature_importances = rf_classifier.feature_importances_\n",
    "feature_names = x_train.columns\n",
    "plot_feature_importance(feature_names, feature_importances, 40, OUT_FOLDER_PATH + 'features')"
   ]
  },
  {
   "cell_type": "code",
   "execution_count": null,
   "id": "caf87f13-416b-4acd-85c4-ec8c2d5c66ff",
   "metadata": {},
   "outputs": [],
   "source": [
    "data_train[OUT_COLUMNS].to_pickle(OUT_PATH_TRAIN)\n",
    "data_test[OUT_COLUMNS].to_pickle(OUT_PATH_TEST)"
   ]
  },
  {
   "cell_type": "code",
   "execution_count": null,
   "id": "052b63e9-2ec4-46a7-877f-84bc92c09dde",
   "metadata": {},
   "outputs": [],
   "source": []
  }
 ],
 "metadata": {
  "kernelspec": {
   "display_name": "Python [conda env:deepExpTorch2]",
   "language": "python",
   "name": "conda-env-deepExpTorch2-py"
  },
  "language_info": {
   "codemirror_mode": {
    "name": "ipython",
    "version": 3
   },
   "file_extension": ".py",
   "mimetype": "text/x-python",
   "name": "python",
   "nbconvert_exporter": "python",
   "pygments_lexer": "ipython3",
   "version": "3.8.17"
  }
 },
 "nbformat": 4,
 "nbformat_minor": 5
}
