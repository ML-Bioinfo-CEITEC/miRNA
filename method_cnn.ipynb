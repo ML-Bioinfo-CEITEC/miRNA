{
 "cells": [
  {
   "cell_type": "code",
   "execution_count": 1,
   "id": "cba8e302-e8b2-42eb-886e-738d21d37b08",
   "metadata": {},
   "outputs": [],
   "source": [
    "# Modules will be reloaded every time a cell is executed\n",
    "%load_ext autoreload\n",
    "%autoreload 2"
   ]
  },
  {
   "cell_type": "markdown",
   "id": "efd4d37e-a980-4214-8739-f2f624eaf5b6",
   "metadata": {},
   "source": [
    "### Model training"
   ]
  },
  {
   "cell_type": "code",
   "execution_count": 4,
   "id": "cddce6ff-4dad-4924-8f79-b5bd6e3d1778",
   "metadata": {},
   "outputs": [],
   "source": [
    "EXPERIMENT_NAME = 'cnn_att'\n",
    "DATASET_NAME = 'mirna_fcs'\n",
    "MIRNA_NAME = 'hsa-miR-106b-5p'\n",
    "\n",
    "RANDOM_STATE = 42\n",
    "BATCH_SIZE = 32"
   ]
  },
  {
   "cell_type": "code",
   "execution_count": 6,
   "id": "339a19ba-dc1a-4266-a506-b0b0a1e33b73",
   "metadata": {},
   "outputs": [
    {
     "data": {
      "text/plain": [
       "'data/mirna_fcs.csv'"
      ]
     },
     "execution_count": 6,
     "metadata": {},
     "output_type": "execute_result"
    }
   ],
   "source": [
    "from data_manipulation import download_data_from_github_if_not_existing\n",
    "\n",
    "download_data_from_github_if_not_existing(\n",
    "    url = \"https://raw.githubusercontent.com/ML-Bioinfo-CEITEC/miRNA/main/modules/evaluation/mirna_fcs.csv\",\n",
    "    output_file_path = 'data/{}.csv'.format(DATASET_NAME),\n",
    ")"
   ]
  },
  {
   "cell_type": "code",
   "execution_count": 7,
   "id": "899c81f2-5050-427c-a8f0-715b939d1ede",
   "metadata": {},
   "outputs": [
    {
     "name": "stderr",
     "output_type": "stream",
     "text": [
      "CometLogger will be initialized in online mode\n"
     ]
    }
   ],
   "source": [
    "from pytorch_lightning.loggers import CometLogger\n",
    "\n",
    "comet_logger = CometLogger(\n",
    "    api_key=\"EpKIINrla6U4B4LJhd9Sv4i0b\",\n",
    "    project_name=\"mirna\",\n",
    ")"
   ]
  },
  {
   "cell_type": "code",
   "execution_count": 9,
   "id": "d5f577cd-fbbf-4ccc-af52-73ca3852b55e",
   "metadata": {},
   "outputs": [],
   "source": [
    "import pandas as pd\n",
    "\n",
    "input_dataset_file_path_train = 'data/{}.{}.train.positive_fc_to_zero.signals.compressed_zeros.remove_genes_without_signal.zero_signal_to_negative.normalize.pkl'.format(DATASET_NAME, MIRNA_NAME)\n",
    "df_train = pd.read_pickle(input_dataset_file_path_train)\n",
    "\n",
    "input_dataset_file_path_test = 'data/{}.{}.test.positive_fc_to_zero.signals.compressed_zeros.predict_genes_without_signal.zero_signal_to_negative.normalize.fill_empty_signal.pkl'.format(DATASET_NAME, MIRNA_NAME)\n",
    "df_test = pd.read_pickle(input_dataset_file_path_test)"
   ]
  },
  {
   "cell_type": "code",
   "execution_count": 10,
   "id": "83e19795-7063-4304-b39f-03f6d8d3303e",
   "metadata": {},
   "outputs": [],
   "source": [
    "def pad_2d_array_to_longest_subarray_length(arr, pad_value=0):\n",
    "    # Find the maximum length of sublists\n",
    "    max_len = max(len(sublist) for sublist in arr)\n",
    "    \n",
    "    # Pad the sublists to max length\n",
    "    padded_arr = [sublist + [pad_value] * (max_len - len(sublist)) for sublist in arr]\n",
    "    \n",
    "    return padded_arr"
   ]
  },
  {
   "cell_type": "code",
   "execution_count": 11,
   "id": "781e56d5-d2a1-47e9-b77e-1e8ad15757a6",
   "metadata": {},
   "outputs": [],
   "source": [
    "df_train['signal'] = pad_2d_array_to_longest_subarray_length(df_train['signal'])\n",
    "df_test['signal'] = pad_2d_array_to_longest_subarray_length(df_test['signal'])"
   ]
  },
  {
   "cell_type": "code",
   "execution_count": 12,
   "id": "dc30edec-a8d7-4b87-9385-e9021c9dd350",
   "metadata": {},
   "outputs": [],
   "source": [
    "from sklearn.model_selection import train_test_split\n",
    "\n",
    "#split validation set\n",
    "df_train, df_val = train_test_split(\n",
    "    df_train, \n",
    "    test_size = 0.1, \n",
    "    random_state = RANDOM_STATE,\n",
    "    shuffle=True\n",
    ")"
   ]
  },
  {
   "cell_type": "code",
   "execution_count": 13,
   "id": "59e339b8-b886-40f6-a51b-dcfaeb42913c",
   "metadata": {},
   "outputs": [
    {
     "name": "stdout",
     "output_type": "stream",
     "text": [
      "3582 2023 399\n"
     ]
    }
   ],
   "source": [
    "print(\n",
    "    df_train['gene_symbol'].size, \n",
    "    df_test['gene_symbol'].size,\n",
    "    df_val['gene_symbol'].size,\n",
    ")"
   ]
  },
  {
   "cell_type": "code",
   "execution_count": 14,
   "id": "d1cc7b05-a771-4ac9-bf9b-8156fe93db23",
   "metadata": {},
   "outputs": [],
   "source": [
    "from dataset import get_train_dataloader, get_val_dataloader, get_test_dataloader\n",
    "import torch\n",
    "\n",
    "train_loader = get_train_dataloader([torch.tensor(x) for x in df_train['signal']], df_train['fold_change'].values, BATCH_SIZE)\n",
    "val_loader = get_val_dataloader([torch.tensor(x) for x in df_val['signal']], df_val['fold_change'].values, BATCH_SIZE)\n",
    "test_loader = get_test_dataloader([torch.tensor(x) for x in df_test['signal']], df_test['fold_change'].values, BATCH_SIZE)"
   ]
  },
  {
   "cell_type": "code",
   "execution_count": 15,
   "id": "44132c55-e19c-4bfd-b647-95958ba7f9fa",
   "metadata": {},
   "outputs": [
    {
     "name": "stderr",
     "output_type": "stream",
     "text": [
      "GPU available: False, used: False\n",
      "TPU available: False, using: 0 TPU cores\n",
      "IPU available: False, using: 0 IPUs\n",
      "HPU available: False, using: 0 HPUs\n",
      "\n",
      "  | Name         | Type              | Params\n",
      "---------------------------------------------------\n",
      "0 | architecture | Sequential        | 13.0 K\n",
      "1 | ce           | MSELoss           | 0     \n",
      "2 | mae          | MeanAbsoluteError | 0     \n",
      "3 | mse          | MeanSquaredError  | 0     \n",
      "4 | r2           | R2Score           | 0     \n",
      "---------------------------------------------------\n",
      "13.0 K    Trainable params\n",
      "0         Non-trainable params\n",
      "13.0 K    Total params\n",
      "0.052     Total estimated model params size (MB)\n",
      "\u001b[1;38;5;214mCOMET WARNING:\u001b[0m To get all data logged automatically, import comet_ml before the following modules: torch, sklearn.\n",
      "\u001b[1;38;5;214mCOMET WARNING:\u001b[0m As you are running in a Jupyter environment, you will need to call `experiment.end()` when finished to ensure all metrics and code are logged before exiting.\n",
      "\u001b[1;38;5;214mCOMET WARNING:\u001b[0m You are trying to log string value as a metric. This is not recommended.\n",
      "\u001b[1;38;5;39mCOMET INFO:\u001b[0m Experiment is live on comet.com https://www.comet.com/davidcechak/mirna/035f67232d7240feb2152c3569f28cba\n",
      "\n",
      "`Trainer.fit` stopped: `max_epochs=50` reached.\n",
      "\u001b[1;38;5;39mCOMET INFO:\u001b[0m ---------------------------------------------------------------------------------------\n",
      "\u001b[1;38;5;39mCOMET INFO:\u001b[0m Comet.ml Experiment Summary\n",
      "\u001b[1;38;5;39mCOMET INFO:\u001b[0m ---------------------------------------------------------------------------------------\n",
      "\u001b[1;38;5;39mCOMET INFO:\u001b[0m   Data:\n",
      "\u001b[1;38;5;39mCOMET INFO:\u001b[0m     display_summary_level : 1\n",
      "\u001b[1;38;5;39mCOMET INFO:\u001b[0m     url                   : https://www.comet.com/davidcechak/mirna/035f67232d7240feb2152c3569f28cba\n",
      "\u001b[1;38;5;39mCOMET INFO:\u001b[0m   Metrics [count] (min, max):\n",
      "\u001b[1;38;5;39mCOMET INFO:\u001b[0m     train mae [50]       : (0.07263199239969254, 0.0779816284775734)\n",
      "\u001b[1;38;5;39mCOMET INFO:\u001b[0m     train mse [50]       : (0.011783706024289131, 0.013490846380591393)\n",
      "\u001b[1;38;5;39mCOMET INFO:\u001b[0m     train r2 [50]        : (-0.14116622507572174, 0.00854385644197464)\n",
      "\u001b[1;38;5;39mCOMET INFO:\u001b[0m     train rmse [50]      : (0.10436412692070007, 0.11125556379556656)\n",
      "\u001b[1;38;5;39mCOMET INFO:\u001b[0m     train_acc_cum [112]  : (0.0018956807907670736, 0.050682589411735535)\n",
      "\u001b[1;38;5;39mCOMET INFO:\u001b[0m     train_loss [50]      : (0.011783706024289131, 0.013490846380591393)\n",
      "\u001b[1;38;5;39mCOMET INFO:\u001b[0m     train_loss_cum [112] : (0.0018956807907670736, 0.050682589411735535)\n",
      "\u001b[1;38;5;39mCOMET INFO:\u001b[0m     valid mae [50]       : (0.07492481917142868, 0.10548722743988037)\n",
      "\u001b[1;38;5;39mCOMET INFO:\u001b[0m     valid mse [50]       : (0.015821848064661026, 0.018327591940760612)\n",
      "\u001b[1;38;5;39mCOMET INFO:\u001b[0m     valid r2 [50]        : (-0.5766416788101196, -0.07298949360847473)\n",
      "\u001b[1;38;5;39mCOMET INFO:\u001b[0m     valid rmse [50]      : (0.11951383203268051, 0.12839114665985107)\n",
      "\u001b[1;38;5;39mCOMET INFO:\u001b[0m     valid_loss [50]      : (0.015821848064661026, 0.018327591940760612)\n",
      "\u001b[1;38;5;39mCOMET INFO:\u001b[0m   Others:\n",
      "\u001b[1;38;5;39mCOMET INFO:\u001b[0m     Created from : pytorch-lightning\n",
      "\u001b[1;38;5;39mCOMET INFO:\u001b[0m   Uploads:\n",
      "\u001b[1;38;5;39mCOMET INFO:\u001b[0m     conda-environment-definition : 1\n",
      "\u001b[1;38;5;39mCOMET INFO:\u001b[0m     conda-info                   : 1\n",
      "\u001b[1;38;5;39mCOMET INFO:\u001b[0m     conda-specification          : 1\n",
      "\u001b[1;38;5;39mCOMET INFO:\u001b[0m     environment details          : 1\n",
      "\u001b[1;38;5;39mCOMET INFO:\u001b[0m     filename                     : 1\n",
      "\u001b[1;38;5;39mCOMET INFO:\u001b[0m     git metadata                 : 1\n",
      "\u001b[1;38;5;39mCOMET INFO:\u001b[0m     git-patch (uncompressed)     : 1 (66.11 KB)\n",
      "\u001b[1;38;5;39mCOMET INFO:\u001b[0m     installed packages           : 1\n",
      "\u001b[1;38;5;39mCOMET INFO:\u001b[0m     notebook                     : 1\n",
      "\u001b[1;38;5;39mCOMET INFO:\u001b[0m     os packages                  : 1\n",
      "\u001b[1;38;5;39mCOMET INFO:\u001b[0m     source_code                  : 1\n",
      "\u001b[1;38;5;39mCOMET INFO:\u001b[0m \n",
      "\u001b[1;38;5;214mCOMET WARNING:\u001b[0m To get all data logged automatically, import comet_ml before the following modules: torch, sklearn.\n",
      "\u001b[1;38;5;39mCOMET INFO:\u001b[0m Please wait for metadata to finish uploading (timeout is 3600 seconds)\n",
      "\u001b[1;38;5;39mCOMET INFO:\u001b[0m Uploading 1 metrics, params and output messages\n"
     ]
    }
   ],
   "source": [
    "from model import Small_CNN\n",
    "\n",
    "from pytorch_lightning import Trainer\n",
    "from IPython.utils import io\n",
    "\n",
    "\n",
    "model = Small_CNN(\n",
    "    pooling='att',\n",
    "    # pooling='max',\n",
    "    # pooling='rnn',\n",
    "    lr=1e-3,\n",
    "    warmup_steps=1,\n",
    "    wd=0.01,\n",
    "    logging_steps=1,\n",
    "    pos_weight=1.0,\n",
    "    num_cnn_layers=4,\n",
    ")\n",
    "# trainer = Trainer(max_epochs=1, gpus=1)  # Use GPU if available\n",
    "trainer = Trainer(logger=comet_logger, max_epochs=20)  \n",
    "\n",
    "# capture_output to have a cleaner notebook\n",
    "# you can follow the training at the  https://www.comet.com/davidcechak/mirna/  see log of this cell\n",
    "with io.capture_output() as captured:\n",
    "    trainer.fit(model, train_loader, val_loader)\n"
   ]
  },
  {
   "cell_type": "markdown",
   "id": "d46de63e-785a-4ac3-a6ee-88b14199f63c",
   "metadata": {},
   "source": [
    "### Model prediction"
   ]
  },
  {
   "cell_type": "code",
   "execution_count": 16,
   "id": "70489d43-858b-4f7a-82d3-12ce71c5ab55",
   "metadata": {},
   "outputs": [],
   "source": [
    "from dataset import predict\n",
    "\n",
    "gene_to_predictions, predictions = predict(model, [torch.tensor(x) for x in df_test['signal']], df_test['gene_symbol'].values)"
   ]
  },
  {
   "cell_type": "code",
   "execution_count": 17,
   "id": "90a58199-699c-4f52-9e3f-adf46d7885db",
   "metadata": {},
   "outputs": [
    {
     "data": {
      "text/plain": [
       "'07-11-23_23-42.cnn_att'"
      ]
     },
     "execution_count": 17,
     "metadata": {},
     "output_type": "execute_result"
    }
   ],
   "source": [
    "from utils import get_experiment_time_id\n",
    "\n",
    "experiment_id = get_experiment_time_id(sufix=EXPERIMENT_NAME)\n",
    "experiment_id"
   ]
  },
  {
   "cell_type": "code",
   "execution_count": 18,
   "id": "17f2c634-39da-40e3-ac74-7404e77a339b",
   "metadata": {},
   "outputs": [],
   "source": [
    "from data_manipulation import add_predictions_to_test_dataframe\n",
    "\n",
    "method_predictions, results_file_path = add_predictions_to_test_dataframe(\n",
    "    df_test,\n",
    "    gene_to_predictions,\n",
    "    output_file_path = 'results/{}.{}.test.positive_fc_to_zero.signals.compressed_zeros.predict_genes_without_signal.zero_signal_to_negative.normalize.fill_empty_signal.{}.pkl'.format(\n",
    "        DATASET_NAME,\n",
    "        MIRNA_NAME,\n",
    "        experiment_id,\n",
    "    )\n",
    ")"
   ]
  },
  {
   "cell_type": "code",
   "execution_count": 19,
   "id": "2541d768-da9c-4b5e-9d32-a51c4a68f050",
   "metadata": {},
   "outputs": [
    {
     "data": {
      "text/html": [
       "<div>\n",
       "<style scoped>\n",
       "    .dataframe tbody tr th:only-of-type {\n",
       "        vertical-align: middle;\n",
       "    }\n",
       "\n",
       "    .dataframe tbody tr th {\n",
       "        vertical-align: top;\n",
       "    }\n",
       "\n",
       "    .dataframe thead th {\n",
       "        text-align: right;\n",
       "    }\n",
       "</style>\n",
       "<table border=\"1\" class=\"dataframe\">\n",
       "  <thead>\n",
       "    <tr style=\"text-align: right;\">\n",
       "      <th></th>\n",
       "      <th>fold_change</th>\n",
       "      <th>prediction</th>\n",
       "    </tr>\n",
       "  </thead>\n",
       "  <tbody>\n",
       "    <tr>\n",
       "      <th>fold_change</th>\n",
       "      <td>1.000000</td>\n",
       "      <td>0.060423</td>\n",
       "    </tr>\n",
       "    <tr>\n",
       "      <th>prediction</th>\n",
       "      <td>0.060423</td>\n",
       "      <td>1.000000</td>\n",
       "    </tr>\n",
       "  </tbody>\n",
       "</table>\n",
       "</div>"
      ],
      "text/plain": [
       "             fold_change  prediction\n",
       "fold_change     1.000000    0.060423\n",
       "prediction      0.060423    1.000000"
      ]
     },
     "execution_count": 19,
     "metadata": {},
     "output_type": "execute_result"
    }
   ],
   "source": [
    "method_predictions[['fold_change', 'prediction']].corr()"
   ]
  },
  {
   "cell_type": "code",
   "execution_count": 20,
   "id": "fab4ba1f-5d6e-4407-9918-2445203c85e2",
   "metadata": {},
   "outputs": [
    {
     "data": {
      "text/plain": [
       "<matplotlib.axes._subplots.AxesSubplot at 0x7fc2d757bb20>"
      ]
     },
     "execution_count": 20,
     "metadata": {},
     "output_type": "execute_result"
    },
    {
     "data": {
      "image/png": "[encoded data removed]",
      "text/plain": [
       "<Figure size 640x480 with 1 Axes>"
      ]
     },
     "metadata": {},
     "output_type": "display_data"
    }
   ],
   "source": [
    "import seaborn as sns\n",
    "\n",
    "sns.regplot(\n",
    "    data=method_predictions[['fold_change', 'prediction']], \n",
    "    x=\"fold_change\",\n",
    "    y=\"prediction\", \n",
    "    ci=99, marker=\"x\", color=\".3\", line_kws=dict(color=\"r\"),\n",
    ")"
   ]
  },
  {
   "cell_type": "code",
   "execution_count": null,
   "id": "cf1580c1-8c65-4759-9d8e-f78d2a891dc2",
   "metadata": {},
   "outputs": [],
   "source": []
  }
 ],
 "metadata": {
  "kernelspec": {
   "display_name": "Python [conda env:deepExpTorch2]",
   "language": "python",
   "name": "conda-env-deepExpTorch2-py"
  },
  "language_info": {
   "codemirror_mode": {
    "name": "ipython",
    "version": 3
   },
   "file_extension": ".py",
   "mimetype": "text/x-python",
   "name": "python",
   "nbconvert_exporter": "python",
   "pygments_lexer": "ipython3",
   "version": "3.8.17"
  }
 },
 "nbformat": 4,
 "nbformat_minor": 5
}
