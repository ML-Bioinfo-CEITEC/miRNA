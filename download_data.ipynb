{
 "cells": [
  {
   "cell_type": "code",
   "execution_count": 13,
   "id": "96faba31-2a3f-4399-b968-afe80ea12084",
   "metadata": {},
   "outputs": [],
   "source": [
    "# !pip install gdown==4.6.0\n",
    "# !pip install --upgrade --no-cache-dir gdown"
   ]
  },
  {
   "cell_type": "code",
   "execution_count": 25,
   "id": "a03f2e8d-6920-48a0-b441-5c444bf2b50d",
   "metadata": {},
   "outputs": [
    {
     "name": "stdout",
     "output_type": "stream",
     "text": [
      "Downloading...\n",
      "From: https://drive.google.com/uc?id=1m6c3be4OVqVv72vAD5UnR_Ar-8IUoeex&confirm=t\n",
      "To: /home/jovyan/miRNA/miRNA/data/preprocessed_for_ml/3utr.sequences.refseq_id.mirna_fc.seed_cls.sequence.signal.conservation.seed_cls.ts_preds.train.pkl\n",
      "100%|███████████████████████████████████████| 2.38G/2.38G [00:13<00:00, 182MB/s]\n"
     ]
    }
   ],
   "source": [
    "# train set\\\n",
    "# https://drive.google.com/file/d/1m6c3be4OVqVv72vAD5UnR_Ar-8IUoeex/view?usp=sharing\n",
    "!gdown \"1m6c3be4OVqVv72vAD5UnR_Ar-8IUoeex&confirm=t\" --output \"data/preprocessed_for_ml/3utr.sequences.refseq_id.mirna_fc.seed_cls.sequence.signal.conservation.seed_cls.ts_preds.train.pkl\""
   ]
  },
  {
   "cell_type": "code",
   "execution_count": 26,
   "id": "f55835a4-b41c-4d31-81c8-32f67365dd56",
   "metadata": {},
   "outputs": [
    {
     "name": "stdout",
     "output_type": "stream",
     "text": [
      "Downloading...\n",
      "From: https://drive.google.com/uc?id=15dZZQAEXAqsbBpkjVfWvew9oM4Eu-8PL&confirm=t\n",
      "To: /home/jovyan/miRNA/miRNA/data/preprocessed_for_ml/3utr.sequences.refseq_id.mirna_fc.seed_cls.sequence.signal.conservation.seed_cls.ts_preds.test.pkl\n",
      "100%|█████████████████████████████████████████| 786M/786M [00:05<00:00, 157MB/s]\n"
     ]
    }
   ],
   "source": [
    "# test set\n",
    "# https://drive.google.com/file/d/15dZZQAEXAqsbBpkjVfWvew9oM4Eu-8PL/view?usp=sharing\n",
    "!gdown \"15dZZQAEXAqsbBpkjVfWvew9oM4Eu-8PL&confirm=t\" --output \"data/preprocessed_for_ml/3utr.sequences.refseq_id.mirna_fc.seed_cls.sequence.signal.conservation.seed_cls.ts_preds.test.pkl\""
   ]
  },
  {
   "cell_type": "code",
   "execution_count": 30,
   "id": "2a595e43-9892-458e-a10e-9b82b2bd544c",
   "metadata": {},
   "outputs": [
    {
     "name": "stdout",
     "output_type": "stream",
     "text": [
      "Downloading...\n",
      "From: https://drive.google.com/uc?id=11PFjBLQJ-rUF8nioh7pd1MzDs1fsSCPG&confirm=t\n",
      "To: /home/jovyan/miRNA/miRNA/data/GRCh37.p13 hg19/transcript_ids_hg19.txt\n",
      "100%|█████████████████████████████████████████| 107M/107M [00:00<00:00, 140MB/s]\n"
     ]
    }
   ],
   "source": [
    "!gdown \"11PFjBLQJ-rUF8nioh7pd1MzDs1fsSCPG&confirm=t\" --output \"data/GRCh37.p13 hg19/transcript_ids_hg19.txt\""
   ]
  },
  {
   "cell_type": "code",
   "execution_count": 31,
   "id": "5d1a3b37-c017-47ee-8904-dde4b3abb0e3",
   "metadata": {},
   "outputs": [
    {
     "name": "stdout",
     "output_type": "stream",
     "text": [
      "Downloading...\n",
      "From: https://drive.google.com/uc?id=1geMB7JMUkkDwtwulCw01ruSLqMBEdXiT&confirm=t\n",
      "To: /home/jovyan/miRNA/miRNA/data/GRCh37.p13 hg19/UCSC/id_map\n",
      "100%|███████████████████████████████████████| 14.5M/14.5M [00:00<00:00, 111MB/s]\n"
     ]
    }
   ],
   "source": [
    "# https://drive.google.com/file/d/1geMB7JMUkkDwtwulCw01ruSLqMBEdXiT/view?usp=drive_link\n",
    "!gdown \"1geMB7JMUkkDwtwulCw01ruSLqMBEdXiT&confirm=t\" --output \"data/GRCh37.p13 hg19/UCSC/id_map\""
   ]
  },
  {
   "cell_type": "code",
   "execution_count": 29,
   "id": "5111da44-7399-4e6f-af49-408295f8c65d",
   "metadata": {},
   "outputs": [],
   "source": [
    "# !chmod 777 ./data/\"GRCh37.p13 hg19\"/transcript_ids_hg19.sh\n",
    "# !./data/\"GRCh37.p13 hg19\"/transcript_ids_hg19.sh"
   ]
  },
  {
   "cell_type": "code",
   "execution_count": 23,
   "id": "15544cd4-e169-4112-9524-fd83f73970b5",
   "metadata": {},
   "outputs": [],
   "source": [
    "# import gdown\n",
    "\n",
    "# # train set\n",
    "# # copy-and-paste a URL from Google Drive with fuzzy=True\n",
    "# url = \"# https://drive.google.com/file/d/1m6c3be4OVqVv72vAD5UnR_Ar-8IUoeex/view?usp=sharing\"\n",
    "# output = \"data/preprocessed_for_ml/3utr.sequences.refseq_id.mirna_fc.seed_cls.sequence.signal.conservation.seed_cls.ts_preds.train.pkl\"\n",
    "# gdown.download(url=url, output=output, quiet=False, fuzzy=True)"
   ]
  },
  {
   "cell_type": "code",
   "execution_count": 24,
   "id": "f8f70092-2fb1-4ef6-bf7a-ff2e90af786f",
   "metadata": {},
   "outputs": [],
   "source": [
    "# # test set\n",
    "# url = \"https://drive.google.com/file/d/15dZZQAEXAqsbBpkjVfWvew9oM4Eu-8PL/view?usp=sharing\"\n",
    "# output = \"data/preprocessed_for_ml/3utr.sequences.refseq_id.mirna_fc.seed_cls.sequence.signal.conservation.seed_cls.ts_preds.test.pkl\"\n",
    "# gdown.download(url=url, output=output, quiet=False, fuzzy=True)"
   ]
  },
  {
   "cell_type": "code",
   "execution_count": null,
   "id": "1912a039-7f28-4c56-a5fe-3b80e265e9d6",
   "metadata": {},
   "outputs": [],
   "source": []
  }
 ],
 "metadata": {
  "kernelspec": {
   "display_name": "Python [conda env:deepExperiment]",
   "language": "python",
   "name": "conda-env-deepExperiment-py"
  },
  "language_info": {
   "codemirror_mode": {
    "name": "ipython",
    "version": 3
   },
   "file_extension": ".py",
   "mimetype": "text/x-python",
   "name": "python",
   "nbconvert_exporter": "python",
   "pygments_lexer": "ipython3",
   "version": "3.8.16"
  }
 },
 "nbformat": 4,
 "nbformat_minor": 5
}
