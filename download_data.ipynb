{
 "cells": [
  {
   "cell_type": "code",
   "execution_count": 1,
   "id": "c66a4abb-85f6-4ce1-ac6e-0f87bc2d4929",
   "metadata": {},
   "outputs": [],
   "source": [
    "# pip install gdown"
   ]
  },
  {
   "cell_type": "code",
   "execution_count": 2,
   "id": "15544cd4-e169-4112-9524-fd83f73970b5",
   "metadata": {},
   "outputs": [
    {
     "name": "stderr",
     "output_type": "stream",
     "text": [
      "Downloading...\n",
      "From (uriginal): https://drive.google.com/uc?id=11mLLCz_XniFTtKJvDIYLkcDqD3d4g3a_\n",
      "From (redirected): https://drive.google.com/uc?id=11mLLCz_XniFTtKJvDIYLkcDqD3d4g3a_&confirm=t&uuid=be8a46d8-3409-42b0-b078-1d2a4bb4fdba\n",
      "To: /home/jovyan/miRNA/miRNA/Predicted_Targets_Context_Scores.default_predictions.txt\n",
      "100%|██████████| 137M/137M [00:01<00:00, 70.6MB/s] \n"
     ]
    },
    {
     "data": {
      "text/plain": [
       "'Predicted_Targets_Context_Scores.default_predictions.txt'"
      ]
     },
     "execution_count": 2,
     "metadata": {},
     "output_type": "execute_result"
    }
   ],
   "source": [
    "import gdown\n",
    "\n",
    "# a file, and you can copy-and-paste a URL from Google Drive with fuzzy=True\n",
    "url = \"https://drive.google.com/file/d/11mLLCz_XniFTtKJvDIYLkcDqD3d4g3a_/view?usp=sharing\"\n",
    "output = \"Predicted_Targets_Context_Scores.default_predictions.txt\"\n",
    "gdown.download(url=url, output=output, quiet=False, fuzzy=True)"
   ]
  },
  {
   "cell_type": "code",
   "execution_count": 3,
   "id": "f8f70092-2fb1-4ef6-bf7a-ff2e90af786f",
   "metadata": {},
   "outputs": [
    {
     "name": "stderr",
     "output_type": "stream",
     "text": [
      "Downloading...\n",
      "From (uriginal): https://drive.google.com/uc?id=16mJ9XUHQEauO1VUTllmD1ij3Z8jdFCq4\n",
      "From (redirected): https://drive.google.com/uc?id=16mJ9XUHQEauO1VUTllmD1ij3Z8jdFCq4&confirm=t&uuid=a217da76-ad62-4923-90ff-e8035a7e6b4a\n",
      "To: /home/jovyan/miRNA/miRNA/data/GCF_000001405.40/rna.fna\n",
      "100%|██████████| 743M/743M [00:11<00:00, 62.4MB/s] \n"
     ]
    },
    {
     "data": {
      "text/plain": [
       "'data/GCF_000001405.40/rna.fna'"
      ]
     },
     "execution_count": 3,
     "metadata": {},
     "output_type": "execute_result"
    }
   ],
   "source": [
    "url = \"https://drive.google.com/file/d/16mJ9XUHQEauO1VUTllmD1ij3Z8jdFCq4/view?usp=sharing\"\n",
    "output = \"data/GCF_000001405.40/rna.fna\"\n",
    "gdown.download(url=url, output=output, quiet=False, fuzzy=True)"
   ]
  },
  {
   "cell_type": "code",
   "execution_count": null,
   "id": "0b474c25-b9e3-4ef3-9922-a4bc78be2c99",
   "metadata": {},
   "outputs": [],
   "source": []
  }
 ],
 "metadata": {
  "kernelspec": {
   "display_name": "Python [conda env:deepExperiment]",
   "language": "python",
   "name": "conda-env-deepExperiment-py"
  },
  "language_info": {
   "codemirror_mode": {
    "name": "ipython",
    "version": 3
   },
   "file_extension": ".py",
   "mimetype": "text/x-python",
   "name": "python",
   "nbconvert_exporter": "python",
   "pygments_lexer": "ipython3",
   "version": "3.8.16"
  }
 },
 "nbformat": 4,
 "nbformat_minor": 5
}
