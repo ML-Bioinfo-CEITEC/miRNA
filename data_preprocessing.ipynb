{
 "cells": [
  {
   "cell_type": "code",
   "execution_count": 1,
   "id": "cba8e302-e8b2-42eb-886e-738d21d37b08",
   "metadata": {},
   "outputs": [],
   "source": [
    "#load the %autoreload extension using the %load_ext magic command\n",
    "#Then, we set the %autoreload magic command to 2, which means that modules will be reloaded every time a cell is executed\n",
    "%load_ext autoreload\n",
    "%autoreload 2"
   ]
  },
  {
   "cell_type": "markdown",
   "id": "40a23b23-94e1-4e82-b796-df017ff458c4",
   "metadata": {},
   "source": [
    "### Method agnostic data preprocessing"
   ]
  },
  {
   "cell_type": "code",
   "execution_count": 2,
   "id": "ba918741-21ec-459b-b7a1-a0016debd043",
   "metadata": {},
   "outputs": [],
   "source": [
    "DATASET_NAME = 'mirna_fcs'\n",
    "MIRNA_NAME = 'hsa-miR-106b-5p'\n",
    "# hsa-let-7c-5p\n",
    "# hsa-miR-16-5p\n",
    "MIRNA_SEQ = 'TAAAGTGCTGACAGTGCAGAT'\n",
    "\n",
    "RANDOM_STATE = 42"
   ]
  },
  {
   "cell_type": "code",
   "execution_count": 173,
   "id": "c7178312-b82b-4dfe-8c0e-3b36275a96c6",
   "metadata": {},
   "outputs": [
    {
     "data": {
      "text/plain": [
       "'data/mirna_fcs.csv'"
      ]
     },
     "execution_count": 173,
     "metadata": {},
     "output_type": "execute_result"
    }
   ],
   "source": [
    "from data_manipulation import download_data_from_github_if_not_existing\n",
    "\n",
    "download_data_from_github_if_not_existing(\n",
    "    url = \"https://raw.githubusercontent.com/ML-Bioinfo-CEITEC/miRNA/main/modules/evaluation/mirna_fcs.csv\",\n",
    "    output_file_path = 'data/{}.csv'.format(DATASET_NAME),\n",
    ")"
   ]
  },
  {
   "cell_type": "code",
   "execution_count": 4,
   "id": "119857b5-4925-4bda-8d16-9797511f30f5",
   "metadata": {},
   "outputs": [
    {
     "data": {
      "text/plain": [
       "('data/mirna_fcs.hsa-miR-106b-5p.train.csv',\n",
       " 'data/mirna_fcs.hsa-miR-106b-5p.test.csv')"
      ]
     },
     "execution_count": 4,
     "metadata": {},
     "output_type": "execute_result"
    }
   ],
   "source": [
    "from data_manipulation import split_train_and_test_set\n",
    "\n",
    "\n",
    "split_train_and_test_set(\n",
    "    input_dataset_file_path = 'data/{}.csv'.format(DATASET_NAME),\n",
    "    column_to_split = MIRNA_NAME,\n",
    "    columns_to_keep = ['gene_symbol', MIRNA_NAME],\n",
    "    test_fraction = 0.25, \n",
    "    random_state = RANDOM_STATE,\n",
    "    splits_distributions_similarity_pvalue_threshold = 0.05,\n",
    "    output_file_path_train = 'data/{}.{}.train.csv'.format(DATASET_NAME, MIRNA_NAME),\n",
    "    output_file_path_test = 'data/{}.{}.test.csv'.format(DATASET_NAME, MIRNA_NAME),\n",
    ")"
   ]
  },
  {
   "cell_type": "code",
   "execution_count": 118,
   "id": "06230b0f-238e-4357-9f61-61f1657382b4",
   "metadata": {},
   "outputs": [
    {
     "data": {
      "text/plain": [
       "'data/mirna_fcs.hsa-miR-106b-5p.test.positive_fc_to_zero.csv'"
      ]
     },
     "execution_count": 118,
     "metadata": {},
     "output_type": "execute_result"
    }
   ],
   "source": [
    "from data_manipulation import possitive_fold_change_to_zero\n",
    "\n",
    "\n",
    "possitive_fold_change_to_zero(\n",
    "    input_dataset_file_path = 'data/{}.{}.train.csv'.format(DATASET_NAME, MIRNA_NAME),\n",
    "    column_name = MIRNA_NAME,\n",
    "    output_path_suffix = '.positive_fc_to_zero',\n",
    ")\n",
    "possitive_fold_change_to_zero(\n",
    "    input_dataset_file_path = 'data/{}.{}.test.csv'.format(DATASET_NAME, MIRNA_NAME),\n",
    "    column_name = MIRNA_NAME,\n",
    "    output_path_suffix = '.positive_fc_to_zero',\n",
    ")"
   ]
  },
  {
   "cell_type": "markdown",
   "id": "b87ff5d5-8662-4fcb-9d65-7ae9310b7498",
   "metadata": {},
   "source": [
    "### Data preprocessing specific for signal data (in the clean code, will be under a specific module)"
   ]
  },
  {
   "cell_type": "code",
   "execution_count": 119,
   "id": "14cd124a-5ef9-49bc-a3a4-fb5e77d753e2",
   "metadata": {},
   "outputs": [],
   "source": [
    "import pandas as pd\n",
    "\n",
    "from google_drive_download import download_file_from_google_drive\n",
    "\n",
    "# TODO check if response OK\n",
    "# TODO DOWNLOAD only if not exist\n",
    "# download_file_from_google_drive(  \n",
    "#     file_id = '1ayyD1w6SHzLS8638eoBzUX3OMq4cxSUx',\n",
    "#     destination = 'data/explainability_scores_hsa-miR-106b-5p.json',\n",
    "# )"
   ]
  },
  {
   "cell_type": "code",
   "execution_count": 120,
   "id": "f77c567a-6c88-43b3-b239-ccfe7fba58dd",
   "metadata": {},
   "outputs": [
    {
     "data": {
      "text/plain": [
       "'data/explainability_scores_hsa-miR-106b-5p.pkl'"
      ]
     },
     "execution_count": 120,
     "metadata": {},
     "output_type": "execute_result"
    }
   ],
   "source": [
    "from data_manipulation import convert_signals_json_to_pickle\n",
    "\n",
    "convert_signals_json_to_pickle(\n",
    "    signals_json_file_path = \"data/explainability_scores_{}.json\".format(MIRNA_NAME),\n",
    "    output_file_path = \"data/explainability_scores_{}.pkl\".format(MIRNA_NAME),\n",
    "    mirna_name = MIRNA_NAME,\n",
    "    mirna_seq = MIRNA_SEQ,\n",
    ")"
   ]
  },
  {
   "cell_type": "code",
   "execution_count": 123,
   "id": "5a0f2cb4-c643-4656-a81f-9d5fe27a51e0",
   "metadata": {},
   "outputs": [
    {
     "data": {
      "text/plain": [
       "'data/mirna_fcs.hsa-miR-106b-5p.test.positive_fc_to_zero.signals.pkl'"
      ]
     },
     "execution_count": 123,
     "metadata": {},
     "output_type": "execute_result"
    }
   ],
   "source": [
    "from data_manipulation import merge_fold_change_dataset_with_signals\n",
    "\n",
    "merge_fold_change_dataset_with_signals(\n",
    "    signals_df_path = 'data/explainability_scores_{}.pkl'.format(MIRNA_NAME),\n",
    "    fold_change_df_path = 'data/{}.{}.train.positive_fc_to_zero.csv'.format(DATASET_NAME, MIRNA_NAME),\n",
    "    merge_on = 'gene_symbol',\n",
    "    mirna_name = MIRNA_NAME,\n",
    "    # output_path_suffix = '.signals',\n",
    "    output_file_path = 'data/{}.{}.train.positive_fc_to_zero.signals.pkl'.format(DATASET_NAME, MIRNA_NAME),\n",
    ")\n",
    "merge_fold_change_dataset_with_signals(\n",
    "    signals_df_path = 'data/explainability_scores_{}.pkl'.format(MIRNA_NAME),\n",
    "    fold_change_df_path = 'data/{}.{}.test.positive_fc_to_zero.csv'.format(DATASET_NAME, MIRNA_NAME),\n",
    "    merge_on = 'gene_symbol',\n",
    "    mirna_name = MIRNA_NAME,\n",
    "    # output_path_suffix = '.signals',\n",
    "    output_file_path = 'data/{}.{}.test.positive_fc_to_zero.signals.pkl'.format(DATASET_NAME, MIRNA_NAME),\n",
    ")"
   ]
  },
  {
   "cell_type": "code",
   "execution_count": 132,
   "id": "083dae9d-c315-48a2-a485-03811bee4c42",
   "metadata": {},
   "outputs": [
    {
     "data": {
      "text/plain": [
       "'data/mirna_fcs.hsa-miR-106b-5p.test.positive_fc_to_zero.signals.compressed_zeros.pkl'"
      ]
     },
     "execution_count": 132,
     "metadata": {},
     "output_type": "execute_result"
    }
   ],
   "source": [
    "from data_manipulation import compress_signal_zeros_in_dataset\n",
    "\n",
    "compress_signal_zeros_in_dataset(\n",
    "    input_dataset_file_path = 'data/{}.{}.train.positive_fc_to_zero.signals.pkl'.format(DATASET_NAME, MIRNA_NAME),\n",
    "    output_path_suffix = '.compressed_zeros',\n",
    ")    \n",
    "compress_signal_zeros_in_dataset(\n",
    "    input_dataset_file_path = 'data/{}.{}.test.positive_fc_to_zero.signals.pkl'.format(DATASET_NAME, MIRNA_NAME),\n",
    "    output_path_suffix = '.compressed_zeros',\n",
    ")"
   ]
  },
  {
   "cell_type": "code",
   "execution_count": 150,
   "id": "49f66c48-0ebd-4057-b4c2-a53c1e157ae4",
   "metadata": {},
   "outputs": [
    {
     "data": {
      "text/plain": [
       "'data/mirna_fcs.hsa-miR-106b-5p.train.positive_fc_to_zero.signals.compressed_zeros.remove_not_predicted.pkl'"
      ]
     },
     "execution_count": 150,
     "metadata": {},
     "output_type": "execute_result"
    }
   ],
   "source": [
    "# remove [] and NaN from train, cos we do not want to teach the model that *no binding site* means negative fold change\n",
    "# that is basically propagation of error from previous model\n",
    "# in test we predict 0 FC for such a sample without signal (which might be incorrect prediction, but it is the approach for now)\n",
    "# [] means miRbind predicted 0 binding sites\n",
    "# NaN means we are completely missing prediction for that gene == the gene is not in our miRBind set for scanning \n",
    "from data_manipulation import remove_genes_with_no_binding_sites\n",
    "\n",
    "remove_genes_without_signal(\n",
    "    input_dataset_file_path_train = 'data/{}.{}.train.positive_fc_to_zero.signals.compressed_zeros.pkl'.format(DATASET_NAME, MIRNA_NAME),\n",
    "    output_path_suffix = '.remove_genes_without_signal',\n",
    ")"
   ]
  },
  {
   "cell_type": "code",
   "execution_count": 127,
   "id": "2f89a311-88c7-4cf3-9633-bc0c7e08de2d",
   "metadata": {},
   "outputs": [
    {
     "data": {
      "text/plain": [
       "'data/mirna_fcs.hsa-miR-106b-5p.test.positive_fc_to_zero.signals.compressed_zeros.predict_genes_without_signal.pkl'"
      ]
     },
     "execution_count": 127,
     "metadata": {},
     "output_type": "execute_result"
    }
   ],
   "source": [
    "from data_manipulation import predict_genes_without_signal_as_zeros\n",
    "\n",
    "predict_genes_without_signal_as_zeros(\n",
    "    input_file_path = 'data/{}.{}.test.positive_fc_to_zero.signals.compressed_zeros.pkl'.format(DATASET_NAME, MIRNA_NAME),\n",
    "    prediction_column_name = 'prediction',\n",
    "    output_path_suffix = \".predict_genes_without_signal\",\n",
    ")"
   ]
  },
  {
   "cell_type": "markdown",
   "id": "291f07de-c664-4b63-ad3d-606e60595847",
   "metadata": {},
   "source": [
    "### Method specific data preprocessing (in the clean code, will be under a specific method module)"
   ]
  },
  {
   "cell_type": "code",
   "execution_count": 190,
   "id": "7dd39d37-b285-40cc-8882-fe6af3ddbe21",
   "metadata": {},
   "outputs": [
    {
     "data": {
      "text/plain": [
       "'data/mirna_fcs.hsa-miR-106b-5p.train.positive_fc_to_zero.signals.compressed_zeros.remove_genes_without_signal.zero_signal_to_negative.pkl'"
      ]
     },
     "execution_count": 190,
     "metadata": {},
     "output_type": "execute_result"
    }
   ],
   "source": [
    "from data_manipulation import apply_map_function_to_column, zeros_to_negative\n",
    "\n",
    "apply_map_function_to_column(\n",
    "    map_function = zeros_to_negative,\n",
    "    input_file_path = 'data/{}.{}.train.positive_fc_to_zero.signals.compressed_zeros.remove_genes_without_signal.pkl'.format(DATASET_NAME, MIRNA_NAME),\n",
    "    column_name = \"signal\",\n",
    "    output_path_suffix = \".zero_signal_to_negative\",\n",
    ")"
   ]
  },
  {
   "cell_type": "code",
   "execution_count": 191,
   "id": "3e14c896-9c49-40eb-85fa-7c59695a5701",
   "metadata": {},
   "outputs": [
    {
     "data": {
      "text/plain": [
       "'data/mirna_fcs.hsa-miR-106b-5p.test.positive_fc_to_zero.signals.compressed_zeros.predict_genes_without_signal.zero_signal_to_negative.pkl'"
      ]
     },
     "execution_count": 191,
     "metadata": {},
     "output_type": "execute_result"
    }
   ],
   "source": [
    "from data_manipulation import apply_map_function_to_column, zeros_to_negative\n",
    "\n",
    "apply_map_function_to_column(\n",
    "    map_function = zeros_to_negative,\n",
    "    input_file_path = 'data/{}.{}.test.positive_fc_to_zero.signals.compressed_zeros.predict_genes_without_signal.pkl'.format(DATASET_NAME, MIRNA_NAME),\n",
    "    column_name = \"signal\",\n",
    "    output_path_suffix = \".zero_signal_to_negative\",\n",
    ")"
   ]
  },
  {
   "cell_type": "code",
   "execution_count": 192,
   "id": "880e2981-9986-4a03-ae10-4427a01e462a",
   "metadata": {},
   "outputs": [
    {
     "data": {
      "text/plain": [
       "('data/mirna_fcs.hsa-miR-106b-5p.train.positive_fc_to_zero.signals.compressed_zeros.remove_genes_without_signal.zero_signal_to_negative.normalize.pkl',\n",
       " 'data/mirna_fcs.hsa-miR-106b-5p.test.positive_fc_to_zero.signals.compressed_zeros.predict_genes_without_signal.zero_signal_to_negative.normalize.pkl')"
      ]
     },
     "execution_count": 192,
     "metadata": {},
     "output_type": "execute_result"
    }
   ],
   "source": [
    "from data_manipulation import normalize_column_based_on_train_set\n",
    "\n",
    "normalize_column_based_on_train_set(\n",
    "    input_file_path_train = 'data/{}.{}.train.positive_fc_to_zero.signals.compressed_zeros.remove_genes_without_signal.zero_signal_to_negative.pkl'.format(DATASET_NAME, MIRNA_NAME),\n",
    "    input_file_path_test = 'data/{}.{}.test.positive_fc_to_zero.signals.compressed_zeros.predict_genes_without_signal.zero_signal_to_negative.pkl'.format(DATASET_NAME, MIRNA_NAME),\n",
    "    column = 'signal',\n",
    "    output_path_suffix = \".normalize\",\n",
    ")"
   ]
  },
  {
   "cell_type": "code",
   "execution_count": 195,
   "id": "3e99513e-332c-428a-a3a0-6359aadafd11",
   "metadata": {},
   "outputs": [
    {
     "data": {
      "text/plain": [
       "'data/mirna_fcs.hsa-miR-106b-5p.test.positive_fc_to_zero.signals.compressed_zeros.predict_genes_without_signal.zero_signal_to_negative.normalize.fill_empty_signal.pkl'"
      ]
     },
     "execution_count": 195,
     "metadata": {},
     "output_type": "execute_result"
    }
   ],
   "source": [
    "from data_manipulation import apply_map_function_to_column, fill_empty_signal\n",
    "\n",
    "apply_map_function_to_column(\n",
    "    map_function = fill_empty_signal,\n",
    "    input_file_path = 'data/{}.{}.test.positive_fc_to_zero.signals.compressed_zeros.predict_genes_without_signal.zero_signal_to_negative.normalize.pkl'.format(DATASET_NAME, MIRNA_NAME),\n",
    "    column_name = \"signal\",\n",
    "    output_path_suffix = \".fill_empty_signal\"\n",
    ")"
   ]
  },
  {
   "cell_type": "markdown",
   "id": "efd4d37e-a980-4214-8739-f2f624eaf5b6",
   "metadata": {},
   "source": [
    "### Model training (in the clean code, will be under a specific module)"
   ]
  },
  {
   "cell_type": "code",
   "execution_count": null,
   "id": "339a19ba-dc1a-4266-a506-b0b0a1e33b73",
   "metadata": {},
   "outputs": [],
   "source": [
    "download_data_from_github_if_not_existing(\n",
    "    url = \"https://raw.githubusercontent.com/ML-Bioinfo-CEITEC/miRNA/main/modules/evaluation/mirna_fcs.csv\",\n",
    "    output_file_path = 'data/{}.csv'.format(DATASET_NAME),\n",
    ")"
   ]
  },
  {
   "cell_type": "code",
   "execution_count": 123,
   "id": "cddce6ff-4dad-4924-8f79-b5bd6e3d1778",
   "metadata": {},
   "outputs": [],
   "source": [
    "EXPERIMENT_NAME = 'cnn_att'\n",
    "DATASET_NAME = 'mirna_fcs'\n",
    "MIRNA_NAME = 'hsa-miR-106b-5p'\n",
    "\n",
    "RANDOM_STATE = 42\n",
    "BATCH_SIZE = 32\n"
   ]
  },
  {
   "cell_type": "code",
   "execution_count": 4,
   "id": "899c81f2-5050-427c-a8f0-715b939d1ede",
   "metadata": {},
   "outputs": [
    {
     "name": "stderr",
     "output_type": "stream",
     "text": [
      "CometLogger will be initialized in online mode\n"
     ]
    }
   ],
   "source": [
    "from pytorch_lightning.loggers import CometLogger\n",
    "\n",
    "comet_logger = CometLogger(\n",
    "    api_key=\"EpKIINrla6U4B4LJhd9Sv4i0b\",\n",
    "    project_name=\"mirna\",\n",
    ")"
   ]
  },
  {
   "cell_type": "code",
   "execution_count": 5,
   "id": "d5f577cd-fbbf-4ccc-af52-73ca3852b55e",
   "metadata": {},
   "outputs": [],
   "source": [
    "import pandas as pd\n",
    "\n",
    "input_dataset_file_path_train = 'data/{}.{}.train.positive_fc_to_zero.signals.compressed_zeros.remove_genes_without_signal.zero_signal_to_negative.normalize.pkl'.format(DATASET_NAME, MIRNA_NAME),\n",
    "df_train = pd.read_pickle(input_dataset_file_path_train)\n",
    "\n",
    "input_dataset_file_path_test = 'data/{}.{}.test.positive_fc_to_zero.signals.compressed_zeros.predict_genes_without_signal.zero_signal_to_negative.normalize.fill_empty_signal.pkl'.format(DATASET_NAME, MIRNA_NAME),\n",
    "df_test = pd.read_pickle(input_dataset_file_path_test)"
   ]
  },
  {
   "cell_type": "code",
   "execution_count": 8,
   "id": "83e19795-7063-4304-b39f-03f6d8d3303e",
   "metadata": {},
   "outputs": [],
   "source": [
    "def pad_2d_array_to_longest_subarray_length(arr, pad_value=0):\n",
    "    # Find the maximum length of sublists\n",
    "    max_len = max(len(sublist) for sublist in arr)\n",
    "    \n",
    "    # Pad the sublists to max length\n",
    "    padded_arr = [sublist + [pad_value] * (max_len - len(sublist)) for sublist in arr]\n",
    "    \n",
    "    return padded_arr"
   ]
  },
  {
   "cell_type": "code",
   "execution_count": 13,
   "id": "781e56d5-d2a1-47e9-b77e-1e8ad15757a6",
   "metadata": {},
   "outputs": [],
   "source": [
    "df_train['signal'] = pad_2d_array_to_longest_subarray_length(df_train['signal'])\n",
    "df_test['signal'] = pad_2d_array_to_longest_subarray_length(df_test['signal'])"
   ]
  },
  {
   "cell_type": "code",
   "execution_count": 16,
   "id": "dc30edec-a8d7-4b87-9385-e9021c9dd350",
   "metadata": {},
   "outputs": [],
   "source": [
    "from sklearn.model_selection import train_test_split\n",
    "\n",
    "#split validation set\n",
    "df_train, df_val = train_test_split(\n",
    "    df_train, \n",
    "    test_size = 0.1, \n",
    "    random_state = RANDOM_STATE,\n",
    "    shuffle=True\n",
    ")"
   ]
  },
  {
   "cell_type": "code",
   "execution_count": 35,
   "id": "59e339b8-b886-40f6-a51b-dcfaeb42913c",
   "metadata": {},
   "outputs": [
    {
     "name": "stdout",
     "output_type": "stream",
     "text": [
      "3582 2023 399\n"
     ]
    }
   ],
   "source": [
    "print(\n",
    "    df_train['gene_symbol'].size, \n",
    "    df_test['gene_symbol'].size,\n",
    "    df_val['gene_symbol'].size,\n",
    ")"
   ]
  },
  {
   "cell_type": "code",
   "execution_count": 17,
   "id": "d1cc7b05-a771-4ac9-bf9b-8156fe93db23",
   "metadata": {},
   "outputs": [],
   "source": [
    "from dataset import get_train_dataloader, get_val_dataloader, get_test_dataloader\n",
    "import torch\n",
    "\n",
    "train_loader = get_train_dataloader([torch.tensor(x) for x in df_train['signal']], df_train['fold_change'].values, BATCH_SIZE)\n",
    "val_loader = get_val_dataloader([torch.tensor(x) for x in df_val['signal']], df_val['fold_change'].values, BATCH_SIZE)\n",
    "test_loader = get_test_dataloader([torch.tensor(x) for x in df_test['signal']], df_test['fold_change'].values, BATCH_SIZE)"
   ]
  },
  {
   "cell_type": "code",
   "execution_count": 127,
   "id": "44132c55-e19c-4bfd-b647-95958ba7f9fa",
   "metadata": {},
   "outputs": [
    {
     "name": "stderr",
     "output_type": "stream",
     "text": [
      "GPU available: False, used: False\n",
      "TPU available: False, using: 0 TPU cores\n",
      "IPU available: False, using: 0 IPUs\n",
      "HPU available: False, using: 0 HPUs\n",
      "\n",
      "  | Name         | Type              | Params\n",
      "---------------------------------------------------\n",
      "0 | architecture | Sequential        | 13.0 K\n",
      "1 | ce           | MSELoss           | 0     \n",
      "2 | mae          | MeanAbsoluteError | 0     \n",
      "3 | mse          | MeanSquaredError  | 0     \n",
      "4 | r2           | R2Score           | 0     \n",
      "---------------------------------------------------\n",
      "13.0 K    Trainable params\n",
      "0         Non-trainable params\n",
      "13.0 K    Total params\n",
      "0.052     Total estimated model params size (MB)\n",
      "\u001b[1;38;5;214mCOMET WARNING:\u001b[0m To get all data logged automatically, import comet_ml before the following modules: torch.\n",
      "\u001b[1;38;5;214mCOMET WARNING:\u001b[0m As you are running in a Jupyter environment, you will need to call `experiment.end()` when finished to ensure all metrics and code are logged before exiting.\n",
      "\u001b[1;38;5;39mCOMET INFO:\u001b[0m Experiment is live on comet.com https://www.comet.com/davidcechak/mirna/a50ad0c2d33f41e1bcb07a53dbef0e84\n",
      "\n",
      "`Trainer.fit` stopped: `max_epochs=50` reached.\n",
      "\u001b[1;38;5;39mCOMET INFO:\u001b[0m ---------------------------------------------------------------------------------------\n",
      "\u001b[1;38;5;39mCOMET INFO:\u001b[0m Comet.ml ExistingExperiment Summary\n",
      "\u001b[1;38;5;39mCOMET INFO:\u001b[0m ---------------------------------------------------------------------------------------\n",
      "\u001b[1;38;5;39mCOMET INFO:\u001b[0m   Data:\n",
      "\u001b[1;38;5;39mCOMET INFO:\u001b[0m     display_summary_level : 1\n",
      "\u001b[1;38;5;39mCOMET INFO:\u001b[0m     url                   : https://www.comet.com/davidcechak/mirna/a50ad0c2d33f41e1bcb07a53dbef0e84\n",
      "\u001b[1;38;5;39mCOMET INFO:\u001b[0m   Metrics [count] (min, max):\n",
      "\u001b[1;38;5;39mCOMET INFO:\u001b[0m     train mae [50]       : (0.0753706619143486, 0.078819639980793)\n",
      "\u001b[1;38;5;39mCOMET INFO:\u001b[0m     train mse [50]       : (0.012751702219247818, 0.013789955526590347)\n",
      "\u001b[1;38;5;39mCOMET INFO:\u001b[0m     train r2 [50]        : (-0.17791567742824554, -0.023168249055743217)\n",
      "\u001b[1;38;5;39mCOMET INFO:\u001b[0m     train rmse [50]      : (0.10703689604997635, 0.11215271055698395)\n",
      "\u001b[1;38;5;39mCOMET INFO:\u001b[0m     train_acc_cum [112]  : (0.0025458247400820255, 0.048062048852443695)\n",
      "\u001b[1;38;5;39mCOMET INFO:\u001b[0m     train_loss [50]      : (0.012751702219247818, 0.013789955526590347)\n",
      "\u001b[1;38;5;39mCOMET INFO:\u001b[0m     train_loss_cum [112] : (0.0025458247400820255, 0.048062048852443695)\n",
      "\u001b[1;38;5;39mCOMET INFO:\u001b[0m     valid mae [50]       : (0.07019105553627014, 0.09346993267536163)\n",
      "\u001b[1;38;5;39mCOMET INFO:\u001b[0m     valid mse [50]       : (0.01585530675947666, 0.018668251112103462)\n",
      "\u001b[1;38;5;39mCOMET INFO:\u001b[0m     valid r2 [50]        : (-0.28704729676246643, -0.07835403829813004)\n",
      "\u001b[1;38;5;39mCOMET INFO:\u001b[0m     valid rmse [50]      : (0.11959129571914673, 0.1283688098192215)\n",
      "\u001b[1;38;5;39mCOMET INFO:\u001b[0m     valid_loss [50]      : (0.01585530675947666, 0.018668251112103462)\n",
      "\u001b[1;38;5;39mCOMET INFO:\u001b[0m   Others:\n",
      "\u001b[1;38;5;39mCOMET INFO:\u001b[0m     Created from : pytorch-lightning\n",
      "\u001b[1;38;5;39mCOMET INFO:\u001b[0m \n",
      "\u001b[1;38;5;214mCOMET WARNING:\u001b[0m To get all data logged automatically, import comet_ml before the following modules: torch.\n",
      "\u001b[1;38;5;39mCOMET INFO:\u001b[0m Uploading 1 metrics, params and output messages\n"
     ]
    }
   ],
   "source": [
    "from model import Small_CNN\n",
    "\n",
    "from pytorch_lightning import Trainer\n",
    "from IPython.utils import io\n",
    "\n",
    "\n",
    "model = Small_CNN(\n",
    "    pooling='att',\n",
    "    # pooling='max',\n",
    "    # pooling='rnn',\n",
    "    lr=1e-3,\n",
    "    warmup_steps=1,\n",
    "    wd=0.01,\n",
    "    logging_steps=1,\n",
    "    pos_weight=1.0,\n",
    "    num_cnn_layers=4,\n",
    ")\n",
    "# trainer = Trainer(max_epochs=1, gpus=1)  # Use GPU if available\n",
    "trainer = Trainer(logger=comet_logger, max_epochs=50)  \n",
    "\n",
    "# capture_output to have a cleaner notebook\n",
    "# you can follow the training at the  https://www.comet.com/davidcechak/mirna/  see log of this cell\n",
    "with io.capture_output() as captured:\n",
    "    trainer.fit(model, train_loader, val_loader)\n"
   ]
  },
  {
   "cell_type": "code",
   "execution_count": 128,
   "id": "70489d43-858b-4f7a-82d3-12ce71c5ab55",
   "metadata": {},
   "outputs": [],
   "source": [
    "from dataset import predict\n",
    "\n",
    "gene_to_predictions, predictions = predict(model, [torch.tensor(x) for x in df_test['signal']], df_test['gene_symbol'].values)"
   ]
  },
  {
   "cell_type": "code",
   "execution_count": 129,
   "id": "90a58199-699c-4f52-9e3f-adf46d7885db",
   "metadata": {},
   "outputs": [
    {
     "data": {
      "text/plain": [
       "'07-11-23_23-20.cnn_att'"
      ]
     },
     "execution_count": 129,
     "metadata": {},
     "output_type": "execute_result"
    }
   ],
   "source": [
    "from utils import get_experiment_time_id\n",
    "\n",
    "experiment_id = get_experiment_time_id(sufix=EXPERIMENT_NAME)\n",
    "experiment_id"
   ]
  },
  {
   "cell_type": "code",
   "execution_count": 139,
   "id": "17f2c634-39da-40e3-ac74-7404e77a339b",
   "metadata": {},
   "outputs": [],
   "source": [
    "from data_manipulation import add_predictions_to_test_dataframe\n",
    "\n",
    "method_predictions, results_file_path = add_predictions_to_test_dataframe(\n",
    "    df_test,\n",
    "    gene_to_predictions,\n",
    "    output_file_path = 'results/{}.{}.test.positive_fc_to_zero.signals.compressed_zeros.predict_genes_without_signal.zero_signal_to_negative.normalize.fill_empty_signal.{}.pkl'.format(\n",
    "        DATASET_NAME,\n",
    "        MIRNA_NAME,\n",
    "        experiment_id,\n",
    "    )\n",
    ")"
   ]
  },
  {
   "cell_type": "code",
   "execution_count": 145,
   "id": "2541d768-da9c-4b5e-9d32-a51c4a68f050",
   "metadata": {},
   "outputs": [
    {
     "data": {
      "text/html": [
       "<div>\n",
       "<style scoped>\n",
       "    .dataframe tbody tr th:only-of-type {\n",
       "        vertical-align: middle;\n",
       "    }\n",
       "\n",
       "    .dataframe tbody tr th {\n",
       "        vertical-align: top;\n",
       "    }\n",
       "\n",
       "    .dataframe thead th {\n",
       "        text-align: right;\n",
       "    }\n",
       "</style>\n",
       "<table border=\"1\" class=\"dataframe\">\n",
       "  <thead>\n",
       "    <tr style=\"text-align: right;\">\n",
       "      <th></th>\n",
       "      <th>fold_change</th>\n",
       "      <th>prediction</th>\n",
       "    </tr>\n",
       "  </thead>\n",
       "  <tbody>\n",
       "    <tr>\n",
       "      <th>fold_change</th>\n",
       "      <td>1.000000</td>\n",
       "      <td>0.081017</td>\n",
       "    </tr>\n",
       "    <tr>\n",
       "      <th>prediction</th>\n",
       "      <td>0.081017</td>\n",
       "      <td>1.000000</td>\n",
       "    </tr>\n",
       "  </tbody>\n",
       "</table>\n",
       "</div>"
      ],
      "text/plain": [
       "             fold_change  prediction\n",
       "fold_change     1.000000    0.081017\n",
       "prediction      0.081017    1.000000"
      ]
     },
     "execution_count": 145,
     "metadata": {},
     "output_type": "execute_result"
    }
   ],
   "source": [
    "method_predictions[['fold_change', 'prediction']].corr()"
   ]
  },
  {
   "cell_type": "code",
   "execution_count": 155,
   "id": "fab4ba1f-5d6e-4407-9918-2445203c85e2",
   "metadata": {},
   "outputs": [
    {
     "data": {
      "text/plain": [
       "<matplotlib.axes._subplots.AxesSubplot at 0x7f773d72e880>"
      ]
     },
     "execution_count": 155,
     "metadata": {},
     "output_type": "execute_result"
    },
    {
     "data": {
      "image/png": "[encoded data removed]",
      "text/plain": [
       "<Figure size 640x480 with 1 Axes>"
      ]
     },
     "metadata": {},
     "output_type": "display_data"
    }
   ],
   "source": [
    "import seaborn as sns\n",
    "\n",
    "sns.regplot(\n",
    "    data=method_predictions[['fold_change', 'prediction']], \n",
    "    x=\"fold_change\",\n",
    "    y=\"prediction\", \n",
    "    ci=99, marker=\"x\", color=\".3\", line_kws=dict(color=\"r\"),\n",
    ")"
   ]
  },
  {
   "cell_type": "code",
   "execution_count": null,
   "id": "cf1580c1-8c65-4759-9d8e-f78d2a891dc2",
   "metadata": {},
   "outputs": [],
   "source": []
  }
 ],
 "metadata": {
  "kernelspec": {
   "display_name": "Python [conda env:deepExpTorch2]",
   "language": "python",
   "name": "conda-env-deepExpTorch2-py"
  },
  "language_info": {
   "codemirror_mode": {
    "name": "ipython",
    "version": 3
   },
   "file_extension": ".py",
   "mimetype": "text/x-python",
   "name": "python",
   "nbconvert_exporter": "python",
   "pygments_lexer": "ipython3",
   "version": "3.8.17"
  }
 },
 "nbformat": 4,
 "nbformat_minor": 5
}
