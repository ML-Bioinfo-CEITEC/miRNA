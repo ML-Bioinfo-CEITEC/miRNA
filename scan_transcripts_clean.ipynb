{
 "cells": [
  {
   "cell_type": "code",
   "execution_count": 5,
   "id": "e7f126ac-0cc6-4065-87f9-d9015a5c184e",
   "metadata": {},
   "outputs": [
    {
     "name": "stdout",
     "output_type": "stream",
     "text": [
      "Collecting git+https://github.com/katarinagresova/DeepExperiment\n",
      "  Cloning https://github.com/katarinagresova/DeepExperiment to /tmp/pip-req-build-tmes3tda\n",
      "  Running command git clone --filter=blob:none --quiet https://github.com/katarinagresova/DeepExperiment /tmp/pip-req-build-tmes3tda\n",
      "  Resolved https://github.com/katarinagresova/DeepExperiment to commit fe5a48e3057cc8635c99bfa7828e6da0c2190bca\n",
      "  Preparing metadata (setup.py) ... \u001b[?25ldone\n",
      "\u001b[?25hRequirement already satisfied: requests>=2.23.0 in /home/jovyan/my-conda-envs/deepExperiment2/lib/python3.8/site-packages (from deepexperiment==0.0.1) (2.28.2)\n",
      "Requirement already satisfied: pip>=20.0.1 in /home/jovyan/my-conda-envs/deepExperiment2/lib/python3.8/site-packages (from deepexperiment==0.0.1) (23.0.1)\n",
      "Requirement already satisfied: numpy>=1.17.0 in /home/jovyan/my-conda-envs/deepExperiment2/lib/python3.8/site-packages (from deepexperiment==0.0.1) (1.23.5)\n",
      "Requirement already satisfied: pandas>=1.1.4 in /home/jovyan/my-conda-envs/deepExperiment2/lib/python3.8/site-packages (from deepexperiment==0.0.1) (1.5.3)\n",
      "Requirement already satisfied: opencv-python>=4.6.0 in /home/jovyan/my-conda-envs/deepExperiment2/lib/python3.8/site-packages (from deepexperiment==0.0.1) (4.7.0.72)\n",
      "Requirement already satisfied: shap>=0.41.0 in /home/jovyan/my-conda-envs/deepExperiment2/lib/python3.8/site-packages (from deepexperiment==0.0.1) (0.41.0)\n",
      "Requirement already satisfied: pytz>=2020.1 in /home/jovyan/my-conda-envs/deepExperiment2/lib/python3.8/site-packages (from pandas>=1.1.4->deepexperiment==0.0.1) (2022.7.1)\n",
      "Requirement already satisfied: python-dateutil>=2.8.1 in /home/jovyan/my-conda-envs/deepExperiment2/lib/python3.8/site-packages (from pandas>=1.1.4->deepexperiment==0.0.1) (2.8.2)\n",
      "Requirement already satisfied: urllib3<1.27,>=1.21.1 in /home/jovyan/my-conda-envs/deepExperiment2/lib/python3.8/site-packages (from requests>=2.23.0->deepexperiment==0.0.1) (1.26.14)\n",
      "Requirement already satisfied: charset-normalizer<4,>=2 in /home/jovyan/my-conda-envs/deepExperiment2/lib/python3.8/site-packages (from requests>=2.23.0->deepexperiment==0.0.1) (2.1.1)\n",
      "Requirement already satisfied: certifi>=2017.4.17 in /home/jovyan/my-conda-envs/deepExperiment2/lib/python3.8/site-packages (from requests>=2.23.0->deepexperiment==0.0.1) (2023.5.7)\n",
      "Requirement already satisfied: idna<4,>=2.5 in /home/jovyan/my-conda-envs/deepExperiment2/lib/python3.8/site-packages (from requests>=2.23.0->deepexperiment==0.0.1) (3.4)\n",
      "Requirement already satisfied: tqdm>4.25.0 in /home/jovyan/my-conda-envs/deepExperiment2/lib/python3.8/site-packages (from shap>=0.41.0->deepexperiment==0.0.1) (4.65.0)\n",
      "Requirement already satisfied: scikit-learn in /home/jovyan/my-conda-envs/deepExperiment2/lib/python3.8/site-packages (from shap>=0.41.0->deepexperiment==0.0.1) (1.2.2)\n",
      "Requirement already satisfied: packaging>20.9 in /home/jovyan/my-conda-envs/deepExperiment2/lib/python3.8/site-packages (from shap>=0.41.0->deepexperiment==0.0.1) (23.0)\n",
      "Requirement already satisfied: scipy in /home/jovyan/my-conda-envs/deepExperiment2/lib/python3.8/site-packages (from shap>=0.41.0->deepexperiment==0.0.1) (1.10.1)\n",
      "Requirement already satisfied: slicer==0.0.7 in /home/jovyan/my-conda-envs/deepExperiment2/lib/python3.8/site-packages (from shap>=0.41.0->deepexperiment==0.0.1) (0.0.7)\n",
      "Requirement already satisfied: cloudpickle in /home/jovyan/my-conda-envs/deepExperiment2/lib/python3.8/site-packages (from shap>=0.41.0->deepexperiment==0.0.1) (2.2.1)\n",
      "Requirement already satisfied: numba in /home/jovyan/my-conda-envs/deepExperiment2/lib/python3.8/site-packages (from shap>=0.41.0->deepexperiment==0.0.1) (0.56.4)\n",
      "Requirement already satisfied: six>=1.5 in /home/jovyan/my-conda-envs/deepExperiment2/lib/python3.8/site-packages (from python-dateutil>=2.8.1->pandas>=1.1.4->deepexperiment==0.0.1) (1.16.0)\n",
      "Requirement already satisfied: setuptools in /home/jovyan/my-conda-envs/deepExperiment2/lib/python3.8/site-packages (from numba->shap>=0.41.0->deepexperiment==0.0.1) (67.5.1)\n",
      "Requirement already satisfied: llvmlite<0.40,>=0.39.0dev0 in /home/jovyan/my-conda-envs/deepExperiment2/lib/python3.8/site-packages (from numba->shap>=0.41.0->deepexperiment==0.0.1) (0.39.1)\n",
      "Requirement already satisfied: importlib-metadata in /home/jovyan/my-conda-envs/deepExperiment2/lib/python3.8/site-packages (from numba->shap>=0.41.0->deepexperiment==0.0.1) (6.0.0)\n",
      "Requirement already satisfied: threadpoolctl>=2.0.0 in /home/jovyan/my-conda-envs/deepExperiment2/lib/python3.8/site-packages (from scikit-learn->shap>=0.41.0->deepexperiment==0.0.1) (3.1.0)\n",
      "Requirement already satisfied: joblib>=1.1.1 in /home/jovyan/my-conda-envs/deepExperiment2/lib/python3.8/site-packages (from scikit-learn->shap>=0.41.0->deepexperiment==0.0.1) (1.2.0)\n",
      "Requirement already satisfied: zipp>=0.5 in /home/jovyan/my-conda-envs/deepExperiment2/lib/python3.8/site-packages (from importlib-metadata->numba->shap>=0.41.0->deepexperiment==0.0.1) (3.15.0)\n",
      "--2023-06-13 14:08:00--  https://github.com/ML-Bioinfo-CEITEC/miRBind/raw/main/Models/miRBind.h5\n",
      "Resolving github.com (github.com)... 140.82.121.4\n",
      "Connecting to github.com (github.com)|140.82.121.4|:443... connected.\n",
      "HTTP request sent, awaiting response... 302 Found\n",
      "Location: https://raw.githubusercontent.com/ML-Bioinfo-CEITEC/miRBind/main/Models/miRBind.h5 [following]\n",
      "--2023-06-13 14:08:00--  https://raw.githubusercontent.com/ML-Bioinfo-CEITEC/miRBind/main/Models/miRBind.h5\n",
      "Resolving raw.githubusercontent.com (raw.githubusercontent.com)... 2606:50c0:8000::154, 2606:50c0:8002::154, 2606:50c0:8001::154, ...\n",
      "Connecting to raw.githubusercontent.com (raw.githubusercontent.com)|2606:50c0:8000::154|:443... connected.\n",
      "HTTP request sent, awaiting response... 200 OK\n",
      "Length: 5395488 (5.1M) [application/octet-stream]\n",
      "Saving to: ‘miRBind.h5.1’\n",
      "\n",
      "miRBind.h5.1        100%[===================>]   5.15M  --.-KB/s    in 0.07s   \n",
      "\n",
      "2023-06-13 14:08:00 (72.7 MB/s) - ‘miRBind.h5.1’ saved [5395488/5395488]\n",
      "\n",
      "--2023-06-13 14:08:01--  https://raw.githubusercontent.com/ML-Bioinfo-CEITEC/miRBind/graphs/Datasets/evaluation_set_1_1_CLASH2013_paper.tsv\n",
      "Resolving raw.githubusercontent.com (raw.githubusercontent.com)... 2606:50c0:8000::154, 2606:50c0:8001::154, 2606:50c0:8003::154, ...\n",
      "Connecting to raw.githubusercontent.com (raw.githubusercontent.com)|2606:50c0:8000::154|:443... connected.\n",
      "HTTP request sent, awaiting response... 200 OK\n",
      "Length: 147946 (144K) [text/plain]\n",
      "Saving to: ‘evaluation_set_1_1_CLASH2013_paper.tsv.1’\n",
      "\n",
      "evaluation_set_1_1_ 100%[===================>] 144.48K  --.-KB/s    in 0.02s   \n",
      "\n",
      "2023-06-13 14:08:01 (7.95 MB/s) - ‘evaluation_set_1_1_CLASH2013_paper.tsv.1’ saved [147946/147946]\n",
      "\n"
     ]
    }
   ],
   "source": [
    "# Run these lines only the first time you run this notebook\n",
    "\n",
    "!pip install tensorflow_addons gdown shap -q\n",
    "!pip install git+https://github.com/katarinagresova/DeepExperiment\n",
    "\n",
    "!wget https://github.com/ML-Bioinfo-CEITEC/miRBind/raw/main/Models/miRBind.h5\n",
    "!wget https://raw.githubusercontent.com/ML-Bioinfo-CEITEC/miRBind/graphs/Datasets/evaluation_set_1_1_CLASH2013_paper.tsv"
   ]
  },
  {
   "cell_type": "code",
   "execution_count": 6,
   "id": "905ba2aa-213b-4f88-bde7-f419d1db8b99",
   "metadata": {},
   "outputs": [],
   "source": [
    "import tensorflow"
   ]
  },
  {
   "cell_type": "code",
   "execution_count": 7,
   "id": "7ee475c4-827c-4cbf-a7ef-f2363cc7088c",
   "metadata": {},
   "outputs": [
    {
     "data": {
      "text/plain": [
       "'2.11.0'"
      ]
     },
     "execution_count": 7,
     "metadata": {},
     "output_type": "execute_result"
    }
   ],
   "source": [
    "tensorflow.__version__"
   ]
  },
  {
   "cell_type": "markdown",
   "id": "ca182670-8b8c-45e5-a3e0-c60ed9a3a84d",
   "metadata": {},
   "source": [
    "### Load and preprocess the transcript data"
   ]
  },
  {
   "cell_type": "code",
   "execution_count": 8,
   "id": "22b1e4aa-b4bf-485f-8172-b5de01dab987",
   "metadata": {},
   "outputs": [
    {
     "ename": "FileNotFoundError",
     "evalue": "[Errno 2] No such file or directory: 'data/GCF_000001405.40/rna.fna'",
     "output_type": "error",
     "traceback": [
      "\u001b[0;31m---------------------------------------------------------------------------\u001b[0m",
      "\u001b[0;31mFileNotFoundError\u001b[0m                         Traceback (most recent call last)",
      "Cell \u001b[0;32mIn[8], line 13\u001b[0m\n\u001b[1;32m     10\u001b[0m gene_symbol_to_seq \u001b[38;5;241m=\u001b[39m {}\n\u001b[1;32m     11\u001b[0m file_path \u001b[38;5;241m=\u001b[39m \u001b[38;5;124m'\u001b[39m\u001b[38;5;124mdata/GCF_000001405.40/rna.fna\u001b[39m\u001b[38;5;124m'\u001b[39m\n\u001b[0;32m---> 13\u001b[0m \u001b[38;5;28;01mfor\u001b[39;00m record \u001b[38;5;129;01min\u001b[39;00m \u001b[43mSeqIO\u001b[49m\u001b[38;5;241;43m.\u001b[39;49m\u001b[43mparse\u001b[49m\u001b[43m(\u001b[49m\u001b[43mfile_path\u001b[49m\u001b[43m,\u001b[49m\u001b[43m \u001b[49m\u001b[38;5;124;43m\"\u001b[39;49m\u001b[38;5;124;43mfasta\u001b[39;49m\u001b[38;5;124;43m\"\u001b[39;49m\u001b[43m)\u001b[49m:\n\u001b[1;32m     14\u001b[0m     description \u001b[38;5;241m=\u001b[39m record\u001b[38;5;241m.\u001b[39mdescription\u001b[38;5;241m.\u001b[39msplit()\n\u001b[1;32m     15\u001b[0m     gene_id \u001b[38;5;241m=\u001b[39m \u001b[38;5;28mnext\u001b[39m((item\u001b[38;5;241m.\u001b[39msplit(\u001b[38;5;124m'\u001b[39m\u001b[38;5;124m=\u001b[39m\u001b[38;5;124m'\u001b[39m)[\u001b[38;5;241m1\u001b[39m] \u001b[38;5;28;01mfor\u001b[39;00m item \u001b[38;5;129;01min\u001b[39;00m description \u001b[38;5;28;01mif\u001b[39;00m item\u001b[38;5;241m.\u001b[39mstartswith(\u001b[38;5;124m'\u001b[39m\u001b[38;5;124mgene=\u001b[39m\u001b[38;5;124m'\u001b[39m)), \u001b[38;5;28;01mNone\u001b[39;00m)\n",
      "File \u001b[0;32m~/my-conda-envs/deepExperiment2/lib/python3.8/site-packages/Bio/SeqIO/__init__.py:605\u001b[0m, in \u001b[0;36mparse\u001b[0;34m(handle, format, alphabet)\u001b[0m\n\u001b[1;32m    603\u001b[0m iterator_generator \u001b[38;5;241m=\u001b[39m _FormatToIterator\u001b[38;5;241m.\u001b[39mget(\u001b[38;5;28mformat\u001b[39m)\n\u001b[1;32m    604\u001b[0m \u001b[38;5;28;01mif\u001b[39;00m iterator_generator:\n\u001b[0;32m--> 605\u001b[0m     \u001b[38;5;28;01mreturn\u001b[39;00m \u001b[43miterator_generator\u001b[49m\u001b[43m(\u001b[49m\u001b[43mhandle\u001b[49m\u001b[43m)\u001b[49m\n\u001b[1;32m    606\u001b[0m \u001b[38;5;28;01mif\u001b[39;00m \u001b[38;5;28mformat\u001b[39m \u001b[38;5;129;01min\u001b[39;00m AlignIO\u001b[38;5;241m.\u001b[39m_FormatToIterator:\n\u001b[1;32m    607\u001b[0m     \u001b[38;5;66;03m# Use Bio.AlignIO to read in the alignments\u001b[39;00m\n\u001b[1;32m    608\u001b[0m     \u001b[38;5;28;01mreturn\u001b[39;00m (r \u001b[38;5;28;01mfor\u001b[39;00m alignment \u001b[38;5;129;01min\u001b[39;00m AlignIO\u001b[38;5;241m.\u001b[39mparse(handle, \u001b[38;5;28mformat\u001b[39m) \u001b[38;5;28;01mfor\u001b[39;00m r \u001b[38;5;129;01min\u001b[39;00m alignment)\n",
      "File \u001b[0;32m~/my-conda-envs/deepExperiment2/lib/python3.8/site-packages/Bio/SeqIO/FastaIO.py:223\u001b[0m, in \u001b[0;36mFastaIterator.__init__\u001b[0;34m(self, source, alphabet, title2ids)\u001b[0m\n\u001b[1;32m    204\u001b[0m     warnings\u001b[38;5;241m.\u001b[39mwarn(\n\u001b[1;32m    205\u001b[0m         \u001b[38;5;124m\"\u001b[39m\u001b[38;5;124mThe title2ids argument is deprecated. Instead, please use a \u001b[39m\u001b[38;5;124m\"\u001b[39m\n\u001b[1;32m    206\u001b[0m         \u001b[38;5;124m\"\u001b[39m\u001b[38;5;124mgenerator function to modify records returned by the parser. \u001b[39m\u001b[38;5;124m\"\u001b[39m\n\u001b[0;32m   (...)\u001b[0m\n\u001b[1;32m    220\u001b[0m         BiopythonDeprecationWarning,\n\u001b[1;32m    221\u001b[0m     )\n\u001b[1;32m    222\u001b[0m \u001b[38;5;28mself\u001b[39m\u001b[38;5;241m.\u001b[39mtitle2ids \u001b[38;5;241m=\u001b[39m title2ids\n\u001b[0;32m--> 223\u001b[0m \u001b[38;5;28;43msuper\u001b[39;49m\u001b[43m(\u001b[49m\u001b[43m)\u001b[49m\u001b[38;5;241;43m.\u001b[39;49m\u001b[38;5;21;43m__init__\u001b[39;49m\u001b[43m(\u001b[49m\u001b[43msource\u001b[49m\u001b[43m,\u001b[49m\u001b[43m \u001b[49m\u001b[43mmode\u001b[49m\u001b[38;5;241;43m=\u001b[39;49m\u001b[38;5;124;43m\"\u001b[39;49m\u001b[38;5;124;43mt\u001b[39;49m\u001b[38;5;124;43m\"\u001b[39;49m\u001b[43m,\u001b[49m\u001b[43m \u001b[49m\u001b[43mfmt\u001b[49m\u001b[38;5;241;43m=\u001b[39;49m\u001b[38;5;124;43m\"\u001b[39;49m\u001b[38;5;124;43mFasta\u001b[39;49m\u001b[38;5;124;43m\"\u001b[39;49m\u001b[43m)\u001b[49m\n",
      "File \u001b[0;32m~/my-conda-envs/deepExperiment2/lib/python3.8/site-packages/Bio/SeqIO/Interfaces.py:45\u001b[0m, in \u001b[0;36mSequenceIterator.__init__\u001b[0;34m(self, source, alphabet, mode, fmt)\u001b[0m\n\u001b[1;32m     43\u001b[0m     \u001b[38;5;28;01mraise\u001b[39;00m \u001b[38;5;167;01mValueError\u001b[39;00m(\u001b[38;5;124m\"\u001b[39m\u001b[38;5;124mThe alphabet argument is no longer supported\u001b[39m\u001b[38;5;124m\"\u001b[39m)\n\u001b[1;32m     44\u001b[0m \u001b[38;5;28;01mtry\u001b[39;00m:\n\u001b[0;32m---> 45\u001b[0m     \u001b[38;5;28mself\u001b[39m\u001b[38;5;241m.\u001b[39mstream \u001b[38;5;241m=\u001b[39m \u001b[38;5;28;43mopen\u001b[39;49m\u001b[43m(\u001b[49m\u001b[43msource\u001b[49m\u001b[43m,\u001b[49m\u001b[43m \u001b[49m\u001b[38;5;124;43m\"\u001b[39;49m\u001b[38;5;124;43mr\u001b[39;49m\u001b[38;5;124;43m\"\u001b[39;49m\u001b[43m \u001b[49m\u001b[38;5;241;43m+\u001b[39;49m\u001b[43m \u001b[49m\u001b[43mmode\u001b[49m\u001b[43m)\u001b[49m\n\u001b[1;32m     46\u001b[0m     \u001b[38;5;28mself\u001b[39m\u001b[38;5;241m.\u001b[39mshould_close_stream \u001b[38;5;241m=\u001b[39m \u001b[38;5;28;01mTrue\u001b[39;00m\n\u001b[1;32m     47\u001b[0m \u001b[38;5;28;01mexcept\u001b[39;00m \u001b[38;5;167;01mTypeError\u001b[39;00m:  \u001b[38;5;66;03m# not a path, assume we received a stream\u001b[39;00m\n",
      "\u001b[0;31mFileNotFoundError\u001b[0m: [Errno 2] No such file or directory: 'data/GCF_000001405.40/rna.fna'"
     ]
    }
   ],
   "source": [
    "from Bio import SeqIO\n",
    "import re\n",
    "\n",
    "def extract_gene_symbol(record):\n",
    "    tmp = [re.findall(\"\\((.*?)\\)\", x) for x in record.description.split()]\n",
    "    while([] in tmp):\n",
    "        tmp.remove([])\n",
    "    return tmp[0][0]\n",
    "\n",
    "gene_symbol_to_seq = {}\n",
    "file_path = 'data/GCF_000001405.40/rna.fna'\n",
    "\n",
    "for record in SeqIO.parse(file_path, \"fasta\"):\n",
    "    description = record.description.split()\n",
    "    gene_id = next((item.split('=')[1] for item in description if item.startswith('gene=')), None)\n",
    "    \n",
    "    symbol = extract_gene_symbol(record)\n",
    "    # Do not need the locus tag (== record.id) for now\n",
    "    # gene_symbol_to_seq[symbol] = [record.seq, record.id]\n",
    "    gene_symbol_to_seq[symbol] = record.seq    "
   ]
  },
  {
   "cell_type": "code",
   "execution_count": null,
   "id": "672fad1b-d4df-4b72-b8a7-abb483e2300d",
   "metadata": {},
   "outputs": [],
   "source": [
    "len(gene_symbol_to_seq.items())"
   ]
  },
  {
   "cell_type": "markdown",
   "id": "8cb40897-fb22-45e3-88ef-dbfdc580792b",
   "metadata": {},
   "source": [
    "### Get our deep learning model and miRNA data"
   ]
  },
  {
   "cell_type": "code",
   "execution_count": null,
   "id": "73c46b39-afa9-4b51-85ec-825b88ff2488",
   "metadata": {},
   "outputs": [],
   "source": [
    "import numpy as np\n",
    "import pandas as pd\n",
    "import tensorflow as tf\n",
    "from tensorflow import keras\n",
    "from tensorflow.keras import layers\n",
    "from tensorflow.keras.utils import register_keras_serializable\n",
    "import tensorflow_addons as tfa\n",
    "import cv2 \n",
    "from IPython.display import Image, display\n",
    "import matplotlib.pyplot as plt\n",
    "import matplotlib.cm as cm\n",
    "from textwrap import wrap\n",
    "import random\n",
    "import shap\n",
    "from shap.plots.colors import red_transparent_blue\n",
    "\n",
    "from deepexperiment.alignment import Attrament\n",
    "from deepexperiment.visualization import plot_alignment, plot_miRNA_importance, plotbar_miRNA_importance\n",
    "from deepexperiment.utils import one_hot_encoding, one_hot_encoding_batch\n",
    "from deepexperiment.interpret import DeepShap"
   ]
  },
  {
   "cell_type": "code",
   "execution_count": null,
   "id": "74d599ca-509b-4396-a9a7-9d41f486b2a8",
   "metadata": {},
   "outputs": [],
   "source": [
    "random.seed(42)"
   ]
  },
  {
   "cell_type": "code",
   "execution_count": null,
   "id": "50cd7737-d157-49cd-9c96-0584c9c53c03",
   "metadata": {},
   "outputs": [],
   "source": [
    "\"\"\"# Loading model and the data\"\"\"\n",
    "\n",
    "model = keras.models.load_model(\"miRBind.h5\")\n",
    "# model.summary()\n",
    "\n",
    "samples = pd.read_csv('evaluation_set_1_1_CLASH2013_paper.tsv', sep='\\t')\n",
    "samples.head()\n",
    "\n",
    "# get the miRNAs\n",
    "#     CHANGE choose the miRNA\n",
    "# miRNA = samples['miRNA'].value_counts().index[6]\n",
    "# miRNA"
   ]
  },
  {
   "cell_type": "markdown",
   "id": "1d3e9117-3230-453e-8436-22c39d4f7a77",
   "metadata": {},
   "source": [
    "\n",
    "### Use and evaluate the model"
   ]
  },
  {
   "cell_type": "code",
   "execution_count": null,
   "id": "2853a401-a3af-476a-9bc1-6c78bb11fb0b",
   "metadata": {},
   "outputs": [],
   "source": [
    "# n = 50 is number of samples used as a background image to compare the input with during the shap method\n",
    "rand_samples = samples.sample(n=50, replace=False, random_state=42).reset_index(drop=True)\n",
    "background, _ = one_hot_encoding_batch(rand_samples)\n",
    "deepShap = DeepShap(model, background)"
   ]
  },
  {
   "cell_type": "code",
   "execution_count": null,
   "id": "fd286ab8-2427-4059-adf2-31ea4cb07c13",
   "metadata": {},
   "outputs": [],
   "source": [
    "# from numpy import random\n",
    "\n",
    "def score_sequence_attribution_minimal(gene, input_miRNA, model, draw_plot=False, step=10, length=50):\n",
    "    # TODO quick fix: tensor_dim argument in one_hot_encoding_batch() and the whole model expects RNA of len 20\n",
    "    miRNA = input_miRNA[0:20]\n",
    "    \n",
    "    miRNAs = []\n",
    "    genes = []\n",
    "\n",
    "    for i in range(0, len(gene) - length, step):\n",
    "        start = max(i, 0)\n",
    "        end = min(i+50, len(gene))\n",
    "        miRNAs.append(miRNA)\n",
    "        genes.append(gene[start:end])\n",
    "\n",
    "    labels = np.zeros(len(genes))\n",
    "\n",
    "    df = pd.DataFrame(\n",
    "        {'miRNA': miRNAs,\n",
    "         'gene': genes,\n",
    "         'label': labels\n",
    "        })\n",
    "    data, _ = one_hot_encoding_batch(df, tensor_dim=(50, 20, 1))\n",
    "    preds = model(data)\n",
    "\n",
    "    attribution = np.zeros((len(gene), len(miRNA)))\n",
    "    shap_indices = []\n",
    "    pred_indices = []\n",
    "    preds_indices = []\n",
    "    shap_data = []\n",
    "\n",
    "  # counter == index to predictions for windows\n",
    "    counter = 0\n",
    "    for i in range(0, len(gene) - length, step):\n",
    "        if preds[counter][1] > 0.5:\n",
    "            # shap_indices == indices of positively predicted sliding windows (indexes preds array)\n",
    "            shap_indices.append(counter)\n",
    "            pred_indices.append(i)\n",
    "            shap_data.append(data[counter])\n",
    "        counter+=1\n",
    "    \n",
    "    # TODO quick fix: if at this point the 'shap_data' is empty array [], it means no prediction was > 0.5, therefore (for now) let's predict 0 binding affinity  \n",
    "    if len(shap_data) == 0:\n",
    "        return []\n",
    "    \n",
    "    shap_data = np.stack(shap_data)\n",
    "    # TODO: batching?\n",
    "    # using only pos_shap cos we only care about positives, pos_shap and neg_shap are opposites for binary classification\n",
    "    neg_shap, pos_shap = deepShap(shap_data)\n",
    "\n",
    "    for i in range(0, len(shap_indices)):\n",
    "\n",
    "        normalized_shap = pos_shap[i,:,:,0] * preds[shap_indices[i]][1]\n",
    "\n",
    "        # padding current shap-value-matrix to sum it up to the cumulative attribution matrix\n",
    "        newrows = np.zeros((pred_indices[i], normalized_shap.shape[1]))\n",
    "        normalized_shap = np.vstack([newrows, normalized_shap])\n",
    "        newrows = np.zeros((len(gene) - pred_indices[i] - length, normalized_shap.shape[1]))\n",
    "        normalized_shap = np.vstack([normalized_shap, newrows])\n",
    "\n",
    "        attribution += normalized_shap\n",
    "\n",
    "    attribution = attribution.T.max(axis=0)\n",
    "    # Fix `counts = ...` for genes shorter than 98 nucleotides\n",
    "    # pad the `attribution` or truncate `counts`\n",
    "    counts = list(range(1, 50)) + (len(attribution) - 98) * [50] + list(range(49, 0, -1))\n",
    "    if len(attribution) < 98:\n",
    "        counts = counts[:len(attribution)]\n",
    "        # plt.figure(num = random.randint(0, 1000)) # num is a unique identifier for the figure\n",
    "        # plt.plot(counts)\n",
    "        # plt.plot(attribution * 1000)\n",
    "        # plt.show()\n",
    "    \n",
    "    try:            \n",
    "        normalized_scores = attribution / np.array(counts)\n",
    "    except Exception as e:\n",
    "        print(e)\n",
    "        print(miRNA)\n",
    "        print(gene)\n",
    "        print(len(attribution), len(np.array(counts)))\n",
    "        normalized_scores = 0\n",
    "    \n",
    "\n",
    "    if draw_plot:\n",
    "        #     TODO change printing into a single plot?\n",
    "        plt.figure(num = random.randint(0, 1000)) # num is a unique identifier for the figure\n",
    "        plt.plot(normalized_scores);\n",
    "    \n",
    "    return normalized_scores"
   ]
  },
  {
   "cell_type": "code",
   "execution_count": null,
   "id": "d7dee749-597b-43f9-8650-32aea122a0f4",
   "metadata": {},
   "outputs": [],
   "source": []
  },
  {
   "cell_type": "markdown",
   "id": "aab25ce0-dab9-427d-b6e2-f579ae2bc6c5",
   "metadata": {},
   "source": [
    "### Get the scores for FC comparison using files from Bartel  "
   ]
  },
  {
   "cell_type": "code",
   "execution_count": null,
   "id": "8c994b27-ee93-4054-8c30-703a71e8ebd1",
   "metadata": {},
   "outputs": [],
   "source": [
    "mirna_FCs = pd.read_csv('modules/evaluation/mirna_fcs.csv',index_col=0, header=0, sep=',')"
   ]
  },
  {
   "cell_type": "code",
   "execution_count": null,
   "id": "9c5849d4-3c40-4b3e-872d-ecbd7e7a2a92",
   "metadata": {},
   "outputs": [],
   "source": [
    "mirna_FCs"
   ]
  },
  {
   "cell_type": "code",
   "execution_count": null,
   "id": "82506272-792d-4d4d-8bdb-c5844d356b42",
   "metadata": {},
   "outputs": [],
   "source": [
    "def rna_to_dna(rna_sample):\n",
    "    rna_dic = {\n",
    "        'A':'A',\n",
    "        'C':'C',\n",
    "        'U':'T',\n",
    "        'G':'G',\n",
    "    }\n",
    "    converted = [rna_dic[x.upper()] for x in rna_sample]\n",
    "    new = \"\"\n",
    "    # traverse in the string\n",
    "    for x in converted:\n",
    "        new += x\n",
    "    # return string\n",
    "    return new"
   ]
  },
  {
   "cell_type": "code",
   "execution_count": null,
   "id": "a691dda2-c96c-488a-8267-f98bfa99f976",
   "metadata": {},
   "outputs": [],
   "source": [
    "mirna_sequences = ['UAGCAGCACGUAAAUAUUGGCG', 'UAAAGUGCUGACAGUGCAGAU', 'UAACACUGUCUGGUAACGAUGU', 'UAAUACUGCCUGGUAAUGAUGA', 'AUGACCUAUGAAUUGACAGAC', 'UGAGGUAGUAGGUUGUAUGGUU', 'AGCAGCAUUGUACAGGGCUAUGA']\n",
    "mirna_sequences = [rna_to_dna(x) for x in mirna_sequences]\n",
    "print(mirna_sequences)"
   ]
  },
  {
   "cell_type": "code",
   "execution_count": null,
   "id": "3e1867e5-0596-4ef1-aae9-d04299ca9e53",
   "metadata": {},
   "outputs": [],
   "source": [
    "miRNA_names = ['hsa-miR-16-5p', 'hsa-miR-106b-5p', 'hsa-miR-200a-3p', 'hsa-miR-200b-3p', 'hsa-miR-215-5p', 'hsa-let-7c-5p', 'hsa-miR-103a-3p']\n",
    "miRNA_name_to_seq = {}\n",
    "for i in range(len(miRNA_names)):\n",
    "    miRNA_name_to_seq[miRNA_names[i]] = mirna_sequences[i]\n",
    "miRNA_name_to_seq"
   ]
  },
  {
   "cell_type": "markdown",
   "id": "5b50f923-cb9f-496c-8711-6859287389a9",
   "metadata": {},
   "source": [
    "#### Only for 1 miRNA now "
   ]
  },
  {
   "cell_type": "code",
   "execution_count": null,
   "id": "f310f1b9-94f1-4baa-858d-ff4a7d1e9511",
   "metadata": {},
   "outputs": [],
   "source": [
    "mirna_sequences = ['hsa-miR-106b-5p']\n",
    "mirna_sequences\n",
    "mirna_name = 'hsa-miR-106b-5p'\n",
    "# my_miRNA = 'TAGCAGCACGTAAATATTGGCG'\n",
    "my_miRNA = 'TAAAGTGCTGACAGTGCAGAT'"
   ]
  },
  {
   "cell_type": "code",
   "execution_count": null,
   "id": "85322e33-e908-40a1-8162-8770c8d718cd",
   "metadata": {},
   "outputs": [],
   "source": [
    "gene_symbols = mirna_FCs[mirna_FCs[mirna_name].isnull() == False]['Gene symbol'].values\n",
    "print(len(gene_symbols))"
   ]
  },
  {
   "cell_type": "markdown",
   "id": "74ad6bcc-b16e-4299-9da1-e6fbf0187cea",
   "metadata": {},
   "source": [
    "#### Set `threshold_len` to filter out longer genes"
   ]
  },
  {
   "cell_type": "code",
   "execution_count": null,
   "id": "9a206d56-ce79-42b5-8a5e-b15b3f671e6f",
   "metadata": {},
   "outputs": [],
   "source": [
    "# threshold_len = 0\n",
    "\n",
    "# if threshold_len > 0:\n",
    "#     count = 0\n",
    "#     for key,value in gene_symbol_to_seq.items():\n",
    "#         if(len(value) < threshold_len):\n",
    "#             count += 1\n",
    "#     count"
   ]
  },
  {
   "cell_type": "code",
   "execution_count": 42,
   "id": "07813f3a-c7c4-41f1-9134-cebc31b5e465",
   "metadata": {},
   "outputs": [],
   "source": [
    "# if threshold_len > 0:\n",
    "#     count_too_long = 0\n",
    "#     count_kept = 0\n",
    "#     for key,value in gene_symbol_to_seq.items():\n",
    "#         if(len(value) > threshold_len):\n",
    "#             gene_symbol_to_seq[key] = []\n",
    "#             count_too_long += 1\n",
    "#         else:\n",
    "#             count_kept += 1\n",
    "#     print('count_too_long, len > ', threshold_len, \" : \", count_too_long)\n",
    "#     print('count_kept ', count_kept)"
   ]
  },
  {
   "cell_type": "markdown",
   "id": "30f272ab-a3df-4dfc-8a4f-2815abf3ef17",
   "metadata": {},
   "source": [
    "### Scan the transcript"
   ]
  },
  {
   "cell_type": "code",
   "execution_count": null,
   "id": "03584b22-b197-499a-bec1-5f88bd81831f",
   "metadata": {},
   "outputs": [
    {
     "name": "stdout",
     "output_type": "stream",
     "text": [
      "hsa-miR-106b-5p\n"
     ]
    }
   ],
   "source": [
    "import time\n",
    "\n",
    "# two objects to collect results for now, will see which one is more handy\n",
    "score_table = []\n",
    "miRNA_to_gene_score = {}\n",
    "explain_errors = []\n",
    "\n",
    "start = time.time()\n",
    "\n",
    "i = 0\n",
    "for miRNA in mirna_sequences[:1]:\n",
    "    print(miRNA)\n",
    "    if miRNA not in miRNA_to_gene_score:\n",
    "        miRNA_to_gene_score[miRNA] = []\n",
    "    for gene_symbol, gene_sequence in gene_symbol_to_seq.items():\n",
    "        if len(gene_sequence) > 0:\n",
    "            # print(len(value), len(miRNA))\n",
    "            if len(miRNA) > 22:\n",
    "                print(miRNA)\n",
    "            try:\n",
    "                score = score_sequence_attribution_minimal(gene_sequence, miRNA, model, draw_plot=False)\n",
    "                score_table.append([miRNA, gene_symbol, score])\n",
    "                miRNA_to_gene_score[miRNA].append([gene_symbol, score])\n",
    "            except AssertionError as e:\n",
    "                print(miRNA, gene_symbol, e)\n",
    "                explain_errors.append([miRNA, gene_symbol, e])\n",
    "                \n",
    "        else:\n",
    "            explain_errors.append(gene_symbol)\n",
    "        \n",
    "        i+=1\n",
    "        if i % 100 == 0:\n",
    "            print(gene_symbol, \" || \" , end =\" \")\n",
    "        # if i > 1000:\n",
    "        #     break\n",
    "        \n",
    "            \n",
    "end = time.time()\n",
    "print(end - start, ' seconds')"
   ]
  },
  {
   "cell_type": "code",
   "execution_count": null,
   "id": "05a84fea-d911-48e8-a6af-57c1ad56ed92",
   "metadata": {},
   "outputs": [],
   "source": [
    "score_table[:3]"
   ]
  },
  {
   "cell_type": "code",
   "execution_count": null,
   "id": "3c82899a-2b4d-4e10-b037-22bbc1ec9d17",
   "metadata": {},
   "outputs": [],
   "source": [
    "empties = 0\n",
    "for gene_n_score in miRNA_to_gene_score[my_miRNA]:\n",
    "    if len(gene_n_score[1]) == 0:\n",
    "        empties += 1\n",
    "print(empties, ' / ', len(miRNA_to_gene_score[my_miRNA]))"
   ]
  },
  {
   "cell_type": "markdown",
   "id": "2b18c76d-d1e7-47b9-86e4-3f42eccffaad",
   "metadata": {},
   "source": [
    "#### Save the explainability scoring to a file"
   ]
  },
  {
   "cell_type": "code",
   "execution_count": null,
   "id": "eb63223b-8745-42ad-9037-2a09ec44665e",
   "metadata": {},
   "outputs": [],
   "source": [
    "for key, value in miRNA_name_to_seq.items():\n",
    "    if value == my_miRNA:\n",
    "        print(key)\n",
    "        my_miRNA_name = key"
   ]
  },
  {
   "cell_type": "code",
   "execution_count": null,
   "id": "662f7e06-40d0-48c6-8748-6dcdb9fae446",
   "metadata": {},
   "outputs": [],
   "source": [
    "print(type(miRNA_to_gene_score), type(miRNA_to_gene_score[my_miRNA]))"
   ]
  },
  {
   "cell_type": "code",
   "execution_count": null,
   "id": "f62afd21-8bd5-46c3-9de7-396477fee387",
   "metadata": {},
   "outputs": [],
   "source": [
    "import json\n",
    "\n",
    "save_scores_path = \"explainability_scores_{}.json\".format(my_miRNA_name)\n",
    "\n",
    "with open(save_scores_path, 'w') as file:\n",
    "    data_to_save = {}\n",
    "    for key in miRNA_to_gene_score.keys():\n",
    "        data_to_save[key] = [[sub_key, list(sub_val)] for sub_key, sub_val in miRNA_to_gene_score[key]]\n",
    "\n",
    "    json.dump(data_to_save, file, indent=4)"
   ]
  },
  {
   "cell_type": "markdown",
   "id": "7d66d6ce-f09e-446f-b1b8-046a44f985c7",
   "metadata": {},
   "source": [
    "#### Load the explainability scoring"
   ]
  },
  {
   "cell_type": "code",
   "execution_count": null,
   "id": "38f80592-4513-4eb7-b5d6-a5969f1b79ab",
   "metadata": {},
   "outputs": [],
   "source": [
    "load_scores_path = save_scores_path\n",
    "\n",
    "with open(load_scores_path, 'r') as file:\n",
    "    miRNA_to_gene_score_loaded = json.load(file)"
   ]
  },
  {
   "cell_type": "code",
   "execution_count": null,
   "id": "bdd7f78d-9708-4617-a588-193bb7b82205",
   "metadata": {},
   "outputs": [],
   "source": [
    "print(type(miRNA_to_gene_score_loaded), type(miRNA_to_gene_score_loaded[my_miRNA]))"
   ]
  },
  {
   "cell_type": "markdown",
   "id": "596c956a-e90d-470a-9df2-70d2221efb1f",
   "metadata": {},
   "source": [
    "### Plot"
   ]
  },
  {
   "cell_type": "code",
   "execution_count": null,
   "id": "e43aefad-c784-4dcd-bdbc-a5ee68b5af1c",
   "metadata": {},
   "outputs": [],
   "source": [
    "# gene_symbol_to_score = {}\n",
    "\n",
    "# for i in miRNA_to_gene_score_loaded[my_miRNA]:\n",
    "#     gene_symbol = i[0]\n",
    "#     score = i[1]\n",
    "#     gene_symbol_to_score[gene_symbol] = score"
   ]
  },
  {
   "cell_type": "code",
   "execution_count": null,
   "id": "e910bea3-ed9d-43ad-988f-12413fedfedc",
   "metadata": {},
   "outputs": [],
   "source": [
    "from modules.collect_scores.bymean import bymeanfunc\n",
    "from modules.collect_scores.bysum import bysumfunc\n",
    "from modules.collect_scores.bymaxvalue import bymaxvaluefunc\n",
    "import math\n",
    "\n",
    "# from modules.collect_scores.simple_methods import bymaxvaluefunc, bysumfunc, bymeanfunc\n",
    "\n",
    "gene_score=[]\n",
    "# for gene,score in gene_to_score.items():\n",
    "for gene_, score_signal in miRNA_to_gene_score_loaded[my_miRNA]:\n",
    "    if len(score_signal) > 0:\n",
    "        prediction = bymaxvaluefunc(score_signal)\n",
    "        gene_score.append([gene_symbol, prediction])\n",
    "    else:\n",
    "        gene_score.append([gene_symbol, 0])\n",
    "        \n",
    "        # \"-1 * x\" because we compare with fold change where lower == more impact\n",
    "        # prediction = -1 * bymaxvaluefunc(gene_to_score[gene])\n",
    "        # prediction = math.log(bymaxvaluefunc(gene_to_score[gene]))\n",
    "        \n",
    "        # gene : [real, prediction] \n",
    "        # gene_to_comparison[gene] = [gene_to_fc[gene], prediction]\n",
    "        "
   ]
  },
  {
   "cell_type": "code",
   "execution_count": null,
   "id": "a6c857f4-ebc7-4a6a-b820-5e2456772001",
   "metadata": {},
   "outputs": [],
   "source": [
    "results_df = pd.DataFrame(gene_score, columns=[\"Gene Symbol\",\"score\"])\n",
    "results_df"
   ]
  },
  {
   "cell_type": "code",
   "execution_count": null,
   "id": "d9002489-8bef-4060-8411-bb557c606088",
   "metadata": {},
   "outputs": [],
   "source": []
  },
  {
   "cell_type": "markdown",
   "id": "439d787d-cac6-46f1-92d1-c3c4673c8596",
   "metadata": {},
   "source": [
    "#### (prediction) for genes\n",
    "X axis is different genes, Y axis is fold change"
   ]
  },
  {
   "cell_type": "code",
   "execution_count": null,
   "id": "ee09a9b8-0af8-4410-8cf3-44a63aa4587f",
   "metadata": {},
   "outputs": [],
   "source": [
    "import pandas as pd\n",
    "import plotly.graph_objs as go\n",
    "import matplotlib.pyplot as plt\n",
    "\n",
    "###Importing dummy data\n",
    "#Predictions\n",
    "targetscan = pd.read_csv('Predicted_Targets_Context_Scores.default_predictions.txt',index_col=0, header=0, sep='\\t')\n",
    "targetscan = targetscan[[\"context++ score\",\"weighted context++ score\",\"miRNA\",\"Gene Symbol\"]]\n",
    "targetscan = targetscan[targetscan['miRNA'] == \"hsa-miR-215-5p\"]\n",
    "#Expression\n",
    "mirna_FCs = pd.read_csv('mirna_fcs.csv',index_col=0, header=0, sep=',')\n",
    "mirna = my_miRNA_name\n",
    "\n",
    "\n",
    "predictions = {}\n",
    "\n",
    "predictions[\"context++ score\"] = targetscan[[\"context++ score\",\"miRNA\",\"Gene Symbol\"]]\n",
    "predictions[\"context++ score\"] = predictions[\"context++ score\"].rename(columns={'context++ score': 'score'})\n",
    "predictions[\"weighted context++ score\"] = targetscan[[\"weighted context++ score\",\"miRNA\",\"Gene Symbol\"]]\n",
    "predictions[\"weighted context++ score\"] = predictions[\"weighted context++ score\"].rename(columns={'weighted context++ score': 'score'})\n"
   ]
  },
  {
   "cell_type": "code",
   "execution_count": null,
   "id": "c8bf388a-5617-4118-9e98-18efb4abe728",
   "metadata": {},
   "outputs": [],
   "source": [
    "predictions[\"context++ score\"]"
   ]
  },
  {
   "cell_type": "code",
   "execution_count": null,
   "id": "73ef14fc-1fda-476b-b634-d712fec8fae8",
   "metadata": {},
   "outputs": [],
   "source": [
    "merged_df = pd.merge(predictions[\"context++ score\"],\n",
    "                             mirna_FCs[[\"Gene symbol\",mirna]],\n",
    "                             left_on='Gene Symbol',\n",
    "                             right_on='Gene symbol',\n",
    "                             how='left').sort_values(\"hsa-miR-16-5p\",\n",
    "                                                     ascending=True).dropna()\n",
    "merged_df"
   ]
  },
  {
   "cell_type": "code",
   "execution_count": null,
   "id": "db02d017-bf9b-41b0-bd24-5498a08fd158",
   "metadata": {},
   "outputs": [],
   "source": [
    "results_df_merged = pd.merge(results_df,\n",
    "                             mirna_FCs[[\"Gene symbol\",mirna]],\n",
    "                             left_on='Gene Symbol',\n",
    "                             right_on='Gene symbol',\n",
    "                             how='left').sort_values(\"hsa-miR-16-5p\",\n",
    "                                                     ascending=True)\n",
    "                                                     # ascending=True).dropna()\n",
    "\n",
    "results_df_merged"
   ]
  },
  {
   "cell_type": "code",
   "execution_count": null,
   "id": "636d12e9-71a5-4919-8095-06d97aaa0544",
   "metadata": {},
   "outputs": [],
   "source": []
  },
  {
   "cell_type": "code",
   "execution_count": null,
   "id": "c4727255-0d29-496a-9112-84691e1b92c8",
   "metadata": {},
   "outputs": [],
   "source": [
    "mirna_FCs"
   ]
  },
  {
   "cell_type": "code",
   "execution_count": null,
   "id": "68aa96d7-876e-41f7-b4a6-6cae65367033",
   "metadata": {},
   "outputs": [],
   "source": [
    "results = {}\n",
    "for algorithm in predictions:\n",
    "        results[algorithm] = pd.DataFrame(columns=[\"Targets\",\"Mean_mRNA_FC\"])\n",
    "        merged_df = pd.merge(predictions[algorithm],\n",
    "                             mirna_FCs[[\"Gene symbol\",mirna]],\n",
    "                             left_on='Gene Symbol',\n",
    "                             right_on='Gene symbol',\n",
    "                             how='left').sort_values(\"score\",\n",
    "                                                     ascending=True).dropna()\n",
    "        \n",
    "        \n",
    "        for i,targets in enumerate([2**n for n in range(2, 11)]):\n",
    "            tmp = merged_df.head(targets)\n",
    "            meanFC = tmp[mirna].mean()\n",
    "            results[algorithm].loc[i,\"Targets\"] = targets\n",
    "            results[algorithm].loc[i,\"Mean_mRNA_FC\"] = meanFC"
   ]
  },
  {
   "cell_type": "code",
   "execution_count": null,
   "id": "cfd2a7b1-d37e-4b10-9ee6-2a20cd5ed53d",
   "metadata": {},
   "outputs": [],
   "source": [
    "fig = go.Figure()\n",
    "\n",
    "for algorithm in results:\n",
    "    fig.add_trace(go.Scatter(x=results[algorithm]['Targets'].index.tolist(),\n",
    "                                 y=results[algorithm]['Mean_mRNA_FC'],\n",
    "                                 mode='lines+markers',\n",
    "                                 name=algorithm)\n",
    "                                 )\n",
    "\n",
    "\n",
    "    # create the layout for the plot\n",
    "fig.update_layout(xaxis=dict(tickvals=results[algorithm]['Targets'].index.tolist(),\n",
    "                             ticktext=results[algorithm]['Targets'],\n",
    "                             title = 'Top predicted targets'),\n",
    "                  yaxis=dict(title='Mean_mRNA_FC'),\n",
    "                  title=f'Benchmark on {mirna} dataset')\n",
    "    \n",
    "    # show the plot\n",
    "fig.show()\n",
    "# iplot(fig)               # use plotly.offline.iplot for offline plot"
   ]
  },
  {
   "cell_type": "markdown",
   "id": "e971d46e-2fbf-4714-aba4-a2c8961d751e",
   "metadata": {},
   "source": [
    "### Compare with FC"
   ]
  },
  {
   "cell_type": "code",
   "execution_count": null,
   "id": "977af492-f583-4727-b06e-48d01740f502",
   "metadata": {},
   "outputs": [],
   "source": [
    "def get_scores_by_miRNA(miRNA, score_table):\n",
    "    result = {}\n",
    "    for row in score_table:\n",
    "        if row[0] == miRNA:\n",
    "            result[row[1]] = row[2] \n",
    "    return result"
   ]
  },
  {
   "cell_type": "code",
   "execution_count": null,
   "id": "0030e597-7dc1-4383-a271-f42b95d02d5c",
   "metadata": {},
   "outputs": [],
   "source": [
    "miRNA_chosen = score_table[0][0]\n",
    "gene_to_score = get_scores_by_miRNA(\n",
    "    miRNA_chosen, \n",
    "    score_table\n",
    ")\n",
    "\n",
    "miRNA_chosen_name = [i for i in miRNA_name_to_seq if miRNA_name_to_seq[i]==miRNA_chosen]\n",
    "miRNA_chosen_name = miRNA_chosen_name[0]\n",
    "print('scores for miRNA: ', miRNA_chosen_name, \" : \", miRNA_chosen)"
   ]
  },
  {
   "cell_type": "code",
   "execution_count": null,
   "id": "935a0db3-8a46-4071-af2a-b2f45e1024a7",
   "metadata": {},
   "outputs": [],
   "source": [
    "# genes_for_miRNA = mirna_FCs[mirna_FCs[miRNA_chosen_name].isnull() == False]['Gene symbol'].values"
   ]
  },
  {
   "cell_type": "code",
   "execution_count": null,
   "id": "cfeb013b-e273-4617-8a73-1a3ac3925b01",
   "metadata": {},
   "outputs": [],
   "source": [
    "fc_for_miRNA = mirna_FCs[mirna_FCs[miRNA_chosen_name].isnull() == False][['Gene symbol', miRNA_chosen_name]].values"
   ]
  },
  {
   "cell_type": "code",
   "execution_count": null,
   "id": "d222cb91-04f6-4507-a4a9-5f2be5283446",
   "metadata": {},
   "outputs": [],
   "source": [
    "fc_for_miRNA"
   ]
  },
  {
   "cell_type": "code",
   "execution_count": null,
   "id": "5d7a65ad-f39d-423a-80c5-f64c5799a73d",
   "metadata": {},
   "outputs": [],
   "source": [
    "gene_to_fc = {fc_for_miRNA[i][0] : fc_for_miRNA[i][1] for i in range(len(fc_for_miRNA))}"
   ]
  },
  {
   "cell_type": "code",
   "execution_count": null,
   "id": "57cb1abe-4e8d-4b7e-89ee-49755b88f2ae",
   "metadata": {},
   "outputs": [],
   "source": [
    "gene_to_comparison"
   ]
  },
  {
   "cell_type": "code",
   "execution_count": null,
   "id": "aae6775a-a66a-4c44-b9aa-ba8519bd2e50",
   "metadata": {},
   "outputs": [],
   "source": [
    "import numpy as np\n",
    "\n",
    "predictions = [x[1] for x in gene_to_comparison.values()]\n",
    "\n",
    "#normalize all values to be between 0 and 1\n",
    "predictions_norm = (predictions-np.min(predictions))/(np.max(predictions)-np.min(predictions))\n",
    "predictions_norm"
   ]
  },
  {
   "cell_type": "code",
   "execution_count": null,
   "id": "ade35140-3b48-4e79-8433-681803add685",
   "metadata": {},
   "outputs": [],
   "source": [
    "pred_min = np.min(predictions)\n",
    "pred_max = np.max(predictions)\n",
    "\n",
    "gene_to_comparison_norm = {}\n",
    "for key,value in gene_to_comparison.items():\n",
    "    norm_value = (value[1]-pred_min)/(pred_max-pred_min)\n",
    "    # if norm_value == 0:\n",
    "    #     norm_value = math.log(0.001)\n",
    "    # else:\n",
    "    #     norm_value = math.log(norm_value)\n",
    "    gene_to_comparison_norm[key] = [value[0], norm_value]"
   ]
  },
  {
   "cell_type": "code",
   "execution_count": null,
   "id": "11da6449-d7dc-42c2-aa7c-8317f7f169c1",
   "metadata": {},
   "outputs": [],
   "source": [
    "gene_to_comparison_norm"
   ]
  },
  {
   "cell_type": "markdown",
   "id": "ea1ef9cc-0361-404a-a9b9-6efa74a836db",
   "metadata": {},
   "source": [
    "#### (FC and prediction) for genes\n",
    "X axis is different genes, Y axis is fold change"
   ]
  },
  {
   "cell_type": "code",
   "execution_count": null,
   "id": "0b8babef-93e7-4927-8669-1ce820f01b3d",
   "metadata": {},
   "outputs": [],
   "source": [
    "fc_vis = [x[0] for x in list(gene_to_comparison.values())]\n",
    "preds_vis = [x[1] for x in list(gene_to_comparison.values())]\n",
    "print(fc_vis, preds_vis)"
   ]
  },
  {
   "cell_type": "code",
   "execution_count": null,
   "id": "98eb7c2f-eafc-442a-b825-3e1d813e8598",
   "metadata": {},
   "outputs": [],
   "source": [
    "plt.figure(num = random.randint(0, 1000)) # num is a unique identifier for the figure\n",
    "plt.scatter(fc_vis, preds_vis)"
   ]
  },
  {
   "cell_type": "code",
   "execution_count": null,
   "id": "6d8d5447-2808-44d5-b707-f432009cd9d5",
   "metadata": {},
   "outputs": [],
   "source": [
    "predictions = [x[1] for x in gene_to_comparison.values()]\n",
    "\n",
    "\n",
    "plt.figure(num = random.randint(0, 1000)) # num is a unique identifier for the figure\n",
    "plt.plot(predictions);"
   ]
  }
 ],
 "metadata": {
  "kernelspec": {
   "display_name": "Python [conda env:deepExperiment2]",
   "language": "python",
   "name": "conda-env-deepExperiment2-py"
  },
  "language_info": {
   "codemirror_mode": {
    "name": "ipython",
    "version": 3
   },
   "file_extension": ".py",
   "mimetype": "text/x-python",
   "name": "python",
   "nbconvert_exporter": "python",
   "pygments_lexer": "ipython3",
   "version": "3.8.16"
  }
 },
 "nbformat": 4,
 "nbformat_minor": 5
}
