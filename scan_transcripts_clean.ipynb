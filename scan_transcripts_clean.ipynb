{
 "cells": [
  {
   "cell_type": "code",
   "execution_count": 1,
   "id": "e7f126ac-0cc6-4065-87f9-d9015a5c184e",
   "metadata": {},
   "outputs": [],
   "source": [
    "# Run these lines only the first time you run this notebook\n",
    "\n",
    "# !pip install tensorflow_addons gdown shap -q\n",
    "# !pip install git+https://github.com/katarinagresova/DeepExperiment\n",
    "\n",
    "# !wget https://github.com/ML-Bioinfo-CEITEC/miRBind/raw/main/Models/miRBind.h5\n",
    "# !wget https://raw.githubusercontent.com/ML-Bioinfo-CEITEC/miRBind/graphs/Datasets/evaluation_set_1_1_CLASH2013_paper.tsv"
   ]
  },
  {
   "cell_type": "code",
   "execution_count": 2,
   "id": "905ba2aa-213b-4f88-bde7-f419d1db8b99",
   "metadata": {},
   "outputs": [],
   "source": [
    "import tensorflow"
   ]
  },
  {
   "cell_type": "code",
   "execution_count": 3,
   "id": "7ee475c4-827c-4cbf-a7ef-f2363cc7088c",
   "metadata": {},
   "outputs": [
    {
     "data": {
      "text/plain": [
       "'2.9.0'"
      ]
     },
     "execution_count": 3,
     "metadata": {},
     "output_type": "execute_result"
    }
   ],
   "source": [
    "tensorflow.__version__"
   ]
  },
  {
   "cell_type": "markdown",
   "id": "ca182670-8b8c-45e5-a3e0-c60ed9a3a84d",
   "metadata": {},
   "source": [
    "### Load and preprocess the transcript data"
   ]
  },
  {
   "cell_type": "code",
   "execution_count": 4,
   "id": "22b1e4aa-b4bf-485f-8172-b5de01dab987",
   "metadata": {},
   "outputs": [],
   "source": [
    "from Bio import SeqIO\n",
    "import re\n",
    "\n",
    "def extract_gene_symbol(record):\n",
    "    tmp = [re.findall(\"\\((.*?)\\)\", x) for x in record.description.split()]\n",
    "    while([] in tmp):\n",
    "        tmp.remove([])\n",
    "    return tmp[0][0]\n",
    "\n",
    "gene_symbol_to_seq = {}\n",
    "file_path = 'data/GCF_000001405.40/rna.fna'\n",
    "\n",
    "for record in SeqIO.parse(file_path, \"fasta\"):\n",
    "    description = record.description.split()\n",
    "    gene_id = next((item.split('=')[1] for item in description if item.startswith('gene=')), None)\n",
    "    \n",
    "    symbol = extract_gene_symbol(record)\n",
    "    # Do not need the locus tag (== record.id) for now\n",
    "    # gene_symbol_to_seq[symbol] = [record.seq, record.id]\n",
    "    gene_symbol_to_seq[symbol] = record.seq    "
   ]
  },
  {
   "cell_type": "code",
   "execution_count": 5,
   "id": "672fad1b-d4df-4b72-b8a7-abb483e2300d",
   "metadata": {},
   "outputs": [
    {
     "data": {
      "text/plain": [
       "42423"
      ]
     },
     "execution_count": 5,
     "metadata": {},
     "output_type": "execute_result"
    }
   ],
   "source": [
    "len(gene_symbol_to_seq.items())"
   ]
  },
  {
   "cell_type": "markdown",
   "id": "8cb40897-fb22-45e3-88ef-dbfdc580792b",
   "metadata": {},
   "source": [
    "### Get our deep learning model and miRNA data"
   ]
  },
  {
   "cell_type": "code",
   "execution_count": 6,
   "id": "73c46b39-afa9-4b51-85ec-825b88ff2488",
   "metadata": {},
   "outputs": [
    {
     "name": "stderr",
     "output_type": "stream",
     "text": [
      "/home/jovyan/my-conda-envs/deepExperimentTF2.7/lib/python3.8/site-packages/tensorflow_addons/utils/ensure_tf_install.py:53: UserWarning: Tensorflow Addons supports using Python ops for all Tensorflow versions above or equal to 2.3.0 and strictly below 2.6.0 (nightly versions are not supported). \n",
      " The versions of TensorFlow you are currently using is 2.9.0 and is not supported. \n",
      "Some things might work, some things might not.\n",
      "If you were to encounter a bug, do not file an issue.\n",
      "If you want to make sure you're using a tested and supported configuration, either change the TensorFlow version or the TensorFlow Addons's version. \n",
      "You can find the compatibility matrix in TensorFlow Addon's readme:\n",
      "https://github.com/tensorflow/addons\n",
      "  warnings.warn(\n",
      "/home/jovyan/my-conda-envs/deepExperimentTF2.7/lib/python3.8/site-packages/tqdm/auto.py:21: TqdmWarning: IProgress not found. Please update jupyter and ipywidgets. See https://ipywidgets.readthedocs.io/en/stable/user_install.html\n",
      "  from .autonotebook import tqdm as notebook_tqdm\n"
     ]
    }
   ],
   "source": [
    "import numpy as np\n",
    "import pandas as pd\n",
    "import tensorflow as tf\n",
    "from tensorflow import keras\n",
    "from tensorflow.keras import layers\n",
    "from tensorflow.keras.utils import register_keras_serializable\n",
    "import tensorflow_addons as tfa\n",
    "import cv2 \n",
    "from IPython.display import Image, display\n",
    "import matplotlib.pyplot as plt\n",
    "import matplotlib.cm as cm\n",
    "from textwrap import wrap\n",
    "import random\n",
    "import shap\n",
    "from shap.plots.colors import red_transparent_blue\n",
    "\n",
    "from deepexperiment.alignment import Attrament\n",
    "from deepexperiment.visualization import plot_alignment, plot_miRNA_importance, plotbar_miRNA_importance\n",
    "from deepexperiment.utils import one_hot_encoding, one_hot_encoding_batch\n",
    "from deepexperiment.interpret import DeepShap"
   ]
  },
  {
   "cell_type": "code",
   "execution_count": 7,
   "id": "74d599ca-509b-4396-a9a7-9d41f486b2a8",
   "metadata": {},
   "outputs": [],
   "source": [
    "random.seed(42)"
   ]
  },
  {
   "cell_type": "code",
   "execution_count": 8,
   "id": "50cd7737-d157-49cd-9c96-0584c9c53c03",
   "metadata": {},
   "outputs": [
    {
     "name": "stderr",
     "output_type": "stream",
     "text": [
      "2023-08-15 11:50:35.892940: I tensorflow/core/platform/cpu_feature_guard.cc:193] This TensorFlow binary is optimized with oneAPI Deep Neural Network Library (oneDNN) to use the following CPU instructions in performance-critical operations:  AVX2 FMA\n",
      "To enable them in other operations, rebuild TensorFlow with the appropriate compiler flags.\n",
      "2023-08-15 11:50:37.093918: I tensorflow/core/common_runtime/gpu/gpu_device.cc:1532] Created device /job:localhost/replica:0/task:0/device:GPU:0 with 79109 MB memory:  -> device: 0, name: NVIDIA A100 80GB PCIe, pci bus id: 0000:61:00.0, compute capability: 8.0\n"
     ]
    },
    {
     "data": {
      "text/html": [
       "<div>\n",
       "<style scoped>\n",
       "    .dataframe tbody tr th:only-of-type {\n",
       "        vertical-align: middle;\n",
       "    }\n",
       "\n",
       "    .dataframe tbody tr th {\n",
       "        vertical-align: top;\n",
       "    }\n",
       "\n",
       "    .dataframe thead th {\n",
       "        text-align: right;\n",
       "    }\n",
       "</style>\n",
       "<table border=\"1\" class=\"dataframe\">\n",
       "  <thead>\n",
       "    <tr style=\"text-align: right;\">\n",
       "      <th></th>\n",
       "      <th>miRNA</th>\n",
       "      <th>gene</th>\n",
       "      <th>label</th>\n",
       "    </tr>\n",
       "  </thead>\n",
       "  <tbody>\n",
       "    <tr>\n",
       "      <th>0</th>\n",
       "      <td>TAGGTAGTTTCATGTTGTTG</td>\n",
       "      <td>AGACCAGCAACAAACTACCAACACTGTAGAGGAGCCCCTGGATCTT...</td>\n",
       "      <td>1</td>\n",
       "    </tr>\n",
       "    <tr>\n",
       "      <th>1</th>\n",
       "      <td>GCAGTCCATGGGCATATACA</td>\n",
       "      <td>CAGCCAAGCCCAGGCTCGCAGTATCAATAAAGCAGTTCTCTGAGGA...</td>\n",
       "      <td>1</td>\n",
       "    </tr>\n",
       "    <tr>\n",
       "      <th>2</th>\n",
       "      <td>CAAAGTGCTTACAGTGCAGG</td>\n",
       "      <td>TGAGAACACTTAAAGTTCAAATAGAAATCATTTCTGAAGACAAAAG...</td>\n",
       "      <td>1</td>\n",
       "    </tr>\n",
       "    <tr>\n",
       "      <th>3</th>\n",
       "      <td>GAGGGTTGGGTGGAGGCTCT</td>\n",
       "      <td>AATGCCCCAAAATCCAAACCTTCCTGAACGCTATGACACCATGAGT...</td>\n",
       "      <td>1</td>\n",
       "    </tr>\n",
       "    <tr>\n",
       "      <th>4</th>\n",
       "      <td>ACTGCCCTAAGTGCTCCTTC</td>\n",
       "      <td>AAGAAACTAGGAGAATGGGTAGGCCTTTGTAAAATTGACAGAGAGG...</td>\n",
       "      <td>1</td>\n",
       "    </tr>\n",
       "  </tbody>\n",
       "</table>\n",
       "</div>"
      ],
      "text/plain": [
       "                  miRNA                                               gene  \\\n",
       "0  TAGGTAGTTTCATGTTGTTG  AGACCAGCAACAAACTACCAACACTGTAGAGGAGCCCCTGGATCTT...   \n",
       "1  GCAGTCCATGGGCATATACA  CAGCCAAGCCCAGGCTCGCAGTATCAATAAAGCAGTTCTCTGAGGA...   \n",
       "2  CAAAGTGCTTACAGTGCAGG  TGAGAACACTTAAAGTTCAAATAGAAATCATTTCTGAAGACAAAAG...   \n",
       "3  GAGGGTTGGGTGGAGGCTCT  AATGCCCCAAAATCCAAACCTTCCTGAACGCTATGACACCATGAGT...   \n",
       "4  ACTGCCCTAAGTGCTCCTTC  AAGAAACTAGGAGAATGGGTAGGCCTTTGTAAAATTGACAGAGAGG...   \n",
       "\n",
       "   label  \n",
       "0      1  \n",
       "1      1  \n",
       "2      1  \n",
       "3      1  \n",
       "4      1  "
      ]
     },
     "execution_count": 8,
     "metadata": {},
     "output_type": "execute_result"
    }
   ],
   "source": [
    "\"\"\"# Loading model and the data\"\"\"\n",
    "\n",
    "model = keras.models.load_model(\"miRBind.h5\")\n",
    "# model.summary()\n",
    "\n",
    "samples = pd.read_csv('evaluation_set_1_1_CLASH2013_paper.tsv', sep='\\t')\n",
    "samples.head()\n",
    "\n",
    "# get the miRNAs\n",
    "#     CHANGE choose the miRNA\n",
    "# miRNA = samples['miRNA'].value_counts().index[6]\n",
    "# miRNA"
   ]
  },
  {
   "cell_type": "markdown",
   "id": "1d3e9117-3230-453e-8436-22c39d4f7a77",
   "metadata": {},
   "source": [
    "\n",
    "### Use and evaluate the model"
   ]
  },
  {
   "cell_type": "code",
   "execution_count": 9,
   "id": "2853a401-a3af-476a-9bc1-6c78bb11fb0b",
   "metadata": {},
   "outputs": [
    {
     "name": "stderr",
     "output_type": "stream",
     "text": [
      "keras is no longer supported, please use tf.keras instead.\n",
      "Your TensorFlow version is newer than 2.4.0 and so graph support has been removed in eager mode and some static graphs may not be supported. See PR #1483 for discussion.\n",
      "2023-08-15 11:50:39.416965: I tensorflow/stream_executor/cuda/cuda_dnn.cc:384] Loaded cuDNN version 8204\n",
      "2023-08-15 11:50:41.077545: I tensorflow/stream_executor/cuda/cuda_blas.cc:1786] TensorFloat-32 will be used for the matrix multiplication. This will only be logged once.\n"
     ]
    }
   ],
   "source": [
    "# n = 50 is number of samples used as a background image to compare the input with during the shap method\n",
    "rand_samples = samples.sample(n=50, replace=False, random_state=42).reset_index(drop=True)\n",
    "background, _ = one_hot_encoding_batch(rand_samples)\n",
    "deepShap = DeepShap(model, background)"
   ]
  },
  {
   "cell_type": "code",
   "execution_count": 10,
   "id": "fd286ab8-2427-4059-adf2-31ea4cb07c13",
   "metadata": {},
   "outputs": [],
   "source": [
    "# from numpy import random\n",
    "\n",
    "def score_sequence_attribution_minimal(gene, input_miRNA, model, draw_plot=False, step=10, length=50):\n",
    "    # TODO quick fix: tensor_dim argument in one_hot_encoding_batch() and the whole model expects RNA of len 20\n",
    "    miRNA = input_miRNA[0:20]\n",
    "    \n",
    "    miRNAs = []\n",
    "    genes = []\n",
    "\n",
    "    for i in range(0, len(gene) - length, step):\n",
    "        start = max(i, 0)\n",
    "        end = min(i+50, len(gene))\n",
    "        miRNAs.append(miRNA)\n",
    "        genes.append(gene[start:end])\n",
    "\n",
    "    labels = np.zeros(len(genes))\n",
    "\n",
    "    df = pd.DataFrame(\n",
    "        {'miRNA': miRNAs,\n",
    "         'gene': genes,\n",
    "         'label': labels\n",
    "        })\n",
    "    data, _ = one_hot_encoding_batch(df, tensor_dim=(50, 20, 1))\n",
    "    preds = model(data)\n",
    "\n",
    "    attribution = np.zeros((len(gene), len(miRNA)))\n",
    "    shap_indices = []\n",
    "    pred_indices = []\n",
    "    preds_indices = []\n",
    "    shap_data = []\n",
    "\n",
    "  # counter == index to predictions for windows\n",
    "    counter = 0\n",
    "    for i in range(0, len(gene) - length, step):\n",
    "        if preds[counter][1] > 0.5:\n",
    "            # shap_indices == indices of positively predicted sliding windows (indexes preds array)\n",
    "            shap_indices.append(counter)\n",
    "            pred_indices.append(i)\n",
    "            shap_data.append(data[counter])\n",
    "        counter+=1\n",
    "    \n",
    "    # TODO quick fix: if at this point the 'shap_data' is empty array [], it means no prediction was > 0.5, therefore (for now) let's predict 0 binding affinity  \n",
    "    if len(shap_data) == 0:\n",
    "        return []\n",
    "    \n",
    "    shap_data = np.stack(shap_data)\n",
    "    # TODO: batching?\n",
    "    # using only pos_shap cos we only care about positives, pos_shap and neg_shap are opposites for binary classification\n",
    "    neg_shap, pos_shap = deepShap(shap_data)\n",
    "\n",
    "    for i in range(0, len(shap_indices)):\n",
    "\n",
    "        normalized_shap = pos_shap[i,:,:,0] * preds[shap_indices[i]][1]\n",
    "\n",
    "        # padding current shap-value-matrix to sum it up to the cumulative attribution matrix\n",
    "        newrows = np.zeros((pred_indices[i], normalized_shap.shape[1]))\n",
    "        normalized_shap = np.vstack([newrows, normalized_shap])\n",
    "        newrows = np.zeros((len(gene) - pred_indices[i] - length, normalized_shap.shape[1]))\n",
    "        normalized_shap = np.vstack([normalized_shap, newrows])\n",
    "\n",
    "        attribution += normalized_shap\n",
    "\n",
    "    attribution = attribution.T.max(axis=0)\n",
    "    # Fix `counts = ...` for genes shorter than 98 nucleotides\n",
    "    # pad the `attribution` or truncate `counts`\n",
    "    counts = list(range(1, 50)) + (len(attribution) - 98) * [50] + list(range(49, 0, -1))\n",
    "    if len(attribution) < 98:\n",
    "        counts = counts[:len(attribution)]\n",
    "        # plt.figure(num = random.randint(0, 1000)) # num is a unique identifier for the figure\n",
    "        # plt.plot(counts)\n",
    "        # plt.plot(attribution * 1000)\n",
    "        # plt.show()\n",
    "    \n",
    "    try:            \n",
    "        normalized_scores = attribution / np.array(counts)\n",
    "    except Exception as e:\n",
    "        print(e)\n",
    "        print(miRNA)\n",
    "        print(gene)\n",
    "        print(len(attribution), len(np.array(counts)))\n",
    "        normalized_scores = 0\n",
    "    \n",
    "\n",
    "    if draw_plot:\n",
    "        #     TODO change printing into a single plot?\n",
    "        plt.figure(num = random.randint(0, 1000)) # num is a unique identifier for the figure\n",
    "        plt.plot(normalized_scores);\n",
    "    \n",
    "    return normalized_scores"
   ]
  },
  {
   "cell_type": "code",
   "execution_count": null,
   "id": "d7dee749-597b-43f9-8650-32aea122a0f4",
   "metadata": {},
   "outputs": [],
   "source": []
  },
  {
   "cell_type": "markdown",
   "id": "aab25ce0-dab9-427d-b6e2-f579ae2bc6c5",
   "metadata": {},
   "source": [
    "### Get the scores for FC comparison using files from Bartel  "
   ]
  },
  {
   "cell_type": "code",
   "execution_count": 11,
   "id": "8c994b27-ee93-4054-8c30-703a71e8ebd1",
   "metadata": {},
   "outputs": [],
   "source": [
    "mirna_FCs = pd.read_csv('modules/evaluation/mirna_fcs.csv',index_col=0, header=0, sep=',')"
   ]
  },
  {
   "cell_type": "code",
   "execution_count": 12,
   "id": "9c5849d4-3c40-4b3e-872d-ecbd7e7a2a92",
   "metadata": {},
   "outputs": [
    {
     "data": {
      "text/plain": [
       "RefSeq ID\n",
       "NM_000017       ACADS\n",
       "NM_000019       ACAT1\n",
       "NM_000021       PSEN1\n",
       "NM_000023        SGCA\n",
       "NM_000027         AGA\n",
       "               ...   \n",
       "NM_213646        WARS\n",
       "NM_213647       FGFR4\n",
       "NM_213649       SFXN4\n",
       "NM_213651    SLC25A24\n",
       "NM_213662       STAT3\n",
       "Name: Gene symbol, Length: 8372, dtype: object"
      ]
     },
     "execution_count": 12,
     "metadata": {},
     "output_type": "execute_result"
    }
   ],
   "source": [
    "# mirna_FCs\n",
    "mirna_FCs['Gene symbol']"
   ]
  },
  {
   "cell_type": "code",
   "execution_count": 13,
   "id": "82506272-792d-4d4d-8bdb-c5844d356b42",
   "metadata": {},
   "outputs": [],
   "source": [
    "def rna_to_dna(rna_sample):\n",
    "    rna_dic = {\n",
    "        'A':'A',\n",
    "        'C':'C',\n",
    "        'U':'T',\n",
    "        'G':'G',\n",
    "    }\n",
    "    converted = [rna_dic[x.upper()] for x in rna_sample]\n",
    "    new = \"\"\n",
    "    # traverse in the string\n",
    "    for x in converted:\n",
    "        new += x\n",
    "    # return string\n",
    "    return new"
   ]
  },
  {
   "cell_type": "code",
   "execution_count": 14,
   "id": "a691dda2-c96c-488a-8267-f98bfa99f976",
   "metadata": {},
   "outputs": [
    {
     "name": "stdout",
     "output_type": "stream",
     "text": [
      "['TAGCAGCACGTAAATATTGGCG', 'TAAAGTGCTGACAGTGCAGAT', 'TAACACTGTCTGGTAACGATGT', 'TAATACTGCCTGGTAATGATGA', 'ATGACCTATGAATTGACAGAC', 'TGAGGTAGTAGGTTGTATGGTT', 'AGCAGCATTGTACAGGGCTATGA']\n"
     ]
    }
   ],
   "source": [
    "mirna_sequences = ['UAGCAGCACGUAAAUAUUGGCG', 'UAAAGUGCUGACAGUGCAGAU', 'UAACACUGUCUGGUAACGAUGU', 'UAAUACUGCCUGGUAAUGAUGA', 'AUGACCUAUGAAUUGACAGAC', 'UGAGGUAGUAGGUUGUAUGGUU', 'AGCAGCAUUGUACAGGGCUAUGA']\n",
    "mirna_sequences = [rna_to_dna(x) for x in mirna_sequences]\n",
    "print(mirna_sequences)"
   ]
  },
  {
   "cell_type": "code",
   "execution_count": 15,
   "id": "3e1867e5-0596-4ef1-aae9-d04299ca9e53",
   "metadata": {},
   "outputs": [
    {
     "data": {
      "text/plain": [
       "{'hsa-miR-16-5p': 'TAGCAGCACGTAAATATTGGCG',\n",
       " 'hsa-miR-106b-5p': 'TAAAGTGCTGACAGTGCAGAT',\n",
       " 'hsa-miR-200a-3p': 'TAACACTGTCTGGTAACGATGT',\n",
       " 'hsa-miR-200b-3p': 'TAATACTGCCTGGTAATGATGA',\n",
       " 'hsa-miR-215-5p': 'ATGACCTATGAATTGACAGAC',\n",
       " 'hsa-let-7c-5p': 'TGAGGTAGTAGGTTGTATGGTT',\n",
       " 'hsa-miR-103a-3p': 'AGCAGCATTGTACAGGGCTATGA'}"
      ]
     },
     "execution_count": 15,
     "metadata": {},
     "output_type": "execute_result"
    }
   ],
   "source": [
    "miRNA_names = ['hsa-miR-16-5p', 'hsa-miR-106b-5p', 'hsa-miR-200a-3p', 'hsa-miR-200b-3p', 'hsa-miR-215-5p', 'hsa-let-7c-5p', 'hsa-miR-103a-3p']\n",
    "miRNA_name_to_seq = {}\n",
    "for i in range(len(miRNA_names)):\n",
    "    miRNA_name_to_seq[miRNA_names[i]] = mirna_sequences[i]\n",
    "miRNA_name_to_seq"
   ]
  },
  {
   "cell_type": "markdown",
   "id": "5b50f923-cb9f-496c-8711-6859287389a9",
   "metadata": {},
   "source": [
    "#### Only for 1 miRNA now "
   ]
  },
  {
   "cell_type": "code",
   "execution_count": 16,
   "id": "f310f1b9-94f1-4baa-858d-ff4a7d1e9511",
   "metadata": {},
   "outputs": [],
   "source": [
    "mirna_sequences = ['TAAAGTGCTGACAGTGCAGAT']\n",
    "mirna_sequences\n",
    "mirna_name = 'hsa-miR-106b-5p'\n",
    "# mirna_name = 'hsa-miR-16-5p'\n",
    "my_miRNA = 'TAAAGTGCTGACAGTGCAGAT'\n",
    "# my_miRNA = 'TAGCAGCACGTAAATATTGGCG'"
   ]
  },
  {
   "cell_type": "code",
   "execution_count": 17,
   "id": "85322e33-e908-40a1-8162-8770c8d718cd",
   "metadata": {},
   "outputs": [
    {
     "name": "stdout",
     "output_type": "stream",
     "text": [
      "8092\n"
     ]
    }
   ],
   "source": [
    "gene_symbols = mirna_FCs[mirna_FCs[mirna_name].isnull() == False]['Gene symbol'].values\n",
    "print(len(gene_symbols))"
   ]
  },
  {
   "cell_type": "markdown",
   "id": "74ad6bcc-b16e-4299-9da1-e6fbf0187cea",
   "metadata": {},
   "source": [
    "#### Set `threshold_len` to filter out longer genes"
   ]
  },
  {
   "cell_type": "code",
   "execution_count": 18,
   "id": "9a206d56-ce79-42b5-8a5e-b15b3f671e6f",
   "metadata": {},
   "outputs": [],
   "source": [
    "threshold_len = -1\n",
    "\n",
    "if threshold_len > 0:\n",
    "    count = 0\n",
    "    for key,value in gene_symbol_to_seq.items():\n",
    "        if(len(value) < threshold_len):\n",
    "            count += 1\n",
    "    count"
   ]
  },
  {
   "cell_type": "code",
   "execution_count": 19,
   "id": "07813f3a-c7c4-41f1-9134-cebc31b5e465",
   "metadata": {},
   "outputs": [],
   "source": [
    "if threshold_len > 0:\n",
    "    count_too_long = 0\n",
    "    count_kept = 0\n",
    "    for key,value in gene_symbol_to_seq.items():\n",
    "        if(len(value) > threshold_len):\n",
    "            gene_symbol_to_seq[key] = []\n",
    "            count_too_long += 1\n",
    "        else:\n",
    "            count_kept += 1\n",
    "    print('count_too_long, len > ', threshold_len, \" : \", count_too_long)\n",
    "    print('count_kept ', count_kept)"
   ]
  },
  {
   "cell_type": "markdown",
   "id": "30f272ab-a3df-4dfc-8a4f-2815abf3ef17",
   "metadata": {},
   "source": [
    "### Scan the transcript"
   ]
  },
  {
   "cell_type": "code",
   "execution_count": 20,
   "id": "03584b22-b197-499a-bec1-5f88bd81831f",
   "metadata": {},
   "outputs": [
    {
     "name": "stdout",
     "output_type": "stream",
     "text": [
      "TAAAGTGCTGACAGTGCAGAT\n"
     ]
    },
    {
     "name": "stderr",
     "output_type": "stream",
     "text": [
      "`tf.keras.backend.set_learning_phase` is deprecated and will be removed after 2020-10-11. To update it, simply pass a True/False value to the `training` argument of the `__call__` method of your layer or model.\n"
     ]
    },
    {
     "name": "stdout",
     "output_type": "stream",
     "text": [
      "TAAAGTGCTGACAGTGCAGAT LAMA2 The SHAP explanations do not sum up to the model's output! This is either because of a rounding error or because an operator in your computation graph was not fully supported. If the sum difference of 0.041885 is significant compared the scale of your model outputs please post as a github issue, with a reproducable example if possible so we can debug it.\n",
      "PMS2  | 500 |  "
     ]
    },
    {
     "ename": "KeyboardInterrupt",
     "evalue": "",
     "output_type": "error",
     "traceback": [
      "\u001b[0;31m---------------------------------------------------------------------------\u001b[0m",
      "\u001b[0;31mKeyboardInterrupt\u001b[0m                         Traceback (most recent call last)",
      "Cell \u001b[0;32mIn[20], line 21\u001b[0m\n\u001b[1;32m     19\u001b[0m     \u001b[38;5;28mprint\u001b[39m(miRNA)\n\u001b[1;32m     20\u001b[0m \u001b[38;5;28;01mtry\u001b[39;00m:\n\u001b[0;32m---> 21\u001b[0m     score \u001b[38;5;241m=\u001b[39m \u001b[43mscore_sequence_attribution_minimal\u001b[49m\u001b[43m(\u001b[49m\u001b[43mgene_sequence\u001b[49m\u001b[43m,\u001b[49m\u001b[43m \u001b[49m\u001b[43mmiRNA\u001b[49m\u001b[43m,\u001b[49m\u001b[43m \u001b[49m\u001b[43mmodel\u001b[49m\u001b[43m,\u001b[49m\u001b[43m \u001b[49m\u001b[43mdraw_plot\u001b[49m\u001b[38;5;241;43m=\u001b[39;49m\u001b[38;5;28;43;01mFalse\u001b[39;49;00m\u001b[43m)\u001b[49m\n\u001b[1;32m     22\u001b[0m     score_table\u001b[38;5;241m.\u001b[39mappend([miRNA, gene_symbol, score])\n\u001b[1;32m     23\u001b[0m     miRNA_to_gene_score[miRNA]\u001b[38;5;241m.\u001b[39mappend([gene_symbol, score])\n",
      "Cell \u001b[0;32mIn[10], line 49\u001b[0m, in \u001b[0;36mscore_sequence_attribution_minimal\u001b[0;34m(gene, input_miRNA, model, draw_plot, step, length)\u001b[0m\n\u001b[1;32m     46\u001b[0m shap_data \u001b[38;5;241m=\u001b[39m np\u001b[38;5;241m.\u001b[39mstack(shap_data)\n\u001b[1;32m     47\u001b[0m \u001b[38;5;66;03m# TODO: batching?\u001b[39;00m\n\u001b[1;32m     48\u001b[0m \u001b[38;5;66;03m# using only pos_shap cos we only care about positives, pos_shap and neg_shap are opposites for binary classification\u001b[39;00m\n\u001b[0;32m---> 49\u001b[0m neg_shap, pos_shap \u001b[38;5;241m=\u001b[39m \u001b[43mdeepShap\u001b[49m\u001b[43m(\u001b[49m\u001b[43mshap_data\u001b[49m\u001b[43m)\u001b[49m\n\u001b[1;32m     51\u001b[0m \u001b[38;5;28;01mfor\u001b[39;00m i \u001b[38;5;129;01min\u001b[39;00m \u001b[38;5;28mrange\u001b[39m(\u001b[38;5;241m0\u001b[39m, \u001b[38;5;28mlen\u001b[39m(shap_indices)):\n\u001b[1;32m     53\u001b[0m     normalized_shap \u001b[38;5;241m=\u001b[39m pos_shap[i,:,:,\u001b[38;5;241m0\u001b[39m] \u001b[38;5;241m*\u001b[39m preds[shap_indices[i]][\u001b[38;5;241m1\u001b[39m]\n",
      "File \u001b[0;32m~/my-conda-envs/deepExperimentTF2.7/lib/python3.8/site-packages/deepexperiment/interpret.py:77\u001b[0m, in \u001b[0;36mDeepShap.__call__\u001b[0;34m(self, input)\u001b[0m\n\u001b[1;32m     76\u001b[0m \u001b[38;5;28;01mdef\u001b[39;00m \u001b[38;5;21m__call__\u001b[39m(\u001b[38;5;28mself\u001b[39m, \u001b[38;5;28minput\u001b[39m):  \n\u001b[0;32m---> 77\u001b[0m     shap_values \u001b[38;5;241m=\u001b[39m \u001b[38;5;28;43mself\u001b[39;49m\u001b[38;5;241;43m.\u001b[39;49m\u001b[43me\u001b[49m\u001b[38;5;241;43m.\u001b[39;49m\u001b[43mshap_values\u001b[49m\u001b[43m(\u001b[49m\u001b[38;5;28;43minput\u001b[39;49m\u001b[43m)\u001b[49m\n\u001b[1;32m     78\u001b[0m     \u001b[38;5;28;01mreturn\u001b[39;00m shap_values[\u001b[38;5;241m0\u001b[39m], shap_values[\u001b[38;5;241m1\u001b[39m]\n",
      "File \u001b[0;32m~/my-conda-envs/deepExperimentTF2.7/lib/python3.8/site-packages/shap/explainers/_deep/__init__.py:124\u001b[0m, in \u001b[0;36mDeep.shap_values\u001b[0;34m(self, X, ranked_outputs, output_rank_order, check_additivity)\u001b[0m\n\u001b[1;32m     90\u001b[0m \u001b[38;5;28;01mdef\u001b[39;00m \u001b[38;5;21mshap_values\u001b[39m(\u001b[38;5;28mself\u001b[39m, X, ranked_outputs\u001b[38;5;241m=\u001b[39m\u001b[38;5;28;01mNone\u001b[39;00m, output_rank_order\u001b[38;5;241m=\u001b[39m\u001b[38;5;124m'\u001b[39m\u001b[38;5;124mmax\u001b[39m\u001b[38;5;124m'\u001b[39m, check_additivity\u001b[38;5;241m=\u001b[39m\u001b[38;5;28;01mTrue\u001b[39;00m):\n\u001b[1;32m     91\u001b[0m \u001b[38;5;250m    \u001b[39m\u001b[38;5;124;03m\"\"\" Return approximate SHAP values for the model applied to the data given by X.\u001b[39;00m\n\u001b[1;32m     92\u001b[0m \n\u001b[1;32m     93\u001b[0m \u001b[38;5;124;03m    Parameters\u001b[39;00m\n\u001b[0;32m   (...)\u001b[0m\n\u001b[1;32m    122\u001b[0m \u001b[38;5;124;03m        were chosen as \"top\".\u001b[39;00m\n\u001b[1;32m    123\u001b[0m \u001b[38;5;124;03m    \"\"\"\u001b[39;00m\n\u001b[0;32m--> 124\u001b[0m     \u001b[38;5;28;01mreturn\u001b[39;00m \u001b[38;5;28;43mself\u001b[39;49m\u001b[38;5;241;43m.\u001b[39;49m\u001b[43mexplainer\u001b[49m\u001b[38;5;241;43m.\u001b[39;49m\u001b[43mshap_values\u001b[49m\u001b[43m(\u001b[49m\u001b[43mX\u001b[49m\u001b[43m,\u001b[49m\u001b[43m \u001b[49m\u001b[43mranked_outputs\u001b[49m\u001b[43m,\u001b[49m\u001b[43m \u001b[49m\u001b[43moutput_rank_order\u001b[49m\u001b[43m,\u001b[49m\u001b[43m \u001b[49m\u001b[43mcheck_additivity\u001b[49m\u001b[38;5;241;43m=\u001b[39;49m\u001b[43mcheck_additivity\u001b[49m\u001b[43m)\u001b[49m\n",
      "File \u001b[0;32m~/my-conda-envs/deepExperimentTF2.7/lib/python3.8/site-packages/shap/explainers/_deep/deep_tf.py:312\u001b[0m, in \u001b[0;36mTFDeep.shap_values\u001b[0;34m(self, X, ranked_outputs, output_rank_order, check_additivity)\u001b[0m\n\u001b[1;32m    310\u001b[0m \u001b[38;5;66;03m# run attribution computation graph\u001b[39;00m\n\u001b[1;32m    311\u001b[0m feature_ind \u001b[38;5;241m=\u001b[39m model_output_ranks[j,i]\n\u001b[0;32m--> 312\u001b[0m sample_phis \u001b[38;5;241m=\u001b[39m \u001b[38;5;28;43mself\u001b[39;49m\u001b[38;5;241;43m.\u001b[39;49m\u001b[43mrun\u001b[49m\u001b[43m(\u001b[49m\u001b[38;5;28;43mself\u001b[39;49m\u001b[38;5;241;43m.\u001b[39;49m\u001b[43mphi_symbolic\u001b[49m\u001b[43m(\u001b[49m\u001b[43mfeature_ind\u001b[49m\u001b[43m)\u001b[49m\u001b[43m,\u001b[49m\u001b[43m \u001b[49m\u001b[38;5;28;43mself\u001b[39;49m\u001b[38;5;241;43m.\u001b[39;49m\u001b[43mmodel_inputs\u001b[49m\u001b[43m,\u001b[49m\u001b[43m \u001b[49m\u001b[43mjoint_input\u001b[49m\u001b[43m)\u001b[49m\n\u001b[1;32m    314\u001b[0m \u001b[38;5;66;03m# assign the attributions to the right part of the output arrays\u001b[39;00m\n\u001b[1;32m    315\u001b[0m \u001b[38;5;28;01mfor\u001b[39;00m l \u001b[38;5;129;01min\u001b[39;00m \u001b[38;5;28mrange\u001b[39m(\u001b[38;5;28mlen\u001b[39m(X)):\n",
      "File \u001b[0;32m~/my-conda-envs/deepExperimentTF2.7/lib/python3.8/site-packages/shap/explainers/_deep/deep_tf.py:372\u001b[0m, in \u001b[0;36mTFDeep.run\u001b[0;34m(self, out, model_inputs, X)\u001b[0m\n\u001b[1;32m    369\u001b[0m         tf_execute\u001b[38;5;241m.\u001b[39mrecord_gradient \u001b[38;5;241m=\u001b[39m tf_backprop\u001b[38;5;241m.\u001b[39mrecord_gradient\n\u001b[1;32m    371\u001b[0m     \u001b[38;5;28;01mreturn\u001b[39;00m final_out\n\u001b[0;32m--> 372\u001b[0m \u001b[38;5;28;01mreturn\u001b[39;00m \u001b[38;5;28;43mself\u001b[39;49m\u001b[38;5;241;43m.\u001b[39;49m\u001b[43mexecute_with_overridden_gradients\u001b[49m\u001b[43m(\u001b[49m\u001b[43manon\u001b[49m\u001b[43m)\u001b[49m\n",
      "File \u001b[0;32m~/my-conda-envs/deepExperimentTF2.7/lib/python3.8/site-packages/shap/explainers/_deep/deep_tf.py:408\u001b[0m, in \u001b[0;36mTFDeep.execute_with_overridden_gradients\u001b[0;34m(self, f)\u001b[0m\n\u001b[1;32m    406\u001b[0m \u001b[38;5;66;03m# define the computation graph for the attribution values using a custom gradient-like computation\u001b[39;00m\n\u001b[1;32m    407\u001b[0m \u001b[38;5;28;01mtry\u001b[39;00m:\n\u001b[0;32m--> 408\u001b[0m     out \u001b[38;5;241m=\u001b[39m \u001b[43mf\u001b[49m\u001b[43m(\u001b[49m\u001b[43m)\u001b[49m\n\u001b[1;32m    409\u001b[0m \u001b[38;5;28;01mfinally\u001b[39;00m:\n\u001b[1;32m    410\u001b[0m     \u001b[38;5;66;03m# reinstate the backpropagatable check\u001b[39;00m\n\u001b[1;32m    411\u001b[0m     \u001b[38;5;28;01mif\u001b[39;00m \u001b[38;5;28mhasattr\u001b[39m(tf_gradients_impl, \u001b[38;5;124m\"\u001b[39m\u001b[38;5;124m_IsBackpropagatable\u001b[39m\u001b[38;5;124m\"\u001b[39m):\n",
      "File \u001b[0;32m~/my-conda-envs/deepExperimentTF2.7/lib/python3.8/site-packages/shap/explainers/_deep/deep_tf.py:365\u001b[0m, in \u001b[0;36mTFDeep.run.<locals>.anon\u001b[0;34m()\u001b[0m\n\u001b[1;32m    363\u001b[0m     v \u001b[38;5;241m=\u001b[39m tf\u001b[38;5;241m.\u001b[39mconstant(data, dtype\u001b[38;5;241m=\u001b[39m\u001b[38;5;28mself\u001b[39m\u001b[38;5;241m.\u001b[39mmodel_inputs[i]\u001b[38;5;241m.\u001b[39mdtype)\n\u001b[1;32m    364\u001b[0m     inputs\u001b[38;5;241m.\u001b[39mappend(v)\n\u001b[0;32m--> 365\u001b[0m final_out \u001b[38;5;241m=\u001b[39m \u001b[43mout\u001b[49m\u001b[43m(\u001b[49m\u001b[43minputs\u001b[49m\u001b[43m)\u001b[49m\n\u001b[1;32m    366\u001b[0m \u001b[38;5;28;01mtry\u001b[39;00m:\n\u001b[1;32m    367\u001b[0m     tf_execute\u001b[38;5;241m.\u001b[39mrecord_gradient \u001b[38;5;241m=\u001b[39m tf_backprop\u001b[38;5;241m.\u001b[39m_record_gradient\n",
      "File \u001b[0;32m~/my-conda-envs/deepExperimentTF2.7/lib/python3.8/site-packages/tensorflow/python/util/traceback_utils.py:150\u001b[0m, in \u001b[0;36mfilter_traceback.<locals>.error_handler\u001b[0;34m(*args, **kwargs)\u001b[0m\n\u001b[1;32m    148\u001b[0m filtered_tb \u001b[38;5;241m=\u001b[39m \u001b[38;5;28;01mNone\u001b[39;00m\n\u001b[1;32m    149\u001b[0m \u001b[38;5;28;01mtry\u001b[39;00m:\n\u001b[0;32m--> 150\u001b[0m   \u001b[38;5;28;01mreturn\u001b[39;00m \u001b[43mfn\u001b[49m\u001b[43m(\u001b[49m\u001b[38;5;241;43m*\u001b[39;49m\u001b[43margs\u001b[49m\u001b[43m,\u001b[49m\u001b[43m \u001b[49m\u001b[38;5;241;43m*\u001b[39;49m\u001b[38;5;241;43m*\u001b[39;49m\u001b[43mkwargs\u001b[49m\u001b[43m)\u001b[49m\n\u001b[1;32m    151\u001b[0m \u001b[38;5;28;01mexcept\u001b[39;00m \u001b[38;5;167;01mException\u001b[39;00m \u001b[38;5;28;01mas\u001b[39;00m e:\n\u001b[1;32m    152\u001b[0m   filtered_tb \u001b[38;5;241m=\u001b[39m _process_traceback_frames(e\u001b[38;5;241m.\u001b[39m__traceback__)\n",
      "File \u001b[0;32m~/my-conda-envs/deepExperimentTF2.7/lib/python3.8/site-packages/tensorflow/python/eager/def_function.py:915\u001b[0m, in \u001b[0;36mFunction.__call__\u001b[0;34m(self, *args, **kwds)\u001b[0m\n\u001b[1;32m    912\u001b[0m compiler \u001b[38;5;241m=\u001b[39m \u001b[38;5;124m\"\u001b[39m\u001b[38;5;124mxla\u001b[39m\u001b[38;5;124m\"\u001b[39m \u001b[38;5;28;01mif\u001b[39;00m \u001b[38;5;28mself\u001b[39m\u001b[38;5;241m.\u001b[39m_jit_compile \u001b[38;5;28;01melse\u001b[39;00m \u001b[38;5;124m\"\u001b[39m\u001b[38;5;124mnonXla\u001b[39m\u001b[38;5;124m\"\u001b[39m\n\u001b[1;32m    914\u001b[0m \u001b[38;5;28;01mwith\u001b[39;00m OptionalXlaContext(\u001b[38;5;28mself\u001b[39m\u001b[38;5;241m.\u001b[39m_jit_compile):\n\u001b[0;32m--> 915\u001b[0m   result \u001b[38;5;241m=\u001b[39m \u001b[38;5;28;43mself\u001b[39;49m\u001b[38;5;241;43m.\u001b[39;49m\u001b[43m_call\u001b[49m\u001b[43m(\u001b[49m\u001b[38;5;241;43m*\u001b[39;49m\u001b[43margs\u001b[49m\u001b[43m,\u001b[49m\u001b[43m \u001b[49m\u001b[38;5;241;43m*\u001b[39;49m\u001b[38;5;241;43m*\u001b[39;49m\u001b[43mkwds\u001b[49m\u001b[43m)\u001b[49m\n\u001b[1;32m    917\u001b[0m new_tracing_count \u001b[38;5;241m=\u001b[39m \u001b[38;5;28mself\u001b[39m\u001b[38;5;241m.\u001b[39mexperimental_get_tracing_count()\n\u001b[1;32m    918\u001b[0m without_tracing \u001b[38;5;241m=\u001b[39m (tracing_count \u001b[38;5;241m==\u001b[39m new_tracing_count)\n",
      "File \u001b[0;32m~/my-conda-envs/deepExperimentTF2.7/lib/python3.8/site-packages/tensorflow/python/eager/def_function.py:954\u001b[0m, in \u001b[0;36mFunction._call\u001b[0;34m(self, *args, **kwds)\u001b[0m\n\u001b[1;32m    951\u001b[0m \u001b[38;5;28mself\u001b[39m\u001b[38;5;241m.\u001b[39m_lock\u001b[38;5;241m.\u001b[39mrelease()\n\u001b[1;32m    952\u001b[0m \u001b[38;5;66;03m# In this case we have not created variables on the first call. So we can\u001b[39;00m\n\u001b[1;32m    953\u001b[0m \u001b[38;5;66;03m# run the first trace but we should fail if variables are created.\u001b[39;00m\n\u001b[0;32m--> 954\u001b[0m results \u001b[38;5;241m=\u001b[39m \u001b[38;5;28;43mself\u001b[39;49m\u001b[38;5;241;43m.\u001b[39;49m\u001b[43m_stateful_fn\u001b[49m\u001b[43m(\u001b[49m\u001b[38;5;241;43m*\u001b[39;49m\u001b[43margs\u001b[49m\u001b[43m,\u001b[49m\u001b[43m \u001b[49m\u001b[38;5;241;43m*\u001b[39;49m\u001b[38;5;241;43m*\u001b[39;49m\u001b[43mkwds\u001b[49m\u001b[43m)\u001b[49m\n\u001b[1;32m    955\u001b[0m \u001b[38;5;28;01mif\u001b[39;00m \u001b[38;5;28mself\u001b[39m\u001b[38;5;241m.\u001b[39m_created_variables \u001b[38;5;129;01mand\u001b[39;00m \u001b[38;5;129;01mnot\u001b[39;00m ALLOW_DYNAMIC_VARIABLE_CREATION:\n\u001b[1;32m    956\u001b[0m   \u001b[38;5;28;01mraise\u001b[39;00m \u001b[38;5;167;01mValueError\u001b[39;00m(\u001b[38;5;124m\"\u001b[39m\u001b[38;5;124mCreating variables on a non-first call to a function\u001b[39m\u001b[38;5;124m\"\u001b[39m\n\u001b[1;32m    957\u001b[0m                    \u001b[38;5;124m\"\u001b[39m\u001b[38;5;124m decorated with tf.function.\u001b[39m\u001b[38;5;124m\"\u001b[39m)\n",
      "File \u001b[0;32m~/my-conda-envs/deepExperimentTF2.7/lib/python3.8/site-packages/tensorflow/python/eager/function.py:2453\u001b[0m, in \u001b[0;36mFunction.__call__\u001b[0;34m(self, *args, **kwargs)\u001b[0m\n\u001b[1;32m   2450\u001b[0m \u001b[38;5;28;01mwith\u001b[39;00m \u001b[38;5;28mself\u001b[39m\u001b[38;5;241m.\u001b[39m_lock:\n\u001b[1;32m   2451\u001b[0m   (graph_function,\n\u001b[1;32m   2452\u001b[0m    filtered_flat_args) \u001b[38;5;241m=\u001b[39m \u001b[38;5;28mself\u001b[39m\u001b[38;5;241m.\u001b[39m_maybe_define_function(args, kwargs)\n\u001b[0;32m-> 2453\u001b[0m \u001b[38;5;28;01mreturn\u001b[39;00m \u001b[43mgraph_function\u001b[49m\u001b[38;5;241;43m.\u001b[39;49m\u001b[43m_call_flat\u001b[49m\u001b[43m(\u001b[49m\n\u001b[1;32m   2454\u001b[0m \u001b[43m    \u001b[49m\u001b[43mfiltered_flat_args\u001b[49m\u001b[43m,\u001b[49m\u001b[43m \u001b[49m\u001b[43mcaptured_inputs\u001b[49m\u001b[38;5;241;43m=\u001b[39;49m\u001b[43mgraph_function\u001b[49m\u001b[38;5;241;43m.\u001b[39;49m\u001b[43mcaptured_inputs\u001b[49m\u001b[43m)\u001b[49m\n",
      "File \u001b[0;32m~/my-conda-envs/deepExperimentTF2.7/lib/python3.8/site-packages/tensorflow/python/eager/function.py:1860\u001b[0m, in \u001b[0;36mConcreteFunction._call_flat\u001b[0;34m(self, args, captured_inputs, cancellation_manager)\u001b[0m\n\u001b[1;32m   1856\u001b[0m possible_gradient_type \u001b[38;5;241m=\u001b[39m gradients_util\u001b[38;5;241m.\u001b[39mPossibleTapeGradientTypes(args)\n\u001b[1;32m   1857\u001b[0m \u001b[38;5;28;01mif\u001b[39;00m (possible_gradient_type \u001b[38;5;241m==\u001b[39m gradients_util\u001b[38;5;241m.\u001b[39mPOSSIBLE_GRADIENT_TYPES_NONE\n\u001b[1;32m   1858\u001b[0m     \u001b[38;5;129;01mand\u001b[39;00m executing_eagerly):\n\u001b[1;32m   1859\u001b[0m   \u001b[38;5;66;03m# No tape is watching; skip to running the function.\u001b[39;00m\n\u001b[0;32m-> 1860\u001b[0m   \u001b[38;5;28;01mreturn\u001b[39;00m \u001b[38;5;28mself\u001b[39m\u001b[38;5;241m.\u001b[39m_build_call_outputs(\u001b[38;5;28;43mself\u001b[39;49m\u001b[38;5;241;43m.\u001b[39;49m\u001b[43m_inference_function\u001b[49m\u001b[38;5;241;43m.\u001b[39;49m\u001b[43mcall\u001b[49m\u001b[43m(\u001b[49m\n\u001b[1;32m   1861\u001b[0m \u001b[43m      \u001b[49m\u001b[43mctx\u001b[49m\u001b[43m,\u001b[49m\u001b[43m \u001b[49m\u001b[43margs\u001b[49m\u001b[43m,\u001b[49m\u001b[43m \u001b[49m\u001b[43mcancellation_manager\u001b[49m\u001b[38;5;241;43m=\u001b[39;49m\u001b[43mcancellation_manager\u001b[49m\u001b[43m)\u001b[49m)\n\u001b[1;32m   1862\u001b[0m forward_backward \u001b[38;5;241m=\u001b[39m \u001b[38;5;28mself\u001b[39m\u001b[38;5;241m.\u001b[39m_select_forward_and_backward_functions(\n\u001b[1;32m   1863\u001b[0m     args,\n\u001b[1;32m   1864\u001b[0m     possible_gradient_type,\n\u001b[1;32m   1865\u001b[0m     executing_eagerly)\n\u001b[1;32m   1866\u001b[0m forward_function, args_with_tangents \u001b[38;5;241m=\u001b[39m forward_backward\u001b[38;5;241m.\u001b[39mforward()\n",
      "File \u001b[0;32m~/my-conda-envs/deepExperimentTF2.7/lib/python3.8/site-packages/tensorflow/python/eager/function.py:497\u001b[0m, in \u001b[0;36m_EagerDefinedFunction.call\u001b[0;34m(self, ctx, args, cancellation_manager)\u001b[0m\n\u001b[1;32m    495\u001b[0m \u001b[38;5;28;01mwith\u001b[39;00m _InterpolateFunctionError(\u001b[38;5;28mself\u001b[39m):\n\u001b[1;32m    496\u001b[0m   \u001b[38;5;28;01mif\u001b[39;00m cancellation_manager \u001b[38;5;129;01mis\u001b[39;00m \u001b[38;5;28;01mNone\u001b[39;00m:\n\u001b[0;32m--> 497\u001b[0m     outputs \u001b[38;5;241m=\u001b[39m \u001b[43mexecute\u001b[49m\u001b[38;5;241;43m.\u001b[39;49m\u001b[43mexecute\u001b[49m\u001b[43m(\u001b[49m\n\u001b[1;32m    498\u001b[0m \u001b[43m        \u001b[49m\u001b[38;5;28;43mstr\u001b[39;49m\u001b[43m(\u001b[49m\u001b[38;5;28;43mself\u001b[39;49m\u001b[38;5;241;43m.\u001b[39;49m\u001b[43msignature\u001b[49m\u001b[38;5;241;43m.\u001b[39;49m\u001b[43mname\u001b[49m\u001b[43m)\u001b[49m\u001b[43m,\u001b[49m\n\u001b[1;32m    499\u001b[0m \u001b[43m        \u001b[49m\u001b[43mnum_outputs\u001b[49m\u001b[38;5;241;43m=\u001b[39;49m\u001b[38;5;28;43mself\u001b[39;49m\u001b[38;5;241;43m.\u001b[39;49m\u001b[43m_num_outputs\u001b[49m\u001b[43m,\u001b[49m\n\u001b[1;32m    500\u001b[0m \u001b[43m        \u001b[49m\u001b[43minputs\u001b[49m\u001b[38;5;241;43m=\u001b[39;49m\u001b[43margs\u001b[49m\u001b[43m,\u001b[49m\n\u001b[1;32m    501\u001b[0m \u001b[43m        \u001b[49m\u001b[43mattrs\u001b[49m\u001b[38;5;241;43m=\u001b[39;49m\u001b[43mattrs\u001b[49m\u001b[43m,\u001b[49m\n\u001b[1;32m    502\u001b[0m \u001b[43m        \u001b[49m\u001b[43mctx\u001b[49m\u001b[38;5;241;43m=\u001b[39;49m\u001b[43mctx\u001b[49m\u001b[43m)\u001b[49m\n\u001b[1;32m    503\u001b[0m   \u001b[38;5;28;01melse\u001b[39;00m:\n\u001b[1;32m    504\u001b[0m     outputs \u001b[38;5;241m=\u001b[39m execute\u001b[38;5;241m.\u001b[39mexecute_with_cancellation(\n\u001b[1;32m    505\u001b[0m         \u001b[38;5;28mstr\u001b[39m(\u001b[38;5;28mself\u001b[39m\u001b[38;5;241m.\u001b[39msignature\u001b[38;5;241m.\u001b[39mname),\n\u001b[1;32m    506\u001b[0m         num_outputs\u001b[38;5;241m=\u001b[39m\u001b[38;5;28mself\u001b[39m\u001b[38;5;241m.\u001b[39m_num_outputs,\n\u001b[0;32m   (...)\u001b[0m\n\u001b[1;32m    509\u001b[0m         ctx\u001b[38;5;241m=\u001b[39mctx,\n\u001b[1;32m    510\u001b[0m         cancellation_manager\u001b[38;5;241m=\u001b[39mcancellation_manager)\n",
      "File \u001b[0;32m~/my-conda-envs/deepExperimentTF2.7/lib/python3.8/site-packages/tensorflow/python/eager/execute.py:54\u001b[0m, in \u001b[0;36mquick_execute\u001b[0;34m(op_name, num_outputs, inputs, attrs, ctx, name)\u001b[0m\n\u001b[1;32m     52\u001b[0m \u001b[38;5;28;01mtry\u001b[39;00m:\n\u001b[1;32m     53\u001b[0m   ctx\u001b[38;5;241m.\u001b[39mensure_initialized()\n\u001b[0;32m---> 54\u001b[0m   tensors \u001b[38;5;241m=\u001b[39m \u001b[43mpywrap_tfe\u001b[49m\u001b[38;5;241;43m.\u001b[39;49m\u001b[43mTFE_Py_Execute\u001b[49m\u001b[43m(\u001b[49m\u001b[43mctx\u001b[49m\u001b[38;5;241;43m.\u001b[39;49m\u001b[43m_handle\u001b[49m\u001b[43m,\u001b[49m\u001b[43m \u001b[49m\u001b[43mdevice_name\u001b[49m\u001b[43m,\u001b[49m\u001b[43m \u001b[49m\u001b[43mop_name\u001b[49m\u001b[43m,\u001b[49m\n\u001b[1;32m     55\u001b[0m \u001b[43m                                      \u001b[49m\u001b[43minputs\u001b[49m\u001b[43m,\u001b[49m\u001b[43m \u001b[49m\u001b[43mattrs\u001b[49m\u001b[43m,\u001b[49m\u001b[43m \u001b[49m\u001b[43mnum_outputs\u001b[49m\u001b[43m)\u001b[49m\n\u001b[1;32m     56\u001b[0m \u001b[38;5;28;01mexcept\u001b[39;00m core\u001b[38;5;241m.\u001b[39m_NotOkStatusException \u001b[38;5;28;01mas\u001b[39;00m e:\n\u001b[1;32m     57\u001b[0m   \u001b[38;5;28;01mif\u001b[39;00m name \u001b[38;5;129;01mis\u001b[39;00m \u001b[38;5;129;01mnot\u001b[39;00m \u001b[38;5;28;01mNone\u001b[39;00m:\n",
      "\u001b[0;31mKeyboardInterrupt\u001b[0m: "
     ]
    }
   ],
   "source": [
    "import time\n",
    "\n",
    "# two objects to collect results for now, will see which one is more handy\n",
    "score_table = []\n",
    "miRNA_to_gene_score = {}\n",
    "explain_errors = []\n",
    "\n",
    "start = time.time()\n",
    "\n",
    "i = 0\n",
    "for miRNA in mirna_sequences[:1]:\n",
    "    print(miRNA)\n",
    "    if miRNA not in miRNA_to_gene_score:\n",
    "        miRNA_to_gene_score[miRNA] = []\n",
    "    for gene_symbol, gene_sequence in gene_symbol_to_seq.items():\n",
    "        if len(gene_sequence) > 0:\n",
    "            # print(len(value), len(miRNA))\n",
    "            if len(miRNA) > 22:\n",
    "                print(miRNA)\n",
    "            try:\n",
    "                score = score_sequence_attribution_minimal(gene_sequence, miRNA, model, draw_plot=False)\n",
    "                score_table.append([miRNA, gene_symbol, score])\n",
    "                miRNA_to_gene_score[miRNA].append([gene_symbol, score])\n",
    "            except (AssertionError, ValueError) as e:\n",
    "                print(miRNA, gene_symbol, e)\n",
    "                explain_errors.append([miRNA, gene_symbol, e])\n",
    "                \n",
    "        else:\n",
    "            explain_errors.append(gene_symbol)\n",
    "        \n",
    "        i+=1\n",
    "        if i % 500 == 0:\n",
    "            print(gene_symbol, \" |\",i , \"| \" , end =\" \")\n",
    "        # if i > 1000:\n",
    "        #     break\n",
    "    break\n",
    "        \n",
    "            \n",
    "end = time.time()\n",
    "print(end - start, ' seconds')"
   ]
  },
  {
   "cell_type": "code",
   "execution_count": 21,
   "id": "05a84fea-d911-48e8-a6af-57c1ad56ed92",
   "metadata": {},
   "outputs": [],
   "source": [
    "# score_table[:1]"
   ]
  },
  {
   "cell_type": "code",
   "execution_count": 22,
   "id": "3c82899a-2b4d-4e10-b037-22bbc1ec9d17",
   "metadata": {},
   "outputs": [
    {
     "name": "stdout",
     "output_type": "stream",
     "text": [
      "189  /  750\n"
     ]
    }
   ],
   "source": [
    "empties = 0\n",
    "for gene_n_score in miRNA_to_gene_score[my_miRNA]:\n",
    "    if len(gene_n_score[1]) == 0:\n",
    "        empties += 1\n",
    "print(empties, ' / ', len(miRNA_to_gene_score[my_miRNA]))"
   ]
  },
  {
   "cell_type": "markdown",
   "id": "2b18c76d-d1e7-47b9-86e4-3f42eccffaad",
   "metadata": {},
   "source": [
    "#### Save the explainability scoring to a file"
   ]
  },
  {
   "cell_type": "code",
   "execution_count": 23,
   "id": "eb63223b-8745-42ad-9037-2a09ec44665e",
   "metadata": {},
   "outputs": [
    {
     "name": "stdout",
     "output_type": "stream",
     "text": [
      "hsa-miR-106b-5p\n"
     ]
    }
   ],
   "source": [
    "for key, value in miRNA_name_to_seq.items():\n",
    "    if value == my_miRNA:\n",
    "        print(key)\n",
    "        my_miRNA_name = key"
   ]
  },
  {
   "cell_type": "code",
   "execution_count": 24,
   "id": "662f7e06-40d0-48c6-8748-6dcdb9fae446",
   "metadata": {},
   "outputs": [
    {
     "name": "stdout",
     "output_type": "stream",
     "text": [
      "<class 'dict'> <class 'list'>\n"
     ]
    }
   ],
   "source": [
    "print(type(miRNA_to_gene_score), type(miRNA_to_gene_score[my_miRNA]))"
   ]
  },
  {
   "cell_type": "code",
   "execution_count": 25,
   "id": "f62afd21-8bd5-46c3-9de7-396477fee387",
   "metadata": {},
   "outputs": [],
   "source": [
    "import json\n",
    "\n",
    "save_scores_path = \"explainability_scores_{}.json\".format(my_miRNA_name)\n",
    "\n",
    "SAVE_EXPL_SCORES = False\n",
    "if SAVE_EXPL_SCORES:\n",
    "    with open(save_scores_path, 'w') as file:\n",
    "        data_to_save = {}\n",
    "        for key in miRNA_to_gene_score.keys():\n",
    "            data_to_save[key] = [[sub_key, list(sub_val)] for sub_key, sub_val in miRNA_to_gene_score[key]]\n",
    "\n",
    "        json.dump(data_to_save, file, indent=4)"
   ]
  },
  {
   "cell_type": "code",
   "execution_count": 26,
   "id": "0010d559-178e-44d5-8ff5-d89e1405cdf3",
   "metadata": {},
   "outputs": [
    {
     "data": {
      "text/plain": [
       "1"
      ]
     },
     "execution_count": 26,
     "metadata": {},
     "output_type": "execute_result"
    }
   ],
   "source": [
    "len(explain_errors)"
   ]
  },
  {
   "cell_type": "markdown",
   "id": "7d66d6ce-f09e-446f-b1b8-046a44f985c7",
   "metadata": {},
   "source": [
    "#### Load the explainability scoring"
   ]
  },
  {
   "cell_type": "code",
   "execution_count": 27,
   "id": "38f80592-4513-4eb7-b5d6-a5969f1b79ab",
   "metadata": {},
   "outputs": [],
   "source": [
    "load_scores_path = save_scores_path\n",
    "\n",
    "with open(load_scores_path, 'r') as file:\n",
    "    miRNA_to_gene_score_loaded = json.load(file)"
   ]
  },
  {
   "cell_type": "code",
   "execution_count": 28,
   "id": "bdd7f78d-9708-4617-a588-193bb7b82205",
   "metadata": {},
   "outputs": [
    {
     "name": "stdout",
     "output_type": "stream",
     "text": [
      "<class 'dict'> <class 'list'>\n"
     ]
    }
   ],
   "source": [
    "print(type(miRNA_to_gene_score_loaded), type(miRNA_to_gene_score_loaded[my_miRNA]))"
   ]
  },
  {
   "cell_type": "code",
   "execution_count": 29,
   "id": "0530d40d-12fb-4800-a460-9ce08fdfe03e",
   "metadata": {},
   "outputs": [],
   "source": [
    "loaded_genes = [x[0] for x in miRNA_to_gene_score_loaded[my_miRNA]]"
   ]
  },
  {
   "cell_type": "markdown",
   "id": "596c956a-e90d-470a-9df2-70d2221efb1f",
   "metadata": {},
   "source": [
    "### Plot"
   ]
  },
  {
   "cell_type": "code",
   "execution_count": null,
   "id": "e43aefad-c784-4dcd-bdbc-a5ee68b5af1c",
   "metadata": {},
   "outputs": [],
   "source": [
    "# gene_symbol_to_score = {}\n",
    "\n",
    "# for i in miRNA_to_gene_score_loaded[my_miRNA]:\n",
    "#     gene_symbol = i[0]\n",
    "#     score = i[1]\n",
    "#     gene_symbol_to_score[gene_symbol] = score"
   ]
  },
  {
   "cell_type": "code",
   "execution_count": null,
   "id": "e910bea3-ed9d-43ad-988f-12413fedfedc",
   "metadata": {},
   "outputs": [],
   "source": [
    "from modules.collect_scores.bymean import bymeanfunc\n",
    "from modules.collect_scores.bysum import bysumfunc\n",
    "from modules.collect_scores.bymaxvalue import bymaxvaluefunc\n",
    "import math\n",
    "\n",
    "# from modules.collect_scores.simple_methods import bymaxvaluefunc, bysumfunc, bymeanfunc\n",
    "\n",
    "gene_score=[]\n",
    "# for gene,score in gene_to_score.items():\n",
    "for gene_symbol, score_signal in miRNA_to_gene_score_loaded[my_miRNA]:\n",
    "    if len(score_signal) > 0:\n",
    "        prediction = bymaxvaluefunc(score_signal)\n",
    "        gene_score.append([gene_symbol, prediction])\n",
    "    else:\n",
    "        gene_score.append([gene_symbol, 0])\n",
    "        \n",
    "        # \"-1 * x\" because we compare with fold change where lower == more impact\n",
    "        # prediction = -1 * bymaxvaluefunc(gene_to_score[gene])\n",
    "        # prediction = math.log(bymaxvaluefunc(gene_to_score[gene]))\n",
    "        \n",
    "        # gene : [real, prediction] \n",
    "        # gene_to_comparison[gene] = [gene_to_fc[gene], prediction]\n",
    "        "
   ]
  },
  {
   "cell_type": "code",
   "execution_count": null,
   "id": "a6c857f4-ebc7-4a6a-b820-5e2456772001",
   "metadata": {},
   "outputs": [],
   "source": [
    "results_df = pd.DataFrame(gene_score, columns=[\"Gene Symbol\",\"score\"])\n",
    "results_df[results_df['score'] > 0]"
   ]
  },
  {
   "cell_type": "code",
   "execution_count": null,
   "id": "d9002489-8bef-4060-8411-bb557c606088",
   "metadata": {},
   "outputs": [],
   "source": [
    "all_genes = []\n",
    "for gene_symbol, gene_sequence in gene_symbol_to_seq.items():\n",
    "    all_genes.append(gene_symbol)"
   ]
  },
  {
   "cell_type": "markdown",
   "id": "439d787d-cac6-46f1-92d1-c3c4673c8596",
   "metadata": {},
   "source": [
    "#### (prediction) for genes\n",
    "X axis is different genes, Y axis is fold change"
   ]
  },
  {
   "cell_type": "code",
   "execution_count": null,
   "id": "ee09a9b8-0af8-4410-8cf3-44a63aa4587f",
   "metadata": {},
   "outputs": [],
   "source": [
    "import pandas as pd\n",
    "import plotly.graph_objs as go\n",
    "import matplotlib.pyplot as plt\n",
    "\n",
    "###Importing dummy data\n",
    "#Predictions\n",
    "targetscan = pd.read_csv('Predicted_Targets_Context_Scores.default_predictions.txt',index_col=0, header=0, sep='\\t')\n",
    "targetscan = targetscan[[\"context++ score\",\"weighted context++ score\",\"miRNA\",\"Gene Symbol\"]]\n",
    "targetscan = targetscan[targetscan['miRNA'] == mirna_name]\n",
    "#Expression\n",
    "mirna_FCs = pd.read_csv('mirna_fcs.csv',index_col=0, header=0, sep=',')\n",
    "\n",
    "\n",
    "predictions = {}\n",
    "\n",
    "predictions[\"context++ score\"] = targetscan[[\"context++ score\",\"miRNA\",\"Gene Symbol\"]]\n",
    "predictions[\"context++ score\"] = predictions[\"context++ score\"].rename(columns={'context++ score': 'score'})\n",
    "predictions[\"weighted context++ score\"] = targetscan[[\"weighted context++ score\",\"miRNA\",\"Gene Symbol\"]]\n",
    "predictions[\"weighted context++ score\"] = predictions[\"weighted context++ score\"].rename(columns={'weighted context++ score': 'score'})\n"
   ]
  },
  {
   "cell_type": "code",
   "execution_count": null,
   "id": "c8bf388a-5617-4118-9e98-18efb4abe728",
   "metadata": {},
   "outputs": [],
   "source": [
    "predictions[\"context++ score\"]"
   ]
  },
  {
   "cell_type": "code",
   "execution_count": null,
   "id": "73ef14fc-1fda-476b-b634-d712fec8fae8",
   "metadata": {},
   "outputs": [],
   "source": [
    "merged_df = pd.merge(predictions[\"context++ score\"],\n",
    "                             mirna_FCs[[\"Gene symbol\",mirna_name]],\n",
    "                             left_on='Gene Symbol',\n",
    "                             right_on='Gene symbol',\n",
    "                             how='left').sort_values(mirna_name,\n",
    "                                                     ascending=True).dropna()\n",
    "merged_df\n",
    "bartel_df = merged_df"
   ]
  },
  {
   "cell_type": "code",
   "execution_count": null,
   "id": "db02d017-bf9b-41b0-bd24-5498a08fd158",
   "metadata": {},
   "outputs": [],
   "source": [
    "results_df_merged = pd.merge(results_df,\n",
    "                             mirna_FCs[[\"Gene symbol\",mirna_name]],\n",
    "                             left_on='Gene Symbol',\n",
    "                             right_on='Gene symbol',\n",
    "                             how='left').sort_values(mirna_name,\n",
    "                                                     ascending=True)\n",
    "                                                     # ascending=True).dropna()\n",
    "\n",
    "results_df_merged"
   ]
  },
  {
   "cell_type": "markdown",
   "id": "024f2575-cd71-4f99-864b-b8613a34549f",
   "metadata": {},
   "source": [
    "### Comparison "
   ]
  },
  {
   "cell_type": "code",
   "execution_count": null,
   "id": "78161b97-eaa2-4195-85cc-1bb7dd531530",
   "metadata": {},
   "outputs": [],
   "source": [
    "results_df_merged_notnull = results_df_merged[results_df_merged['hsa-miR-106b-5p'].notnull()]\n",
    "results_df_merged_notnull "
   ]
  },
  {
   "cell_type": "code",
   "execution_count": null,
   "id": "50fab859-0d21-4c07-88d5-714069e9dfd7",
   "metadata": {},
   "outputs": [],
   "source": [
    "results_df_merged['score'].corr(results_df_merged[mirna_name])"
   ]
  },
  {
   "cell_type": "code",
   "execution_count": null,
   "id": "ca0bcfa3-dd64-4c41-870b-75316b36c119",
   "metadata": {},
   "outputs": [],
   "source": [
    "bartel_df['score'].corr(bartel_df[mirna_name])"
   ]
  },
  {
   "cell_type": "code",
   "execution_count": null,
   "id": "11fd058c-32fa-4489-a912-8c7707e91390",
   "metadata": {},
   "outputs": [],
   "source": []
  },
  {
   "cell_type": "code",
   "execution_count": null,
   "id": "99e17e57-17b3-436c-87f2-9c8e37991436",
   "metadata": {},
   "outputs": [],
   "source": [
    "from sklearn.metrics import mean_squared_error, r2_score\n",
    "\n",
    "# assuming y_true is your ground truth values and y_pred are your predicted values\n",
    "# both y_true and y_pred are lists or numpy arrays\n",
    "y_true = bartel_df[mirna_name].to_numpy()\n",
    "y_pred = bartel_df['score'].to_numpy()\n",
    "\n",
    "mse = mean_squared_error(y_true, y_pred)\n",
    "r2 = r2_score(y_true, y_pred)\n",
    "\n",
    "print(\"MSE: \", mse)\n",
    "print(\"R^2: \", r2)\n"
   ]
  },
  {
   "cell_type": "code",
   "execution_count": null,
   "id": "b7be9153-4388-4bc6-9738-904b7b5714c8",
   "metadata": {},
   "outputs": [],
   "source": [
    "y_true = results_df_merged_notnull['score'].notnull().to_numpy()\n",
    "y_pred = results_df_merged_notnull[mirna_name].notnull().to_numpy()\n",
    "\n",
    "mse = mean_squared_error(y_true, y_pred)\n",
    "r2 = r2_score(y_true, y_pred)\n",
    "\n",
    "print(\"MSE: \", mse)\n",
    "print(\"R^2: \", r2)"
   ]
  },
  {
   "cell_type": "markdown",
   "id": "ca8eaf05-1b4e-4c2f-9334-26ee0199a24d",
   "metadata": {},
   "source": []
  },
  {
   "cell_type": "code",
   "execution_count": null,
   "id": "409cb4d9-bc69-4df3-968e-0aad3a4d70b8",
   "metadata": {},
   "outputs": [],
   "source": [
    "mirna_FCs[[\"Gene symbol\"]].to_numpy()"
   ]
  },
  {
   "cell_type": "code",
   "execution_count": null,
   "id": "ec5376c1-8858-4167-9835-1aff374d58f4",
   "metadata": {},
   "outputs": [],
   "source": [
    "len(set(all_genes).intersection(set(mirna_FCs[[\"Gene symbol\"]].to_numpy().flatten())))"
   ]
  },
  {
   "cell_type": "code",
   "execution_count": null,
   "id": "636d12e9-71a5-4919-8095-06d97aaa0544",
   "metadata": {},
   "outputs": [],
   "source": [
    "results_df['Gene Symbol'].to_numpy()"
   ]
  },
  {
   "cell_type": "code",
   "execution_count": null,
   "id": "c4727255-0d29-496a-9112-84691e1b92c8",
   "metadata": {},
   "outputs": [],
   "source": [
    "mirna_FCs"
   ]
  },
  {
   "cell_type": "code",
   "execution_count": null,
   "id": "68aa96d7-876e-41f7-b4a6-6cae65367033",
   "metadata": {},
   "outputs": [],
   "source": [
    "results = {}\n",
    "for algorithm in predictions:\n",
    "        results[algorithm] = pd.DataFrame(columns=[\"Targets\",\"Mean_mRNA_FC\"])\n",
    "        merged_df = pd.merge(predictions[algorithm],\n",
    "                             mirna_FCs[[\"Gene symbol\",mirna_name]],\n",
    "                             left_on='Gene Symbol',\n",
    "                             right_on='Gene symbol',\n",
    "                             how='left').sort_values(\"score\",\n",
    "                                                     ascending=True).dropna()\n",
    "        \n",
    "        \n",
    "        for i,targets in enumerate([2**n for n in range(2, 11)]):\n",
    "            tmp = merged_df.head(targets)\n",
    "            meanFC = tmp[mirna_name].mean()\n",
    "            results[algorithm].loc[i,\"Targets\"] = targets\n",
    "            results[algorithm].loc[i,\"Mean_mRNA_FC\"] = meanFC"
   ]
  },
  {
   "cell_type": "code",
   "execution_count": null,
   "id": "cfd2a7b1-d37e-4b10-9ee6-2a20cd5ed53d",
   "metadata": {},
   "outputs": [],
   "source": [
    "fig = go.Figure()\n",
    "\n",
    "for algorithm in results:\n",
    "    fig.add_trace(go.Scatter(x=results[algorithm]['Targets'].index.tolist(),\n",
    "                                 y=results[algorithm]['Mean_mRNA_FC'],\n",
    "                                 mode='lines+markers',\n",
    "                                 name=algorithm)\n",
    "                                 )\n",
    "\n",
    "\n",
    "    # create the layout for the plot\n",
    "fig.update_layout(xaxis=dict(tickvals=results[algorithm]['Targets'].index.tolist(),\n",
    "                             ticktext=results[algorithm]['Targets'],\n",
    "                             title = 'Top predicted targets'),\n",
    "                  yaxis=dict(title='Mean_mRNA_FC'),\n",
    "                  title=f'Benchmark on {mirna_name} dataset')\n",
    "    \n",
    "    # show the plot\n",
    "fig.show()\n",
    "# iplot(fig)               # use plotly.offline.iplot for offline plot"
   ]
  },
  {
   "cell_type": "markdown",
   "id": "e971d46e-2fbf-4714-aba4-a2c8961d751e",
   "metadata": {},
   "source": [
    "### Compare with FC"
   ]
  },
  {
   "cell_type": "code",
   "execution_count": null,
   "id": "977af492-f583-4727-b06e-48d01740f502",
   "metadata": {},
   "outputs": [],
   "source": [
    "def get_scores_by_miRNA(miRNA, score_table):\n",
    "    result = {}\n",
    "    for row in score_table:\n",
    "        if row[0] == miRNA:\n",
    "            result[row[1]] = row[2] \n",
    "    return result"
   ]
  },
  {
   "cell_type": "code",
   "execution_count": null,
   "id": "0030e597-7dc1-4383-a271-f42b95d02d5c",
   "metadata": {},
   "outputs": [],
   "source": [
    "miRNA_chosen = score_table[0][0]\n",
    "gene_to_score = get_scores_by_miRNA(\n",
    "    miRNA_chosen, \n",
    "    score_table\n",
    ")\n",
    "\n",
    "miRNA_chosen_name = [i for i in miRNA_name_to_seq if miRNA_name_to_seq[i]==miRNA_chosen]\n",
    "miRNA_chosen_name = miRNA_chosen_name[0]\n",
    "print('scores for miRNA: ', miRNA_chosen_name, \" : \", miRNA_chosen)"
   ]
  },
  {
   "cell_type": "code",
   "execution_count": null,
   "id": "935a0db3-8a46-4071-af2a-b2f45e1024a7",
   "metadata": {},
   "outputs": [],
   "source": [
    "# genes_for_miRNA = mirna_FCs[mirna_FCs[miRNA_chosen_name].isnull() == False]['Gene symbol'].values"
   ]
  },
  {
   "cell_type": "code",
   "execution_count": null,
   "id": "cfeb013b-e273-4617-8a73-1a3ac3925b01",
   "metadata": {},
   "outputs": [],
   "source": [
    "fc_for_miRNA = mirna_FCs[mirna_FCs[miRNA_chosen_name].isnull() == False][['Gene symbol', miRNA_chosen_name]].values"
   ]
  },
  {
   "cell_type": "code",
   "execution_count": null,
   "id": "d222cb91-04f6-4507-a4a9-5f2be5283446",
   "metadata": {},
   "outputs": [],
   "source": [
    "fc_for_miRNA"
   ]
  },
  {
   "cell_type": "code",
   "execution_count": null,
   "id": "5d7a65ad-f39d-423a-80c5-f64c5799a73d",
   "metadata": {},
   "outputs": [],
   "source": [
    "gene_to_fc = {fc_for_miRNA[i][0] : fc_for_miRNA[i][1] for i in range(len(fc_for_miRNA))}"
   ]
  },
  {
   "cell_type": "code",
   "execution_count": null,
   "id": "57cb1abe-4e8d-4b7e-89ee-49755b88f2ae",
   "metadata": {},
   "outputs": [],
   "source": [
    "gene_to_comparison"
   ]
  },
  {
   "cell_type": "code",
   "execution_count": null,
   "id": "aae6775a-a66a-4c44-b9aa-ba8519bd2e50",
   "metadata": {},
   "outputs": [],
   "source": [
    "import numpy as np\n",
    "\n",
    "predictions = [x[1] for x in gene_to_comparison.values()]\n",
    "\n",
    "#normalize all values to be between 0 and 1\n",
    "predictions_norm = (predictions-np.min(predictions))/(np.max(predictions)-np.min(predictions))\n",
    "predictions_norm"
   ]
  },
  {
   "cell_type": "code",
   "execution_count": null,
   "id": "ade35140-3b48-4e79-8433-681803add685",
   "metadata": {},
   "outputs": [],
   "source": [
    "pred_min = np.min(predictions)\n",
    "pred_max = np.max(predictions)\n",
    "\n",
    "gene_to_comparison_norm = {}\n",
    "for key,value in gene_to_comparison.items():\n",
    "    norm_value = (value[1]-pred_min)/(pred_max-pred_min)\n",
    "    # if norm_value == 0:\n",
    "    #     norm_value = math.log(0.001)\n",
    "    # else:\n",
    "    #     norm_value = math.log(norm_value)\n",
    "    gene_to_comparison_norm[key] = [value[0], norm_value]"
   ]
  },
  {
   "cell_type": "code",
   "execution_count": null,
   "id": "11da6449-d7dc-42c2-aa7c-8317f7f169c1",
   "metadata": {},
   "outputs": [],
   "source": [
    "gene_to_comparison_norm"
   ]
  },
  {
   "cell_type": "markdown",
   "id": "ea1ef9cc-0361-404a-a9b9-6efa74a836db",
   "metadata": {},
   "source": [
    "#### (FC and prediction) for genes\n",
    "X axis is different genes, Y axis is fold change"
   ]
  },
  {
   "cell_type": "code",
   "execution_count": null,
   "id": "0b8babef-93e7-4927-8669-1ce820f01b3d",
   "metadata": {},
   "outputs": [],
   "source": [
    "fc_vis = [x[0] for x in list(gene_to_comparison.values())]\n",
    "preds_vis = [x[1] for x in list(gene_to_comparison.values())]\n",
    "print(fc_vis, preds_vis)"
   ]
  },
  {
   "cell_type": "code",
   "execution_count": null,
   "id": "98eb7c2f-eafc-442a-b825-3e1d813e8598",
   "metadata": {},
   "outputs": [],
   "source": [
    "plt.figure(num = random.randint(0, 1000)) # num is a unique identifier for the figure\n",
    "plt.scatter(fc_vis, preds_vis)"
   ]
  },
  {
   "cell_type": "code",
   "execution_count": null,
   "id": "6d8d5447-2808-44d5-b707-f432009cd9d5",
   "metadata": {},
   "outputs": [],
   "source": [
    "predictions = [x[1] for x in gene_to_comparison.values()]\n",
    "\n",
    "\n",
    "plt.figure(num = random.randint(0, 1000)) # num is a unique identifier for the figure\n",
    "plt.plot(predictions);"
   ]
  }
 ],
 "metadata": {
  "kernelspec": {
   "display_name": "Python [conda env:deepExperimentTF2.7]",
   "language": "python",
   "name": "conda-env-deepExperimentTF2.7-py"
  },
  "language_info": {
   "codemirror_mode": {
    "name": "ipython",
    "version": 3
   },
   "file_extension": ".py",
   "mimetype": "text/x-python",
   "name": "python",
   "nbconvert_exporter": "python",
   "pygments_lexer": "ipython3",
   "version": "3.8.16"
  }
 },
 "nbformat": 4,
 "nbformat_minor": 5
}
