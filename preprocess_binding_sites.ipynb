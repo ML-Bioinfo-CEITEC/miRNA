{
 "cells": [
  {
   "cell_type": "code",
   "execution_count": 1,
   "id": "e7f126ac-0cc6-4065-87f9-d9015a5c184e",
   "metadata": {},
   "outputs": [],
   "source": [
    "# Run these lines only the first time you run this notebook\n",
    "\n",
    "# !pip install tensorflow_addons gdown shap -q\n",
    "# !pip install git+https://github.com/katarinagresova/DeepExperiment\n",
    "\n",
    "# !wget https://github.com/ML-Bioinfo-CEITEC/miRBind/raw/main/Models/miRBind.h5\n",
    "# !wget https://raw.githubusercontent.com/ML-Bioinfo-CEITEC/miRBind/graphs/Datasets/evaluation_set_1_1_CLASH2013_paper.tsv"
   ]
  },
  {
   "cell_type": "code",
   "execution_count": 2,
   "id": "905ba2aa-213b-4f88-bde7-f419d1db8b99",
   "metadata": {},
   "outputs": [],
   "source": [
    "# import tensorflow"
   ]
  },
  {
   "cell_type": "code",
   "execution_count": 3,
   "id": "7ee475c4-827c-4cbf-a7ef-f2363cc7088c",
   "metadata": {},
   "outputs": [],
   "source": [
    "# tensorflow.__version__"
   ]
  },
  {
   "cell_type": "code",
   "execution_count": 4,
   "id": "2bcb2366-61d1-48cf-8c09-a5709ed66a1d",
   "metadata": {},
   "outputs": [],
   "source": [
    "from pytorch_lightning.loggers import CometLogger"
   ]
  },
  {
   "cell_type": "markdown",
   "id": "ca182670-8b8c-45e5-a3e0-c60ed9a3a84d",
   "metadata": {},
   "source": [
    "### Load and preprocess the transcript data"
   ]
  },
  {
   "cell_type": "code",
   "execution_count": 5,
   "id": "22b1e4aa-b4bf-485f-8172-b5de01dab987",
   "metadata": {},
   "outputs": [],
   "source": [
    "from Bio import SeqIO\n",
    "import re\n",
    "\n",
    "def extract_gene_symbol(record):\n",
    "    tmp = [re.findall(\"\\((.*?)\\)\", x) for x in record.description.split()]\n",
    "    while([] in tmp):\n",
    "        tmp.remove([])\n",
    "    return tmp[0][0]\n",
    "\n",
    "gene_symbol_to_seq = {}\n",
    "file_path = 'data/GCF_000001405.40/rna.fna'\n",
    "\n",
    "for record in SeqIO.parse(file_path, \"fasta\"):\n",
    "    description = record.description.split()\n",
    "    gene_id = next((item.split('=')[1] for item in description if item.startswith('gene=')), None)\n",
    "    \n",
    "    symbol = extract_gene_symbol(record)\n",
    "    # Do not need the locus tag (== record.id) for now\n",
    "    # gene_symbol_to_seq[symbol] = [record.seq, record.id]\n",
    "    gene_symbol_to_seq[symbol] = record.seq    "
   ]
  },
  {
   "cell_type": "code",
   "execution_count": 6,
   "id": "672fad1b-d4df-4b72-b8a7-abb483e2300d",
   "metadata": {},
   "outputs": [
    {
     "data": {
      "text/plain": [
       "42423"
      ]
     },
     "execution_count": 6,
     "metadata": {},
     "output_type": "execute_result"
    }
   ],
   "source": [
    "len(gene_symbol_to_seq.items())"
   ]
  },
  {
   "cell_type": "markdown",
   "id": "8cb40897-fb22-45e3-88ef-dbfdc580792b",
   "metadata": {},
   "source": [
    "### Get our deep learning model and miRNA data"
   ]
  },
  {
   "cell_type": "code",
   "execution_count": 7,
   "id": "73c46b39-afa9-4b51-85ec-825b88ff2488",
   "metadata": {},
   "outputs": [],
   "source": [
    "import numpy as np\n",
    "import pandas as pd\n",
    "# import tensorflow as tf\n",
    "# from tensorflow import keras\n",
    "# from tensorflow.keras import layers\n",
    "# from tensorflow.keras.utils import register_keras_serializable\n",
    "# import tensorflow_addons as tfa\n",
    "# import cv2 \n",
    "from IPython.display import Image, display\n",
    "import matplotlib.pyplot as plt\n",
    "import matplotlib.cm as cm\n",
    "# from textwrap import wrap\n",
    "import random\n",
    "# import shap\n",
    "# from shap.plots.colors import red_transparent_blue\n",
    "\n",
    "# from deepexperiment.alignment import Attrament\n",
    "# from deepexperiment.visualization import plot_alignment, plot_miRNA_importance, plotbar_miRNA_importance\n",
    "# from deepexperiment.utils import one_hot_encoding, one_hot_encoding_batch\n",
    "# from deepexperiment.interpret import DeepShap"
   ]
  },
  {
   "cell_type": "code",
   "execution_count": 8,
   "id": "74d599ca-509b-4396-a9a7-9d41f486b2a8",
   "metadata": {},
   "outputs": [],
   "source": [
    "random.seed(42)"
   ]
  },
  {
   "cell_type": "code",
   "execution_count": 9,
   "id": "50cd7737-d157-49cd-9c96-0584c9c53c03",
   "metadata": {},
   "outputs": [
    {
     "data": {
      "text/html": [
       "<div>\n",
       "<style scoped>\n",
       "    .dataframe tbody tr th:only-of-type {\n",
       "        vertical-align: middle;\n",
       "    }\n",
       "\n",
       "    .dataframe tbody tr th {\n",
       "        vertical-align: top;\n",
       "    }\n",
       "\n",
       "    .dataframe thead th {\n",
       "        text-align: right;\n",
       "    }\n",
       "</style>\n",
       "<table border=\"1\" class=\"dataframe\">\n",
       "  <thead>\n",
       "    <tr style=\"text-align: right;\">\n",
       "      <th></th>\n",
       "      <th>miRNA</th>\n",
       "      <th>gene</th>\n",
       "      <th>label</th>\n",
       "    </tr>\n",
       "  </thead>\n",
       "  <tbody>\n",
       "    <tr>\n",
       "      <th>0</th>\n",
       "      <td>TAGGTAGTTTCATGTTGTTG</td>\n",
       "      <td>AGACCAGCAACAAACTACCAACACTGTAGAGGAGCCCCTGGATCTT...</td>\n",
       "      <td>1</td>\n",
       "    </tr>\n",
       "    <tr>\n",
       "      <th>1</th>\n",
       "      <td>GCAGTCCATGGGCATATACA</td>\n",
       "      <td>CAGCCAAGCCCAGGCTCGCAGTATCAATAAAGCAGTTCTCTGAGGA...</td>\n",
       "      <td>1</td>\n",
       "    </tr>\n",
       "    <tr>\n",
       "      <th>2</th>\n",
       "      <td>CAAAGTGCTTACAGTGCAGG</td>\n",
       "      <td>TGAGAACACTTAAAGTTCAAATAGAAATCATTTCTGAAGACAAAAG...</td>\n",
       "      <td>1</td>\n",
       "    </tr>\n",
       "    <tr>\n",
       "      <th>3</th>\n",
       "      <td>GAGGGTTGGGTGGAGGCTCT</td>\n",
       "      <td>AATGCCCCAAAATCCAAACCTTCCTGAACGCTATGACACCATGAGT...</td>\n",
       "      <td>1</td>\n",
       "    </tr>\n",
       "    <tr>\n",
       "      <th>4</th>\n",
       "      <td>ACTGCCCTAAGTGCTCCTTC</td>\n",
       "      <td>AAGAAACTAGGAGAATGGGTAGGCCTTTGTAAAATTGACAGAGAGG...</td>\n",
       "      <td>1</td>\n",
       "    </tr>\n",
       "  </tbody>\n",
       "</table>\n",
       "</div>"
      ],
      "text/plain": [
       "                  miRNA                                               gene  \\\n",
       "0  TAGGTAGTTTCATGTTGTTG  AGACCAGCAACAAACTACCAACACTGTAGAGGAGCCCCTGGATCTT...   \n",
       "1  GCAGTCCATGGGCATATACA  CAGCCAAGCCCAGGCTCGCAGTATCAATAAAGCAGTTCTCTGAGGA...   \n",
       "2  CAAAGTGCTTACAGTGCAGG  TGAGAACACTTAAAGTTCAAATAGAAATCATTTCTGAAGACAAAAG...   \n",
       "3  GAGGGTTGGGTGGAGGCTCT  AATGCCCCAAAATCCAAACCTTCCTGAACGCTATGACACCATGAGT...   \n",
       "4  ACTGCCCTAAGTGCTCCTTC  AAGAAACTAGGAGAATGGGTAGGCCTTTGTAAAATTGACAGAGAGG...   \n",
       "\n",
       "   label  \n",
       "0      1  \n",
       "1      1  \n",
       "2      1  \n",
       "3      1  \n",
       "4      1  "
      ]
     },
     "execution_count": 9,
     "metadata": {},
     "output_type": "execute_result"
    }
   ],
   "source": [
    "# \"\"\"# Loading model and the data\"\"\"\n",
    "\n",
    "# model = keras.models.load_model(\"miRBind.h5\")\n",
    "# # model.summary()\n",
    "\n",
    "samples = pd.read_csv('evaluation_set_1_1_CLASH2013_paper.tsv', sep='\\t')\n",
    "samples.head()\n",
    "\n",
    "# # get the miRNAs\n",
    "# #     CHANGE choose the miRNA\n",
    "# # miRNA = samples['miRNA'].value_counts().index[6]\n",
    "# # miRNA"
   ]
  },
  {
   "cell_type": "markdown",
   "id": "aab25ce0-dab9-427d-b6e2-f579ae2bc6c5",
   "metadata": {},
   "source": [
    "### Get the scores for FC comparison using files from Bartel  "
   ]
  },
  {
   "cell_type": "code",
   "execution_count": 10,
   "id": "8c994b27-ee93-4054-8c30-703a71e8ebd1",
   "metadata": {},
   "outputs": [],
   "source": [
    "mirna_FCs = pd.read_csv('modules/evaluation/mirna_fcs.csv',index_col=0, header=0, sep=',')"
   ]
  },
  {
   "cell_type": "code",
   "execution_count": 11,
   "id": "9c5849d4-3c40-4b3e-872d-ecbd7e7a2a92",
   "metadata": {},
   "outputs": [
    {
     "data": {
      "text/plain": [
       "RefSeq ID\n",
       "NM_000017       ACADS\n",
       "NM_000019       ACAT1\n",
       "NM_000021       PSEN1\n",
       "NM_000023        SGCA\n",
       "NM_000027         AGA\n",
       "               ...   \n",
       "NM_213646        WARS\n",
       "NM_213647       FGFR4\n",
       "NM_213649       SFXN4\n",
       "NM_213651    SLC25A24\n",
       "NM_213662       STAT3\n",
       "Name: Gene symbol, Length: 8372, dtype: object"
      ]
     },
     "execution_count": 11,
     "metadata": {},
     "output_type": "execute_result"
    }
   ],
   "source": [
    "# mirna_FCs\n",
    "mirna_FCs['Gene symbol']"
   ]
  },
  {
   "cell_type": "code",
   "execution_count": 12,
   "id": "82506272-792d-4d4d-8bdb-c5844d356b42",
   "metadata": {},
   "outputs": [],
   "source": [
    "def rna_to_dna(rna_sample):\n",
    "    rna_dic = {\n",
    "        'A':'A',\n",
    "        'C':'C',\n",
    "        'U':'T',\n",
    "        'G':'G',\n",
    "    }\n",
    "    converted = [rna_dic[x.upper()] for x in rna_sample]\n",
    "    new = \"\"\n",
    "    # traverse in the string\n",
    "    for x in converted:\n",
    "        new += x\n",
    "    # return string\n",
    "    return new"
   ]
  },
  {
   "cell_type": "code",
   "execution_count": 13,
   "id": "a691dda2-c96c-488a-8267-f98bfa99f976",
   "metadata": {},
   "outputs": [
    {
     "name": "stdout",
     "output_type": "stream",
     "text": [
      "['TAGCAGCACGTAAATATTGGCG', 'TAAAGTGCTGACAGTGCAGAT', 'TAACACTGTCTGGTAACGATGT', 'TAATACTGCCTGGTAATGATGA', 'ATGACCTATGAATTGACAGAC', 'TGAGGTAGTAGGTTGTATGGTT', 'AGCAGCATTGTACAGGGCTATGA']\n"
     ]
    }
   ],
   "source": [
    "mirna_sequences = ['UAGCAGCACGUAAAUAUUGGCG', 'UAAAGUGCUGACAGUGCAGAU', 'UAACACUGUCUGGUAACGAUGU', 'UAAUACUGCCUGGUAAUGAUGA', 'AUGACCUAUGAAUUGACAGAC', 'UGAGGUAGUAGGUUGUAUGGUU', 'AGCAGCAUUGUACAGGGCUAUGA']\n",
    "mirna_sequences = [rna_to_dna(x) for x in mirna_sequences]\n",
    "print(mirna_sequences)"
   ]
  },
  {
   "cell_type": "code",
   "execution_count": 14,
   "id": "3e1867e5-0596-4ef1-aae9-d04299ca9e53",
   "metadata": {},
   "outputs": [
    {
     "data": {
      "text/plain": [
       "{'hsa-miR-16-5p': 'TAGCAGCACGTAAATATTGGCG',\n",
       " 'hsa-miR-106b-5p': 'TAAAGTGCTGACAGTGCAGAT',\n",
       " 'hsa-miR-200a-3p': 'TAACACTGTCTGGTAACGATGT',\n",
       " 'hsa-miR-200b-3p': 'TAATACTGCCTGGTAATGATGA',\n",
       " 'hsa-miR-215-5p': 'ATGACCTATGAATTGACAGAC',\n",
       " 'hsa-let-7c-5p': 'TGAGGTAGTAGGTTGTATGGTT',\n",
       " 'hsa-miR-103a-3p': 'AGCAGCATTGTACAGGGCTATGA'}"
      ]
     },
     "execution_count": 14,
     "metadata": {},
     "output_type": "execute_result"
    }
   ],
   "source": [
    "miRNA_names = ['hsa-miR-16-5p', 'hsa-miR-106b-5p', 'hsa-miR-200a-3p', 'hsa-miR-200b-3p', 'hsa-miR-215-5p', 'hsa-let-7c-5p', 'hsa-miR-103a-3p']\n",
    "miRNA_name_to_seq = {}\n",
    "for i in range(len(miRNA_names)):\n",
    "    miRNA_name_to_seq[miRNA_names[i]] = mirna_sequences[i]\n",
    "miRNA_name_to_seq"
   ]
  },
  {
   "cell_type": "markdown",
   "id": "5b50f923-cb9f-496c-8711-6859287389a9",
   "metadata": {},
   "source": [
    "#### Only for 1 miRNA now "
   ]
  },
  {
   "cell_type": "code",
   "execution_count": 15,
   "id": "f310f1b9-94f1-4baa-858d-ff4a7d1e9511",
   "metadata": {},
   "outputs": [],
   "source": [
    "mirna_sequences = ['TAAAGTGCTGACAGTGCAGAT']\n",
    "mirna_sequences\n",
    "mirna_name = 'hsa-miR-106b-5p'\n",
    "# mirna_name = 'hsa-miR-16-5p'\n",
    "my_miRNA = 'TAAAGTGCTGACAGTGCAGAT'\n",
    "# my_miRNA = 'TAGCAGCACGTAAATATTGGCG'"
   ]
  },
  {
   "cell_type": "code",
   "execution_count": 16,
   "id": "85322e33-e908-40a1-8162-8770c8d718cd",
   "metadata": {},
   "outputs": [
    {
     "name": "stdout",
     "output_type": "stream",
     "text": [
      "8092\n"
     ]
    }
   ],
   "source": [
    "gene_symbols = mirna_FCs[mirna_FCs[mirna_name].isnull() == False]['Gene symbol'].values\n",
    "print(len(gene_symbols))"
   ]
  },
  {
   "cell_type": "markdown",
   "id": "2b18c76d-d1e7-47b9-86e4-3f42eccffaad",
   "metadata": {},
   "source": [
    "#### Load the explainability scoring to a file"
   ]
  },
  {
   "cell_type": "code",
   "execution_count": 17,
   "id": "f62afd21-8bd5-46c3-9de7-396477fee387",
   "metadata": {},
   "outputs": [],
   "source": [
    "import json\n",
    "\n",
    "save_scores_path = \"explainability_scores_{}.json\".format(mirna_name)"
   ]
  },
  {
   "cell_type": "markdown",
   "id": "7d66d6ce-f09e-446f-b1b8-046a44f985c7",
   "metadata": {},
   "source": [
    "#### Load the explainability scoring"
   ]
  },
  {
   "cell_type": "code",
   "execution_count": 18,
   "id": "38f80592-4513-4eb7-b5d6-a5969f1b79ab",
   "metadata": {},
   "outputs": [],
   "source": [
    "load_scores_path = save_scores_path\n",
    "\n",
    "with open(load_scores_path, 'r') as file:\n",
    "    miRNA_to_gene_score_loaded = json.load(file)"
   ]
  },
  {
   "cell_type": "code",
   "execution_count": 19,
   "id": "bdd7f78d-9708-4617-a588-193bb7b82205",
   "metadata": {},
   "outputs": [
    {
     "name": "stdout",
     "output_type": "stream",
     "text": [
      "<class 'dict'> <class 'list'>\n"
     ]
    }
   ],
   "source": [
    "print(type(miRNA_to_gene_score_loaded), type(miRNA_to_gene_score_loaded[my_miRNA]))"
   ]
  },
  {
   "cell_type": "code",
   "execution_count": 20,
   "id": "d5cbad81-fa92-4942-bcaf-da1044a21ba7",
   "metadata": {},
   "outputs": [
    {
     "name": "stdout",
     "output_type": "stream",
     "text": [
      "A2M\n"
     ]
    }
   ],
   "source": [
    "print(miRNA_to_gene_score_loaded[my_miRNA][0][0])"
   ]
  },
  {
   "cell_type": "code",
   "execution_count": 21,
   "id": "0530d40d-12fb-4800-a460-9ce08fdfe03e",
   "metadata": {},
   "outputs": [],
   "source": [
    "loaded_genes = [x[0] for x in miRNA_to_gene_score_loaded[my_miRNA]]"
   ]
  },
  {
   "cell_type": "markdown",
   "id": "596c956a-e90d-470a-9df2-70d2221efb1f",
   "metadata": {},
   "source": [
    "### Plot"
   ]
  },
  {
   "cell_type": "code",
   "execution_count": 22,
   "id": "11686f1c-933b-4434-9021-3fb3e14cb997",
   "metadata": {},
   "outputs": [],
   "source": [
    "def get_islands(arr):\n",
    "    # Find start and end+1 of each island\n",
    "    starts = np.array([], int)\n",
    "    ends = np.array([], int)\n",
    "    for i in range(len(arr)-1):        \n",
    "        if arr[i] == 0 and arr[i+1] != 0 or i==0 and arr[i] != 0:\n",
    "            # starts.append(i+1)\n",
    "            starts = np.append(starts, i+1)\n",
    "        if arr[i] != 0 and arr[i+1] == 0:\n",
    "            # or arr[i] != 0 and len(arr) == i\n",
    "            # ends.append(i)\n",
    "            ends = np.append(ends, i+1)\n",
    "\n",
    "    # Get lengths of each island\n",
    "    lengths = ends - starts\n",
    "\n",
    "    # Return as pairs of (start, length)\n",
    "    # return list(zip(starts, ends, lengths))\n",
    "    return (starts, ends, lengths)\n",
    "\n",
    "idxes = [] \n",
    "for i in [1, 6, 19]:\n",
    "    idxes.append(get_islands(miRNA_to_gene_score_loaded[my_miRNA][i][1]))\n",
    "    "
   ]
  },
  {
   "cell_type": "code",
   "execution_count": 23,
   "id": "658ce279-c15f-4274-9054-3b45da19b166",
   "metadata": {},
   "outputs": [
    {
     "name": "stdout",
     "output_type": "stream",
     "text": [
      "[0.0, 6.660619284957647e-05, 9.951850399374961e-05, 0.0003023144789040089, 0.00014385688118636608, 0.00025316121056675914, 0.0002203066274523735, 0.0021231752634048463, 0.0026548716425895693, 0.0004114201292395592, 0.0006678072363138199, 0.001579331474031278, 0.0008955527911894024, 0.001183917294256389, 0.001704848101362586, 0.0010069606266915798, 0.002865324360318482, 0.0012442029174417257, 0.0008290026636677794, 0.0015094609186053277, 0.00041354633285664024, 0.0015391211956739426, 0.0017147809267044067, 0.00025641327840276063, 0.0001803998585091904, 9.855834767222405e-05, 9.49101964943111e-05, 0.00012953354278579353, 4.004052258096635e-05, 8.373179472982884e-05, 6.380955455824733e-05, 4.151891625951976e-05, 9.057046379894018e-05, 6.791138206608593e-05, 7.710815290920436e-05, 0.00010695577890146524, 4.696741001680493e-05, 9.77395661175251e-05, 4.539894638583064e-05, 5.431550554931164e-05, 3.226074069971219e-05, 5.066958954557777e-05, 4.7975672059692444e-05, 6.335656566079706e-05, 3.138361709716264e-05, 3.6371853493619713e-05, 2.996200113557279e-05, 2.626559813506901e-05, 1.3994184958505685e-05, 1.450835436116904e-05, 1.769929498550482e-05, 1.987653784453869e-05, 6.6898803925141695e-06, 5.144748138263822e-06, 3.958865709137171e-06, 4.932599840685725e-06, 1.0936681792372837e-06, 1.2677461199928076e-06, 2.183641481678933e-06, 2.665865467861295e-06, 8.602754678577185e-07, 0.0]\n"
     ]
    }
   ],
   "source": [
    "print(miRNA_to_gene_score_loaded[my_miRNA][19][1][idxes[2][0][0]-1 : idxes[2][1][0]+1])"
   ]
  },
  {
   "cell_type": "code",
   "execution_count": 24,
   "id": "7042a933-a72b-4315-8140-f6b0da82c9a4",
   "metadata": {},
   "outputs": [
    {
     "name": "stdout",
     "output_type": "stream",
     "text": [
      "6.660619284957647e-05\n",
      "1.878536073490977e-05\n",
      "1.2466057669371366e-05\n",
      "8.602754678577185e-07\n",
      "1.037647743942216e-06\n",
      "7.927888509584591e-07\n"
     ]
    }
   ],
   "source": [
    "#starts\n",
    "for k in idxes[2][0]:\n",
    "    print(miRNA_to_gene_score_loaded[my_miRNA][19][1][k])\n",
    "    \n",
    "#ends\n",
    "for k in idxes[2][1]:\n",
    "    print(miRNA_to_gene_score_loaded[my_miRNA][19][1][k-1])"
   ]
  },
  {
   "cell_type": "code",
   "execution_count": 25,
   "id": "5bcf0c3a-487a-445c-b797-6c11ee0fddca",
   "metadata": {},
   "outputs": [
    {
     "data": {
      "text/plain": [
       "42402"
      ]
     },
     "execution_count": 25,
     "metadata": {},
     "output_type": "execute_result"
    }
   ],
   "source": [
    "binding_sites = []\n",
    "\n",
    "for scores in miRNA_to_gene_score_loaded[my_miRNA]:\n",
    "    binding_sites.append(get_islands(scores[1]))\n",
    "\n",
    "len(binding_sites)"
   ]
  },
  {
   "cell_type": "code",
   "execution_count": 26,
   "id": "97a24ef1-2864-478b-aec7-d7808419fd0e",
   "metadata": {},
   "outputs": [
    {
     "data": {
      "text/plain": [
       "42402"
      ]
     },
     "execution_count": 26,
     "metadata": {},
     "output_type": "execute_result"
    }
   ],
   "source": [
    "len(miRNA_to_gene_score_loaded[my_miRNA])"
   ]
  },
  {
   "cell_type": "markdown",
   "id": "91459a72-dafa-471f-8567-9f80ccd4ff7f",
   "metadata": {},
   "source": [
    "### Count the statistics for input data"
   ]
  },
  {
   "cell_type": "code",
   "execution_count": 27,
   "id": "2e00cf0f-95ef-48be-bc22-8ceba21eaf5f",
   "metadata": {},
   "outputs": [],
   "source": [
    "from modules.collect_scores.bymaxvalue import bymaxvaluefunc\n",
    "from modules.collect_scores.bymean import bymeanfunc\n",
    "\n",
    "\n",
    "input_data = []\n",
    "input_data_genes = []\n",
    "transcripts_with_no_bs = []\n",
    "FEATURES = [0, 1, 2, 3]\n",
    "FEATURE_NAMES = ['max', 'mean', 'bs_start', 'transcript_len']\n",
    "\n",
    "\n",
    "scores_per_gene = miRNA_to_gene_score_loaded[my_miRNA]\n",
    "\n",
    "statistical_funcs = [bymaxvaluefunc, bymeanfunc]\n",
    "# and starting index\n",
    "\n",
    "# for each gene\n",
    "for i in range(len(scores_per_gene)):\n",
    "    scores = scores_per_gene[i][1]\n",
    "    gene_name = scores_per_gene[i][0]\n",
    "    seq_binding = []\n",
    "    starts, ends, lengths = binding_sites[i]\n",
    "    \n",
    "    # for each binding site: count features\n",
    "    for k in range(len(starts)):\n",
    "        \n",
    "        if starts[k].any():\n",
    "        # if start.size > 0:\n",
    "            # this dictates the number of features\n",
    "            stat_one = statistical_funcs[0](scores[starts[k]:ends[k]])\n",
    "            stat_two = statistical_funcs[1](scores[starts[k]:ends[k]])\n",
    "            # TODO think about the modeling of input data because now the \" len(scores)\" is the same number in every binding site (quartet) of single transcript\n",
    "            seq_binding.append([stat_one, stat_two, starts[k], len(scores)])\n",
    "        else:\n",
    "            seq_binding.append([0, 0, 0, 0])\n",
    "            \n",
    "    if len(seq_binding) > 0:\n",
    "        input_data.append(seq_binding)\n",
    "        input_data_genes.append(gene_name)\n",
    "    else:\n",
    "        transcripts_with_no_bs.append(gene_name)"
   ]
  },
  {
   "cell_type": "code",
   "execution_count": 28,
   "id": "69479ea3-95c5-4ff6-95f6-78da087202de",
   "metadata": {},
   "outputs": [
    {
     "data": {
      "text/plain": [
       "(25629,\n",
       " [[0.00031168844550848006, 4.931571403139971e-05, 1090, 1431]],\n",
       " [[0.0020709490776062013, 0.0002585863833349625, 1300, 1521]],\n",
       " [[0.000854843556880951, 0.00011655626766732893, 2340, 4244],\n",
       "  [0.0004107185825705528, 6.734315702051388e-05, 4090, 4244]])"
      ]
     },
     "execution_count": 28,
     "metadata": {},
     "output_type": "execute_result"
    }
   ],
   "source": [
    "len(input_data), input_data[6],  input_data[1],  input_data[4]"
   ]
  },
  {
   "cell_type": "code",
   "execution_count": 29,
   "id": "421dadd3-444f-492d-ba73-a7c2c346e7d8",
   "metadata": {},
   "outputs": [
    {
     "name": "stdout",
     "output_type": "stream",
     "text": [
      "[860] [910] [50]\n"
     ]
    },
    {
     "data": {
      "text/plain": [
       "numpy.ndarray"
      ]
     },
     "execution_count": 29,
     "metadata": {},
     "output_type": "execute_result"
    }
   ],
   "source": [
    "start, end, length = binding_sites[0]\n",
    "print(start, end, length)\n",
    "type(start)"
   ]
  },
  {
   "cell_type": "code",
   "execution_count": 30,
   "id": "af586c99-6702-4006-8826-f02f85ca080e",
   "metadata": {},
   "outputs": [
    {
     "data": {
      "text/plain": [
       "3"
      ]
     },
     "execution_count": 30,
     "metadata": {},
     "output_type": "execute_result"
    }
   ],
   "source": [
    "len(binding_sites[3])"
   ]
  },
  {
   "cell_type": "code",
   "execution_count": 31,
   "id": "62eec35b-8c38-4b44-98c3-590cef551728",
   "metadata": {},
   "outputs": [],
   "source": [
    "bs_count = []\n",
    "for i in input_data:\n",
    "    # if \n",
    "    bs_count.append(len(i))"
   ]
  },
  {
   "cell_type": "markdown",
   "id": "e4ded737-bd02-455e-b87c-65a477e46ee1",
   "metadata": {},
   "source": [
    "### Number of binding sites per transcript\n"
   ]
  },
  {
   "cell_type": "code",
   "execution_count": 32,
   "id": "31904ee4-9d5c-4e45-90ff-09168b93d8c5",
   "metadata": {},
   "outputs": [
    {
     "name": "stdout",
     "output_type": "stream",
     "text": [
      "OrderedDict([(0, 16773), (1, 10378), (2, 5922), (3, 3445), (4, 2088), (5, 1250), (6, 761), (7, 498), (8, 346), (9, 225), (10, 145), (11, 138), (12, 93), (13, 53), (14, 60), (15, 40), (16, 32), (17, 21), (18, 15), (19, 11), (20, 11), (21, 13), (22, 5), (23, 9), (24, 6), (25, 9), (26, 3), (27, 10), (28, 5), (29, 6), (30, 6), (31, 2), (32, 2), (33, 2), (34, 2), (35, 3), (36, 1), (37, 2), (38, 1), (44, 2), (45, 2), (48, 1), (53, 1), (62, 1), (64, 1), (65, 1), (66, 1)])\n"
     ]
    },
    {
     "data": {
      "text/plain": [
       "<BarContainer object of 47 artists>"
      ]
     },
     "execution_count": 32,
     "metadata": {},
     "output_type": "execute_result"
    },
    {
     "data": {
      "image/png": "[encoded data removed]",
      "text/plain": [
       "<Figure size 640x480 with 1 Axes>"
      ]
     },
     "metadata": {},
     "output_type": "display_data"
    }
   ],
   "source": [
    "import  collections\n",
    "import matplotlib.pyplot as plt\n",
    "w = collections.Counter(bs_count)\n",
    "w[0] = len(transcripts_with_no_bs)\n",
    "w = collections.OrderedDict(sorted(w.items()))\n",
    "print(w)\n",
    "plt.bar(w.keys(), w.values())\n",
    "\n",
    "# plt.figure(num = random.randint(0, 1000)) # num is a unique identifier for the figure\n",
    "# plt.plot(collections.Counter(bs_count));"
   ]
  },
  {
   "cell_type": "markdown",
   "id": "b8531792-e2d1-499e-b0db-b3a3948a463f",
   "metadata": {},
   "source": [
    "### Normalize input data"
   ]
  },
  {
   "cell_type": "markdown",
   "id": "52300934-b2cf-4366-8b95-a013a520260f",
   "metadata": {},
   "source": [
    "#### TODO should we do some more complex normalization/preprocessing based on the shape/statistics of the data? --- a lot of low values; take outliers into acount when choosing normalization method?"
   ]
  },
  {
   "cell_type": "code",
   "execution_count": 33,
   "id": "3397f8a8-5b20-4349-9952-02e9768032ed",
   "metadata": {},
   "outputs": [
    {
     "data": {
      "text/plain": [
       "([[0.0005550672113895416, 7.100176308886147e-05, 450, 5961],\n",
       "  [0.0003475658968091011, 7.346505898676696e-05, 1230, 5961],\n",
       "  [0.00019479231908917427, 3.8508949094102705e-05, 2010, 5961],\n",
       "  [0.0016985791968181728, 0.0002653615775329855, 2560, 5961],\n",
       "  [0.0011792104318737984, 0.0001531407045658853, 2650, 5961],\n",
       "  [0.0003918356075882912, 6.104532821627802e-05, 5400, 5961]],\n",
       " [[0.0020709490776062013, 0.0002585863833349625, 1300, 1521]])"
      ]
     },
     "execution_count": 33,
     "metadata": {},
     "output_type": "execute_result"
    }
   ],
   "source": [
    "input_data[5], input_data[1]"
   ]
  },
  {
   "cell_type": "code",
   "execution_count": 34,
   "id": "776475ff-631f-4b9d-ad0c-c24e712be0f3",
   "metadata": {},
   "outputs": [
    {
     "name": "stdout",
     "output_type": "stream",
     "text": [
      "maxes and mins\n"
     ]
    },
    {
     "data": {
      "text/plain": [
       "{'feature0': (0.0001069104764610529, 0.4938503155484796),\n",
       " 'feature1': (2.6173551956890148e-05, 0.0348073390016565),\n",
       " 'feature2': (1, 100270),\n",
       " 'feature3': (58, 100785)}"
      ]
     },
     "execution_count": 34,
     "metadata": {},
     "output_type": "execute_result"
    }
   ],
   "source": [
    "feature_maxmins = {}\n",
    "\n",
    "for feature in FEATURES:\n",
    "    x_min = 999999\n",
    "    x_max = -1\n",
    "    for sample in input_data:\n",
    "        for binding_site in sample:\n",
    "            item = binding_site[feature]\n",
    "            if x_min > item:\n",
    "                x_min = item\n",
    "            if x_max < item:\n",
    "                x_max = item\n",
    "    \n",
    "    feature_maxmins['feature' + str(feature)] = (x_min, x_max)\n",
    "    \n",
    "print(\"maxes and mins\")\n",
    "feature_maxmins"
   ]
  },
  {
   "cell_type": "code",
   "execution_count": 99,
   "id": "a0ed060a-b695-41e2-94f6-2c601b82fe6d",
   "metadata": {},
   "outputs": [],
   "source": [
    "input_data_normalized = []\n",
    "\n",
    "for sample in input_data:\n",
    "    new_sample = []\n",
    "    for binding_site in sample:\n",
    "        new_binding_site = []\n",
    "        for feature in FEATURES:\n",
    "            x_min = list(feature_maxmins.items())[feature][1][0]\n",
    "            x_max = list(feature_maxmins.items())[feature][1][1]\n",
    "            item = binding_site[feature]\n",
    "            item = (item - x_min) / (x_max - x_min)\n",
    "            new_binding_site.append(item)\n",
    "        new_sample.append(new_binding_site)\n",
    "    input_data_normalized.append(new_sample)    "
   ]
  },
  {
   "cell_type": "code",
   "execution_count": 100,
   "id": "88d29d36-e6ce-4bab-8c87-f08dcd69b746",
   "metadata": {},
   "outputs": [
    {
     "name": "stdout",
     "output_type": "stream",
     "text": [
      "[[0.0009076713335808902, 0.0012888645493148213, 0.004477954302925131, 0.05860394928867136], [0.0004874098932277296, 0.0013596872450484618, 0.012257028593084602, 0.05860394928867136], [0.00017799091942362802, 0.00035465738360757233, 0.02003610288324407, 0.05860394928867136], [0.00322367590940269, 0.006876941082437509, 0.02552134757502319, 0.05860394928867136], [0.0021717757531492243, 0.003650457107097649, 0.02641893307004159, 0.05860394928867136], [0.0005770712645481887, 0.001002605168875646, 0.053845156528937156, 0.05860394928867136]]\n",
      "[[0.003977852829970801, 0.006682146166556348, 0.01295515064476558, 0.014524407557060172]]\n"
     ]
    }
   ],
   "source": [
    "print(input_data_normalized[5])\n",
    "print(input_data_normalized[1])"
   ]
  },
  {
   "cell_type": "markdown",
   "id": "07c6d7d0-2db6-459c-a3f8-9ee22677146e",
   "metadata": {},
   "source": [
    "### Explore input features distribution"
   ]
  },
  {
   "cell_type": "code",
   "execution_count": 101,
   "id": "17ea1215-df07-46a2-abbd-6fc3ddc93adb",
   "metadata": {},
   "outputs": [],
   "source": [
    "features_grouped = [[] for x in FEATURES]\n",
    "for sample in input_data:\n",
    "    for binding_site in sample:\n",
    "        for index in FEATURES:    \n",
    "            features_grouped[index].append(binding_site[index])\n",
    "            \n",
    "features_grouped_normalized = [[] for x in FEATURES]\n",
    "for sample in input_data_normalized:\n",
    "    for binding_site in sample:\n",
    "        for index in FEATURES:    \n",
    "            features_grouped_normalized[index].append(binding_site[index])\n"
   ]
  },
  {
   "cell_type": "code",
   "execution_count": 146,
   "id": "923722fe-9c19-4090-ae3b-36c21163445e",
   "metadata": {},
   "outputs": [],
   "source": [
    "import matplotlib.pyplot as plt\n",
    "import seaborn as sns\n",
    "\n",
    "def multi_bar_plot(data):\n",
    "    sns.set_style('whitegrid')\n",
    "    g = sns.catplot(x=\"signal values\", y=\"counts\",\n",
    "                    # col=\"year\",\n",
    "                    data=data,\n",
    "                    kind=\"bar\", height=3, aspect=.7, palette='viridis')\n",
    "    print(data)\n",
    "    for ax in g.axes.flat[1:]:\n",
    "        sns.despine(ax=ax, left=True)\n",
    "    for ax in g.axes.flat:\n",
    "        ax.set_xlabel(ax.get_title())\n",
    "        ax.set_title('')\n",
    "        ax.margins(x=0.03)\n",
    "        ax.tick_params(axis='x', labelrotation=90)\n",
    "    plt.tight_layout()\n",
    "    plt.subplots_adjust(wspace=0)\n",
    "    plt.show()"
   ]
  },
  {
   "cell_type": "code",
   "execution_count": 147,
   "id": "d24c8447-8ad0-44b2-bf48-c50b8f37ec64",
   "metadata": {},
   "outputs": [],
   "source": [
    "# sns.load_dataset(\"flights\")"
   ]
  },
  {
   "cell_type": "code",
   "execution_count": 148,
   "id": "9268caa3-d8df-4d92-85d3-8e7b328c7256",
   "metadata": {},
   "outputs": [
    {
     "name": "stdout",
     "output_type": "stream",
     "text": [
      "['max', 'mean', 'bs_start', 'transcript_len']\n",
      "     signal values  counts\n",
      "0           0.4939       1\n",
      "1           0.4931       1\n",
      "2           0.4532       1\n",
      "3           0.4466       1\n",
      "4           0.2438       1\n",
      "..             ...     ...\n",
      "375         0.0005    7963\n",
      "376         0.0004    9081\n",
      "377         0.0003    6832\n",
      "378         0.0002    1685\n",
      "379         0.0001      24\n",
      "\n",
      "[380 rows x 2 columns]\n"
     ]
    },
    {
     "data": {
      "image/png": "[encoded data removed]",
      "text/plain": [
       "<Figure size 640x480 with 1 Axes>"
      ]
     },
     "metadata": {},
     "output_type": "display_data"
    },
    {
     "data": {
      "image/png": "[encoded data removed]",
      "text/plain": [
       "<Figure size 210x300 with 1 Axes>"
      ]
     },
     "metadata": {},
     "output_type": "display_data"
    },
    {
     "name": "stdout",
     "output_type": "stream",
     "text": [
      "     signal values  counts\n",
      "0           0.0348       1\n",
      "1           0.0337       1\n",
      "2           0.0304       2\n",
      "3           0.0302       1\n",
      "4           0.0234       1\n",
      "..             ...     ...\n",
      "104         0.0004     835\n",
      "105         0.0003    4544\n",
      "106         0.0002   15956\n",
      "107         0.0001   43048\n",
      "108         0.0000    4776\n",
      "\n",
      "[109 rows x 2 columns]\n"
     ]
    },
    {
     "data": {
      "image/png": "[encoded data removed]",
      "text/plain": [
       "<Figure size 640x480 with 1 Axes>"
      ]
     },
     "metadata": {},
     "output_type": "display_data"
    },
    {
     "data": {
      "image/png": "[encoded data removed]",
      "text/plain": [
       "<Figure size 210x300 with 1 Axes>"
      ]
     },
     "metadata": {},
     "output_type": "display_data"
    },
    {
     "data": {
      "image/png": "[encoded data removed]",
      "text/plain": [
       "<Figure size 640x480 with 1 Axes>"
      ]
     },
     "metadata": {},
     "output_type": "display_data"
    },
    {
     "data": {
      "image/png": "[encoded data removed]",
      "text/plain": [
       "<Figure size 640x480 with 1 Axes>"
      ]
     },
     "metadata": {},
     "output_type": "display_data"
    }
   ],
   "source": [
    "from collections import Counter\n",
    "print(FEATURE_NAMES)\n",
    "\n",
    "for i in FEATURES:\n",
    "    features_grouped[i].sort(reverse=True)\n",
    "    features_grouped_normalized[i].sort(reverse=True)\n",
    "\n",
    "for i in [0,1]:\n",
    "    ax = plt.gca()\n",
    "    # ax.set_xlim([-1, 1000])\n",
    "    # ax.set_ylim([ymin, ymax])\n",
    "    plt.grid(visible=True)\n",
    "    #____\n",
    "    rounded = [ round(elem, 4) for elem in features_grouped[i]]\n",
    "    w = Counter(rounded)\n",
    "    multi_bar_plot(\n",
    "        pd.DataFrame(list(zip(w.keys(), w.values())),\n",
    "        columns =['signal values', 'counts'])\n",
    "    )    \n",
    "    # plt.bar(w.keys(), w.values())\n",
    "    #____\n",
    "    # plt.plot(features_grouped[i],'g--', label=\"raw\")\n",
    "    # plt.plot(features_grouped_normalized[i],'r-.', label=\"normalized\")\n",
    "    #____\n",
    "    # plt.plot(features_grouped[i], features_grouped_normalized[i])\n",
    "    #____\n",
    "    # plt.ax.set(xlim=(xmin, xmax), ylim=(ymin, ymax))\n",
    "    # plt.show()\n",
    "    \n",
    "for i in [2,3]:\n",
    "    ax = plt.gca()\n",
    "    # ax.set_xlim([-1, 11000])\n",
    "    # ax.set_ylim([ymin, ymax])\n",
    "    plt.grid(visible=True)\n",
    "    plt.plot(features_grouped[i],'g--', label=\"raw\")\n",
    "    plt.plot(features_grouped_normalized[i],'r-.', label=\"normalized\")\n",
    "    # plt.plot(features_grouped[i], features_grouped_normalized[i])\n",
    "    # plt.ax.set(xlim=(xmin, xmax), ylim=(ymin, ymax))\n",
    "    plt.show()"
   ]
  },
  {
   "cell_type": "markdown",
   "id": "048ec2db-69fc-4d95-9953-a766f6ba0c93",
   "metadata": {},
   "source": [
    "### Padding input data to 10 binding sites per sample"
   ]
  },
  {
   "cell_type": "code",
   "execution_count": 37,
   "id": "a5fcb140-308b-496f-bb82-9bcd36a1aa2c",
   "metadata": {},
   "outputs": [
    {
     "name": "stdout",
     "output_type": "stream",
     "text": [
      "25629\n",
      "[[0.0015148214087250499, 0.0025986109016717662, 0.023327249698311542, 0.04155787425417217], [0.0006153157753371628, 0.0011836752601968746, 0.040780300990336, 0.04155787425417217]]\n"
     ]
    }
   ],
   "source": [
    "print(len(input_data_normalized))\n",
    "print(input_data_normalized[4])\n",
    "\n",
    "flatten_input = []\n",
    "for sample in input_data_normalized:\n",
    "    flatten_sample = []\n",
    "    for bs in sample:\n",
    "        flatten_sample.extend(bs)\n",
    "    flatten_input.append(flatten_sample)"
   ]
  },
  {
   "cell_type": "code",
   "execution_count": 38,
   "id": "56a75a6e-df92-4dd9-ab44-3ebf9f8d6b38",
   "metadata": {},
   "outputs": [
    {
     "name": "stdout",
     "output_type": "stream",
     "text": [
      "25629\n",
      "[0.0015148214087250499, 0.0025986109016717662, 0.023327249698311542, 0.04155787425417217, 0.0006153157753371628, 0.0011836752601968746, 0.040780300990336, 0.04155787425417217]\n"
     ]
    }
   ],
   "source": [
    "print(len(flatten_input))\n",
    "print(flatten_input[4])"
   ]
  },
  {
   "cell_type": "code",
   "execution_count": 39,
   "id": "8c83c6ab-c680-4ff1-bb88-ee258ed56003",
   "metadata": {},
   "outputs": [],
   "source": [
    "import torch\n",
    "import torch.nn.functional as F\n",
    "\n",
    "# Convert to tensor\n",
    "data_tensor = torch.nn.utils.rnn.pad_sequence([torch.tensor(item) for item in flatten_input], batch_first=True)\n",
    "\n",
    "# Calculate the padding required\n",
    "padding = (0, (len(FEATURES) * 10) - data_tensor.size(1))\n",
    "\n",
    "# Pad with zeros\n",
    "padded_data_tensor = F.pad(data_tensor, padding, value=0)"
   ]
  },
  {
   "cell_type": "code",
   "execution_count": 40,
   "id": "7e35b269-d27b-4429-838e-344a2a8cddd9",
   "metadata": {},
   "outputs": [
    {
     "data": {
      "text/plain": [
       "(25629,\n",
       " torch.Size([40]),\n",
       " tensor([0.0015, 0.0022, 0.0086, 0.0486, 0.0000, 0.0000, 0.0000, 0.0000, 0.0000,\n",
       "         0.0000, 0.0000, 0.0000, 0.0000, 0.0000, 0.0000, 0.0000, 0.0000, 0.0000,\n",
       "         0.0000, 0.0000, 0.0000, 0.0000, 0.0000, 0.0000, 0.0000, 0.0000, 0.0000,\n",
       "         0.0000, 0.0000, 0.0000, 0.0000, 0.0000, 0.0000, 0.0000, 0.0000, 0.0000,\n",
       "         0.0000, 0.0000, 0.0000, 0.0000], dtype=torch.float64))"
      ]
     },
     "execution_count": 40,
     "metadata": {},
     "output_type": "execute_result"
    }
   ],
   "source": [
    "len(padded_data_tensor), padded_data_tensor[0].size(), padded_data_tensor[0]"
   ]
  },
  {
   "cell_type": "markdown",
   "id": "1c653031-4683-4e9d-948e-8d1678359e48",
   "metadata": {},
   "source": [
    "### Add labels"
   ]
  },
  {
   "cell_type": "code",
   "execution_count": 41,
   "id": "33c7cb92-9ad8-4a2a-ba4f-78a2c7ce4c9e",
   "metadata": {},
   "outputs": [],
   "source": [
    "# input_data_genes\n",
    "\n",
    "mirna_FCs = pd.read_csv('mirna_fcs.csv',index_col=0, header=0, sep=',')\n",
    "# mirna_FCs[['Gene symbol',my_miRNA_name]]\n",
    "\n",
    "mirna_FCs_dict = mirna_FCs.set_index('Gene symbol')['hsa-miR-106b-5p'].to_dict()\n",
    "# df_dict\n",
    "\n",
    "input_labels_unfiltered = []\n",
    "not_found_genes = []\n",
    "gene_indices_to_remove = []\n",
    "nan_genes = []\n",
    "\n",
    "for i, gene in enumerate(input_data_genes):\n",
    "    try:\n",
    "        fc = mirna_FCs_dict[gene]\n",
    "        if np.isnan(fc):\n",
    "            nan_genes.append(gene)\n",
    "            input_labels_unfiltered.append(0)\n",
    "            gene_indices_to_remove.append(i)            \n",
    "        else:\n",
    "            input_labels_unfiltered.append(fc)\n",
    "    except:\n",
    "        not_found_genes.append(gene)\n",
    "        input_labels_unfiltered.append(0)\n",
    "        gene_indices_to_remove.append(i)"
   ]
  },
  {
   "cell_type": "code",
   "execution_count": 42,
   "id": "6a608982-6443-4ddb-b2eb-5565433ec06f",
   "metadata": {},
   "outputs": [
    {
     "data": {
      "text/plain": [
       "('There is ',\n",
       " 20167,\n",
       " 'genes for which we do not have fold change because they are not in the Bartel table, out of total',\n",
       " 25629,\n",
       " 'and',\n",
       " 171,\n",
       " 'nan valued genes in FC table')"
      ]
     },
     "execution_count": 42,
     "metadata": {},
     "output_type": "execute_result"
    }
   ],
   "source": [
    "\"There is \", len(not_found_genes), \"genes for which we do not have fold change because they are not in the Bartel table, out of total\", len(input_labels_unfiltered), \"and\", len(nan_genes), \"nan valued genes in FC table\""
   ]
  },
  {
   "cell_type": "markdown",
   "id": "585dfd97-ebda-4f9f-8395-31479ca2c488",
   "metadata": {},
   "source": [
    "### Filter genes without fold change from the dataset"
   ]
  },
  {
   "cell_type": "code",
   "execution_count": 43,
   "id": "13dc8875-24e0-4f56-95ed-b280770a8df1",
   "metadata": {},
   "outputs": [],
   "source": [
    "num_genes = len(input_data_genes)\n",
    "\n",
    "for i in gene_indices_to_remove:\n",
    "    input_labels_unfiltered[i] = \"remove\"\n",
    "\n",
    "input_labels =  [i for i in input_labels_unfiltered if i != \"remove\"]\n",
    "padded_data_tensor =  [padded_data_tensor[i] for i in range(len(input_labels_unfiltered)) if input_labels_unfiltered[i] != \"remove\"]\n",
    "input_data_genes_filtered = [input_data_genes[i] for i in range(len(input_labels_unfiltered)) if input_labels_unfiltered[i] != \"remove\"]"
   ]
  },
  {
   "cell_type": "code",
   "execution_count": 44,
   "id": "ddd0efed-3e0f-4c8d-bc8f-071edae658c7",
   "metadata": {},
   "outputs": [
    {
     "data": {
      "text/plain": [
       "(5291, 5291)"
      ]
     },
     "execution_count": 44,
     "metadata": {},
     "output_type": "execute_result"
    }
   ],
   "source": [
    "len(input_labels), len(padded_data_tensor)"
   ]
  },
  {
   "cell_type": "code",
   "execution_count": 58,
   "id": "174a5967-62cd-4d83-84bf-3877b1c6be69",
   "metadata": {},
   "outputs": [
    {
     "name": "stdout",
     "output_type": "stream",
     "text": [
      "tensor([0.0017, 0.0028, 0.0145, 0.0192, 0.0000, 0.0000, 0.0000, 0.0000, 0.0000,\n",
      "        0.0000, 0.0000, 0.0000, 0.0000, 0.0000, 0.0000, 0.0000, 0.0000, 0.0000,\n",
      "        0.0000, 0.0000, 0.0000, 0.0000, 0.0000, 0.0000, 0.0000, 0.0000, 0.0000,\n",
      "        0.0000, 0.0000, 0.0000, 0.0000, 0.0000, 0.0000, 0.0000, 0.0000, 0.0000,\n",
      "        0.0000, 0.0000, 0.0000, 0.0000], dtype=torch.float64)\n",
      "tensor([0.0042, 0.0071, 0.0013, 0.0146, 0.0000, 0.0000, 0.0000, 0.0000, 0.0000,\n",
      "        0.0000, 0.0000, 0.0000, 0.0000, 0.0000, 0.0000, 0.0000, 0.0000, 0.0000,\n",
      "        0.0000, 0.0000, 0.0000, 0.0000, 0.0000, 0.0000, 0.0000, 0.0000, 0.0000,\n",
      "        0.0000, 0.0000, 0.0000, 0.0000, 0.0000, 0.0000, 0.0000, 0.0000, 0.0000,\n",
      "        0.0000, 0.0000, 0.0000, 0.0000], dtype=torch.float64)\n",
      "tensor([0.0009, 0.0013, 0.0045, 0.0586, 0.0005, 0.0014, 0.0123, 0.0586, 0.0002,\n",
      "        0.0004, 0.0200, 0.0586, 0.0032, 0.0069, 0.0255, 0.0586, 0.0022, 0.0037,\n",
      "        0.0264, 0.0586, 0.0006, 0.0010, 0.0538, 0.0586, 0.0000, 0.0000, 0.0000,\n",
      "        0.0000, 0.0000, 0.0000, 0.0000, 0.0000, 0.0000, 0.0000, 0.0000, 0.0000,\n",
      "        0.0000, 0.0000, 0.0000, 0.0000], dtype=torch.float64)\n",
      "tensor([0.0017, 0.0024, 0.0106, 0.0517, 0.0004, 0.0005, 0.0427, 0.0517, 0.0000,\n",
      "        0.0000, 0.0000, 0.0000, 0.0000, 0.0000, 0.0000, 0.0000, 0.0000, 0.0000,\n",
      "        0.0000, 0.0000, 0.0000, 0.0000, 0.0000, 0.0000, 0.0000, 0.0000, 0.0000,\n",
      "        0.0000, 0.0000, 0.0000, 0.0000, 0.0000, 0.0000, 0.0000, 0.0000, 0.0000,\n",
      "        0.0000, 0.0000, 0.0000, 0.0000], dtype=torch.float64)\n",
      "tensor([0.0033, 0.0072, 0.0039, 0.0145, 0.0003, 0.0006, 0.0089, 0.0145, 0.0000,\n",
      "        0.0000, 0.0000, 0.0000, 0.0000, 0.0000, 0.0000, 0.0000, 0.0000, 0.0000,\n",
      "        0.0000, 0.0000, 0.0000, 0.0000, 0.0000, 0.0000, 0.0000, 0.0000, 0.0000,\n",
      "        0.0000, 0.0000, 0.0000, 0.0000, 0.0000, 0.0000, 0.0000, 0.0000, 0.0000,\n",
      "        0.0000, 0.0000, 0.0000, 0.0000], dtype=torch.float64)\n",
      "tensor([0.0010, 0.0033, 0.0118, 0.0217, 0.0017, 0.0036, 0.0171, 0.0217, 0.0158,\n",
      "        0.0118, 0.0206, 0.0217, 0.0000, 0.0000, 0.0000, 0.0000, 0.0000, 0.0000,\n",
      "        0.0000, 0.0000, 0.0000, 0.0000, 0.0000, 0.0000, 0.0000, 0.0000, 0.0000,\n",
      "        0.0000, 0.0000, 0.0000, 0.0000, 0.0000, 0.0000, 0.0000, 0.0000, 0.0000,\n",
      "        0.0000, 0.0000, 0.0000, 0.0000], dtype=torch.float64)\n",
      "tensor([0.0016, 0.0032, 0.0073, 0.0144, 0.0000, 0.0000, 0.0000, 0.0000, 0.0000,\n",
      "        0.0000, 0.0000, 0.0000, 0.0000, 0.0000, 0.0000, 0.0000, 0.0000, 0.0000,\n",
      "        0.0000, 0.0000, 0.0000, 0.0000, 0.0000, 0.0000, 0.0000, 0.0000, 0.0000,\n",
      "        0.0000, 0.0000, 0.0000, 0.0000, 0.0000, 0.0000, 0.0000, 0.0000, 0.0000,\n",
      "        0.0000, 0.0000, 0.0000, 0.0000], dtype=torch.float64)\n",
      "tensor([0.0027, 0.0050, 0.0073, 0.0391, 0.0009, 0.0016, 0.0088, 0.0391, 0.0054,\n",
      "        0.0072, 0.0313, 0.0391, 0.0011, 0.0021, 0.0364, 0.0391, 0.0000, 0.0000,\n",
      "        0.0000, 0.0000, 0.0000, 0.0000, 0.0000, 0.0000, 0.0000, 0.0000, 0.0000,\n",
      "        0.0000, 0.0000, 0.0000, 0.0000, 0.0000, 0.0000, 0.0000, 0.0000, 0.0000,\n",
      "        0.0000, 0.0000, 0.0000, 0.0000], dtype=torch.float64)\n",
      "tensor([0.0046, 0.0097, 0.0010, 0.0162, 0.0027, 0.0044, 0.0139, 0.0162, 0.0000,\n",
      "        0.0000, 0.0000, 0.0000, 0.0000, 0.0000, 0.0000, 0.0000, 0.0000, 0.0000,\n",
      "        0.0000, 0.0000, 0.0000, 0.0000, 0.0000, 0.0000, 0.0000, 0.0000, 0.0000,\n",
      "        0.0000, 0.0000, 0.0000, 0.0000, 0.0000, 0.0000, 0.0000, 0.0000, 0.0000,\n",
      "        0.0000, 0.0000, 0.0000, 0.0000], dtype=torch.float64)\n",
      "tensor([0.0138, 0.0119, 0.0100, 0.0179, 0.0000, 0.0000, 0.0000, 0.0000, 0.0000,\n",
      "        0.0000, 0.0000, 0.0000, 0.0000, 0.0000, 0.0000, 0.0000, 0.0000, 0.0000,\n",
      "        0.0000, 0.0000, 0.0000, 0.0000, 0.0000, 0.0000, 0.0000, 0.0000, 0.0000,\n",
      "        0.0000, 0.0000, 0.0000, 0.0000, 0.0000, 0.0000, 0.0000, 0.0000, 0.0000,\n",
      "        0.0000, 0.0000, 0.0000, 0.0000], dtype=torch.float64)\n"
     ]
    }
   ],
   "source": [
    "for i in range(10):\n",
    "    print(padded_data_tensor[i])\n"
   ]
  },
  {
   "cell_type": "markdown",
   "id": "7f0f795f-9c6f-4c89-ac46-01c28cc939ce",
   "metadata": {},
   "source": [
    "### Split train/validation/test"
   ]
  },
  {
   "cell_type": "markdown",
   "id": "0008c6c1-6dda-4cc3-8fcc-32b930578847",
   "metadata": {},
   "source": [
    "#### Create test set based on what genes we can compare on with Bartel"
   ]
  },
  {
   "cell_type": "code",
   "execution_count": 49,
   "id": "3cb84766-729d-41ac-902e-0da02904912d",
   "metadata": {},
   "outputs": [
    {
     "data": {
      "text/plain": [
       "580"
      ]
     },
     "execution_count": 49,
     "metadata": {},
     "output_type": "execute_result"
    }
   ],
   "source": [
    "targetscan = pd.read_csv('Predicted_Targets_Context_Scores.default_predictions.txt',index_col=0, header=0, sep='\\t')\n",
    "targetscan = targetscan[[\"context++ score\",\"weighted context++ score\",\"miRNA\",\"Gene Symbol\"]]\n",
    "targetscan = targetscan[targetscan['miRNA'] == mirna_name]\n",
    "\n",
    "bartel_gene_names = targetscan['Gene Symbol'].to_numpy().flatten()\n",
    "\n",
    "bartel_test_samples = set(bartel_gene_names).intersection(\n",
    "    set(mirna_FCs[[\"Gene symbol\"]].to_numpy().flatten())).intersection(\n",
    "    set(input_data_genes_filtered))\n",
    "\n",
    "len(bartel_test_samples)"
   ]
  },
  {
   "cell_type": "code",
   "execution_count": 50,
   "id": "1900d4cf-8204-4de6-a156-a11dd98418f9",
   "metadata": {},
   "outputs": [
    {
     "name": "stdout",
     "output_type": "stream",
     "text": [
      "4711 580\n",
      "4239 472 580\n",
      "4239 472 580\n"
     ]
    }
   ],
   "source": [
    "from sklearn.model_selection import train_test_split\n",
    "\n",
    "BARTEL_SPLIT = True\n",
    "\n",
    "\n",
    "if BARTEL_SPLIT:\n",
    "    # x_train, x_test, y_train, y_test = train_test_split(padded_data_tensor, input_labels, test_size=0.2, random_state=42)\n",
    "    # Split the data and gene names simultaneously\n",
    "    indecis = []\n",
    "    x_train, x_test, y_train, y_test, gene_names_train, gene_names_test = [],[],[],[],[],[]\n",
    "    \n",
    "    for sample, label, name in zip(padded_data_tensor, input_labels, input_data_genes_filtered):\n",
    "        if name in bartel_test_samples:\n",
    "            x_test.append(sample)\n",
    "            y_test.append(label)\n",
    "            gene_names_test.append(name)\n",
    "        else:\n",
    "            x_train.append(sample)\n",
    "            y_train.append(label)\n",
    "            gene_names_train.append(name)\n",
    "    print(len(x_train), len(x_test))\n",
    "\n",
    "    # validation\n",
    "    x_train, x_val, y_train, y_val, gene_names_train, gene_names_val = train_test_split(x_train, y_train, gene_names_train, test_size=0.1, random_state=42)\n",
    "\n",
    "    print(len(y_train), len(y_val), len(y_test))\n",
    "    print(len(gene_names_train), len(gene_names_val), len(gene_names_test))\n",
    "else:\n",
    "    # x_train, x_test, y_train, y_test = train_test_split(padded_data_tensor, input_labels, test_size=0.2, random_state=42)\n",
    "    # Split the data and gene names simultaneously\n",
    "    (x_train, x_test, y_train, y_test, gene_names_train, gene_names_test) = train_test_split(\n",
    "        padded_data_tensor, input_labels, input_data_genes_filtered, test_size=0.2, random_state=42)\n",
    "\n",
    "        #validation\n",
    "    x_train, x_val, y_train, y_val, gene_names_train, gene_names_val = train_test_split(x_train, y_train, gene_names_train, test_size=0.1, random_state=42)\n",
    "\n",
    "    print(len(y_train), len(y_val), len(y_test))\n",
    "    print(len(gene_names_train), len(gene_names_val), len(gene_names_test))\n"
   ]
  },
  {
   "cell_type": "markdown",
   "id": "77664392-0c63-4daa-9fd2-a755161e5afc",
   "metadata": {},
   "source": [
    "### Make a datasets\n"
   ]
  },
  {
   "cell_type": "code",
   "execution_count": 51,
   "id": "3a15baab-a9ca-41a0-837e-e83fce6f1fbc",
   "metadata": {},
   "outputs": [],
   "source": [
    "from torch.utils.data import Dataset, DataLoader, TensorDataset\n",
    "\n",
    "\n",
    "test_dataset = TensorDataset(torch.stack(x_test).unsqueeze(1).float(), torch.tensor(y_test).unsqueeze(dim=1))\n",
    "test_loader = DataLoader(test_dataset, batch_size=32, shuffle=False)\n",
    "\n",
    "\n",
    "class TrainDataset(Dataset):\n",
    "    def __init__(self, data, labels, exps):\n",
    "        self.data = data\n",
    "        self.labels = labels\n",
    "        self.exps = exps\n",
    "\n",
    "    def __len__(self):\n",
    "        return len(self.data)\n",
    "\n",
    "    def __getitem__(self, idx):\n",
    "        x = self.data[idx]\n",
    "        y = self.labels[idx]\n",
    "        exp = self.exps[idx]\n",
    "        return x, y, exp\n",
    "    \n",
    "class ValDataset(Dataset):\n",
    "    def __init__(self, data, labels, identifiers):\n",
    "        self.data = data\n",
    "        self.labels = labels\n",
    "        self.identifiers = identifiers\n",
    "\n",
    "    def __len__(self):\n",
    "        return len(self.data)\n",
    "\n",
    "    def __getitem__(self, idx):\n",
    "        x = self.data[idx]\n",
    "        y = self.labels[idx]\n",
    "        identifier = self.identifiers[idx]\n",
    "        return x, y, identifier\n",
    "\n",
    "#dummy exps and indentifiers\n",
    "exps = [1 for x in range(len(y_train))]\n",
    "identifiers = []\n",
    "for label in y_val:\n",
    "    item = {}\n",
    "    item['readid']=0\n",
    "    item['label']=label\n",
    "    item['exp']=1\n",
    "    identifiers.append(item)\n",
    "\n",
    "\n",
    "train_dataset = TrainDataset(torch.stack(x_train).unsqueeze(1).float(), torch.tensor(y_train).unsqueeze(dim=1), exps)\n",
    "train_loader = DataLoader(train_dataset, batch_size=32, shuffle=True)\n",
    "\n",
    "val_dataset = ValDataset(torch.stack(x_val).unsqueeze(1).float(), torch.tensor(y_val).unsqueeze(dim=1), identifiers)\n",
    "val_loader = DataLoader(val_dataset, batch_size=32, shuffle=False)\n"
   ]
  },
  {
   "cell_type": "code",
   "execution_count": 52,
   "id": "36fa3828-b5a4-4518-8287-7c4069693a22",
   "metadata": {},
   "outputs": [
    {
     "data": {
      "text/plain": [
       "(0, 4239)"
      ]
     },
     "execution_count": 52,
     "metadata": {},
     "output_type": "execute_result"
    }
   ],
   "source": [
    "np.count_nonzero(np.isnan(y_train)), np.count_nonzero(~np.isnan(y_train))"
   ]
  },
  {
   "cell_type": "markdown",
   "id": "183e1fdd-20ce-4b51-bebd-6d17daeff292",
   "metadata": {},
   "source": [
    "### Set up logging"
   ]
  },
  {
   "cell_type": "code",
   "execution_count": 53,
   "id": "a6b5d898-7a3f-4f7a-93cd-d25e01efca51",
   "metadata": {},
   "outputs": [
    {
     "name": "stderr",
     "output_type": "stream",
     "text": [
      "CometLogger will be initialized in online mode\n"
     ]
    }
   ],
   "source": [
    "comet_logger = CometLogger(\n",
    "    api_key=\"EpKIINrla6U4B4LJhd9Sv4i0b\",\n",
    "    project_name=\"mirna\",\n",
    ")"
   ]
  },
  {
   "cell_type": "markdown",
   "id": "daa0b75d-37f2-4893-955c-d2c059e52396",
   "metadata": {},
   "source": [
    "### Train a simple network "
   ]
  },
  {
   "cell_type": "code",
   "execution_count": 54,
   "id": "4f70f1af-0279-4720-9e97-31a629c1ef6e",
   "metadata": {},
   "outputs": [],
   "source": [
    "import torch\n",
    "import torchmetrics\n",
    "import pytorch_lightning as pl\n",
    "from types import SimpleNamespace\n",
    "import numpy as np\n",
    "import re\n",
    "from sklearn.metrics import roc_auc_score\n",
    "from collections import defaultdict\n",
    "from modules.models.modules import ConvNet, RNNEncoder, MLP, Attention, Permute, SimpleCNN # , BigConvNet, ResConvNet\n",
    "from sklearn.metrics import average_precision_score\n",
    "import csv\n",
    "\n",
    "\n",
    "class Small_CNN(pl.LightningModule):\n",
    "    def __init__(\n",
    "            self,\n",
    "            pooling='max',\n",
    "            lr=1e-3,\n",
    "            warmup_steps=100,\n",
    "            wd=0.01,\n",
    "            logging_steps=1,\n",
    "            pos_weight=1.0,\n",
    "    ):\n",
    "\n",
    "        super().__init__()\n",
    "        self.lr = lr\n",
    "        self.wd = wd\n",
    "        self.warmup_steps=warmup_steps\n",
    "\n",
    "        if(pooling=='rnn'):\n",
    "            self.architecture = torch.nn.Sequential(\n",
    "                SimpleCNN(num_layers=1),\n",
    "                Permute(),\n",
    "                RNNEncoder(input_size=8, hidden_size=16, num_layers=1, dropout=0.2),\n",
    "                MLP(input_size=96, hidden_size=30),\n",
    "            )\n",
    "        if(pooling=='att'):\n",
    "            self.architecture = torch.nn.Sequential(\n",
    "                SimpleCNN(num_layers=1),\n",
    "                Permute(),\n",
    "                Attention(input_dim=8, len_limit=400000),\n",
    "                MLP(8, 30),\n",
    "            )\n",
    "        if(pooling=='max'):\n",
    "            self.architecture = torch.nn.Sequential(\n",
    "                SimpleCNN(num_layers=1),\n",
    "                torch.nn.AdaptiveMaxPool1d(1),\n",
    "                torch.nn.Flatten(),\n",
    "                MLP(8, 30),\n",
    "            )\n",
    "\n",
    "        # self.acc = torchmetrics.classification.Accuracy(task=\"binary\")\n",
    "        # self.ce = torch.nn.BCEWithLogitsLoss(pos_weight=torch.tensor([pos_weight]).to(self.device))\n",
    "        self.ce = torch.nn.MSELoss()\n",
    "            \n",
    "        # Logging utils to fix, TODO resolve with a custom callback?\n",
    "        self.training_step_counter = 0\n",
    "        self.cumulative_loss = 0\n",
    "        self.cumulative_acc = 0\n",
    "        self.logging_steps = logging_steps\n",
    "        \n",
    "        self.mae = torchmetrics.MeanAbsoluteError()\n",
    "        self.mse = torchmetrics.MeanSquaredError()\n",
    "        self.r2 = torchmetrics.R2Score()\n",
    "\n",
    "    def forward(self, x):\n",
    "        return self.architecture(x)\n",
    "\n",
    "    def configure_optimizers(self):\n",
    "        optimizer = torch.optim.AdamW(\n",
    "            params=self.parameters(), \n",
    "            lr=self.lr, \n",
    "            weight_decay=self.wd\n",
    "        )\n",
    "        scheduler = torch.optim.lr_scheduler.LinearLR(\n",
    "            optimizer, \n",
    "            total_iters=self.warmup_steps\n",
    "        )\n",
    "        return [optimizer], [scheduler]\n",
    "\n",
    "    def training_step(self, train_batch, batch_idx, dataloader_idx=None):\n",
    "        x, y, exp = train_batch\n",
    "        logits = self(x)\n",
    "        loss = self.ce(logits, y)\n",
    "        \n",
    "        self.log('train_loss', loss, on_epoch=True, on_step=False)\n",
    "        probs = self.logits_to_probs(logits)\n",
    "        \n",
    "        metrics = self.get_metrics(probs, y, exp)\n",
    "        self.log_cumulative_train_metrics(loss, metrics['mse'])\n",
    "        for metric, value in metrics.items():\n",
    "            self.log(f'train {metric}', value, on_epoch=True, on_step=False)\n",
    "        \n",
    "        # print(\"Logits:\", logits)\n",
    "        # print(\"Labels:\", y)\n",
    "        # print(\"Loss:\", loss)\n",
    "\n",
    "        self.lr_schedulers().step()\n",
    "        return loss\n",
    "    \n",
    "    def validation_step(self, val_batch, batch_idx, dataloader_idx=None):\n",
    "        x, y, identifier = val_batch\n",
    "        exp = identifier['exp']\n",
    "        logits=self(x)\n",
    "        loss = self.ce(logits, y)\n",
    "        \n",
    "        self.log('valid_loss', loss, on_epoch=True, on_step=False)\n",
    "        probs = self.logits_to_probs(logits)\n",
    "        metrics = self.get_metrics(probs, y, exp)\n",
    "        for metric, value in metrics.items():\n",
    "            self.log(f'valid {metric}', value, on_epoch=True, on_step=False)\n",
    "            \n",
    "        return {\n",
    "            'preds': probs.detach().cpu().numpy(), \n",
    "            'identifier': {\n",
    "                'readid':identifier['readid'],\n",
    "                'label':identifier['label'].detach().cpu(),\n",
    "                'exp':identifier['exp'],\n",
    "            }\n",
    "        }\n",
    "\n",
    "    \n",
    "    def predict_step(self, batch, batch_idx):\n",
    "        xs, ids = batch\n",
    "        logits = self.forward(xs)\n",
    "        res = self.logits_to_probs(logits)\n",
    "        return res, ids\n",
    "    \n",
    "    def get_metrics(self, predictions, labels, exps):\n",
    "        metrics = {}\n",
    "        \n",
    "        mse = self.mse(predictions, labels)\n",
    "        mae = self.mae(predictions, labels)\n",
    "        r2 = self.r2(predictions, labels)\n",
    "        rmse = torch.sqrt(mse)\n",
    "\n",
    "        metrics['mse'] = mse\n",
    "        metrics['mae'] = mae\n",
    "        metrics['r2'] = r2\n",
    "        metrics['rmse'] = rmse\n",
    "        \n",
    "        # exps = np.array(exps)\n",
    "        # for e in np.unique(exps):\n",
    "        #     indices = exps == e\n",
    "        #     if (sum(indices) > 0): #If Non-empty\n",
    "        #         metrics[f'{e} acc'] = self.acc(predictions[exps == e], labels[exps == e])\n",
    "        return metrics\n",
    "\n",
    "    def log_cumulative_train_metrics(self, loss, accuracy):\n",
    "        self.training_step_counter += 1\n",
    "        self.cumulative_loss += loss.item()\n",
    "        self.cumulative_acc += accuracy\n",
    "\n",
    "        if self.training_step_counter % self.logging_steps == 0:\n",
    "            avg_loss = self.cumulative_loss / self.logging_steps\n",
    "            avg_acc = self.cumulative_acc / self.logging_steps\n",
    "            \n",
    "            self.log(f'train_loss_cum', avg_loss, on_step=True, on_epoch=False)\n",
    "            self.log(f'train_acc_cum', avg_acc, on_step=True, on_epoch=False)\n",
    "            self.cumulative_acc = 0\n",
    "            self.cumulative_loss = 0\n",
    "            \n",
    "    def logits_to_probs(self, logits):\n",
    "        # return torch.sigmoid(logits)\n",
    "        return logits\n",
    "    \n",
    "\n",
    "    def validation_epoch_end(self, outputs):\n",
    "        # Aggregate all validation predictions into auroc metrics\n",
    "        read_to_pred, read_to_label, read_to_exp = self.aggregate_outputs(outputs)\n",
    "\n",
    "        print(f\"\\n Validation Metrics: MSE={self.mse.compute()}, MAE={self.mae.compute()}, R2={self.r2.compute()}, RMSE={torch.sqrt(self.mse.compute())}\")\n",
    "        with open('validation_metrics.csv', mode='a') as file:\n",
    "            writer = csv.writer(file)\n",
    "            writer.writerow([self.mse.compute().item(), self.mae.compute().item(), self.r2.compute().item(), torch.sqrt(self.mse.compute()).item()])\n",
    "    \n",
    "        # reset metrics (important for next epoch)\n",
    "        self.mse.reset()\n",
    "        self.mae.reset()\n",
    "        self.r2.reset()\n",
    "\n",
    "    def aggregate_outputs(self, outputs):\n",
    "        read_to_preds = {}\n",
    "        read_to_label = {}\n",
    "        read_to_exp = {}\n",
    "        for log in outputs:\n",
    "            preds = log['preds']#.cpu().numpy()\n",
    "            ids = log['identifier']\n",
    "\n",
    "            for i, (readid, pred, label, exp) in enumerate(zip(ids['readid'], preds, ids['label'], ids['exp'])):\n",
    "                read_to_label[readid] = label\n",
    "                read_to_exp[readid] = exp\n",
    "                #TODO remove for optimization\n",
    "                assert len(pred) == 1 \n",
    "                read_to_preds[readid] = pred[0]\n",
    "\n",
    "        return read_to_preds, read_to_label, read_to_exp\n",
    "    \n",
    "    def test_step(self, batch, batch_idx):\n",
    "        x, y = batch\n",
    "        logits = self(x)\n",
    "        loss = self.ce(logits, y)\n",
    "        metrics = self.get_metrics(logits, y, None)  # Assuming you have a method to calculate metrics\n",
    "        output = {'test_loss': loss, **metrics}\n",
    "        return output\n",
    "\n",
    "    def test_epoch_end(self, outputs):\n",
    "        avg_loss = torch.stack([x['test_loss'] for x in outputs]).mean()\n",
    "        avg_metrics = {key: torch.stack([x[key] for x in outputs]).mean() for key in outputs[0].keys() if key != 'test_loss'}\n",
    "        results = {'test_loss': avg_loss, **avg_metrics}\n",
    "        self.log_dict(results)\n"
   ]
  },
  {
   "cell_type": "code",
   "execution_count": 52,
   "id": "03cac0c4-358f-4a99-911d-72318dedfa3d",
   "metadata": {},
   "outputs": [
    {
     "name": "stderr",
     "output_type": "stream",
     "text": [
      "GPU available: False, used: False\n",
      "TPU available: False, using: 0 TPU cores\n",
      "IPU available: False, using: 0 IPUs\n",
      "HPU available: False, using: 0 HPUs\n",
      "\n",
      "  | Name         | Type              | Params\n",
      "---------------------------------------------------\n",
      "0 | architecture | Sequential        | 350   \n",
      "1 | ce           | MSELoss           | 0     \n",
      "2 | mae          | MeanAbsoluteError | 0     \n",
      "3 | mse          | MeanSquaredError  | 0     \n",
      "4 | r2           | R2Score           | 0     \n",
      "---------------------------------------------------\n",
      "350       Trainable params\n",
      "0         Non-trainable params\n",
      "350       Total params\n",
      "0.001     Total estimated model params size (MB)\n",
      "\u001b[1;38;5;214mCOMET WARNING:\u001b[0m To get all data logged automatically, import comet_ml before the following modules: torch.\n",
      "\u001b[1;38;5;214mCOMET WARNING:\u001b[0m As you are running in a Jupyter environment, you will need to call `experiment.end()` when finished to ensure all metrics and code are logged before exiting.\n",
      "\u001b[1;38;5;214mCOMET WARNING:\u001b[0m You are trying to log string value as a metric. This is not recommended.\n",
      "\u001b[1;38;5;39mCOMET INFO:\u001b[0m Experiment is live on comet.com https://www.comet.com/davidcechak/mirna/86f2eec40262412a967fa5dac39d9af8\n",
      "\n",
      "`Trainer.fit` stopped: `max_epochs=3` reached.\n",
      "\u001b[1;38;5;39mCOMET INFO:\u001b[0m ---------------------------------------------------------------------------------------\n",
      "\u001b[1;38;5;39mCOMET INFO:\u001b[0m Comet.ml Experiment Summary\n",
      "\u001b[1;38;5;39mCOMET INFO:\u001b[0m ---------------------------------------------------------------------------------------\n",
      "\u001b[1;38;5;39mCOMET INFO:\u001b[0m   Data:\n",
      "\u001b[1;38;5;39mCOMET INFO:\u001b[0m     display_summary_level : 1\n",
      "\u001b[1;38;5;39mCOMET INFO:\u001b[0m     url                   : https://www.comet.com/davidcechak/mirna/86f2eec40262412a967fa5dac39d9af8\n",
      "\u001b[1;38;5;39mCOMET INFO:\u001b[0m   Metrics [count] (min, max):\n",
      "\u001b[1;38;5;39mCOMET INFO:\u001b[0m     train mae [3]      : (0.103647381067276, 0.1044745147228241)\n",
      "\u001b[1;38;5;39mCOMET INFO:\u001b[0m     train mse [3]      : (0.021060505881905556, 0.02121036686003208)\n",
      "\u001b[1;38;5;39mCOMET INFO:\u001b[0m     train r2 [3]       : (-0.05094541609287262, -0.035167235881090164)\n",
      "\u001b[1;38;5;39mCOMET INFO:\u001b[0m     train rmse [3]     : (0.1419522911310196, 0.14275653660297394)\n",
      "\u001b[1;38;5;39mCOMET INFO:\u001b[0m     train_acc_cum [7]  : (0.01130251307040453, 0.04229282960295677)\n",
      "\u001b[1;38;5;39mCOMET INFO:\u001b[0m     train_loss [3]     : (0.021060505881905556, 0.02121036686003208)\n",
      "\u001b[1;38;5;39mCOMET INFO:\u001b[0m     train_loss_cum [7] : (0.01130251307040453, 0.04229282960295677)\n",
      "\u001b[1;38;5;39mCOMET INFO:\u001b[0m     valid mae [3]      : (0.10964903235435486, 0.10965878516435623)\n",
      "\u001b[1;38;5;39mCOMET INFO:\u001b[0m     valid mse [3]      : (0.02236868627369404, 0.022381851449608803)\n",
      "\u001b[1;38;5;39mCOMET INFO:\u001b[0m     valid r2 [3]       : (-0.022875573486089706, -0.021558459848165512)\n",
      "\u001b[1;38;5;39mCOMET INFO:\u001b[0m     valid rmse [3]     : (0.147318497300148, 0.14738625288009644)\n",
      "\u001b[1;38;5;39mCOMET INFO:\u001b[0m     valid_loss [3]     : (0.02236868627369404, 0.022381851449608803)\n",
      "\u001b[1;38;5;39mCOMET INFO:\u001b[0m   Others:\n",
      "\u001b[1;38;5;39mCOMET INFO:\u001b[0m     Created from : pytorch-lightning\n",
      "\u001b[1;38;5;39mCOMET INFO:\u001b[0m   Uploads:\n",
      "\u001b[1;38;5;39mCOMET INFO:\u001b[0m     conda-environment-definition : 1\n",
      "\u001b[1;38;5;39mCOMET INFO:\u001b[0m     conda-info                   : 1\n",
      "\u001b[1;38;5;39mCOMET INFO:\u001b[0m     conda-specification          : 1\n",
      "\u001b[1;38;5;39mCOMET INFO:\u001b[0m     environment details          : 1\n",
      "\u001b[1;38;5;39mCOMET INFO:\u001b[0m     filename                     : 1\n",
      "\u001b[1;38;5;39mCOMET INFO:\u001b[0m     git metadata                 : 1\n",
      "\u001b[1;38;5;39mCOMET INFO:\u001b[0m     git-patch (uncompressed)     : 1 (66.11 KB)\n",
      "\u001b[1;38;5;39mCOMET INFO:\u001b[0m     installed packages           : 1\n",
      "\u001b[1;38;5;39mCOMET INFO:\u001b[0m     notebook                     : 1\n",
      "\u001b[1;38;5;39mCOMET INFO:\u001b[0m     os packages                  : 1\n",
      "\u001b[1;38;5;39mCOMET INFO:\u001b[0m     source_code                  : 1\n",
      "\u001b[1;38;5;39mCOMET INFO:\u001b[0m \n",
      "\u001b[1;38;5;214mCOMET WARNING:\u001b[0m To get all data logged automatically, import comet_ml before the following modules: torch.\n",
      "\u001b[1;38;5;39mCOMET INFO:\u001b[0m Please wait for metadata to finish uploading (timeout is 3600 seconds)\n",
      "\u001b[1;38;5;39mCOMET INFO:\u001b[0m Uploading 1 metrics, params and output messages\n",
      "\u001b[1;38;5;39mCOMET INFO:\u001b[0m Please wait for assets to finish uploading (timeout is 10800 seconds)\n",
      "\u001b[1;38;5;39mCOMET INFO:\u001b[0m All assets have been sent, waiting for delivery confirmation\n"
     ]
    }
   ],
   "source": [
    "from pytorch_lightning import Trainer\n",
    "from IPython.utils import io\n",
    "\n",
    "\n",
    "model = Small_CNN(pooling='att')\n",
    "# trainer = Trainer(max_epochs=1, gpus=1)  # Use GPU if available, train for X epochs\n",
    "trainer = Trainer(logger=comet_logger, max_epochs=3)  # Use GPU if available, train for X epochs\n",
    "\n",
    "with io.capture_output() as captured:\n",
    "    trainer.fit(model, train_loader, val_loader)\n"
   ]
  },
  {
   "cell_type": "markdown",
   "id": "f988986c-b6da-4c3d-b8c4-06d860eb5338",
   "metadata": {},
   "source": [
    "### Test"
   ]
  },
  {
   "cell_type": "code",
   "execution_count": 53,
   "id": "e9a0b50a-e53e-4382-a721-29fa497fdbd7",
   "metadata": {},
   "outputs": [
    {
     "name": "stderr",
     "output_type": "stream",
     "text": [
      "/home/jovyan/my-conda-envs/deepExpTorch2/lib/python3.8/site-packages/pytorch_lightning/trainer/connectors/data_connector.py:224: PossibleUserWarning: The dataloader, test_dataloader 0, does not have many workers which may be a bottleneck. Consider increasing the value of the `num_workers` argument` (try 128 which is the number of cpus on this machine) in the `DataLoader` init to improve performance.\n",
      "  rank_zero_warn(\n"
     ]
    },
    {
     "name": "stdout",
     "output_type": "stream",
     "text": [
      "Testing DataLoader 0: 100%|██████████| 19/19 [00:00<00:00, 379.47it/s]"
     ]
    },
    {
     "name": "stderr",
     "output_type": "stream",
     "text": [
      "\u001b[1;38;5;214mCOMET WARNING:\u001b[0m To get all data logged automatically, import comet_ml before the following modules: torch.\n",
      "\u001b[1;38;5;214mCOMET WARNING:\u001b[0m As you are running in a Jupyter environment, you will need to call `experiment.end()` when finished to ensure all metrics and code are logged before exiting.\n",
      "\u001b[1;38;5;39mCOMET INFO:\u001b[0m Experiment is live on comet.com https://www.comet.com/davidcechak/mirna/86f2eec40262412a967fa5dac39d9af8\n",
      "\n"
     ]
    },
    {
     "name": "stdout",
     "output_type": "stream",
     "text": [
      "Testing DataLoader 0: 100%|██████████| 19/19 [00:04<00:00,  3.93it/s] \n"
     ]
    },
    {
     "data": {
      "text/html": [
       "<pre style=\"white-space:pre;overflow-x:auto;line-height:normal;font-family:Menlo,'DejaVu Sans Mono',consolas,'Courier New',monospace\">┏━━━━━━━━━━━━━━━━━━━━━━━━━━━┳━━━━━━━━━━━━━━━━━━━━━━━━━━━┓\n",
       "┃<span style=\"font-weight: bold\">        Test metric        </span>┃<span style=\"font-weight: bold\">       DataLoader 0        </span>┃\n",
       "┡━━━━━━━━━━━━━━━━━━━━━━━━━━━╇━━━━━━━━━━━━━━━━━━━━━━━━━━━┩\n",
       "│<span style=\"color: #008080; text-decoration-color: #008080\">            mae            </span>│<span style=\"color: #800080; text-decoration-color: #800080\">    0.21250438690185547    </span>│\n",
       "│<span style=\"color: #008080; text-decoration-color: #008080\">            mse            </span>│<span style=\"color: #800080; text-decoration-color: #800080\">    0.08212340623140335    </span>│\n",
       "│<span style=\"color: #008080; text-decoration-color: #008080\">            r2             </span>│<span style=\"color: #800080; text-decoration-color: #800080\">    -0.7337805032730103    </span>│\n",
       "│<span style=\"color: #008080; text-decoration-color: #008080\">           rmse            </span>│<span style=\"color: #800080; text-decoration-color: #800080\">    0.2803666591644287     </span>│\n",
       "│<span style=\"color: #008080; text-decoration-color: #008080\">         test_loss         </span>│<span style=\"color: #800080; text-decoration-color: #800080\">    0.08212340623140335    </span>│\n",
       "└───────────────────────────┴───────────────────────────┘\n",
       "</pre>\n"
      ],
      "text/plain": [
       "┏━━━━━━━━━━━━━━━━━━━━━━━━━━━┳━━━━━━━━━━━━━━━━━━━━━━━━━━━┓\n",
       "┃\u001b[1m \u001b[0m\u001b[1m       Test metric       \u001b[0m\u001b[1m \u001b[0m┃\u001b[1m \u001b[0m\u001b[1m      DataLoader 0       \u001b[0m\u001b[1m \u001b[0m┃\n",
       "┡━━━━━━━━━━━━━━━━━━━━━━━━━━━╇━━━━━━━━━━━━━━━━━━━━━━━━━━━┩\n",
       "│\u001b[36m \u001b[0m\u001b[36m           mae           \u001b[0m\u001b[36m \u001b[0m│\u001b[35m \u001b[0m\u001b[35m   0.21250438690185547   \u001b[0m\u001b[35m \u001b[0m│\n",
       "│\u001b[36m \u001b[0m\u001b[36m           mse           \u001b[0m\u001b[36m \u001b[0m│\u001b[35m \u001b[0m\u001b[35m   0.08212340623140335   \u001b[0m\u001b[35m \u001b[0m│\n",
       "│\u001b[36m \u001b[0m\u001b[36m           r2            \u001b[0m\u001b[36m \u001b[0m│\u001b[35m \u001b[0m\u001b[35m   -0.7337805032730103   \u001b[0m\u001b[35m \u001b[0m│\n",
       "│\u001b[36m \u001b[0m\u001b[36m          rmse           \u001b[0m\u001b[36m \u001b[0m│\u001b[35m \u001b[0m\u001b[35m   0.2803666591644287    \u001b[0m\u001b[35m \u001b[0m│\n",
       "│\u001b[36m \u001b[0m\u001b[36m        test_loss        \u001b[0m\u001b[36m \u001b[0m│\u001b[35m \u001b[0m\u001b[35m   0.08212340623140335   \u001b[0m\u001b[35m \u001b[0m│\n",
       "└───────────────────────────┴───────────────────────────┘\n"
      ]
     },
     "metadata": {},
     "output_type": "display_data"
    },
    {
     "name": "stderr",
     "output_type": "stream",
     "text": [
      "\u001b[1;38;5;39mCOMET INFO:\u001b[0m ---------------------------------------------------------------------------------------\n",
      "\u001b[1;38;5;39mCOMET INFO:\u001b[0m Comet.ml ExistingExperiment Summary\n",
      "\u001b[1;38;5;39mCOMET INFO:\u001b[0m ---------------------------------------------------------------------------------------\n",
      "\u001b[1;38;5;39mCOMET INFO:\u001b[0m   Data:\n",
      "\u001b[1;38;5;39mCOMET INFO:\u001b[0m     display_summary_level : 1\n",
      "\u001b[1;38;5;39mCOMET INFO:\u001b[0m     url                   : https://www.comet.com/davidcechak/mirna/86f2eec40262412a967fa5dac39d9af8\n",
      "\u001b[1;38;5;39mCOMET INFO:\u001b[0m   Metrics:\n",
      "\u001b[1;38;5;39mCOMET INFO:\u001b[0m     mae       : 0.21250438690185547\n",
      "\u001b[1;38;5;39mCOMET INFO:\u001b[0m     mse       : 0.08212340623140335\n",
      "\u001b[1;38;5;39mCOMET INFO:\u001b[0m     r2        : -0.7337805032730103\n",
      "\u001b[1;38;5;39mCOMET INFO:\u001b[0m     rmse      : 0.2803666591644287\n",
      "\u001b[1;38;5;39mCOMET INFO:\u001b[0m     test_loss : 0.08212340623140335\n",
      "\u001b[1;38;5;39mCOMET INFO:\u001b[0m   Others:\n",
      "\u001b[1;38;5;39mCOMET INFO:\u001b[0m     Created from : pytorch-lightning\n",
      "\u001b[1;38;5;39mCOMET INFO:\u001b[0m \n",
      "\u001b[1;38;5;214mCOMET WARNING:\u001b[0m To get all data logged automatically, import comet_ml before the following modules: torch.\n",
      "\u001b[1;38;5;39mCOMET INFO:\u001b[0m Uploading 1 metrics, params and output messages\n"
     ]
    }
   ],
   "source": [
    "result = trainer.test(model, test_loader)"
   ]
  },
  {
   "cell_type": "code",
   "execution_count": 54,
   "id": "9d963c01-22d5-4124-8aba-dfd02d7fc31a",
   "metadata": {},
   "outputs": [
    {
     "data": {
      "text/plain": [
       "[{'test_loss': 0.08212340623140335,\n",
       "  'mse': 0.08212340623140335,\n",
       "  'mae': 0.21250438690185547,\n",
       "  'r2': -0.7337805032730103,\n",
       "  'rmse': 0.2803666591644287}]"
      ]
     },
     "execution_count": 54,
     "metadata": {},
     "output_type": "execute_result"
    }
   ],
   "source": [
    "result"
   ]
  },
  {
   "cell_type": "code",
   "execution_count": 55,
   "id": "c58269c4-272a-4ff2-9f5d-1f555bb673c5",
   "metadata": {},
   "outputs": [
    {
     "name": "stdout",
     "output_type": "stream",
     "text": [
      "0.015894314696862467 -0.983 0.961\n",
      "-0.17517241379310344 -1.255 0.397\n",
      "MAE: Our prediction is better by  0.014813318848609924  our MAE:  0.21250438690185547 ; mean-baseline MAE:  0.2273177057504654\n",
      "Baseline metrics: \n"
     ]
    },
    {
     "data": {
      "text/plain": [
       "{'mse': tensor(0.0903),\n",
       " 'mae': tensor(0.2273),\n",
       " 'r2': tensor(-0.6784),\n",
       " 'rmse': tensor(0.3005)}"
      ]
     },
     "execution_count": 55,
     "metadata": {},
     "output_type": "execute_result"
    }
   ],
   "source": [
    "# feature_maxmins, FEATURE_NAMES\n",
    "# torch.stack(x_test).unsqueeze(1).float(), torch.tensor(y_test).unsqueeze(dim=1)\n",
    "from statistics import mean\n",
    "\n",
    "print(mean(y_train), min(y_train), max(y_train))\n",
    "print(mean(y_test), min(y_test), max(y_test))\n",
    "\n",
    "# Baseline: mean of the training dataset labels\n",
    "baseline = mean(y_train)\n",
    "baseline_mean = torchmetrics.MeanAbsoluteError()(torch.tensor(np.full((len(y_test),), baseline)), torch.tensor(np.array(y_test)))\n",
    "print('MAE: Our prediction is better by ', baseline_mean.item() - result[0]['mae'], ' our MAE: ', result[0]['mae'], '; mean-baseline MAE: ', baseline_mean.item())\n",
    "\n",
    "print('Baseline metrics: ')\n",
    "model.get_metrics(torch.tensor(np.full((len(y_test),), mean(y_train))), torch.tensor(np.array(y_test)), None)"
   ]
  },
  {
   "cell_type": "markdown",
   "id": "6f268d4e-afa7-4682-a2e2-dd2489b98caf",
   "metadata": {},
   "source": [
    "### Predict"
   ]
  },
  {
   "cell_type": "code",
   "execution_count": 56,
   "id": "2336600e-6021-4049-a5ee-548a7a4a80e0",
   "metadata": {},
   "outputs": [
    {
     "name": "stdout",
     "output_type": "stream",
     "text": [
      "torch.Size([580])\n",
      "[('PSEN1', 0.002886563539505005), ('LAMA3', 0.002631787210702896)]\n"
     ]
    }
   ],
   "source": [
    "# predictions = model(torch.randn(2, 1, 40))\n",
    "# trainer.predict(\n",
    "\n",
    "with torch.no_grad(): # Disables gradient computation, as it's not needed during evaluation\n",
    "    predictions = model(torch.stack(x_test).unsqueeze(1).float())\n",
    "print(predictions.squeeze(1).shape)\n",
    "\n",
    "gene_to_predictions = {}\n",
    "for i in range(len(gene_names_test)):\n",
    "    gene_to_predictions[gene_names_test[i]] = predictions.squeeze(1)[i].item()\n",
    "    \n",
    "print(list(gene_to_predictions.items())[:2])\n",
    "\n",
    "predictions_scalar = [x.item() for x in predictions.squeeze(1)]"
   ]
  },
  {
   "cell_type": "code",
   "execution_count": 57,
   "id": "502d16c8-4fba-427c-999f-491022685654",
   "metadata": {},
   "outputs": [
    {
     "data": {
      "image/png": "[encoded data removed]",
      "text/plain": [
       "<Figure size 640x480 with 1 Axes>"
      ]
     },
     "metadata": {},
     "output_type": "display_data"
    }
   ],
   "source": [
    "plt.scatter(predictions_scalar, y_test)\n",
    "plt.scatter(predictions_scalar, y_test)\n",
    "plt.axhline(y = mean(y_test), color = 'r', linestyle = '--')  \n",
    "plt.xlabel('x - prediction')\n",
    "plt.ylabel('y - true FC')\n",
    "plt.show()"
   ]
  },
  {
   "cell_type": "markdown",
   "id": "39a836f3-33e1-44f3-8f0f-e8f7fc050715",
   "metadata": {},
   "source": [
    "### Bartel metrics "
   ]
  },
  {
   "cell_type": "code",
   "execution_count": 58,
   "id": "79a05468-dcbb-4ce2-bd60-b575e3aba8bb",
   "metadata": {},
   "outputs": [],
   "source": [
    "# targetscan = pd.read_csv('Predicted_Targets_Context_Scores.default_predictions.txt',index_col=0, header=0, sep='\\t')\n",
    "# targetscan = targetscan[[\"context++ score\",\"weighted context++ score\",\"miRNA\",\"Gene Symbol\"]]\n",
    "# targetscan = targetscan[targetscan['miRNA'] == mirna_name]\n",
    "\n",
    "# bartel_gene_names = targetscan['Gene Symbol'].to_numpy().flatten()\n",
    "\n",
    "bartel_gene_to_score = {row[1]: row[0] for row in targetscan[[\"weighted context++ score\", 'Gene Symbol']].to_numpy()}"
   ]
  },
  {
   "cell_type": "code",
   "execution_count": 59,
   "id": "78c95ab2-5751-4878-bed3-7134743cadc8",
   "metadata": {},
   "outputs": [
    {
     "data": {
      "text/plain": [
       "580"
      ]
     },
     "execution_count": 59,
     "metadata": {},
     "output_type": "execute_result"
    }
   ],
   "source": [
    "ordered_bartel_scores = []\n",
    "for gene in gene_names_test:\n",
    "    ordered_bartel_scores.append(bartel_gene_to_score[gene])\n",
    "len(ordered_bartel_scores)"
   ]
  },
  {
   "cell_type": "code",
   "execution_count": 60,
   "id": "a7b0d405-5707-415d-9d72-83edf9adc5ab",
   "metadata": {},
   "outputs": [
    {
     "name": "stdout",
     "output_type": "stream",
     "text": [
      "Bartel metrics:\n",
      "mae 0.17373275756835938\n",
      "mse 0.05209270492196083\n",
      "r2 0.03201955556869507\n"
     ]
    }
   ],
   "source": [
    "bartel_mae = torchmetrics.MeanAbsoluteError()(torch.tensor(ordered_bartel_scores), torch.tensor(np.array(y_test)))\n",
    "bartel_mse = torchmetrics.MeanSquaredError()(torch.tensor(ordered_bartel_scores), torch.tensor(np.array(y_test)))\n",
    "bartel_r2 = torchmetrics.R2Score()(torch.tensor(ordered_bartel_scores), torch.tensor(np.array(y_test)))\n",
    "\n",
    "print('Bartel metrics:')\n",
    "print('mae', bartel_mae.item())\n",
    "print('mse', bartel_mse.item())\n",
    "print('r2', bartel_r2.item())"
   ]
  },
  {
   "cell_type": "markdown",
   "id": "f25626a3-ad8b-4443-954a-898f162c3e4c",
   "metadata": {},
   "source": [
    "### Save predictions to be used for 'Top targets plot'\n"
   ]
  },
  {
   "cell_type": "code",
   "execution_count": 61,
   "id": "a6c857f4-ebc7-4a6a-b820-5e2456772001",
   "metadata": {},
   "outputs": [
    {
     "data": {
      "text/html": [
       "<div>\n",
       "<style scoped>\n",
       "    .dataframe tbody tr th:only-of-type {\n",
       "        vertical-align: middle;\n",
       "    }\n",
       "\n",
       "    .dataframe tbody tr th {\n",
       "        vertical-align: top;\n",
       "    }\n",
       "\n",
       "    .dataframe thead th {\n",
       "        text-align: right;\n",
       "    }\n",
       "</style>\n",
       "<table border=\"1\" class=\"dataframe\">\n",
       "  <thead>\n",
       "    <tr style=\"text-align: right;\">\n",
       "      <th></th>\n",
       "      <th>Gene Symbol</th>\n",
       "      <th>score</th>\n",
       "    </tr>\n",
       "  </thead>\n",
       "  <tbody>\n",
       "    <tr>\n",
       "      <th>0</th>\n",
       "      <td>PSEN1</td>\n",
       "      <td>0.002887</td>\n",
       "    </tr>\n",
       "    <tr>\n",
       "      <th>1</th>\n",
       "      <td>LAMA3</td>\n",
       "      <td>0.002632</td>\n",
       "    </tr>\n",
       "    <tr>\n",
       "      <th>2</th>\n",
       "      <td>OCRL</td>\n",
       "      <td>0.002878</td>\n",
       "    </tr>\n",
       "    <tr>\n",
       "      <th>3</th>\n",
       "      <td>PKD1</td>\n",
       "      <td>0.001847</td>\n",
       "    </tr>\n",
       "    <tr>\n",
       "      <th>4</th>\n",
       "      <td>PON2</td>\n",
       "      <td>0.003191</td>\n",
       "    </tr>\n",
       "    <tr>\n",
       "      <th>...</th>\n",
       "      <td>...</td>\n",
       "      <td>...</td>\n",
       "    </tr>\n",
       "    <tr>\n",
       "      <th>575</th>\n",
       "      <td>TPRG1L</td>\n",
       "      <td>0.003252</td>\n",
       "    </tr>\n",
       "    <tr>\n",
       "      <th>576</th>\n",
       "      <td>SPTY2D1</td>\n",
       "      <td>0.002676</td>\n",
       "    </tr>\n",
       "    <tr>\n",
       "      <th>577</th>\n",
       "      <td>ZBTB41</td>\n",
       "      <td>0.002669</td>\n",
       "    </tr>\n",
       "    <tr>\n",
       "      <th>578</th>\n",
       "      <td>GALNT10</td>\n",
       "      <td>0.003217</td>\n",
       "    </tr>\n",
       "    <tr>\n",
       "      <th>579</th>\n",
       "      <td>POLQ</td>\n",
       "      <td>0.002668</td>\n",
       "    </tr>\n",
       "  </tbody>\n",
       "</table>\n",
       "<p>580 rows × 2 columns</p>\n",
       "</div>"
      ],
      "text/plain": [
       "    Gene Symbol     score\n",
       "0         PSEN1  0.002887\n",
       "1         LAMA3  0.002632\n",
       "2          OCRL  0.002878\n",
       "3          PKD1  0.001847\n",
       "4          PON2  0.003191\n",
       "..          ...       ...\n",
       "575      TPRG1L  0.003252\n",
       "576     SPTY2D1  0.002676\n",
       "577      ZBTB41  0.002669\n",
       "578     GALNT10  0.003217\n",
       "579        POLQ  0.002668\n",
       "\n",
       "[580 rows x 2 columns]"
      ]
     },
     "execution_count": 61,
     "metadata": {},
     "output_type": "execute_result"
    }
   ],
   "source": [
    "results_df = pd.DataFrame(gene_to_predictions.items(), columns=[\"Gene Symbol\",\"score\"])\n",
    "results_df"
   ]
  },
  {
   "cell_type": "code",
   "execution_count": 62,
   "id": "711c39c9-9c73-478d-a62e-b89b5d31dc92",
   "metadata": {},
   "outputs": [],
   "source": [
    "file_name = \"our_results_df\"\n",
    "results_df.to_pickle(file_name) \n",
    "results_df = pd.read_pickle(file_name)"
   ]
  },
  {
   "cell_type": "code",
   "execution_count": 63,
   "id": "d9002489-8bef-4060-8411-bb557c606088",
   "metadata": {},
   "outputs": [],
   "source": [
    "all_genes = []\n",
    "for gene_symbol, gene_sequence in gene_symbol_to_seq.items():\n",
    "    all_genes.append(gene_symbol)"
   ]
  },
  {
   "cell_type": "markdown",
   "id": "439d787d-cac6-46f1-92d1-c3c4673c8596",
   "metadata": {},
   "source": [
    "#### (prediction) for genes\n",
    "X axis is different genes, Y axis is fold change"
   ]
  },
  {
   "cell_type": "code",
   "execution_count": 64,
   "id": "ee09a9b8-0af8-4410-8cf3-44a63aa4587f",
   "metadata": {},
   "outputs": [
    {
     "data": {
      "text/html": [
       "        <script type=\"text/javascript\">\n",
       "        window.PlotlyConfig = {MathJaxConfig: 'local'};\n",
       "        if (window.MathJax && window.MathJax.Hub && window.MathJax.Hub.Config) {window.MathJax.Hub.Config({SVG: {font: \"STIX-Web\"}});}\n",
       "        if (typeof require !== 'undefined') {\n",
       "        require.undef(\"plotly\");\n",
       "        requirejs.config({\n",
       "            paths: {\n",
       "                'plotly': ['https://cdn.plot.ly/plotly-2.25.2.min']\n",
       "            }\n",
       "        });\n",
       "        require(['plotly'], function(Plotly) {\n",
       "            window._Plotly = Plotly;\n",
       "        });\n",
       "        }\n",
       "        </script>\n",
       "        "
      ]
     },
     "metadata": {},
     "output_type": "display_data"
    }
   ],
   "source": [
    "import pandas as pd\n",
    "import plotly.graph_objs as go\n",
    "import matplotlib.pyplot as plt\n",
    "import plotly.io as pio\n",
    "import plotly.offline as pyo\n",
    "\n",
    "pio.renderers.default = 'notebook'\n",
    "pyo.init_notebook_mode(connected=True)\n",
    "\n",
    "\n",
    "###Importing dummy data\n",
    "#Predictions\n",
    "targetscan = pd.read_csv('Predicted_Targets_Context_Scores.default_predictions.txt',index_col=0, header=0, sep='\\t')\n",
    "targetscan = targetscan[[\"context++ score\",\"weighted context++ score\",\"miRNA\",\"Gene Symbol\"]]\n",
    "targetscan = targetscan[targetscan['miRNA'] == mirna_name]\n",
    "#Expression\n",
    "mirna_FCs = pd.read_csv('mirna_fcs.csv',index_col=0, header=0, sep=',')\n",
    "\n",
    "\n",
    "predictions = {}\n",
    "\n",
    "predictions[\"context++ score\"] = targetscan[[\"context++ score\",\"miRNA\",\"Gene Symbol\"]]\n",
    "predictions[\"context++ score\"] = predictions[\"context++ score\"].rename(columns={'context++ score': 'score'})\n",
    "\n",
    "predictions[\"weighted context++ score\"] = targetscan[[\"weighted context++ score\",\"miRNA\",\"Gene Symbol\"]]\n",
    "predictions[\"weighted context++ score\"] = predictions[\"weighted context++ score\"].rename(columns={'weighted context++ score': 'score'})\n",
    "\n",
    "predictions[\"our score\"] = targetscan[[\"weighted context++ score\",\"miRNA\",\"Gene Symbol\"]]\n",
    "predictions[\"our score\"] = predictions[\"weighted context++ score\"].rename(columns={'weighted context++ score': 'score'})"
   ]
  },
  {
   "cell_type": "code",
   "execution_count": null,
   "id": "b8f06291-7095-4c9f-8257-2d15692491d0",
   "metadata": {},
   "outputs": [],
   "source": []
  },
  {
   "cell_type": "code",
   "execution_count": 65,
   "id": "73ef14fc-1fda-476b-b634-d712fec8fae8",
   "metadata": {},
   "outputs": [
    {
     "data": {
      "text/html": [
       "<div>\n",
       "<style scoped>\n",
       "    .dataframe tbody tr th:only-of-type {\n",
       "        vertical-align: middle;\n",
       "    }\n",
       "\n",
       "    .dataframe tbody tr th {\n",
       "        vertical-align: top;\n",
       "    }\n",
       "\n",
       "    .dataframe thead th {\n",
       "        text-align: right;\n",
       "    }\n",
       "</style>\n",
       "<table border=\"1\" class=\"dataframe\">\n",
       "  <thead>\n",
       "    <tr style=\"text-align: right;\">\n",
       "      <th></th>\n",
       "      <th>score</th>\n",
       "      <th>miRNA</th>\n",
       "      <th>Gene Symbol</th>\n",
       "      <th>Gene symbol</th>\n",
       "      <th>hsa-miR-106b-5p</th>\n",
       "    </tr>\n",
       "  </thead>\n",
       "  <tbody>\n",
       "    <tr>\n",
       "      <th>311</th>\n",
       "      <td>-0.265</td>\n",
       "      <td>hsa-miR-106b-5p</td>\n",
       "      <td>CYBRD1</td>\n",
       "      <td>CYBRD1</td>\n",
       "      <td>-1.255</td>\n",
       "    </tr>\n",
       "    <tr>\n",
       "      <th>1421</th>\n",
       "      <td>-0.300</td>\n",
       "      <td>hsa-miR-106b-5p</td>\n",
       "      <td>TMEM64</td>\n",
       "      <td>TMEM64</td>\n",
       "      <td>-0.971</td>\n",
       "    </tr>\n",
       "    <tr>\n",
       "      <th>994</th>\n",
       "      <td>-0.202</td>\n",
       "      <td>hsa-miR-106b-5p</td>\n",
       "      <td>PLEKHM1</td>\n",
       "      <td>PLEKHM1</td>\n",
       "      <td>-0.882</td>\n",
       "    </tr>\n",
       "    <tr>\n",
       "      <th>507</th>\n",
       "      <td>-0.229</td>\n",
       "      <td>hsa-miR-106b-5p</td>\n",
       "      <td>FYCO1</td>\n",
       "      <td>FYCO1</td>\n",
       "      <td>-0.814</td>\n",
       "    </tr>\n",
       "    <tr>\n",
       "      <th>508</th>\n",
       "      <td>-0.168</td>\n",
       "      <td>hsa-miR-106b-5p</td>\n",
       "      <td>FYCO1</td>\n",
       "      <td>FYCO1</td>\n",
       "      <td>-0.814</td>\n",
       "    </tr>\n",
       "    <tr>\n",
       "      <th>...</th>\n",
       "      <td>...</td>\n",
       "      <td>...</td>\n",
       "      <td>...</td>\n",
       "      <td>...</td>\n",
       "      <td>...</td>\n",
       "    </tr>\n",
       "    <tr>\n",
       "      <th>362</th>\n",
       "      <td>-0.048</td>\n",
       "      <td>hsa-miR-106b-5p</td>\n",
       "      <td>E2F3</td>\n",
       "      <td>E2F3</td>\n",
       "      <td>0.392</td>\n",
       "    </tr>\n",
       "    <tr>\n",
       "      <th>447</th>\n",
       "      <td>-0.029</td>\n",
       "      <td>hsa-miR-106b-5p</td>\n",
       "      <td>FAM84B</td>\n",
       "      <td>FAM84B</td>\n",
       "      <td>0.393</td>\n",
       "    </tr>\n",
       "    <tr>\n",
       "      <th>895</th>\n",
       "      <td>-0.010</td>\n",
       "      <td>hsa-miR-106b-5p</td>\n",
       "      <td>OTUD3</td>\n",
       "      <td>OTUD3</td>\n",
       "      <td>0.396</td>\n",
       "    </tr>\n",
       "    <tr>\n",
       "      <th>1020</th>\n",
       "      <td>-0.419</td>\n",
       "      <td>hsa-miR-106b-5p</td>\n",
       "      <td>PPP3R1</td>\n",
       "      <td>PPP3R1</td>\n",
       "      <td>0.397</td>\n",
       "    </tr>\n",
       "    <tr>\n",
       "      <th>1282</th>\n",
       "      <td>-0.010</td>\n",
       "      <td>hsa-miR-106b-5p</td>\n",
       "      <td>SMURF1</td>\n",
       "      <td>SMURF1</td>\n",
       "      <td>0.444</td>\n",
       "    </tr>\n",
       "  </tbody>\n",
       "</table>\n",
       "<p>794 rows × 5 columns</p>\n",
       "</div>"
      ],
      "text/plain": [
       "      score            miRNA Gene Symbol Gene symbol  hsa-miR-106b-5p\n",
       "311  -0.265  hsa-miR-106b-5p      CYBRD1      CYBRD1           -1.255\n",
       "1421 -0.300  hsa-miR-106b-5p      TMEM64      TMEM64           -0.971\n",
       "994  -0.202  hsa-miR-106b-5p     PLEKHM1     PLEKHM1           -0.882\n",
       "507  -0.229  hsa-miR-106b-5p       FYCO1       FYCO1           -0.814\n",
       "508  -0.168  hsa-miR-106b-5p       FYCO1       FYCO1           -0.814\n",
       "...     ...              ...         ...         ...              ...\n",
       "362  -0.048  hsa-miR-106b-5p        E2F3        E2F3            0.392\n",
       "447  -0.029  hsa-miR-106b-5p      FAM84B      FAM84B            0.393\n",
       "895  -0.010  hsa-miR-106b-5p       OTUD3       OTUD3            0.396\n",
       "1020 -0.419  hsa-miR-106b-5p      PPP3R1      PPP3R1            0.397\n",
       "1282 -0.010  hsa-miR-106b-5p      SMURF1      SMURF1            0.444\n",
       "\n",
       "[794 rows x 5 columns]"
      ]
     },
     "execution_count": 65,
     "metadata": {},
     "output_type": "execute_result"
    }
   ],
   "source": [
    "merged_df = pd.merge(predictions[\"context++ score\"],\n",
    "                             mirna_FCs[[\"Gene symbol\",mirna_name]],\n",
    "                             left_on='Gene Symbol',\n",
    "                             right_on='Gene symbol',\n",
    "                             how='left').sort_values(mirna_name,\n",
    "                                                     ascending=True).dropna()\n",
    "merged_df"
   ]
  },
  {
   "cell_type": "code",
   "execution_count": 66,
   "id": "db02d017-bf9b-41b0-bd24-5498a08fd158",
   "metadata": {},
   "outputs": [
    {
     "data": {
      "text/html": [
       "<div>\n",
       "<style scoped>\n",
       "    .dataframe tbody tr th:only-of-type {\n",
       "        vertical-align: middle;\n",
       "    }\n",
       "\n",
       "    .dataframe tbody tr th {\n",
       "        vertical-align: top;\n",
       "    }\n",
       "\n",
       "    .dataframe thead th {\n",
       "        text-align: right;\n",
       "    }\n",
       "</style>\n",
       "<table border=\"1\" class=\"dataframe\">\n",
       "  <thead>\n",
       "    <tr style=\"text-align: right;\">\n",
       "      <th></th>\n",
       "      <th>Gene Symbol</th>\n",
       "      <th>score</th>\n",
       "      <th>Gene symbol</th>\n",
       "      <th>hsa-miR-106b-5p</th>\n",
       "    </tr>\n",
       "  </thead>\n",
       "  <tbody>\n",
       "    <tr>\n",
       "      <th>88</th>\n",
       "      <td>CYBRD1</td>\n",
       "      <td>0.003002</td>\n",
       "      <td>CYBRD1</td>\n",
       "      <td>-1.255</td>\n",
       "    </tr>\n",
       "    <tr>\n",
       "      <th>26</th>\n",
       "      <td>TMEM64</td>\n",
       "      <td>0.003214</td>\n",
       "      <td>TMEM64</td>\n",
       "      <td>-0.971</td>\n",
       "    </tr>\n",
       "    <tr>\n",
       "      <th>345</th>\n",
       "      <td>PLEKHM1</td>\n",
       "      <td>0.003016</td>\n",
       "      <td>PLEKHM1</td>\n",
       "      <td>-0.882</td>\n",
       "    </tr>\n",
       "    <tr>\n",
       "      <th>380</th>\n",
       "      <td>FYCO1</td>\n",
       "      <td>0.003239</td>\n",
       "      <td>FYCO1</td>\n",
       "      <td>-0.814</td>\n",
       "    </tr>\n",
       "    <tr>\n",
       "      <th>263</th>\n",
       "      <td>CLIP4</td>\n",
       "      <td>0.003116</td>\n",
       "      <td>CLIP4</td>\n",
       "      <td>-0.800</td>\n",
       "    </tr>\n",
       "    <tr>\n",
       "      <th>...</th>\n",
       "      <td>...</td>\n",
       "      <td>...</td>\n",
       "      <td>...</td>\n",
       "      <td>...</td>\n",
       "    </tr>\n",
       "    <tr>\n",
       "      <th>368</th>\n",
       "      <td>AHRR</td>\n",
       "      <td>0.002626</td>\n",
       "      <td>AHRR</td>\n",
       "      <td>0.381</td>\n",
       "    </tr>\n",
       "    <tr>\n",
       "      <th>123</th>\n",
       "      <td>CDK6</td>\n",
       "      <td>0.002462</td>\n",
       "      <td>CDK6</td>\n",
       "      <td>0.381</td>\n",
       "    </tr>\n",
       "    <tr>\n",
       "      <th>203</th>\n",
       "      <td>E2F3</td>\n",
       "      <td>0.003275</td>\n",
       "      <td>E2F3</td>\n",
       "      <td>0.392</td>\n",
       "    </tr>\n",
       "    <tr>\n",
       "      <th>490</th>\n",
       "      <td>OTUD3</td>\n",
       "      <td>0.003201</td>\n",
       "      <td>OTUD3</td>\n",
       "      <td>0.396</td>\n",
       "    </tr>\n",
       "    <tr>\n",
       "      <th>13</th>\n",
       "      <td>PPP3R1</td>\n",
       "      <td>0.003296</td>\n",
       "      <td>PPP3R1</td>\n",
       "      <td>0.397</td>\n",
       "    </tr>\n",
       "  </tbody>\n",
       "</table>\n",
       "<p>586 rows × 4 columns</p>\n",
       "</div>"
      ],
      "text/plain": [
       "    Gene Symbol     score Gene symbol  hsa-miR-106b-5p\n",
       "88       CYBRD1  0.003002      CYBRD1           -1.255\n",
       "26       TMEM64  0.003214      TMEM64           -0.971\n",
       "345     PLEKHM1  0.003016     PLEKHM1           -0.882\n",
       "380       FYCO1  0.003239       FYCO1           -0.814\n",
       "263       CLIP4  0.003116       CLIP4           -0.800\n",
       "..          ...       ...         ...              ...\n",
       "368        AHRR  0.002626        AHRR            0.381\n",
       "123        CDK6  0.002462        CDK6            0.381\n",
       "203        E2F3  0.003275        E2F3            0.392\n",
       "490       OTUD3  0.003201       OTUD3            0.396\n",
       "13       PPP3R1  0.003296      PPP3R1            0.397\n",
       "\n",
       "[586 rows x 4 columns]"
      ]
     },
     "execution_count": 66,
     "metadata": {},
     "output_type": "execute_result"
    }
   ],
   "source": [
    "results_df_merged = pd.merge(results_df,\n",
    "                             mirna_FCs[[\"Gene symbol\",mirna_name]],\n",
    "                             left_on='Gene Symbol',\n",
    "                             right_on='Gene symbol',\n",
    "                             how='left').sort_values(mirna_name,\n",
    "                                                     ascending=True)\n",
    "                                                     # ascending=True).dropna()\n",
    "\n",
    "results_df_merged"
   ]
  },
  {
   "cell_type": "code",
   "execution_count": 67,
   "id": "78161b97-eaa2-4195-85cc-1bb7dd531530",
   "metadata": {},
   "outputs": [
    {
     "data": {
      "text/html": [
       "<div>\n",
       "<style scoped>\n",
       "    .dataframe tbody tr th:only-of-type {\n",
       "        vertical-align: middle;\n",
       "    }\n",
       "\n",
       "    .dataframe tbody tr th {\n",
       "        vertical-align: top;\n",
       "    }\n",
       "\n",
       "    .dataframe thead th {\n",
       "        text-align: right;\n",
       "    }\n",
       "</style>\n",
       "<table border=\"1\" class=\"dataframe\">\n",
       "  <thead>\n",
       "    <tr style=\"text-align: right;\">\n",
       "      <th></th>\n",
       "      <th>Gene Symbol</th>\n",
       "      <th>score</th>\n",
       "      <th>Gene symbol</th>\n",
       "      <th>hsa-miR-106b-5p</th>\n",
       "    </tr>\n",
       "  </thead>\n",
       "  <tbody>\n",
       "    <tr>\n",
       "      <th>88</th>\n",
       "      <td>CYBRD1</td>\n",
       "      <td>0.003002</td>\n",
       "      <td>CYBRD1</td>\n",
       "      <td>-1.255</td>\n",
       "    </tr>\n",
       "    <tr>\n",
       "      <th>26</th>\n",
       "      <td>TMEM64</td>\n",
       "      <td>0.003214</td>\n",
       "      <td>TMEM64</td>\n",
       "      <td>-0.971</td>\n",
       "    </tr>\n",
       "    <tr>\n",
       "      <th>345</th>\n",
       "      <td>PLEKHM1</td>\n",
       "      <td>0.003016</td>\n",
       "      <td>PLEKHM1</td>\n",
       "      <td>-0.882</td>\n",
       "    </tr>\n",
       "    <tr>\n",
       "      <th>380</th>\n",
       "      <td>FYCO1</td>\n",
       "      <td>0.003239</td>\n",
       "      <td>FYCO1</td>\n",
       "      <td>-0.814</td>\n",
       "    </tr>\n",
       "    <tr>\n",
       "      <th>263</th>\n",
       "      <td>CLIP4</td>\n",
       "      <td>0.003116</td>\n",
       "      <td>CLIP4</td>\n",
       "      <td>-0.800</td>\n",
       "    </tr>\n",
       "    <tr>\n",
       "      <th>...</th>\n",
       "      <td>...</td>\n",
       "      <td>...</td>\n",
       "      <td>...</td>\n",
       "      <td>...</td>\n",
       "    </tr>\n",
       "    <tr>\n",
       "      <th>368</th>\n",
       "      <td>AHRR</td>\n",
       "      <td>0.002626</td>\n",
       "      <td>AHRR</td>\n",
       "      <td>0.381</td>\n",
       "    </tr>\n",
       "    <tr>\n",
       "      <th>123</th>\n",
       "      <td>CDK6</td>\n",
       "      <td>0.002462</td>\n",
       "      <td>CDK6</td>\n",
       "      <td>0.381</td>\n",
       "    </tr>\n",
       "    <tr>\n",
       "      <th>203</th>\n",
       "      <td>E2F3</td>\n",
       "      <td>0.003275</td>\n",
       "      <td>E2F3</td>\n",
       "      <td>0.392</td>\n",
       "    </tr>\n",
       "    <tr>\n",
       "      <th>490</th>\n",
       "      <td>OTUD3</td>\n",
       "      <td>0.003201</td>\n",
       "      <td>OTUD3</td>\n",
       "      <td>0.396</td>\n",
       "    </tr>\n",
       "    <tr>\n",
       "      <th>13</th>\n",
       "      <td>PPP3R1</td>\n",
       "      <td>0.003296</td>\n",
       "      <td>PPP3R1</td>\n",
       "      <td>0.397</td>\n",
       "    </tr>\n",
       "  </tbody>\n",
       "</table>\n",
       "<p>586 rows × 4 columns</p>\n",
       "</div>"
      ],
      "text/plain": [
       "    Gene Symbol     score Gene symbol  hsa-miR-106b-5p\n",
       "88       CYBRD1  0.003002      CYBRD1           -1.255\n",
       "26       TMEM64  0.003214      TMEM64           -0.971\n",
       "345     PLEKHM1  0.003016     PLEKHM1           -0.882\n",
       "380       FYCO1  0.003239       FYCO1           -0.814\n",
       "263       CLIP4  0.003116       CLIP4           -0.800\n",
       "..          ...       ...         ...              ...\n",
       "368        AHRR  0.002626        AHRR            0.381\n",
       "123        CDK6  0.002462        CDK6            0.381\n",
       "203        E2F3  0.003275        E2F3            0.392\n",
       "490       OTUD3  0.003201       OTUD3            0.396\n",
       "13       PPP3R1  0.003296      PPP3R1            0.397\n",
       "\n",
       "[586 rows x 4 columns]"
      ]
     },
     "execution_count": 67,
     "metadata": {},
     "output_type": "execute_result"
    }
   ],
   "source": [
    "results_df_merged[results_df_merged['hsa-miR-106b-5p'].notnull()]"
   ]
  },
  {
   "cell_type": "markdown",
   "id": "8f2207b3-b751-47d4-b32d-a2b2ed4e948f",
   "metadata": {
    "tags": []
   },
   "source": [
    "#### Correlation of our scores vs FC"
   ]
  },
  {
   "cell_type": "code",
   "execution_count": 68,
   "id": "50fab859-0d21-4c07-88d5-714069e9dfd7",
   "metadata": {},
   "outputs": [
    {
     "data": {
      "text/plain": [
       "-0.07103466467284442"
      ]
     },
     "execution_count": 68,
     "metadata": {},
     "output_type": "execute_result"
    }
   ],
   "source": [
    "results_df_merged['score'].corr(results_df_merged[mirna_name])"
   ]
  },
  {
   "cell_type": "code",
   "execution_count": 69,
   "id": "a34f0d4b-38d0-4292-8aef-4623fd41872f",
   "metadata": {},
   "outputs": [
    {
     "data": {
      "text/html": [
       "<div>\n",
       "<style scoped>\n",
       "    .dataframe tbody tr th:only-of-type {\n",
       "        vertical-align: middle;\n",
       "    }\n",
       "\n",
       "    .dataframe tbody tr th {\n",
       "        vertical-align: top;\n",
       "    }\n",
       "\n",
       "    .dataframe thead th {\n",
       "        text-align: right;\n",
       "    }\n",
       "</style>\n",
       "<table border=\"1\" class=\"dataframe\">\n",
       "  <thead>\n",
       "    <tr style=\"text-align: right;\">\n",
       "      <th></th>\n",
       "      <th>weighted context++ score</th>\n",
       "      <th>Gene Symbol</th>\n",
       "    </tr>\n",
       "    <tr>\n",
       "      <th>Gene ID</th>\n",
       "      <th></th>\n",
       "      <th></th>\n",
       "    </tr>\n",
       "  </thead>\n",
       "  <tbody>\n",
       "    <tr>\n",
       "      <th>ENSG00000115977.14</th>\n",
       "      <td>-0.079</td>\n",
       "      <td>AAK1</td>\n",
       "    </tr>\n",
       "    <tr>\n",
       "      <th>ENSG00000115977.14</th>\n",
       "      <td>-0.013</td>\n",
       "      <td>AAK1</td>\n",
       "    </tr>\n",
       "    <tr>\n",
       "      <th>ENSG00000165029.11</th>\n",
       "      <td>-0.029</td>\n",
       "      <td>ABCA1</td>\n",
       "    </tr>\n",
       "    <tr>\n",
       "      <th>ENSG00000172350.5</th>\n",
       "      <td>-0.156</td>\n",
       "      <td>ABCG4</td>\n",
       "    </tr>\n",
       "    <tr>\n",
       "      <th>ENSG00000140526.12</th>\n",
       "      <td>-0.204</td>\n",
       "      <td>ABHD2</td>\n",
       "    </tr>\n",
       "    <tr>\n",
       "      <th>...</th>\n",
       "      <td>...</td>\n",
       "      <td>...</td>\n",
       "    </tr>\n",
       "    <tr>\n",
       "      <th>ENSG00000124201.10</th>\n",
       "      <td>-0.126</td>\n",
       "      <td>ZNFX1</td>\n",
       "    </tr>\n",
       "    <tr>\n",
       "      <th>ENSG00000124201.10</th>\n",
       "      <td>-0.283</td>\n",
       "      <td>ZNFX1</td>\n",
       "    </tr>\n",
       "    <tr>\n",
       "      <th>ENSG00000019995.6</th>\n",
       "      <td>-0.047</td>\n",
       "      <td>ZRANB1</td>\n",
       "    </tr>\n",
       "    <tr>\n",
       "      <th>ENSG00000197037.6</th>\n",
       "      <td>-0.063</td>\n",
       "      <td>ZSCAN25</td>\n",
       "    </tr>\n",
       "    <tr>\n",
       "      <th>ENSG00000198205.5</th>\n",
       "      <td>-0.142</td>\n",
       "      <td>ZXDA</td>\n",
       "    </tr>\n",
       "  </tbody>\n",
       "</table>\n",
       "<p>1644 rows × 2 columns</p>\n",
       "</div>"
      ],
      "text/plain": [
       "                    weighted context++ score Gene Symbol\n",
       "Gene ID                                                 \n",
       "ENSG00000115977.14                    -0.079        AAK1\n",
       "ENSG00000115977.14                    -0.013        AAK1\n",
       "ENSG00000165029.11                    -0.029       ABCA1\n",
       "ENSG00000172350.5                     -0.156       ABCG4\n",
       "ENSG00000140526.12                    -0.204       ABHD2\n",
       "...                                      ...         ...\n",
       "ENSG00000124201.10                    -0.126       ZNFX1\n",
       "ENSG00000124201.10                    -0.283       ZNFX1\n",
       "ENSG00000019995.6                     -0.047      ZRANB1\n",
       "ENSG00000197037.6                     -0.063     ZSCAN25\n",
       "ENSG00000198205.5                     -0.142        ZXDA\n",
       "\n",
       "[1644 rows x 2 columns]"
      ]
     },
     "execution_count": 69,
     "metadata": {},
     "output_type": "execute_result"
    }
   ],
   "source": [
    "targetscan[['weighted context++ score', \"Gene Symbol\"]]"
   ]
  },
  {
   "cell_type": "code",
   "execution_count": 70,
   "id": "409cb4d9-bc69-4df3-968e-0aad3a4d70b8",
   "metadata": {},
   "outputs": [
    {
     "data": {
      "text/plain": [
       "array([['ACADS'],\n",
       "       ['ACAT1'],\n",
       "       ['PSEN1'],\n",
       "       ...,\n",
       "       ['SFXN4'],\n",
       "       ['SLC25A24'],\n",
       "       ['STAT3']], dtype=object)"
      ]
     },
     "execution_count": 70,
     "metadata": {},
     "output_type": "execute_result"
    }
   ],
   "source": [
    "mirna_FCs[[\"Gene symbol\"]].to_numpy()"
   ]
  },
  {
   "cell_type": "code",
   "execution_count": 71,
   "id": "ec5376c1-8858-4167-9835-1aff374d58f4",
   "metadata": {},
   "outputs": [
    {
     "name": "stdout",
     "output_type": "stream",
     "text": [
      "682\n",
      "580\n",
      "580\n"
     ]
    }
   ],
   "source": [
    "print(len(\n",
    "    set(predictions[\"weighted context++ score\"][[\"Gene Symbol\"]].to_numpy().flatten())\n",
    "    .intersection(set(mirna_FCs[[\"Gene symbol\"]].to_numpy().flatten()))))\n",
    "print(len(\n",
    "    set(gene_names_test)\n",
    "    .intersection(set(mirna_FCs[[\"Gene symbol\"]].to_numpy().flatten()))))\n",
    "\n",
    "print(len(\n",
    "    set(gene_names_test)\n",
    "    .intersection(set(predictions[\"weighted context++ score\"][[\"Gene Symbol\"]].to_numpy().flatten()))\n",
    "    .intersection(set(mirna_FCs[[\"Gene symbol\"]].to_numpy().flatten()))\n",
    "))\n"
   ]
  },
  {
   "cell_type": "code",
   "execution_count": 72,
   "id": "636d12e9-71a5-4919-8095-06d97aaa0544",
   "metadata": {},
   "outputs": [],
   "source": [
    "# results_df['Gene Symbol'].to_numpy()"
   ]
  },
  {
   "cell_type": "code",
   "execution_count": 73,
   "id": "c4727255-0d29-496a-9112-84691e1b92c8",
   "metadata": {},
   "outputs": [
    {
     "data": {
      "text/html": [
       "<div>\n",
       "<style scoped>\n",
       "    .dataframe tbody tr th:only-of-type {\n",
       "        vertical-align: middle;\n",
       "    }\n",
       "\n",
       "    .dataframe tbody tr th {\n",
       "        vertical-align: top;\n",
       "    }\n",
       "\n",
       "    .dataframe thead th {\n",
       "        text-align: right;\n",
       "    }\n",
       "</style>\n",
       "<table border=\"1\" class=\"dataframe\">\n",
       "  <thead>\n",
       "    <tr style=\"text-align: right;\">\n",
       "      <th></th>\n",
       "      <th>Gene symbol</th>\n",
       "      <th>hsa-miR-16-5p</th>\n",
       "      <th>hsa-miR-106b-5p</th>\n",
       "      <th>hsa-miR-200a-3p</th>\n",
       "      <th>hsa-miR-200b-3p</th>\n",
       "      <th>hsa-miR-215-5p</th>\n",
       "      <th>hsa-let-7c-5p</th>\n",
       "      <th>hsa-miR-103a-3p</th>\n",
       "    </tr>\n",
       "    <tr>\n",
       "      <th>RefSeq ID</th>\n",
       "      <th></th>\n",
       "      <th></th>\n",
       "      <th></th>\n",
       "      <th></th>\n",
       "      <th></th>\n",
       "      <th></th>\n",
       "      <th></th>\n",
       "      <th></th>\n",
       "    </tr>\n",
       "  </thead>\n",
       "  <tbody>\n",
       "    <tr>\n",
       "      <th>NM_000017</th>\n",
       "      <td>ACADS</td>\n",
       "      <td>-0.035</td>\n",
       "      <td>0.068</td>\n",
       "      <td>-0.047</td>\n",
       "      <td>0.048</td>\n",
       "      <td>-0.225</td>\n",
       "      <td>0.250</td>\n",
       "      <td>0.094</td>\n",
       "    </tr>\n",
       "    <tr>\n",
       "      <th>NM_000019</th>\n",
       "      <td>ACAT1</td>\n",
       "      <td>0.243</td>\n",
       "      <td>-0.201</td>\n",
       "      <td>0.268</td>\n",
       "      <td>-0.014</td>\n",
       "      <td>-0.013</td>\n",
       "      <td>-0.176</td>\n",
       "      <td>-0.071</td>\n",
       "    </tr>\n",
       "    <tr>\n",
       "      <th>NM_000021</th>\n",
       "      <td>PSEN1</td>\n",
       "      <td>0.173</td>\n",
       "      <td>0.186</td>\n",
       "      <td>-0.046</td>\n",
       "      <td>0.175</td>\n",
       "      <td>0.112</td>\n",
       "      <td>0.057</td>\n",
       "      <td>0.000</td>\n",
       "    </tr>\n",
       "    <tr>\n",
       "      <th>NM_000023</th>\n",
       "      <td>SGCA</td>\n",
       "      <td>NaN</td>\n",
       "      <td>NaN</td>\n",
       "      <td>0.109</td>\n",
       "      <td>-0.065</td>\n",
       "      <td>-0.152</td>\n",
       "      <td>0.152</td>\n",
       "      <td>-0.041</td>\n",
       "    </tr>\n",
       "    <tr>\n",
       "      <th>NM_000027</th>\n",
       "      <td>AGA</td>\n",
       "      <td>-0.078</td>\n",
       "      <td>-0.054</td>\n",
       "      <td>0.016</td>\n",
       "      <td>0.136</td>\n",
       "      <td>NaN</td>\n",
       "      <td>-0.090</td>\n",
       "      <td>NaN</td>\n",
       "    </tr>\n",
       "    <tr>\n",
       "      <th>...</th>\n",
       "      <td>...</td>\n",
       "      <td>...</td>\n",
       "      <td>...</td>\n",
       "      <td>...</td>\n",
       "      <td>...</td>\n",
       "      <td>...</td>\n",
       "      <td>...</td>\n",
       "      <td>...</td>\n",
       "    </tr>\n",
       "    <tr>\n",
       "      <th>NM_213646</th>\n",
       "      <td>WARS</td>\n",
       "      <td>-0.129</td>\n",
       "      <td>0.243</td>\n",
       "      <td>-0.066</td>\n",
       "      <td>0.131</td>\n",
       "      <td>-0.308</td>\n",
       "      <td>0.273</td>\n",
       "      <td>0.374</td>\n",
       "    </tr>\n",
       "    <tr>\n",
       "      <th>NM_213647</th>\n",
       "      <td>FGFR4</td>\n",
       "      <td>-0.558</td>\n",
       "      <td>0.131</td>\n",
       "      <td>0.001</td>\n",
       "      <td>-0.245</td>\n",
       "      <td>0.043</td>\n",
       "      <td>-0.021</td>\n",
       "      <td>0.041</td>\n",
       "    </tr>\n",
       "    <tr>\n",
       "      <th>NM_213649</th>\n",
       "      <td>SFXN4</td>\n",
       "      <td>-0.057</td>\n",
       "      <td>-0.067</td>\n",
       "      <td>0.058</td>\n",
       "      <td>0.136</td>\n",
       "      <td>-0.002</td>\n",
       "      <td>0.015</td>\n",
       "      <td>0.199</td>\n",
       "    </tr>\n",
       "    <tr>\n",
       "      <th>NM_213651</th>\n",
       "      <td>SLC25A24</td>\n",
       "      <td>0.384</td>\n",
       "      <td>0.233</td>\n",
       "      <td>0.329</td>\n",
       "      <td>0.029</td>\n",
       "      <td>-0.200</td>\n",
       "      <td>-0.698</td>\n",
       "      <td>-0.271</td>\n",
       "    </tr>\n",
       "    <tr>\n",
       "      <th>NM_213662</th>\n",
       "      <td>STAT3</td>\n",
       "      <td>0.126</td>\n",
       "      <td>-0.065</td>\n",
       "      <td>0.319</td>\n",
       "      <td>0.027</td>\n",
       "      <td>0.013</td>\n",
       "      <td>0.268</td>\n",
       "      <td>-0.013</td>\n",
       "    </tr>\n",
       "  </tbody>\n",
       "</table>\n",
       "<p>8372 rows × 8 columns</p>\n",
       "</div>"
      ],
      "text/plain": [
       "          Gene symbol  hsa-miR-16-5p  hsa-miR-106b-5p  hsa-miR-200a-3p  \\\n",
       "RefSeq ID                                                                \n",
       "NM_000017       ACADS         -0.035            0.068           -0.047   \n",
       "NM_000019       ACAT1          0.243           -0.201            0.268   \n",
       "NM_000021       PSEN1          0.173            0.186           -0.046   \n",
       "NM_000023        SGCA            NaN              NaN            0.109   \n",
       "NM_000027         AGA         -0.078           -0.054            0.016   \n",
       "...               ...            ...              ...              ...   \n",
       "NM_213646        WARS         -0.129            0.243           -0.066   \n",
       "NM_213647       FGFR4         -0.558            0.131            0.001   \n",
       "NM_213649       SFXN4         -0.057           -0.067            0.058   \n",
       "NM_213651    SLC25A24          0.384            0.233            0.329   \n",
       "NM_213662       STAT3          0.126           -0.065            0.319   \n",
       "\n",
       "           hsa-miR-200b-3p  hsa-miR-215-5p  hsa-let-7c-5p  hsa-miR-103a-3p  \n",
       "RefSeq ID                                                                   \n",
       "NM_000017            0.048          -0.225          0.250            0.094  \n",
       "NM_000019           -0.014          -0.013         -0.176           -0.071  \n",
       "NM_000021            0.175           0.112          0.057            0.000  \n",
       "NM_000023           -0.065          -0.152          0.152           -0.041  \n",
       "NM_000027            0.136             NaN         -0.090              NaN  \n",
       "...                    ...             ...            ...              ...  \n",
       "NM_213646            0.131          -0.308          0.273            0.374  \n",
       "NM_213647           -0.245           0.043         -0.021            0.041  \n",
       "NM_213649            0.136          -0.002          0.015            0.199  \n",
       "NM_213651            0.029          -0.200         -0.698           -0.271  \n",
       "NM_213662            0.027           0.013          0.268           -0.013  \n",
       "\n",
       "[8372 rows x 8 columns]"
      ]
     },
     "execution_count": 73,
     "metadata": {},
     "output_type": "execute_result"
    }
   ],
   "source": [
    "mirna_FCs"
   ]
  },
  {
   "cell_type": "code",
   "execution_count": 74,
   "id": "68aa96d7-876e-41f7-b4a6-6cae65367033",
   "metadata": {},
   "outputs": [],
   "source": [
    "results = {}\n",
    "for algorithm in predictions:\n",
    "        results[algorithm] = pd.DataFrame(columns=[\"Targets\",\"Mean_mRNA_FC\"])\n",
    "        merged_df = pd.merge(predictions[algorithm],\n",
    "                             mirna_FCs[[\"Gene symbol\",mirna_name]],\n",
    "                             left_on='Gene Symbol',\n",
    "                             right_on='Gene symbol',\n",
    "                             how='left').sort_values(\"score\",\n",
    "                                                     ascending=True).dropna()\n",
    "        \n",
    "        \n",
    "        for i,targets in enumerate([2**n for n in range(2, 11)]):\n",
    "            tmp = merged_df.head(targets)\n",
    "            meanFC = tmp[mirna_name].mean()\n",
    "            results[algorithm].loc[i,\"Targets\"] = targets\n",
    "            results[algorithm].loc[i,\"Mean_mRNA_FC\"] = meanFC"
   ]
  },
  {
   "cell_type": "code",
   "execution_count": 75,
   "id": "cfd2a7b1-d37e-4b10-9ee6-2a20cd5ed53d",
   "metadata": {},
   "outputs": [
    {
     "data": {
      "application/vnd.plotly.v1+json": {
       "config": {
        "plotlyServerURL": "https://plot.ly"
       },
       "data": [
        {
         "mode": "lines+markers",
         "name": "context++ score",
         "type": "scatter",
         "x": [
          0,
          1,
          2,
          3,
          4,
          5,
          6,
          7,
          8
         ],
         "y": [
          -0.6525000000000001,
          -0.481625,
          -0.3928125,
          -0.36806249999999996,
          -0.32909375,
          -0.27881249999999996,
          -0.27002734375000004,
          -0.21778320312500002,
          -0.17793324937027707
         ]
        },
        {
         "mode": "lines+markers",
         "name": "weighted context++ score",
         "type": "scatter",
         "x": [
          0,
          1,
          2,
          3,
          4,
          5,
          6,
          7,
          8
         ],
         "y": [
          -0.6525000000000001,
          -0.5337500000000001,
          -0.4205,
          -0.3536875,
          -0.31042187499999996,
          -0.2998984375,
          -0.26342578125,
          -0.218515625,
          -0.17793324937027707
         ]
        },
        {
         "mode": "lines+markers",
         "name": "our score",
         "type": "scatter",
         "x": [
          0,
          1,
          2,
          3,
          4,
          5,
          6,
          7,
          8
         ],
         "y": [
          -0.6525000000000001,
          -0.5337500000000001,
          -0.4205,
          -0.3536875,
          -0.31042187499999996,
          -0.2998984375,
          -0.26342578125,
          -0.218515625,
          -0.17793324937027707
         ]
        }
       ],
       "layout": {
        "template": {
         "data": {
          "bar": [
           {
            "error_x": {
             "color": "#2a3f5f"
            },
            "error_y": {
             "color": "#2a3f5f"
            },
            "marker": {
             "line": {
              "color": "#E5ECF6",
              "width": 0.5
             },
             "pattern": {
              "fillmode": "overlay",
              "size": 10,
              "solidity": 0.2
             }
            },
            "type": "bar"
           }
          ],
          "barpolar": [
           {
            "marker": {
             "line": {
              "color": "#E5ECF6",
              "width": 0.5
             },
             "pattern": {
              "fillmode": "overlay",
              "size": 10,
              "solidity": 0.2
             }
            },
            "type": "barpolar"
           }
          ],
          "carpet": [
           {
            "aaxis": {
             "endlinecolor": "#2a3f5f",
             "gridcolor": "white",
             "linecolor": "white",
             "minorgridcolor": "white",
             "startlinecolor": "#2a3f5f"
            },
            "baxis": {
             "endlinecolor": "#2a3f5f",
             "gridcolor": "white",
             "linecolor": "white",
             "minorgridcolor": "white",
             "startlinecolor": "#2a3f5f"
            },
            "type": "carpet"
           }
          ],
          "choropleth": [
           {
            "colorbar": {
             "outlinewidth": 0,
             "ticks": ""
            },
            "type": "choropleth"
           }
          ],
          "contour": [
           {
            "colorbar": {
             "outlinewidth": 0,
             "ticks": ""
            },
            "colorscale": [
             [
              0,
              "#0d0887"
             ],
             [
              0.1111111111111111,
              "#46039f"
             ],
             [
              0.2222222222222222,
              "#7201a8"
             ],
             [
              0.3333333333333333,
              "#9c179e"
             ],
             [
              0.4444444444444444,
              "#bd3786"
             ],
             [
              0.5555555555555556,
              "#d8576b"
             ],
             [
              0.6666666666666666,
              "#ed7953"
             ],
             [
              0.7777777777777778,
              "#fb9f3a"
             ],
             [
              0.8888888888888888,
              "#fdca26"
             ],
             [
              1,
              "#f0f921"
             ]
            ],
            "type": "contour"
           }
          ],
          "contourcarpet": [
           {
            "colorbar": {
             "outlinewidth": 0,
             "ticks": ""
            },
            "type": "contourcarpet"
           }
          ],
          "heatmap": [
           {
            "colorbar": {
             "outlinewidth": 0,
             "ticks": ""
            },
            "colorscale": [
             [
              0,
              "#0d0887"
             ],
             [
              0.1111111111111111,
              "#46039f"
             ],
             [
              0.2222222222222222,
              "#7201a8"
             ],
             [
              0.3333333333333333,
              "#9c179e"
             ],
             [
              0.4444444444444444,
              "#bd3786"
             ],
             [
              0.5555555555555556,
              "#d8576b"
             ],
             [
              0.6666666666666666,
              "#ed7953"
             ],
             [
              0.7777777777777778,
              "#fb9f3a"
             ],
             [
              0.8888888888888888,
              "#fdca26"
             ],
             [
              1,
              "#f0f921"
             ]
            ],
            "type": "heatmap"
           }
          ],
          "heatmapgl": [
           {
            "colorbar": {
             "outlinewidth": 0,
             "ticks": ""
            },
            "colorscale": [
             [
              0,
              "#0d0887"
             ],
             [
              0.1111111111111111,
              "#46039f"
             ],
             [
              0.2222222222222222,
              "#7201a8"
             ],
             [
              0.3333333333333333,
              "#9c179e"
             ],
             [
              0.4444444444444444,
              "#bd3786"
             ],
             [
              0.5555555555555556,
              "#d8576b"
             ],
             [
              0.6666666666666666,
              "#ed7953"
             ],
             [
              0.7777777777777778,
              "#fb9f3a"
             ],
             [
              0.8888888888888888,
              "#fdca26"
             ],
             [
              1,
              "#f0f921"
             ]
            ],
            "type": "heatmapgl"
           }
          ],
          "histogram": [
           {
            "marker": {
             "pattern": {
              "fillmode": "overlay",
              "size": 10,
              "solidity": 0.2
             }
            },
            "type": "histogram"
           }
          ],
          "histogram2d": [
           {
            "colorbar": {
             "outlinewidth": 0,
             "ticks": ""
            },
            "colorscale": [
             [
              0,
              "#0d0887"
             ],
             [
              0.1111111111111111,
              "#46039f"
             ],
             [
              0.2222222222222222,
              "#7201a8"
             ],
             [
              0.3333333333333333,
              "#9c179e"
             ],
             [
              0.4444444444444444,
              "#bd3786"
             ],
             [
              0.5555555555555556,
              "#d8576b"
             ],
             [
              0.6666666666666666,
              "#ed7953"
             ],
             [
              0.7777777777777778,
              "#fb9f3a"
             ],
             [
              0.8888888888888888,
              "#fdca26"
             ],
             [
              1,
              "#f0f921"
             ]
            ],
            "type": "histogram2d"
           }
          ],
          "histogram2dcontour": [
           {
            "colorbar": {
             "outlinewidth": 0,
             "ticks": ""
            },
            "colorscale": [
             [
              0,
              "#0d0887"
             ],
             [
              0.1111111111111111,
              "#46039f"
             ],
             [
              0.2222222222222222,
              "#7201a8"
             ],
             [
              0.3333333333333333,
              "#9c179e"
             ],
             [
              0.4444444444444444,
              "#bd3786"
             ],
             [
              0.5555555555555556,
              "#d8576b"
             ],
             [
              0.6666666666666666,
              "#ed7953"
             ],
             [
              0.7777777777777778,
              "#fb9f3a"
             ],
             [
              0.8888888888888888,
              "#fdca26"
             ],
             [
              1,
              "#f0f921"
             ]
            ],
            "type": "histogram2dcontour"
           }
          ],
          "mesh3d": [
           {
            "colorbar": {
             "outlinewidth": 0,
             "ticks": ""
            },
            "type": "mesh3d"
           }
          ],
          "parcoords": [
           {
            "line": {
             "colorbar": {
              "outlinewidth": 0,
              "ticks": ""
             }
            },
            "type": "parcoords"
           }
          ],
          "pie": [
           {
            "automargin": true,
            "type": "pie"
           }
          ],
          "scatter": [
           {
            "fillpattern": {
             "fillmode": "overlay",
             "size": 10,
             "solidity": 0.2
            },
            "type": "scatter"
           }
          ],
          "scatter3d": [
           {
            "line": {
             "colorbar": {
              "outlinewidth": 0,
              "ticks": ""
             }
            },
            "marker": {
             "colorbar": {
              "outlinewidth": 0,
              "ticks": ""
             }
            },
            "type": "scatter3d"
           }
          ],
          "scattercarpet": [
           {
            "marker": {
             "colorbar": {
              "outlinewidth": 0,
              "ticks": ""
             }
            },
            "type": "scattercarpet"
           }
          ],
          "scattergeo": [
           {
            "marker": {
             "colorbar": {
              "outlinewidth": 0,
              "ticks": ""
             }
            },
            "type": "scattergeo"
           }
          ],
          "scattergl": [
           {
            "marker": {
             "colorbar": {
              "outlinewidth": 0,
              "ticks": ""
             }
            },
            "type": "scattergl"
           }
          ],
          "scattermapbox": [
           {
            "marker": {
             "colorbar": {
              "outlinewidth": 0,
              "ticks": ""
             }
            },
            "type": "scattermapbox"
           }
          ],
          "scatterpolar": [
           {
            "marker": {
             "colorbar": {
              "outlinewidth": 0,
              "ticks": ""
             }
            },
            "type": "scatterpolar"
           }
          ],
          "scatterpolargl": [
           {
            "marker": {
             "colorbar": {
              "outlinewidth": 0,
              "ticks": ""
             }
            },
            "type": "scatterpolargl"
           }
          ],
          "scatterternary": [
           {
            "marker": {
             "colorbar": {
              "outlinewidth": 0,
              "ticks": ""
             }
            },
            "type": "scatterternary"
           }
          ],
          "surface": [
           {
            "colorbar": {
             "outlinewidth": 0,
             "ticks": ""
            },
            "colorscale": [
             [
              0,
              "#0d0887"
             ],
             [
              0.1111111111111111,
              "#46039f"
             ],
             [
              0.2222222222222222,
              "#7201a8"
             ],
             [
              0.3333333333333333,
              "#9c179e"
             ],
             [
              0.4444444444444444,
              "#bd3786"
             ],
             [
              0.5555555555555556,
              "#d8576b"
             ],
             [
              0.6666666666666666,
              "#ed7953"
             ],
             [
              0.7777777777777778,
              "#fb9f3a"
             ],
             [
              0.8888888888888888,
              "#fdca26"
             ],
             [
              1,
              "#f0f921"
             ]
            ],
            "type": "surface"
           }
          ],
          "table": [
           {
            "cells": {
             "fill": {
              "color": "#EBF0F8"
             },
             "line": {
              "color": "white"
             }
            },
            "header": {
             "fill": {
              "color": "#C8D4E3"
             },
             "line": {
              "color": "white"
             }
            },
            "type": "table"
           }
          ]
         },
         "layout": {
          "annotationdefaults": {
           "arrowcolor": "#2a3f5f",
           "arrowhead": 0,
           "arrowwidth": 1
          },
          "autotypenumbers": "strict",
          "coloraxis": {
           "colorbar": {
            "outlinewidth": 0,
            "ticks": ""
           }
          },
          "colorscale": {
           "diverging": [
            [
             0,
             "#8e0152"
            ],
            [
             0.1,
             "#c51b7d"
            ],
            [
             0.2,
             "#de77ae"
            ],
            [
             0.3,
             "#f1b6da"
            ],
            [
             0.4,
             "#fde0ef"
            ],
            [
             0.5,
             "#f7f7f7"
            ],
            [
             0.6,
             "#e6f5d0"
            ],
            [
             0.7,
             "#b8e186"
            ],
            [
             0.8,
             "#7fbc41"
            ],
            [
             0.9,
             "#4d9221"
            ],
            [
             1,
             "#276419"
            ]
           ],
           "sequential": [
            [
             0,
             "#0d0887"
            ],
            [
             0.1111111111111111,
             "#46039f"
            ],
            [
             0.2222222222222222,
             "#7201a8"
            ],
            [
             0.3333333333333333,
             "#9c179e"
            ],
            [
             0.4444444444444444,
             "#bd3786"
            ],
            [
             0.5555555555555556,
             "#d8576b"
            ],
            [
             0.6666666666666666,
             "#ed7953"
            ],
            [
             0.7777777777777778,
             "#fb9f3a"
            ],
            [
             0.8888888888888888,
             "#fdca26"
            ],
            [
             1,
             "#f0f921"
            ]
           ],
           "sequentialminus": [
            [
             0,
             "#0d0887"
            ],
            [
             0.1111111111111111,
             "#46039f"
            ],
            [
             0.2222222222222222,
             "#7201a8"
            ],
            [
             0.3333333333333333,
             "#9c179e"
            ],
            [
             0.4444444444444444,
             "#bd3786"
            ],
            [
             0.5555555555555556,
             "#d8576b"
            ],
            [
             0.6666666666666666,
             "#ed7953"
            ],
            [
             0.7777777777777778,
             "#fb9f3a"
            ],
            [
             0.8888888888888888,
             "#fdca26"
            ],
            [
             1,
             "#f0f921"
            ]
           ]
          },
          "colorway": [
           "#636efa",
           "#EF553B",
           "#00cc96",
           "#ab63fa",
           "#FFA15A",
           "#19d3f3",
           "#FF6692",
           "#B6E880",
           "#FF97FF",
           "#FECB52"
          ],
          "font": {
           "color": "#2a3f5f"
          },
          "geo": {
           "bgcolor": "white",
           "lakecolor": "white",
           "landcolor": "#E5ECF6",
           "showlakes": true,
           "showland": true,
           "subunitcolor": "white"
          },
          "hoverlabel": {
           "align": "left"
          },
          "hovermode": "closest",
          "mapbox": {
           "style": "light"
          },
          "paper_bgcolor": "white",
          "plot_bgcolor": "#E5ECF6",
          "polar": {
           "angularaxis": {
            "gridcolor": "white",
            "linecolor": "white",
            "ticks": ""
           },
           "bgcolor": "#E5ECF6",
           "radialaxis": {
            "gridcolor": "white",
            "linecolor": "white",
            "ticks": ""
           }
          },
          "scene": {
           "xaxis": {
            "backgroundcolor": "#E5ECF6",
            "gridcolor": "white",
            "gridwidth": 2,
            "linecolor": "white",
            "showbackground": true,
            "ticks": "",
            "zerolinecolor": "white"
           },
           "yaxis": {
            "backgroundcolor": "#E5ECF6",
            "gridcolor": "white",
            "gridwidth": 2,
            "linecolor": "white",
            "showbackground": true,
            "ticks": "",
            "zerolinecolor": "white"
           },
           "zaxis": {
            "backgroundcolor": "#E5ECF6",
            "gridcolor": "white",
            "gridwidth": 2,
            "linecolor": "white",
            "showbackground": true,
            "ticks": "",
            "zerolinecolor": "white"
           }
          },
          "shapedefaults": {
           "line": {
            "color": "#2a3f5f"
           }
          },
          "ternary": {
           "aaxis": {
            "gridcolor": "white",
            "linecolor": "white",
            "ticks": ""
           },
           "baxis": {
            "gridcolor": "white",
            "linecolor": "white",
            "ticks": ""
           },
           "bgcolor": "#E5ECF6",
           "caxis": {
            "gridcolor": "white",
            "linecolor": "white",
            "ticks": ""
           }
          },
          "title": {
           "x": 0.05
          },
          "xaxis": {
           "automargin": true,
           "gridcolor": "white",
           "linecolor": "white",
           "ticks": "",
           "title": {
            "standoff": 15
           },
           "zerolinecolor": "white",
           "zerolinewidth": 2
          },
          "yaxis": {
           "automargin": true,
           "gridcolor": "white",
           "linecolor": "white",
           "ticks": "",
           "title": {
            "standoff": 15
           },
           "zerolinecolor": "white",
           "zerolinewidth": 2
          }
         }
        },
        "title": {
         "text": "Benchmark on hsa-miR-106b-5p dataset"
        },
        "xaxis": {
         "ticktext": [
          4,
          8,
          16,
          32,
          64,
          128,
          256,
          512,
          1024
         ],
         "tickvals": [
          0,
          1,
          2,
          3,
          4,
          5,
          6,
          7,
          8
         ],
         "title": {
          "text": "Top predicted targets"
         }
        },
        "yaxis": {
         "title": {
          "text": "Mean_mRNA_FC"
         }
        }
       }
      },
      "text/html": [
       "<div>                            <div id=\"6ad64bf0-3bee-4c0c-a5cd-b53ec40a6821\" class=\"plotly-graph-div\" style=\"height:525px; width:100%;\"></div>            <script type=\"text/javascript\">                require([\"plotly\"], function(Plotly) {                    window.PLOTLYENV=window.PLOTLYENV || {};                                    if (document.getElementById(\"6ad64bf0-3bee-4c0c-a5cd-b53ec40a6821\")) {                    Plotly.newPlot(                        \"6ad64bf0-3bee-4c0c-a5cd-b53ec40a6821\",                        [{\"mode\":\"lines+markers\",\"name\":\"context++ score\",\"x\":[0,1,2,3,4,5,6,7,8],\"y\":[-0.6525000000000001,-0.481625,-0.3928125,-0.36806249999999996,-0.32909375,-0.27881249999999996,-0.27002734375000004,-0.21778320312500002,-0.17793324937027707],\"type\":\"scatter\"},{\"mode\":\"lines+markers\",\"name\":\"weighted context++ score\",\"x\":[0,1,2,3,4,5,6,7,8],\"y\":[-0.6525000000000001,-0.5337500000000001,-0.4205,-0.3536875,-0.31042187499999996,-0.2998984375,-0.26342578125,-0.218515625,-0.17793324937027707],\"type\":\"scatter\"},{\"mode\":\"lines+markers\",\"name\":\"our score\",\"x\":[0,1,2,3,4,5,6,7,8],\"y\":[-0.6525000000000001,-0.5337500000000001,-0.4205,-0.3536875,-0.31042187499999996,-0.2998984375,-0.26342578125,-0.218515625,-0.17793324937027707],\"type\":\"scatter\"}],                        {\"template\":{\"data\":{\"histogram2dcontour\":[{\"type\":\"histogram2dcontour\",\"colorbar\":{\"outlinewidth\":0,\"ticks\":\"\"},\"colorscale\":[[0.0,\"#0d0887\"],[0.1111111111111111,\"#46039f\"],[0.2222222222222222,\"#7201a8\"],[0.3333333333333333,\"#9c179e\"],[0.4444444444444444,\"#bd3786\"],[0.5555555555555556,\"#d8576b\"],[0.6666666666666666,\"#ed7953\"],[0.7777777777777778,\"#fb9f3a\"],[0.8888888888888888,\"#fdca26\"],[1.0,\"#f0f921\"]]}],\"choropleth\":[{\"type\":\"choropleth\",\"colorbar\":{\"outlinewidth\":0,\"ticks\":\"\"}}],\"histogram2d\":[{\"type\":\"histogram2d\",\"colorbar\":{\"outlinewidth\":0,\"ticks\":\"\"},\"colorscale\":[[0.0,\"#0d0887\"],[0.1111111111111111,\"#46039f\"],[0.2222222222222222,\"#7201a8\"],[0.3333333333333333,\"#9c179e\"],[0.4444444444444444,\"#bd3786\"],[0.5555555555555556,\"#d8576b\"],[0.6666666666666666,\"#ed7953\"],[0.7777777777777778,\"#fb9f3a\"],[0.8888888888888888,\"#fdca26\"],[1.0,\"#f0f921\"]]}],\"heatmap\":[{\"type\":\"heatmap\",\"colorbar\":{\"outlinewidth\":0,\"ticks\":\"\"},\"colorscale\":[[0.0,\"#0d0887\"],[0.1111111111111111,\"#46039f\"],[0.2222222222222222,\"#7201a8\"],[0.3333333333333333,\"#9c179e\"],[0.4444444444444444,\"#bd3786\"],[0.5555555555555556,\"#d8576b\"],[0.6666666666666666,\"#ed7953\"],[0.7777777777777778,\"#fb9f3a\"],[0.8888888888888888,\"#fdca26\"],[1.0,\"#f0f921\"]]}],\"heatmapgl\":[{\"type\":\"heatmapgl\",\"colorbar\":{\"outlinewidth\":0,\"ticks\":\"\"},\"colorscale\":[[0.0,\"#0d0887\"],[0.1111111111111111,\"#46039f\"],[0.2222222222222222,\"#7201a8\"],[0.3333333333333333,\"#9c179e\"],[0.4444444444444444,\"#bd3786\"],[0.5555555555555556,\"#d8576b\"],[0.6666666666666666,\"#ed7953\"],[0.7777777777777778,\"#fb9f3a\"],[0.8888888888888888,\"#fdca26\"],[1.0,\"#f0f921\"]]}],\"contourcarpet\":[{\"type\":\"contourcarpet\",\"colorbar\":{\"outlinewidth\":0,\"ticks\":\"\"}}],\"contour\":[{\"type\":\"contour\",\"colorbar\":{\"outlinewidth\":0,\"ticks\":\"\"},\"colorscale\":[[0.0,\"#0d0887\"],[0.1111111111111111,\"#46039f\"],[0.2222222222222222,\"#7201a8\"],[0.3333333333333333,\"#9c179e\"],[0.4444444444444444,\"#bd3786\"],[0.5555555555555556,\"#d8576b\"],[0.6666666666666666,\"#ed7953\"],[0.7777777777777778,\"#fb9f3a\"],[0.8888888888888888,\"#fdca26\"],[1.0,\"#f0f921\"]]}],\"surface\":[{\"type\":\"surface\",\"colorbar\":{\"outlinewidth\":0,\"ticks\":\"\"},\"colorscale\":[[0.0,\"#0d0887\"],[0.1111111111111111,\"#46039f\"],[0.2222222222222222,\"#7201a8\"],[0.3333333333333333,\"#9c179e\"],[0.4444444444444444,\"#bd3786\"],[0.5555555555555556,\"#d8576b\"],[0.6666666666666666,\"#ed7953\"],[0.7777777777777778,\"#fb9f3a\"],[0.8888888888888888,\"#fdca26\"],[1.0,\"#f0f921\"]]}],\"mesh3d\":[{\"type\":\"mesh3d\",\"colorbar\":{\"outlinewidth\":0,\"ticks\":\"\"}}],\"scatter\":[{\"fillpattern\":{\"fillmode\":\"overlay\",\"size\":10,\"solidity\":0.2},\"type\":\"scatter\"}],\"parcoords\":[{\"type\":\"parcoords\",\"line\":{\"colorbar\":{\"outlinewidth\":0,\"ticks\":\"\"}}}],\"scatterpolargl\":[{\"type\":\"scatterpolargl\",\"marker\":{\"colorbar\":{\"outlinewidth\":0,\"ticks\":\"\"}}}],\"bar\":[{\"error_x\":{\"color\":\"#2a3f5f\"},\"error_y\":{\"color\":\"#2a3f5f\"},\"marker\":{\"line\":{\"color\":\"#E5ECF6\",\"width\":0.5},\"pattern\":{\"fillmode\":\"overlay\",\"size\":10,\"solidity\":0.2}},\"type\":\"bar\"}],\"scattergeo\":[{\"type\":\"scattergeo\",\"marker\":{\"colorbar\":{\"outlinewidth\":0,\"ticks\":\"\"}}}],\"scatterpolar\":[{\"type\":\"scatterpolar\",\"marker\":{\"colorbar\":{\"outlinewidth\":0,\"ticks\":\"\"}}}],\"histogram\":[{\"marker\":{\"pattern\":{\"fillmode\":\"overlay\",\"size\":10,\"solidity\":0.2}},\"type\":\"histogram\"}],\"scattergl\":[{\"type\":\"scattergl\",\"marker\":{\"colorbar\":{\"outlinewidth\":0,\"ticks\":\"\"}}}],\"scatter3d\":[{\"type\":\"scatter3d\",\"line\":{\"colorbar\":{\"outlinewidth\":0,\"ticks\":\"\"}},\"marker\":{\"colorbar\":{\"outlinewidth\":0,\"ticks\":\"\"}}}],\"scattermapbox\":[{\"type\":\"scattermapbox\",\"marker\":{\"colorbar\":{\"outlinewidth\":0,\"ticks\":\"\"}}}],\"scatterternary\":[{\"type\":\"scatterternary\",\"marker\":{\"colorbar\":{\"outlinewidth\":0,\"ticks\":\"\"}}}],\"scattercarpet\":[{\"type\":\"scattercarpet\",\"marker\":{\"colorbar\":{\"outlinewidth\":0,\"ticks\":\"\"}}}],\"carpet\":[{\"aaxis\":{\"endlinecolor\":\"#2a3f5f\",\"gridcolor\":\"white\",\"linecolor\":\"white\",\"minorgridcolor\":\"white\",\"startlinecolor\":\"#2a3f5f\"},\"baxis\":{\"endlinecolor\":\"#2a3f5f\",\"gridcolor\":\"white\",\"linecolor\":\"white\",\"minorgridcolor\":\"white\",\"startlinecolor\":\"#2a3f5f\"},\"type\":\"carpet\"}],\"table\":[{\"cells\":{\"fill\":{\"color\":\"#EBF0F8\"},\"line\":{\"color\":\"white\"}},\"header\":{\"fill\":{\"color\":\"#C8D4E3\"},\"line\":{\"color\":\"white\"}},\"type\":\"table\"}],\"barpolar\":[{\"marker\":{\"line\":{\"color\":\"#E5ECF6\",\"width\":0.5},\"pattern\":{\"fillmode\":\"overlay\",\"size\":10,\"solidity\":0.2}},\"type\":\"barpolar\"}],\"pie\":[{\"automargin\":true,\"type\":\"pie\"}]},\"layout\":{\"autotypenumbers\":\"strict\",\"colorway\":[\"#636efa\",\"#EF553B\",\"#00cc96\",\"#ab63fa\",\"#FFA15A\",\"#19d3f3\",\"#FF6692\",\"#B6E880\",\"#FF97FF\",\"#FECB52\"],\"font\":{\"color\":\"#2a3f5f\"},\"hovermode\":\"closest\",\"hoverlabel\":{\"align\":\"left\"},\"paper_bgcolor\":\"white\",\"plot_bgcolor\":\"#E5ECF6\",\"polar\":{\"bgcolor\":\"#E5ECF6\",\"angularaxis\":{\"gridcolor\":\"white\",\"linecolor\":\"white\",\"ticks\":\"\"},\"radialaxis\":{\"gridcolor\":\"white\",\"linecolor\":\"white\",\"ticks\":\"\"}},\"ternary\":{\"bgcolor\":\"#E5ECF6\",\"aaxis\":{\"gridcolor\":\"white\",\"linecolor\":\"white\",\"ticks\":\"\"},\"baxis\":{\"gridcolor\":\"white\",\"linecolor\":\"white\",\"ticks\":\"\"},\"caxis\":{\"gridcolor\":\"white\",\"linecolor\":\"white\",\"ticks\":\"\"}},\"coloraxis\":{\"colorbar\":{\"outlinewidth\":0,\"ticks\":\"\"}},\"colorscale\":{\"sequential\":[[0.0,\"#0d0887\"],[0.1111111111111111,\"#46039f\"],[0.2222222222222222,\"#7201a8\"],[0.3333333333333333,\"#9c179e\"],[0.4444444444444444,\"#bd3786\"],[0.5555555555555556,\"#d8576b\"],[0.6666666666666666,\"#ed7953\"],[0.7777777777777778,\"#fb9f3a\"],[0.8888888888888888,\"#fdca26\"],[1.0,\"#f0f921\"]],\"sequentialminus\":[[0.0,\"#0d0887\"],[0.1111111111111111,\"#46039f\"],[0.2222222222222222,\"#7201a8\"],[0.3333333333333333,\"#9c179e\"],[0.4444444444444444,\"#bd3786\"],[0.5555555555555556,\"#d8576b\"],[0.6666666666666666,\"#ed7953\"],[0.7777777777777778,\"#fb9f3a\"],[0.8888888888888888,\"#fdca26\"],[1.0,\"#f0f921\"]],\"diverging\":[[0,\"#8e0152\"],[0.1,\"#c51b7d\"],[0.2,\"#de77ae\"],[0.3,\"#f1b6da\"],[0.4,\"#fde0ef\"],[0.5,\"#f7f7f7\"],[0.6,\"#e6f5d0\"],[0.7,\"#b8e186\"],[0.8,\"#7fbc41\"],[0.9,\"#4d9221\"],[1,\"#276419\"]]},\"xaxis\":{\"gridcolor\":\"white\",\"linecolor\":\"white\",\"ticks\":\"\",\"title\":{\"standoff\":15},\"zerolinecolor\":\"white\",\"automargin\":true,\"zerolinewidth\":2},\"yaxis\":{\"gridcolor\":\"white\",\"linecolor\":\"white\",\"ticks\":\"\",\"title\":{\"standoff\":15},\"zerolinecolor\":\"white\",\"automargin\":true,\"zerolinewidth\":2},\"scene\":{\"xaxis\":{\"backgroundcolor\":\"#E5ECF6\",\"gridcolor\":\"white\",\"linecolor\":\"white\",\"showbackground\":true,\"ticks\":\"\",\"zerolinecolor\":\"white\",\"gridwidth\":2},\"yaxis\":{\"backgroundcolor\":\"#E5ECF6\",\"gridcolor\":\"white\",\"linecolor\":\"white\",\"showbackground\":true,\"ticks\":\"\",\"zerolinecolor\":\"white\",\"gridwidth\":2},\"zaxis\":{\"backgroundcolor\":\"#E5ECF6\",\"gridcolor\":\"white\",\"linecolor\":\"white\",\"showbackground\":true,\"ticks\":\"\",\"zerolinecolor\":\"white\",\"gridwidth\":2}},\"shapedefaults\":{\"line\":{\"color\":\"#2a3f5f\"}},\"annotationdefaults\":{\"arrowcolor\":\"#2a3f5f\",\"arrowhead\":0,\"arrowwidth\":1},\"geo\":{\"bgcolor\":\"white\",\"landcolor\":\"#E5ECF6\",\"subunitcolor\":\"white\",\"showland\":true,\"showlakes\":true,\"lakecolor\":\"white\"},\"title\":{\"x\":0.05},\"mapbox\":{\"style\":\"light\"}}},\"xaxis\":{\"tickvals\":[0,1,2,3,4,5,6,7,8],\"ticktext\":[4,8,16,32,64,128,256,512,1024],\"title\":{\"text\":\"Top predicted targets\"}},\"yaxis\":{\"title\":{\"text\":\"Mean_mRNA_FC\"}},\"title\":{\"text\":\"Benchmark on hsa-miR-106b-5p dataset\"}},                        {\"responsive\": true}                    ).then(function(){\n",
       "                            \n",
       "var gd = document.getElementById('6ad64bf0-3bee-4c0c-a5cd-b53ec40a6821');\n",
       "var x = new MutationObserver(function (mutations, observer) {{\n",
       "        var display = window.getComputedStyle(gd).display;\n",
       "        if (!display || display === 'none') {{\n",
       "            console.log([gd, 'removed!']);\n",
       "            Plotly.purge(gd);\n",
       "            observer.disconnect();\n",
       "        }}\n",
       "}});\n",
       "\n",
       "// Listen for the removal of the full notebook cells\n",
       "var notebookContainer = gd.closest('#notebook-container');\n",
       "if (notebookContainer) {{\n",
       "    x.observe(notebookContainer, {childList: true});\n",
       "}}\n",
       "\n",
       "// Listen for the clearing of the current output cell\n",
       "var outputEl = gd.closest('.output');\n",
       "if (outputEl) {{\n",
       "    x.observe(outputEl, {childList: true});\n",
       "}}\n",
       "\n",
       "                        })                };                });            </script>        </div>"
      ]
     },
     "metadata": {},
     "output_type": "display_data"
    }
   ],
   "source": [
    "fig = go.Figure()\n",
    "\n",
    "for algorithm in results:\n",
    "    fig.add_trace(go.Scatter(x=results[algorithm]['Targets'].index.tolist(),\n",
    "                                 y=results[algorithm]['Mean_mRNA_FC'],\n",
    "                                 mode='lines+markers',\n",
    "                                 name=algorithm)\n",
    "                                 )\n",
    "\n",
    "\n",
    "    # create the layout for the plot\n",
    "fig.update_layout(xaxis=dict(tickvals=results[algorithm]['Targets'].index.tolist(),\n",
    "                             ticktext=results[algorithm]['Targets'],\n",
    "                             title = 'Top predicted targets'),\n",
    "                  yaxis=dict(title='Mean_mRNA_FC'),\n",
    "                  title=f'Benchmark on {mirna_name} dataset')\n",
    "    \n",
    "    # show the plot\n",
    "fig.show()\n",
    "# iplot(fig)               # use plotly.offline.iplot for offline plot"
   ]
  },
  {
   "cell_type": "markdown",
   "id": "e971d46e-2fbf-4714-aba4-a2c8961d751e",
   "metadata": {},
   "source": [
    "### Compare with FC"
   ]
  },
  {
   "cell_type": "code",
   "execution_count": 76,
   "id": "977af492-f583-4727-b06e-48d01740f502",
   "metadata": {},
   "outputs": [],
   "source": [
    "def get_scores_by_miRNA(miRNA, score_table):\n",
    "    result = {}\n",
    "    for row in score_table:\n",
    "        if row[0] == miRNA:\n",
    "            result[row[1]] = row[2] \n",
    "    return result"
   ]
  },
  {
   "cell_type": "code",
   "execution_count": 77,
   "id": "0030e597-7dc1-4383-a271-f42b95d02d5c",
   "metadata": {},
   "outputs": [
    {
     "name": "stdout",
     "output_type": "stream",
     "text": [
      "scores for miRNA:  hsa-miR-106b-5p\n"
     ]
    }
   ],
   "source": [
    "\n",
    "miRNA_chosen_name = mirna_name\n",
    "print('scores for miRNA: ', miRNA_chosen_name)"
   ]
  },
  {
   "cell_type": "code",
   "execution_count": 78,
   "id": "935a0db3-8a46-4071-af2a-b2f45e1024a7",
   "metadata": {},
   "outputs": [],
   "source": [
    "# genes_for_miRNA = mirna_FCs[mirna_FCs[miRNA_chosen_name].isnull() == False]['Gene symbol'].values"
   ]
  },
  {
   "cell_type": "code",
   "execution_count": 79,
   "id": "cfeb013b-e273-4617-8a73-1a3ac3925b01",
   "metadata": {},
   "outputs": [],
   "source": [
    "fc_for_miRNA = mirna_FCs[mirna_FCs[miRNA_chosen_name].isnull() == False][['Gene symbol', miRNA_chosen_name]].values"
   ]
  },
  {
   "cell_type": "code",
   "execution_count": 80,
   "id": "d222cb91-04f6-4507-a4a9-5f2be5283446",
   "metadata": {},
   "outputs": [
    {
     "data": {
      "text/plain": [
       "array([['ACADS', 0.068],\n",
       "       ['ACAT1', -0.201],\n",
       "       ['PSEN1', 0.186],\n",
       "       ...,\n",
       "       ['SFXN4', -0.067],\n",
       "       ['SLC25A24', 0.233],\n",
       "       ['STAT3', -0.065]], dtype=object)"
      ]
     },
     "execution_count": 80,
     "metadata": {},
     "output_type": "execute_result"
    }
   ],
   "source": [
    "fc_for_miRNA"
   ]
  },
  {
   "cell_type": "code",
   "execution_count": 81,
   "id": "5d7a65ad-f39d-423a-80c5-f64c5799a73d",
   "metadata": {},
   "outputs": [],
   "source": [
    "gene_to_fc = {fc_for_miRNA[i][0] : fc_for_miRNA[i][1] for i in range(len(fc_for_miRNA))}"
   ]
  },
  {
   "cell_type": "code",
   "execution_count": 82,
   "id": "57cb1abe-4e8d-4b7e-89ee-49755b88f2ae",
   "metadata": {},
   "outputs": [
    {
     "ename": "NameError",
     "evalue": "name 'gene_to_comparison' is not defined",
     "output_type": "error",
     "traceback": [
      "\u001b[0;31m---------------------------------------------------------------------------\u001b[0m",
      "\u001b[0;31mNameError\u001b[0m                                 Traceback (most recent call last)",
      "Cell \u001b[0;32mIn[82], line 1\u001b[0m\n\u001b[0;32m----> 1\u001b[0m \u001b[43mgene_to_comparison\u001b[49m\n",
      "\u001b[0;31mNameError\u001b[0m: name 'gene_to_comparison' is not defined"
     ]
    }
   ],
   "source": [
    "gene_to_comparison"
   ]
  },
  {
   "cell_type": "code",
   "execution_count": null,
   "id": "aae6775a-a66a-4c44-b9aa-ba8519bd2e50",
   "metadata": {},
   "outputs": [],
   "source": [
    "import numpy as np\n",
    "\n",
    "predictions = [x[1] for x in gene_to_comparison.values()]\n",
    "\n",
    "#normalize all values to be between 0 and 1\n",
    "predictions_norm = (predictions-np.min(predictions))/(np.max(predictions)-np.min(predictions))\n",
    "predictions_norm"
   ]
  },
  {
   "cell_type": "code",
   "execution_count": null,
   "id": "ade35140-3b48-4e79-8433-681803add685",
   "metadata": {},
   "outputs": [],
   "source": [
    "pred_min = np.min(predictions)\n",
    "pred_max = np.max(predictions)\n",
    "\n",
    "gene_to_comparison_norm = {}\n",
    "for key,value in gene_to_comparison.items():\n",
    "    norm_value = (value[1]-pred_min)/(pred_max-pred_min)\n",
    "    # if norm_value == 0:\n",
    "    #     norm_value = math.log(0.001)\n",
    "    # else:\n",
    "    #     norm_value = math.log(norm_value)\n",
    "    gene_to_comparison_norm[key] = [value[0], norm_value]"
   ]
  },
  {
   "cell_type": "code",
   "execution_count": null,
   "id": "11da6449-d7dc-42c2-aa7c-8317f7f169c1",
   "metadata": {},
   "outputs": [],
   "source": [
    "gene_to_comparison_norm"
   ]
  },
  {
   "cell_type": "markdown",
   "id": "ea1ef9cc-0361-404a-a9b9-6efa74a836db",
   "metadata": {},
   "source": [
    "#### (FC and prediction) for genes\n",
    "X axis is different genes, Y axis is fold change"
   ]
  },
  {
   "cell_type": "code",
   "execution_count": null,
   "id": "0b8babef-93e7-4927-8669-1ce820f01b3d",
   "metadata": {},
   "outputs": [],
   "source": [
    "fc_vis = [x[0] for x in list(gene_to_comparison.values())]\n",
    "preds_vis = [x[1] for x in list(gene_to_comparison.values())]\n",
    "print(fc_vis, preds_vis)"
   ]
  },
  {
   "cell_type": "code",
   "execution_count": null,
   "id": "98eb7c2f-eafc-442a-b825-3e1d813e8598",
   "metadata": {},
   "outputs": [],
   "source": [
    "plt.figure(num = random.randint(0, 1000)) # num is a unique identifier for the figure\n",
    "plt.scatter(fc_vis, preds_vis)"
   ]
  },
  {
   "cell_type": "markdown",
   "id": "7bf01ca7-6032-4160-a210-a2eb83647310",
   "metadata": {},
   "source": [
    "#### predictions = [x[1] for x in gene_to_comparison.values()]\n",
    "\n",
    "\n",
    "plt.figure(num = random.randint(0, 1000)) # num is a unique identifier for the figure\n",
    "plt.plot(predictions);"
   ]
  }
 ],
 "metadata": {
  "kernelspec": {
   "display_name": "Python [conda env:deepExpTorch2]",
   "language": "python",
   "name": "conda-env-deepExpTorch2-py"
  },
  "language_info": {
   "codemirror_mode": {
    "name": "ipython",
    "version": 3
   },
   "file_extension": ".py",
   "mimetype": "text/x-python",
   "name": "python",
   "nbconvert_exporter": "python",
   "pygments_lexer": "ipython3",
   "version": "3.8.17"
  }
 },
 "nbformat": 4,
 "nbformat_minor": 5
}
